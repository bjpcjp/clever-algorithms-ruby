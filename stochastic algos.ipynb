{
 "cells": [
  {
   "cell_type": "markdown",
   "metadata": {},
   "source": [
    "# Stochastic Algorithms"
   ]
  },
  {
   "cell_type": "markdown",
   "metadata": {},
   "source": [
    "## Adaptive Random Search"
   ]
  },
  {
   "cell_type": "code",
   "execution_count": 11,
   "metadata": {},
   "outputs": [
    {
     "data": {
      "text/plain": [
       ":objective_function"
      ]
     },
     "execution_count": 11,
     "metadata": {},
     "output_type": "execute_result"
    }
   ],
   "source": [
    "def objective_function(vector)\n",
    "  return vector.inject(0) {|sum, x| sum +  (x ** 2.0)}\n",
    "end"
   ]
  },
  {
   "cell_type": "code",
   "execution_count": 12,
   "metadata": {},
   "outputs": [
    {
     "data": {
      "text/plain": [
       ":rand_in_bounds"
      ]
     },
     "execution_count": 12,
     "metadata": {},
     "output_type": "execute_result"
    }
   ],
   "source": [
    "def rand_in_bounds(min, max)\n",
    "  return min + ((max-min) * rand()) \n",
    "end"
   ]
  },
  {
   "cell_type": "code",
   "execution_count": 13,
   "metadata": {},
   "outputs": [
    {
     "data": {
      "text/plain": [
       ":random_vector"
      ]
     },
     "execution_count": 13,
     "metadata": {},
     "output_type": "execute_result"
    }
   ],
   "source": [
    "def random_vector(minmax)\n",
    "  return Array.new(minmax.size) do |i|      \n",
    "    rand_in_bounds(minmax[i][0], minmax[i][1])\n",
    "  end\n",
    "end"
   ]
  },
  {
   "cell_type": "code",
   "execution_count": 14,
   "metadata": {},
   "outputs": [
    {
     "data": {
      "text/plain": [
       ":take_step"
      ]
     },
     "execution_count": 14,
     "metadata": {},
     "output_type": "execute_result"
    }
   ],
   "source": [
    "def take_step(minmax, current, step_size)\n",
    "  position = Array.new(current.size)\n",
    "  position.size.times do |i|\n",
    "    min = [minmax[i][0], current[i]-step_size].max\n",
    "    max = [minmax[i][1], current[i]+step_size].min\n",
    "    position[i] = rand_in_bounds(min, max)\n",
    "  end\n",
    "  return position\n",
    "end"
   ]
  },
  {
   "cell_type": "code",
   "execution_count": 15,
   "metadata": {},
   "outputs": [
    {
     "data": {
      "text/plain": [
       ":large_step_size"
      ]
     },
     "execution_count": 15,
     "metadata": {},
     "output_type": "execute_result"
    }
   ],
   "source": [
    "def large_step_size(iter, step_size, s_factor, l_factor, iter_mult)\n",
    "  return step_size * l_factor if iter>0 and iter.modulo(iter_mult) == 0\n",
    "  return step_size * s_factor\n",
    "end"
   ]
  },
  {
   "cell_type": "code",
   "execution_count": 16,
   "metadata": {},
   "outputs": [
    {
     "data": {
      "text/plain": [
       ":take_steps"
      ]
     },
     "execution_count": 16,
     "metadata": {},
     "output_type": "execute_result"
    }
   ],
   "source": [
    "def take_steps(bounds, current, step_size, big_stepsize)\n",
    "  step, big_step = {}, {}\n",
    "  step[:vector] = take_step(bounds, current[:vector], step_size)\n",
    "  step[:cost] = objective_function(step[:vector])\n",
    "  big_step[:vector] = take_step(bounds,current[:vector],big_stepsize)\n",
    "  big_step[:cost] = objective_function(big_step[:vector])    \n",
    "  return step, big_step\n",
    "end"
   ]
  },
  {
   "cell_type": "code",
   "execution_count": 17,
   "metadata": {},
   "outputs": [
    {
     "data": {
      "text/plain": [
       ":search"
      ]
     },
     "execution_count": 17,
     "metadata": {},
     "output_type": "execute_result"
    }
   ],
   "source": [
    "def search(max_iter, bounds, init_factor, s_factor, l_factor, iter_mult, max_no_impr)\n",
    "  step_size = (bounds[0][1]-bounds[0][0]) * init_factor\n",
    "  current, count = {}, 0\n",
    "  current[:vector] = random_vector(bounds)\n",
    "  current[:cost] = objective_function(current[:vector])\n",
    "  max_iter.times do |iter|\n",
    "    big_stepsize = large_step_size(iter, step_size, s_factor, l_factor, iter_mult)\n",
    "    step, big_step = take_steps(bounds, current, step_size, big_stepsize)\n",
    "    if step[:cost] <= current[:cost] or big_step[:cost] <= current[:cost]\n",
    "      if big_step[:cost] <= step[:cost]\n",
    "        step_size, current = big_stepsize, big_step\n",
    "      else\n",
    "        current = step\n",
    "      end\n",
    "      count = 0\n",
    "    else\n",
    "      count += 1\n",
    "      count, step_size = 0, (step_size/s_factor) if count >= max_no_impr\n",
    "    end\n",
    "    #puts \" > iteration #{(iter+1)}, best=#{current[:cost]}\"\n",
    "  end\n",
    "  return current\n",
    "end"
   ]
  },
  {
   "cell_type": "code",
   "execution_count": 18,
   "metadata": {},
   "outputs": [
    {
     "name": "stdout",
     "output_type": "stream",
     "text": [
      "Done. Best Solution:\n",
      "c=1.4887793569443956e-08\n",
      "v=[0.00011064396661582265, -5.1436428928928156e-05]\n"
     ]
    }
   ],
   "source": [
    "# problem configuration\n",
    "problem_size = 2\n",
    "bounds = Array.new(problem_size) {|i| [-5, +5]}\n",
    "\n",
    "# algorithm configuration\n",
    "max_iter = 1000\n",
    "init_factor = 0.05\n",
    "s_factor = 1.3\n",
    "l_factor = 3.0\n",
    "iter_mult = 10\n",
    "max_no_impr = 30\n",
    "\n",
    "# execute the algorithm\n",
    "best = search(max_iter, bounds, init_factor, s_factor, l_factor, iter_mult, max_no_impr)\n",
    "puts \"Done. Best Solution:\",\"c=#{best[:cost]}\",\"v=#{best[:vector].inspect}\"\n"
   ]
  },
  {
   "cell_type": "markdown",
   "metadata": {},
   "source": [
    "## Greedy Randomized Adaptive Search Procedure (GRASP)"
   ]
  },
  {
   "cell_type": "code",
   "execution_count": 19,
   "metadata": {},
   "outputs": [
    {
     "data": {
      "text/plain": [
       ":euc_2d"
      ]
     },
     "execution_count": 19,
     "metadata": {},
     "output_type": "execute_result"
    }
   ],
   "source": [
    "def euc_2d(c1, c2)\n",
    "  Math.sqrt((c1[0] - c2[0])**2.0 + (c1[1] - c2[1])**2.0).round\n",
    "end"
   ]
  },
  {
   "cell_type": "code",
   "execution_count": 20,
   "metadata": {},
   "outputs": [
    {
     "data": {
      "text/plain": [
       ":cost"
      ]
     },
     "execution_count": 20,
     "metadata": {},
     "output_type": "execute_result"
    }
   ],
   "source": [
    "def cost(perm, cities)\n",
    "  distance =0\n",
    "  perm.each_with_index do |c1, i|\n",
    "    c2 = (i==perm.size-1) ? perm[0] : perm[i+1]\n",
    "    distance += euc_2d(cities[c1], cities[c2])\n",
    "  end\n",
    "  return distance\n",
    "end"
   ]
  },
  {
   "cell_type": "code",
   "execution_count": 21,
   "metadata": {},
   "outputs": [
    {
     "data": {
      "text/plain": [
       ":stochastic_two_opt"
      ]
     },
     "execution_count": 21,
     "metadata": {},
     "output_type": "execute_result"
    }
   ],
   "source": [
    "def stochastic_two_opt(permutation)\n",
    "  perm = Array.new(permutation)\n",
    "  c1, c2 = rand(perm.size), rand(perm.size)\n",
    "  exclude = [c1]\n",
    "  exclude << ((c1==0) ? perm.size-1 : c1-1)\n",
    "  exclude << ((c1==perm.size-1) ? 0 : c1+1)\n",
    "  c2 = rand(perm.size) while exclude.include?(c2)\n",
    "  c1, c2 = c2, c1 if c2 < c1\n",
    "  perm[c1...c2] = perm[c1...c2].reverse\n",
    "  return perm\n",
    "end"
   ]
  },
  {
   "cell_type": "code",
   "execution_count": 22,
   "metadata": {},
   "outputs": [
    {
     "data": {
      "text/plain": [
       ":local_search"
      ]
     },
     "execution_count": 22,
     "metadata": {},
     "output_type": "execute_result"
    }
   ],
   "source": [
    "def local_search(best, cities, max_no_improv)\n",
    "  count = 0\n",
    "  begin\n",
    "    candidate = {:vector=>stochastic_two_opt(best[:vector])}\n",
    "    candidate[:cost] = cost(candidate[:vector], cities)    \n",
    "    count = (candidate[:cost] < best[:cost]) ? 0 : count+1\n",
    "    best = candidate if candidate[:cost] < best[:cost]    \n",
    "  end until count >= max_no_improv\n",
    "  return best\n",
    "end"
   ]
  },
  {
   "cell_type": "code",
   "execution_count": 23,
   "metadata": {},
   "outputs": [
    {
     "data": {
      "text/plain": [
       ":construct_randomized_greedy_solution"
      ]
     },
     "execution_count": 23,
     "metadata": {},
     "output_type": "execute_result"
    }
   ],
   "source": [
    "def construct_randomized_greedy_solution(cities, alpha)\n",
    "  candidate = {}\n",
    "  candidate[:vector] = [rand(cities.size)]\n",
    "  allCities = Array.new(cities.size) {|i| i}\n",
    "  while candidate[:vector].size < cities.size\n",
    "    candidates = allCities - candidate[:vector]\n",
    "    costs = Array.new(candidates.size) do |i| \n",
    "      euc_2d(cities[candidate[:vector].last], cities[i])\n",
    "    end\n",
    "    rcl, max, min = [], costs.max, costs.min\n",
    "    costs.each_with_index do |c,i| \n",
    "      rcl << candidates[i] if c <= (min + alpha*(max-min))\n",
    "    end\n",
    "    candidate[:vector] << rcl[rand(rcl.size)]\n",
    "  end\n",
    "  candidate[:cost] = cost(candidate[:vector], cities)\n",
    "  return candidate\n",
    "end"
   ]
  },
  {
   "cell_type": "code",
   "execution_count": 24,
   "metadata": {},
   "outputs": [
    {
     "data": {
      "text/plain": [
       ":search"
      ]
     },
     "execution_count": 24,
     "metadata": {},
     "output_type": "execute_result"
    }
   ],
   "source": [
    "def search(cities, max_iter, max_no_improv, alpha)\n",
    "  best = nil\n",
    "  max_iter.times do |iter|\n",
    "    candidate = construct_randomized_greedy_solution(cities, alpha);\n",
    "    candidate = local_search(candidate, cities, max_no_improv)\n",
    "    best = candidate if best.nil? or candidate[:cost] < best[:cost]\n",
    "    #puts \" > iteration #{(iter+1)}, best=#{best[:cost]}\"\n",
    "  end\n",
    "  return best\n",
    "end"
   ]
  },
  {
   "cell_type": "code",
   "execution_count": 25,
   "metadata": {},
   "outputs": [
    {
     "name": "stdout",
     "output_type": "stream",
     "text": [
      "Done. Best Solution:\n",
      "c=9994\n",
      "v=[23, 37, 39, 36, 33, 47, 5, 4, 42, 18, 2, 17, 30, 21, 19, 22, 20, 16, 6, 41, 1, 29, 28, 15, 14, 3, 24, 27, 11, 25, 46, 26, 12, 13, 51, 10, 50, 32, 9, 8, 7, 40, 44, 38, 31, 35, 34, 0, 48, 49, 43, 45]\n"
     ]
    }
   ],
   "source": [
    "# problem configuration\n",
    "berlin52 = [\n",
    "  [565,575],[25,185],[345,750],[945,685],[845,655],\n",
    "  [880,660],[25,230],[525,1000],[580,1175],[650,1130],[1605,620],\n",
    "  [1220,580],[1465,200],[1530,5],[845,680],[725,370],[145,665],\n",
    "  [415,635],[510,875],[560,365],[300,465],[520,585],[480,415],\n",
    "  [835,625],[975,580],[1215,245],[1320,315],[1250,400],[660,180],\n",
    "  [410,250],[420,555],[575,665],[1150,1160],[700,580],[685,595],\n",
    "  [685,610],[770,610],[795,645],[720,635],[760,650],[475,960],\n",
    "  [95,260],[875,920],[700,500],[555,815],[830,485],[1170,65],\n",
    "  [830,610],[605,625],[595,360],[1340,725],[1740,245]]\n",
    "  \n",
    "# algorithm configuration\n",
    "max_iter = 50\n",
    "max_no_improv = 50\n",
    "greediness_factor = 0.3\n",
    "\n",
    "# execute the algorithm\n",
    "best = search(berlin52, max_iter, max_no_improv, greediness_factor)\n",
    "puts \"Done. Best Solution:\",\"c=#{best[:cost]}\",\"v=#{best[:vector].inspect}\"\n"
   ]
  },
  {
   "cell_type": "markdown",
   "metadata": {},
   "source": [
    "## Guided Local Search"
   ]
  },
  {
   "cell_type": "code",
   "execution_count": 26,
   "metadata": {},
   "outputs": [
    {
     "data": {
      "text/plain": [
       ":euc_2d"
      ]
     },
     "execution_count": 26,
     "metadata": {},
     "output_type": "execute_result"
    }
   ],
   "source": [
    "def euc_2d(c1, c2)\n",
    "  Math.sqrt((c1[0] - c2[0])**2.0 + (c1[1] - c2[1])**2.0).round\n",
    "end"
   ]
  },
  {
   "cell_type": "code",
   "execution_count": 27,
   "metadata": {},
   "outputs": [
    {
     "data": {
      "text/plain": [
       ":random_permutation"
      ]
     },
     "execution_count": 27,
     "metadata": {},
     "output_type": "execute_result"
    }
   ],
   "source": [
    "def random_permutation(cities)\n",
    "  perm = Array.new(cities.size){|i| i}\n",
    "  perm.each_index do |i|\n",
    "    r = rand(perm.size-i) + i\n",
    "    perm[r], perm[i] = perm[i], perm[r]\n",
    "  end\n",
    "  return perm\n",
    "end"
   ]
  },
  {
   "cell_type": "code",
   "execution_count": 28,
   "metadata": {},
   "outputs": [
    {
     "data": {
      "text/plain": [
       ":stochastic_two_opt"
      ]
     },
     "execution_count": 28,
     "metadata": {},
     "output_type": "execute_result"
    }
   ],
   "source": [
    "def stochastic_two_opt(permutation)\n",
    "  perm = Array.new(permutation)\n",
    "  c1, c2 = rand(perm.size), rand(perm.size)\n",
    "  exclude = [c1]\n",
    "  exclude << ((c1==0) ? perm.size-1 : c1-1)\n",
    "  exclude << ((c1==perm.size-1) ? 0 : c1+1)\n",
    "  c2 = rand(perm.size) while exclude.include?(c2)\n",
    "  c1, c2 = c2, c1 if c2 < c1\n",
    "  perm[c1...c2] = perm[c1...c2].reverse\n",
    "  return perm\n",
    "end"
   ]
  },
  {
   "cell_type": "code",
   "execution_count": 29,
   "metadata": {},
   "outputs": [
    {
     "data": {
      "text/plain": [
       ":augmented_cost"
      ]
     },
     "execution_count": 29,
     "metadata": {},
     "output_type": "execute_result"
    }
   ],
   "source": [
    "def augmented_cost(permutation, penalties, cities, lambda)\n",
    "  distance, augmented = 0, 0\n",
    "  permutation.each_with_index do |c1, i|\n",
    "    c2 = (i==permutation.size-1) ? permutation[0] : permutation[i+1]\n",
    "    c1, c2 = c2, c1 if c2 < c1\n",
    "    d = euc_2d(cities[c1], cities[c2])\n",
    "    distance += d\n",
    "    augmented += d + (lambda * (penalties[c1][c2]))\n",
    "  end\n",
    "  return [distance, augmented]\n",
    "end"
   ]
  },
  {
   "cell_type": "code",
   "execution_count": 30,
   "metadata": {},
   "outputs": [
    {
     "data": {
      "text/plain": [
       ":cost"
      ]
     },
     "execution_count": 30,
     "metadata": {},
     "output_type": "execute_result"
    }
   ],
   "source": [
    "def cost(cand, penalties, cities, lambda)\n",
    "  cost, acost = augmented_cost(cand[:vector], penalties, cities, lambda)\n",
    "  cand[:cost], cand[:aug_cost] = cost, acost\n",
    "end"
   ]
  },
  {
   "cell_type": "code",
   "execution_count": 31,
   "metadata": {},
   "outputs": [
    {
     "data": {
      "text/plain": [
       ":local_search"
      ]
     },
     "execution_count": 31,
     "metadata": {},
     "output_type": "execute_result"
    }
   ],
   "source": [
    "def local_search(current, cities, penalties, max_no_improv, lambda)\n",
    "  cost(current, penalties, cities, lambda)\n",
    "  count = 0\n",
    "  begin\n",
    "    candidate = {:vector=> stochastic_two_opt(current[:vector])}\n",
    "    cost(candidate, penalties, cities, lambda)\n",
    "    count = (candidate[:aug_cost] < current[:aug_cost]) ? 0 : count+1\n",
    "    current = candidate if candidate[:aug_cost] < current[:aug_cost]\n",
    "  end until count >= max_no_improv\n",
    "  return current\n",
    "end"
   ]
  },
  {
   "cell_type": "code",
   "execution_count": 32,
   "metadata": {},
   "outputs": [
    {
     "data": {
      "text/plain": [
       ":calculate_feature_utilities"
      ]
     },
     "execution_count": 32,
     "metadata": {},
     "output_type": "execute_result"
    }
   ],
   "source": [
    "def calculate_feature_utilities(penal, cities, permutation)\n",
    "  utilities = Array.new(permutation.size,0)\n",
    "  permutation.each_with_index do |c1, i|\n",
    "    c2 = (i==permutation.size-1) ? permutation[0] : permutation[i+1]\n",
    "    c1, c2 = c2, c1 if c2 < c1\n",
    "    utilities[i] = euc_2d(cities[c1], cities[c2]) / (1.0 + penal[c1][c2])\n",
    "  end\n",
    "  return utilities\n",
    "end"
   ]
  },
  {
   "cell_type": "code",
   "execution_count": 33,
   "metadata": {},
   "outputs": [
    {
     "data": {
      "text/plain": [
       ":update_penalties!"
      ]
     },
     "execution_count": 33,
     "metadata": {},
     "output_type": "execute_result"
    }
   ],
   "source": [
    "def update_penalties!(penalties, cities, permutation, utilities)\n",
    "  max = utilities.max()\n",
    "  permutation.each_with_index do |c1, i|\n",
    "    c2 = (i==permutation.size-1) ? permutation[0] : permutation[i+1]\n",
    "    c1, c2 = c2, c1 if c2 < c1\n",
    "    penalties[c1][c2] += 1 if utilities[i] == max\n",
    "  end\n",
    "  return penalties\n",
    "end"
   ]
  },
  {
   "cell_type": "code",
   "execution_count": 36,
   "metadata": {},
   "outputs": [
    {
     "data": {
      "text/plain": [
       ":search"
      ]
     },
     "execution_count": 36,
     "metadata": {},
     "output_type": "execute_result"
    }
   ],
   "source": [
    "def search(max_iterations, cities, max_no_improv, lambda)\n",
    "  current = {:vector=>random_permutation(cities)}\n",
    "  best = nil\n",
    "  penalties = Array.new(cities.size){ Array.new(cities.size, 0) }\n",
    "  max_iterations.times do |iter|\n",
    "    current=local_search(current, cities, penalties, max_no_improv, lambda)\n",
    "    utilities=calculate_feature_utilities(penalties,cities,current[:vector])\n",
    "    update_penalties!(penalties, cities, current[:vector], utilities)\n",
    "    best = current if best.nil? or current[:cost] < best[:cost]\n",
    "    #puts \" > iter=#{(iter+1)}, best=#{best[:cost]}, aug=#{best[:aug_cost]}\"\n",
    "  end\n",
    "  return best\n",
    "end"
   ]
  },
  {
   "cell_type": "code",
   "execution_count": 37,
   "metadata": {},
   "outputs": [
    {
     "name": "stdout",
     "output_type": "stream",
     "text": [
      "Done. Best Solution:\n",
      "c=8847\n",
      "v=[33, 43, 15, 45, 38, 39, 37, 36, 44, 18, 40, 7, 8, 9, 32, 42, 14, 4, 23, 47, 5, 3, 24, 11, 50, 10, 51, 13, 26, 27, 25, 12, 46, 28, 49, 19, 22, 17, 30, 20, 29, 1, 6, 41, 16, 2, 21, 31, 0, 48, 35, 34]\n"
     ]
    }
   ],
   "source": [
    "# problem configuration\n",
    "# algorithm configuration\n",
    "max_iterations = 150\n",
    "max_no_improv = 20\n",
    "alpha = 0.3\n",
    "local_search_optima = 12000.0\n",
    "lambda = alpha * (local_search_optima/berlin52.size.to_f)\n",
    "\n",
    "# execute the algorithm\n",
    "best = search(max_iterations, berlin52, max_no_improv, lambda)\n",
    "puts \"Done. Best Solution:\",\"c=#{best[:cost]}\",\"v=#{best[:vector].inspect}\""
   ]
  },
  {
   "cell_type": "markdown",
   "metadata": {},
   "source": [
    "## Iterated Local Search"
   ]
  },
  {
   "cell_type": "code",
   "execution_count": 38,
   "metadata": {},
   "outputs": [
    {
     "data": {
      "text/plain": [
       ":euc_2d"
      ]
     },
     "execution_count": 38,
     "metadata": {},
     "output_type": "execute_result"
    }
   ],
   "source": [
    "def euc_2d(c1, c2)\n",
    "  Math.sqrt((c1[0] - c2[0])**2.0 + (c1[1] - c2[1])**2.0).round\n",
    "end"
   ]
  },
  {
   "cell_type": "code",
   "execution_count": 39,
   "metadata": {},
   "outputs": [
    {
     "data": {
      "text/plain": [
       ":cost"
      ]
     },
     "execution_count": 39,
     "metadata": {},
     "output_type": "execute_result"
    }
   ],
   "source": [
    "def cost(permutation, cities)\n",
    "  distance =0\n",
    "  permutation.each_with_index do |c1, i|\n",
    "    c2 = (i==permutation.size-1) ? permutation[0] : permutation[i+1]\n",
    "    distance += euc_2d(cities[c1], cities[c2])\n",
    "  end\n",
    "  return distance\n",
    "end"
   ]
  },
  {
   "cell_type": "code",
   "execution_count": 40,
   "metadata": {},
   "outputs": [
    {
     "data": {
      "text/plain": [
       ":random_permutation"
      ]
     },
     "execution_count": 40,
     "metadata": {},
     "output_type": "execute_result"
    }
   ],
   "source": [
    "def random_permutation(cities)\n",
    "  perm = Array.new(cities.size){|i| i}\n",
    "  perm.each_index do |i|\n",
    "    r = rand(perm.size-i) + i\n",
    "    perm[r], perm[i] = perm[i], perm[r]\n",
    "  end\n",
    "  return perm\n",
    "end"
   ]
  },
  {
   "cell_type": "code",
   "execution_count": 41,
   "metadata": {},
   "outputs": [
    {
     "data": {
      "text/plain": [
       ":stochastic_two_opt"
      ]
     },
     "execution_count": 41,
     "metadata": {},
     "output_type": "execute_result"
    }
   ],
   "source": [
    "def stochastic_two_opt(permutation)\n",
    "  perm = Array.new(permutation)\n",
    "  c1, c2 = rand(perm.size), rand(perm.size)\n",
    "  exclude = [c1]\n",
    "  exclude << ((c1==0) ? perm.size-1 : c1-1)\n",
    "  exclude << ((c1==perm.size-1) ? 0 : c1+1)\n",
    "  c2 = rand(perm.size) while exclude.include?(c2)\n",
    "  c1, c2 = c2, c1 if c2 < c1\n",
    "  perm[c1...c2] = perm[c1...c2].reverse\n",
    "  return perm\n",
    "end"
   ]
  },
  {
   "cell_type": "code",
   "execution_count": 42,
   "metadata": {},
   "outputs": [
    {
     "data": {
      "text/plain": [
       ":local_search"
      ]
     },
     "execution_count": 42,
     "metadata": {},
     "output_type": "execute_result"
    }
   ],
   "source": [
    "def local_search(best, cities, max_no_improv)\n",
    "  count = 0\n",
    "  begin\n",
    "    candidate = {:vector=>stochastic_two_opt(best[:vector])}\n",
    "    candidate[:cost] = cost(candidate[:vector], cities)    \n",
    "    count = (candidate[:cost] < best[:cost]) ? 0 : count+1\n",
    "    best = candidate if candidate[:cost] < best[:cost]    \n",
    "  end until count >= max_no_improv\n",
    "  return best\n",
    "end"
   ]
  },
  {
   "cell_type": "code",
   "execution_count": 43,
   "metadata": {},
   "outputs": [
    {
     "data": {
      "text/plain": [
       ":double_bridge_move"
      ]
     },
     "execution_count": 43,
     "metadata": {},
     "output_type": "execute_result"
    }
   ],
   "source": [
    "def double_bridge_move(perm)\n",
    "  pos1 = 1 + rand(perm.size / 4)\n",
    "  pos2 = pos1 + 1 + rand(perm.size / 4)\n",
    "  pos3 = pos2 + 1 + rand(perm.size / 4)\n",
    "  p1 = perm[0...pos1] + perm[pos3..perm.size]\n",
    "  p2 = perm[pos2...pos3] + perm[pos1...pos2]\n",
    "  return p1 + p2\n",
    "end"
   ]
  },
  {
   "cell_type": "code",
   "execution_count": 44,
   "metadata": {},
   "outputs": [
    {
     "data": {
      "text/plain": [
       ":perturbation"
      ]
     },
     "execution_count": 44,
     "metadata": {},
     "output_type": "execute_result"
    }
   ],
   "source": [
    "def perturbation(cities, best)\n",
    "  candidate = {}\n",
    "  candidate[:vector] = double_bridge_move(best[:vector])\n",
    "  candidate[:cost] = cost(candidate[:vector], cities)\n",
    "  return candidate\n",
    "end"
   ]
  },
  {
   "cell_type": "code",
   "execution_count": 45,
   "metadata": {},
   "outputs": [
    {
     "data": {
      "text/plain": [
       ":search"
      ]
     },
     "execution_count": 45,
     "metadata": {},
     "output_type": "execute_result"
    }
   ],
   "source": [
    "def search(cities, max_iterations, max_no_improv)\n",
    "  best = {}\n",
    "  best[:vector] = random_permutation(cities)\n",
    "  best[:cost] = cost(best[:vector], cities)\n",
    "  best = local_search(best, cities, max_no_improv)\n",
    "  max_iterations.times do |iter|\n",
    "    candidate = perturbation(cities, best)\n",
    "    candidate = local_search(candidate, cities, max_no_improv)\n",
    "    best = candidate if candidate[:cost] < best[:cost]\n",
    "    #puts \" > iteration #{(iter+1)}, best=#{best[:cost]}\"\n",
    "  end\n",
    "  return best\n",
    "end"
   ]
  },
  {
   "cell_type": "code",
   "execution_count": 46,
   "metadata": {},
   "outputs": [
    {
     "name": "stdout",
     "output_type": "stream",
     "text": [
      "Done. Best Solution:\n",
      "c=9078\n",
      "v=[48, 9, 8, 7, 40, 18, 44, 31, 0, 21, 33, 34, 35, 43, 22, 30, 17, 2, 16, 20, 41, 1, 6, 29, 49, 19, 15, 28, 46, 13, 51, 10, 12, 25, 26, 27, 11, 50, 32, 42, 5, 3, 24, 45, 47, 23, 4, 14, 37, 38, 39, 36]\n"
     ]
    }
   ],
   "source": [
    "# algorithm configuration\n",
    "max_iterations = 100\n",
    "max_no_improv = 50\n",
    "\n",
    "# execute the algorithm\n",
    "best = search(berlin52, max_iterations, max_no_improv)\n",
    "puts \"Done. Best Solution:\",\"c=#{best[:cost]}\",\"v=#{best[:vector].inspect}\"\n"
   ]
  },
  {
   "cell_type": "markdown",
   "metadata": {},
   "source": [
    "## Random Search"
   ]
  },
  {
   "cell_type": "code",
   "execution_count": 47,
   "metadata": {},
   "outputs": [
    {
     "data": {
      "text/plain": [
       ":objective_function"
      ]
     },
     "execution_count": 47,
     "metadata": {},
     "output_type": "execute_result"
    }
   ],
   "source": [
    "def objective_function(vector)\n",
    "  return vector.inject(0) {|sum, x| sum + (x ** 2.0)}\n",
    "end"
   ]
  },
  {
   "cell_type": "code",
   "execution_count": 48,
   "metadata": {},
   "outputs": [
    {
     "data": {
      "text/plain": [
       ":random_vector"
      ]
     },
     "execution_count": 48,
     "metadata": {},
     "output_type": "execute_result"
    }
   ],
   "source": [
    "def random_vector(minmax)\n",
    "  return Array.new(minmax.size) do |i|      \n",
    "    minmax[i][0] + ((minmax[i][1] - minmax[i][0]) * rand())\n",
    "  end\n",
    "end"
   ]
  },
  {
   "cell_type": "code",
   "execution_count": 49,
   "metadata": {},
   "outputs": [
    {
     "data": {
      "text/plain": [
       ":search"
      ]
     },
     "execution_count": 49,
     "metadata": {},
     "output_type": "execute_result"
    }
   ],
   "source": [
    "def search(search_space, max_iter)\n",
    "  best = nil\n",
    "  max_iter.times do |iter|\n",
    "    candidate = {}\n",
    "    candidate[:vector] = random_vector(search_space)\n",
    "    candidate[:cost] = objective_function(candidate[:vector])\n",
    "    best = candidate if best.nil? or candidate[:cost] < best[:cost]\n",
    "    #puts \" > iteration=#{(iter+1)}, best=#{best[:cost]}\"\n",
    "  end\n",
    "  return best\n",
    "end"
   ]
  },
  {
   "cell_type": "code",
   "execution_count": 51,
   "metadata": {},
   "outputs": [
    {
     "name": "stdout",
     "output_type": "stream",
     "text": [
      "Done. Best Solution:\n",
      "c=0.3172062147005273\n",
      "v=[-0.4724191948354868, -0.3066371129715346]\n"
     ]
    }
   ],
   "source": [
    "# problem configuration\n",
    "problem_size = 2\n",
    "search_space = Array.new(problem_size) {|i| [-5, +5]}\n",
    "\n",
    "# algorithm configuration\n",
    "max_iter = 100\n",
    "\n",
    "# execute the algorithm\n",
    "best = search(search_space, max_iter)\n",
    "puts \"Done. Best Solution:\",\"c=#{best[:cost]}\",\"v=#{best[:vector].inspect}\""
   ]
  },
  {
   "cell_type": "markdown",
   "metadata": {},
   "source": [
    "## Reactive Tabu Search"
   ]
  },
  {
   "cell_type": "code",
   "execution_count": 52,
   "metadata": {},
   "outputs": [
    {
     "data": {
      "text/plain": [
       ":euc_2d"
      ]
     },
     "execution_count": 52,
     "metadata": {},
     "output_type": "execute_result"
    }
   ],
   "source": [
    "def euc_2d(c1, c2)\n",
    "  Math.sqrt((c1[0] - c2[0])**2.0 + (c1[1] - c2[1])**2.0).round\n",
    "end"
   ]
  },
  {
   "cell_type": "code",
   "execution_count": 53,
   "metadata": {},
   "outputs": [
    {
     "data": {
      "text/plain": [
       ":cost"
      ]
     },
     "execution_count": 53,
     "metadata": {},
     "output_type": "execute_result"
    }
   ],
   "source": [
    "def cost(perm, cities)\n",
    "  distance = 0\n",
    "  perm.each_with_index do |c1, i|\n",
    "    c2 = (i==perm.size-1) ? perm[0] : perm[i+1]\n",
    "    distance += euc_2d(cities[c1], cities[c2])\n",
    "  end\n",
    "  return distance\n",
    "end"
   ]
  },
  {
   "cell_type": "code",
   "execution_count": 54,
   "metadata": {},
   "outputs": [
    {
     "data": {
      "text/plain": [
       ":random_permutation"
      ]
     },
     "execution_count": 54,
     "metadata": {},
     "output_type": "execute_result"
    }
   ],
   "source": [
    "def random_permutation(cities)\n",
    "  perm = Array.new(cities.size){|i| i}\n",
    "  perm.each_index do |i|\n",
    "    r = rand(perm.size-i) + i\n",
    "    perm[r], perm[i] = perm[i], perm[r]\n",
    "  end\n",
    "  return perm\n",
    "end"
   ]
  },
  {
   "cell_type": "code",
   "execution_count": 55,
   "metadata": {},
   "outputs": [
    {
     "data": {
      "text/plain": [
       ":stochastic_two_opt"
      ]
     },
     "execution_count": 55,
     "metadata": {},
     "output_type": "execute_result"
    }
   ],
   "source": [
    "def stochastic_two_opt(parent)\n",
    "  perm = Array.new(parent)\n",
    "  c1, c2 = rand(perm.size), rand(perm.size)\n",
    "  exclude = [c1]\n",
    "  exclude << ((c1==0) ? perm.size-1 : c1-1)\n",
    "  exclude << ((c1==perm.size-1) ? 0 : c1+1)\n",
    "  c2 = rand(perm.size) while exclude.include?(c2)\n",
    "  c1, c2 = c2, c1 if c2 < c1\n",
    "  perm[c1...c2] = perm[c1...c2].reverse\n",
    "  return perm, [[parent[c1-1], parent[c1]], [parent[c2-1], parent[c2]]]\n",
    "end"
   ]
  },
  {
   "cell_type": "code",
   "execution_count": 56,
   "metadata": {},
   "outputs": [
    {
     "data": {
      "text/plain": [
       ":is_tabu?"
      ]
     },
     "execution_count": 56,
     "metadata": {},
     "output_type": "execute_result"
    }
   ],
   "source": [
    "def is_tabu?(edge, tabu_list, iter, prohib_period)\n",
    "  tabu_list.each do |entry|\n",
    "    if entry[:edge] == edge\n",
    "      return true if entry[:iter] >= iter-prohib_period\n",
    "      return false\n",
    "    end\n",
    "  end\n",
    "  return false\n",
    "end"
   ]
  },
  {
   "cell_type": "code",
   "execution_count": 57,
   "metadata": {},
   "outputs": [
    {
     "data": {
      "text/plain": [
       ":make_tabu"
      ]
     },
     "execution_count": 57,
     "metadata": {},
     "output_type": "execute_result"
    }
   ],
   "source": [
    "def make_tabu(tabu_list, edge, iter)\n",
    "  tabu_list.each do |entry|\n",
    "    if entry[:edge] == edge\n",
    "      entry[:iter] = iter\n",
    "      return entry\n",
    "    end\n",
    "  end\n",
    "  entry = {:edge=>edge, :iter=>iter}\n",
    "  tabu_list.push(entry)\n",
    "  return entry\n",
    "end"
   ]
  },
  {
   "cell_type": "code",
   "execution_count": 58,
   "metadata": {},
   "outputs": [
    {
     "data": {
      "text/plain": [
       ":to_edge_list"
      ]
     },
     "execution_count": 58,
     "metadata": {},
     "output_type": "execute_result"
    }
   ],
   "source": [
    "def to_edge_list(perm)\n",
    "  list = []\n",
    "  perm.each_with_index do |c1, i|\n",
    "    c2 = (i==perm.size-1) ? perm[0] : perm[i+1]\n",
    "    c1, c2 = c2, c1 if c1 > c2\n",
    "    list << [c1, c2]\n",
    "  end\n",
    "  return list\n",
    "end"
   ]
  },
  {
   "cell_type": "code",
   "execution_count": 60,
   "metadata": {},
   "outputs": [
    {
     "data": {
      "text/plain": [
       ":equivalent?"
      ]
     },
     "execution_count": 60,
     "metadata": {},
     "output_type": "execute_result"
    }
   ],
   "source": [
    "def equivalent?(el1, el2)\n",
    "  el1.each {|e| return false if !el2.include?(e) }\n",
    "  return true\n",
    "end"
   ]
  },
  {
   "cell_type": "code",
   "execution_count": 61,
   "metadata": {},
   "outputs": [
    {
     "data": {
      "text/plain": [
       ":generate_candidate"
      ]
     },
     "execution_count": 61,
     "metadata": {},
     "output_type": "execute_result"
    }
   ],
   "source": [
    "def generate_candidate(best, cities)\n",
    "  candidate = {}\n",
    "  candidate[:vector], edges = stochastic_two_opt(best[:vector])\n",
    "  candidate[:cost] = cost(candidate[:vector], cities)\n",
    "  return candidate, edges\n",
    "end"
   ]
  },
  {
   "cell_type": "code",
   "execution_count": 62,
   "metadata": {},
   "outputs": [
    {
     "data": {
      "text/plain": [
       ":get_candidate_entry"
      ]
     },
     "execution_count": 62,
     "metadata": {},
     "output_type": "execute_result"
    }
   ],
   "source": [
    "def get_candidate_entry(visited_list, permutation)\n",
    "  edgeList = to_edge_list(permutation)\n",
    "  visited_list.each do |entry|\n",
    "    return entry if equivalent?(edgeList, entry[:edgelist])\n",
    "  end\n",
    "  return nil\n",
    "end"
   ]
  },
  {
   "cell_type": "code",
   "execution_count": 63,
   "metadata": {},
   "outputs": [
    {
     "data": {
      "text/plain": [
       ":store_permutation"
      ]
     },
     "execution_count": 63,
     "metadata": {},
     "output_type": "execute_result"
    }
   ],
   "source": [
    "def store_permutation(visited_list, permutation, iteration)\n",
    "  entry = {}\n",
    "  entry[:edgelist] = to_edge_list(permutation)\n",
    "  entry[:iter] = iteration\n",
    "  entry[:visits] = 1\n",
    "  visited_list.push(entry)\n",
    "  return entry\n",
    "end"
   ]
  },
  {
   "cell_type": "code",
   "execution_count": 64,
   "metadata": {},
   "outputs": [
    {
     "data": {
      "text/plain": [
       ":sort_neighborhood"
      ]
     },
     "execution_count": 64,
     "metadata": {},
     "output_type": "execute_result"
    }
   ],
   "source": [
    "def sort_neighborhood(candidates, tabu_list, prohib_period, iteration)\n",
    "  tabu, admissable = [], []\n",
    "  candidates.each do |a|\n",
    "    if is_tabu?(a[1][0], tabu_list, iteration, prohib_period) or\n",
    "       is_tabu?(a[1][1], tabu_list, iteration, prohib_period)\n",
    "      tabu << a\n",
    "    else\n",
    "      admissable << a\n",
    "    end\n",
    "  end\n",
    "  return [tabu, admissable]\n",
    "end"
   ]
  },
  {
   "cell_type": "code",
   "execution_count": 65,
   "metadata": {},
   "outputs": [
    {
     "data": {
      "text/plain": [
       ":search"
      ]
     },
     "execution_count": 65,
     "metadata": {},
     "output_type": "execute_result"
    }
   ],
   "source": [
    "def search(cities, max_cand, max_iter, increase, decrease)\n",
    "  current = {:vector=>random_permutation(cities)}\n",
    "  current[:cost] = cost(current[:vector], cities)\n",
    "  best = current\n",
    "  tabu_list, prohib_period = [], 1\n",
    "  visited_list, avg_size, last_change = [], 1, 0\n",
    "\n",
    "  max_iter.times do |iter|\n",
    "    candidate_entry = get_candidate_entry(visited_list, current[:vector])\n",
    "\n",
    "    if !candidate_entry.nil?\n",
    "      repetition_interval = iter - candidate_entry[:iter]\n",
    "      candidate_entry[:iter] = iter\n",
    "      candidate_entry[:visits] += 1\n",
    "\n",
    "      if repetition_interval < 2*(cities.size-1)\n",
    "        avg_size = 0.1*(iter-candidate_entry[:iter]) + 0.9*avg_size\n",
    "        prohib_period = (prohib_period.to_f * increase)\n",
    "        last_change = iter\n",
    "      end\n",
    "    \n",
    "    else\n",
    "      store_permutation(visited_list, current[:vector], iter)\n",
    "    end\n",
    "    \n",
    "    if iter-last_change > avg_size\n",
    "      prohib_period = [prohib_period*decrease,1].max\n",
    "      last_change = iter\n",
    "    end\n",
    "    \n",
    "    candidates = Array.new(max_cand) do |i| \n",
    "      generate_candidate(current, cities)\n",
    "    end\n",
    "    \n",
    "    candidates.sort! {|x,y| x.first[:cost] <=> y.first[:cost]}        \n",
    "    tabu,admis = sort_neighborhood(candidates,tabu_list,prohib_period,iter)\n",
    "    \n",
    "    if admis.size < 2\n",
    "      prohib_period = cities.size-2\n",
    "      last_change = iter\n",
    "    end\n",
    "    \n",
    "    current,best_move_edges = (admis.empty?) ? tabu.first : admis.first\n",
    "    \n",
    "    if !tabu.empty? \n",
    "      tf = tabu.first[0]\n",
    "      if tf[:cost]<best[:cost] and tf[:cost]<current[:cost]\n",
    "        current, best_move_edges = tabu.first\n",
    "      end\n",
    "    end\n",
    "    \n",
    "    best_move_edges.each {|edge| make_tabu(tabu_list, edge, iter)}\n",
    "    best = candidates.first[0] if candidates.first[0][:cost] < best[:cost]\n",
    "    #puts \" > it=#{iter}, tenure=#{prohib_period.round}, best=#{best[:cost]}\"\n",
    "  end\n",
    "  return best\n",
    "end"
   ]
  },
  {
   "cell_type": "code",
   "execution_count": 66,
   "metadata": {},
   "outputs": [
    {
     "name": "stdout",
     "output_type": "stream",
     "text": [
      "Done. Best Solution:\n",
      "c=9047\n",
      "v=[28, 29, 41, 1, 6, 20, 17, 16, 2, 44, 18, 40, 7, 9, 8, 32, 42, 31, 34, 35, 38, 37, 4, 39, 33, 36, 47, 23, 14, 5, 24, 3, 11, 50, 10, 51, 13, 12, 46, 27, 26, 25, 45, 15, 43, 48, 21, 0, 30, 22, 19, 49]\n"
     ]
    }
   ],
   "source": [
    "# problem configuration\n",
    "# algorithm configuration\n",
    "max_iter = 100\n",
    "max_candidates = 50\n",
    "increase = 1.3\n",
    "decrease = 0.9\n",
    "\n",
    "# execute the algorithm\n",
    "best = search(berlin52, max_candidates, max_iter, increase, decrease)\n",
    "puts \"Done. Best Solution:\",\"c=#{best[:cost]}\",\"v=#{best[:vector].inspect}\"\n"
   ]
  },
  {
   "cell_type": "markdown",
   "metadata": {},
   "source": [
    "## Scatter Search"
   ]
  },
  {
   "cell_type": "code",
   "execution_count": 68,
   "metadata": {},
   "outputs": [
    {
     "data": {
      "text/plain": [
       ":objective_function"
      ]
     },
     "execution_count": 68,
     "metadata": {},
     "output_type": "execute_result"
    }
   ],
   "source": [
    "def objective_function(vector)\n",
    "  return vector.inject(0) {|sum, x| sum +  (x ** 2.0)}\n",
    "end"
   ]
  },
  {
   "cell_type": "code",
   "execution_count": 69,
   "metadata": {},
   "outputs": [
    {
     "data": {
      "text/plain": [
       ":rand_in_bounds"
      ]
     },
     "execution_count": 69,
     "metadata": {},
     "output_type": "execute_result"
    }
   ],
   "source": [
    "def rand_in_bounds(min, max)\n",
    "  return min + ((max-min) * rand()) \n",
    "end"
   ]
  },
  {
   "cell_type": "code",
   "execution_count": 70,
   "metadata": {},
   "outputs": [
    {
     "data": {
      "text/plain": [
       ":random_vector"
      ]
     },
     "execution_count": 70,
     "metadata": {},
     "output_type": "execute_result"
    }
   ],
   "source": [
    "def random_vector(minmax)\n",
    "  return Array.new(minmax.size) do |i|      \n",
    "    rand_in_bounds(minmax[i][0], minmax[i][1])\n",
    "  end\n",
    "end"
   ]
  },
  {
   "cell_type": "code",
   "execution_count": 71,
   "metadata": {},
   "outputs": [
    {
     "data": {
      "text/plain": [
       ":take_step"
      ]
     },
     "execution_count": 71,
     "metadata": {},
     "output_type": "execute_result"
    }
   ],
   "source": [
    "def take_step(minmax, current, step_size)\n",
    "  position = Array.new(current.size)\n",
    "  position.size.times do |i|\n",
    "    min = [minmax[i][0], current[i]-step_size].max\n",
    "    max = [minmax[i][1], current[i]+step_size].min\n",
    "    position[i] = rand_in_bounds(min, max)\n",
    "  end\n",
    "  return position\n",
    "end"
   ]
  },
  {
   "cell_type": "code",
   "execution_count": 72,
   "metadata": {},
   "outputs": [
    {
     "data": {
      "text/plain": [
       ":local_search"
      ]
     },
     "execution_count": 72,
     "metadata": {},
     "output_type": "execute_result"
    }
   ],
   "source": [
    "def local_search(best, bounds, max_no_improv, step_size)\n",
    "  count = 0\n",
    "  begin\n",
    "    candidate = {:vector=>take_step(bounds, best[:vector], step_size)}\n",
    "    candidate[:cost] = objective_function(candidate[:vector])\n",
    "    count = (candidate[:cost] < best[:cost]) ? 0 : count+1\n",
    "    best = candidate if candidate[:cost] < best[:cost]    \n",
    "  end until count >= max_no_improv\n",
    "  return best\n",
    "end"
   ]
  },
  {
   "cell_type": "code",
   "execution_count": 73,
   "metadata": {},
   "outputs": [
    {
     "data": {
      "text/plain": [
       ":construct_initial_set"
      ]
     },
     "execution_count": 73,
     "metadata": {},
     "output_type": "execute_result"
    }
   ],
   "source": [
    "def construct_initial_set(bounds, set_size, max_no_improv, step_size)\n",
    "  diverse_set = []\n",
    "  begin\n",
    "    cand = {:vector=>random_vector(bounds)}\n",
    "    cand[:cost] = objective_function(cand[:vector])\n",
    "    cand = local_search(cand, bounds, max_no_improv, step_size)\n",
    "    diverse_set << cand if !diverse_set.any? {|x| x[:vector]==cand[:vector]}\n",
    "  end until diverse_set.size == set_size\n",
    "  return diverse_set\n",
    "end"
   ]
  },
  {
   "cell_type": "code",
   "execution_count": 74,
   "metadata": {},
   "outputs": [
    {
     "data": {
      "text/plain": [
       ":euclidean_distance"
      ]
     },
     "execution_count": 74,
     "metadata": {},
     "output_type": "execute_result"
    }
   ],
   "source": [
    "def euclidean_distance(c1, c2)\n",
    "  sum = 0.0\n",
    "  c1.each_index {|i| sum += (c1[i]-c2[i])**2.0}  \n",
    "  return Math.sqrt(sum)\n",
    "end"
   ]
  },
  {
   "cell_type": "code",
   "execution_count": 75,
   "metadata": {},
   "outputs": [
    {
     "data": {
      "text/plain": [
       ":distance"
      ]
     },
     "execution_count": 75,
     "metadata": {},
     "output_type": "execute_result"
    }
   ],
   "source": [
    "def distance(v, set)\n",
    "  return set.inject(0){|s,x| s + euclidean_distance(v, x[:vector])}\n",
    "end"
   ]
  },
  {
   "cell_type": "code",
   "execution_count": 76,
   "metadata": {},
   "outputs": [
    {
     "data": {
      "text/plain": [
       ":diversify"
      ]
     },
     "execution_count": 76,
     "metadata": {},
     "output_type": "execute_result"
    }
   ],
   "source": [
    "def diversify(diverse_set, num_elite, ref_set_size)\n",
    "  diverse_set.sort!{|x,y| x[:cost] <=> y[:cost]}\n",
    "  ref_set = Array.new(num_elite){|i| diverse_set[i]}\n",
    "  remainder = diverse_set - ref_set\n",
    "  remainder.each{|c| c[:dist] = distance(c[:vector], ref_set)}\n",
    "  remainder.sort!{|x,y| y[:dist]<=>x[:dist]}\n",
    "  ref_set = ref_set + remainder.first(ref_set_size-ref_set.size)\n",
    "  return [ref_set, ref_set[0]]\n",
    "end"
   ]
  },
  {
   "cell_type": "code",
   "execution_count": 77,
   "metadata": {},
   "outputs": [
    {
     "data": {
      "text/plain": [
       ":select_subsets"
      ]
     },
     "execution_count": 77,
     "metadata": {},
     "output_type": "execute_result"
    }
   ],
   "source": [
    "def select_subsets(ref_set)\n",
    "  additions = ref_set.select{|c| c[:new]}\n",
    "  remainder = ref_set - additions\n",
    "  remainder = additions if remainder.nil? or remainder.empty?\n",
    "  subsets = []\n",
    "  additions.each do |a| \n",
    "    remainder.each{|r| subsets << [a,r] if a!=r && !subsets.include?([r,a])}\n",
    "  end\n",
    "  return subsets\n",
    "end"
   ]
  },
  {
   "cell_type": "code",
   "execution_count": 78,
   "metadata": {},
   "outputs": [
    {
     "data": {
      "text/plain": [
       ":recombine"
      ]
     },
     "execution_count": 78,
     "metadata": {},
     "output_type": "execute_result"
    }
   ],
   "source": [
    "def recombine(subset, minmax)\n",
    "  a, b = subset\n",
    "  d = Array.new(a[:vector].size) {|i|(b[:vector][i]-a[:vector][i])/2.0}\n",
    "  children = []\n",
    "  subset.each do |p|\n",
    "    direction, r = ((rand<0.5) ? +1.0 : -1.0), rand\n",
    "    child = {:vector=>Array.new(minmax.size)}\n",
    "    child[:vector].each_index do |i|\n",
    "      child[:vector][i] = p[:vector][i] + (direction * r * d[i])\n",
    "      child[:vector][i]=minmax[i][0] if child[:vector][i]<minmax[i][0]\n",
    "      child[:vector][i]=minmax[i][1] if child[:vector][i]>minmax[i][1]\n",
    "    end\n",
    "    child[:cost] = objective_function(child[:vector])\n",
    "    children << child\n",
    "  end\n",
    "  return children\n",
    "end"
   ]
  },
  {
   "cell_type": "code",
   "execution_count": 79,
   "metadata": {},
   "outputs": [
    {
     "data": {
      "text/plain": [
       ":explore_subsets"
      ]
     },
     "execution_count": 79,
     "metadata": {},
     "output_type": "execute_result"
    }
   ],
   "source": [
    "def explore_subsets(bounds, ref_set, max_no_improv, step_size)\n",
    "  was_change = false\n",
    "  subsets = select_subsets(ref_set)\n",
    "  ref_set.each{|c| c[:new] = false}\n",
    "  subsets.each do |subset|\n",
    "    candidates = recombine(subset, bounds)\n",
    "    improved = Array.new(candidates.size) do |i| \n",
    "      local_search(candidates[i], bounds, max_no_improv, step_size)\n",
    "    end\n",
    "    improved.each do |c|\n",
    "      if !ref_set.any? {|x| x[:vector]==c[:vector]}\n",
    "        c[:new] = true\n",
    "        ref_set.sort!{|x,y| x[:cost] <=> y[:cost]}\n",
    "        if c[:cost] < ref_set.last[:cost]\n",
    "          ref_set.delete(ref_set.last)\n",
    "          ref_set << c\n",
    "          #puts \"  >> added, cost=#{c[:cost]}\"\n",
    "          was_change = true\n",
    "        end\n",
    "      end\n",
    "    end\n",
    "  end\n",
    "  return was_change\n",
    "end"
   ]
  },
  {
   "cell_type": "code",
   "execution_count": 80,
   "metadata": {},
   "outputs": [
    {
     "data": {
      "text/plain": [
       ":search"
      ]
     },
     "execution_count": 80,
     "metadata": {},
     "output_type": "execute_result"
    }
   ],
   "source": [
    "def search(bounds, max_iter, ref_set_size, div_set_size, max_no_improv, step_size, max_elite)\n",
    "  diverse_set = construct_initial_set(bounds, div_set_size, max_no_improv, step_size)\n",
    "  ref_set, best = diversify(diverse_set, max_elite, ref_set_size)\n",
    "  ref_set.each{|c| c[:new] = true}\n",
    "  max_iter.times do |iter|    \n",
    "    was_change = explore_subsets(bounds, ref_set, max_no_improv, step_size)\n",
    "    ref_set.sort!{|x,y| x[:cost] <=> y[:cost]}\n",
    "    best = ref_set.first if ref_set.first[:cost] < best[:cost]\n",
    "    #puts \" > iter=#{(iter+1)}, best=#{best[:cost]}\"\n",
    "    break if !was_change\n",
    "  end\n",
    "  return best\n",
    "end"
   ]
  },
  {
   "cell_type": "code",
   "execution_count": 81,
   "metadata": {},
   "outputs": [
    {
     "name": "stdout",
     "output_type": "stream",
     "text": [
      "Done. Best Solution:\n",
      "c=6.058258507310004e-07\n",
      "v=[0.00032054347349045557, -0.0006040007758185386, 0.0003718343652007942]\n"
     ]
    }
   ],
   "source": [
    "# problem configuration\n",
    "problem_size = 3\n",
    "bounds = Array.new(problem_size) {|i| [-5, +5]}\n",
    "\n",
    "# algorithm configuration\n",
    "max_iter = 100\n",
    "step_size = (bounds[0][1]-bounds[0][0])*0.005\n",
    "max_no_improv = 30\n",
    "ref_set_size = 10\n",
    "diverse_set_size = 20\n",
    "no_elite = 5\n",
    "\n",
    "# execute the algorithm\n",
    "best = search(bounds, max_iter, ref_set_size, diverse_set_size, max_no_improv, step_size, no_elite)\n",
    "puts \"Done. Best Solution:\",\"c=#{best[:cost]}\",\"v=#{best[:vector].inspect}\""
   ]
  },
  {
   "cell_type": "markdown",
   "metadata": {},
   "source": [
    "## Stochastic Hill Climbing"
   ]
  },
  {
   "cell_type": "code",
   "execution_count": 82,
   "metadata": {},
   "outputs": [
    {
     "data": {
      "text/plain": [
       ":onemax"
      ]
     },
     "execution_count": 82,
     "metadata": {},
     "output_type": "execute_result"
    }
   ],
   "source": [
    "def onemax(vector)\n",
    "  return vector.inject(0.0){|sum, v| sum + ((v==\"1\") ? 1 : 0)}\n",
    "end"
   ]
  },
  {
   "cell_type": "code",
   "execution_count": 83,
   "metadata": {},
   "outputs": [
    {
     "data": {
      "text/plain": [
       ":random_bitstring"
      ]
     },
     "execution_count": 83,
     "metadata": {},
     "output_type": "execute_result"
    }
   ],
   "source": [
    "def random_bitstring(num_bits)\n",
    "  return Array.new(num_bits){|i| (rand<0.5) ? \"1\" : \"0\"}\n",
    "end"
   ]
  },
  {
   "cell_type": "code",
   "execution_count": 84,
   "metadata": {},
   "outputs": [
    {
     "data": {
      "text/plain": [
       ":random_neighbor"
      ]
     },
     "execution_count": 84,
     "metadata": {},
     "output_type": "execute_result"
    }
   ],
   "source": [
    "def random_neighbor(bitstring)  \n",
    "  mutant = Array.new(bitstring)\n",
    "  pos = rand(bitstring.size)\n",
    "  mutant[pos] = (mutant[pos]=='1') ? '0' : '1'\n",
    "  return mutant\n",
    "end"
   ]
  },
  {
   "cell_type": "code",
   "execution_count": 85,
   "metadata": {},
   "outputs": [
    {
     "data": {
      "text/plain": [
       ":search"
      ]
     },
     "execution_count": 85,
     "metadata": {},
     "output_type": "execute_result"
    }
   ],
   "source": [
    "def search(max_iterations, num_bits)\n",
    "  candidate = {}\n",
    "  candidate[:vector] = random_bitstring(num_bits)\n",
    "  candidate[:cost] = onemax(candidate[:vector])\n",
    "  max_iterations.times do |iter|\n",
    "    neighbor = {}\n",
    "    neighbor[:vector] = random_neighbor(candidate[:vector])\n",
    "    neighbor[:cost] = onemax(neighbor[:vector])\n",
    "    candidate = neighbor if neighbor[:cost] >= candidate[:cost]\n",
    "    #puts \" > iteration #{(iter+1)}, best=#{candidate[:cost]}\"\n",
    "    break if candidate[:cost] == num_bits\n",
    "  end \n",
    "  return candidate\n",
    "end"
   ]
  },
  {
   "cell_type": "code",
   "execution_count": 86,
   "metadata": {},
   "outputs": [
    {
     "name": "stdout",
     "output_type": "stream",
     "text": [
      "Done. Best Solution:\n",
      "c=64.0\n",
      "v=1111111111111111111111111111111111111111111111111111111111111111\n"
     ]
    }
   ],
   "source": [
    "# problem configuration\n",
    "num_bits = 64\n",
    "\n",
    "# algorithm configuration\n",
    "max_iterations = 1000\n",
    "\n",
    "# execute the algorithm\n",
    "best = search(max_iterations, num_bits)\n",
    "puts \"Done. Best Solution:\",\"c=#{best[:cost]}\",\"v=#{best[:vector].join}\""
   ]
  },
  {
   "cell_type": "markdown",
   "metadata": {},
   "source": [
    "## Tabu Search"
   ]
  },
  {
   "cell_type": "code",
   "execution_count": 87,
   "metadata": {},
   "outputs": [
    {
     "data": {
      "text/plain": [
       ":euc_2d"
      ]
     },
     "execution_count": 87,
     "metadata": {},
     "output_type": "execute_result"
    }
   ],
   "source": [
    "def euc_2d(c1, c2)\n",
    "  Math.sqrt((c1[0] - c2[0])**2.0 + (c1[1] - c2[1])**2.0).round\n",
    "end"
   ]
  },
  {
   "cell_type": "code",
   "execution_count": 88,
   "metadata": {},
   "outputs": [
    {
     "data": {
      "text/plain": [
       ":cost"
      ]
     },
     "execution_count": 88,
     "metadata": {},
     "output_type": "execute_result"
    }
   ],
   "source": [
    "def cost(perm, cities)\n",
    "  distance = 0\n",
    "  perm.each_with_index do |c1, i|\n",
    "    c2 = (i==perm.size-1) ? perm[0] : perm[i+1]\n",
    "    distance += euc_2d(cities[c1], cities[c2])\n",
    "  end\n",
    "  return distance\n",
    "end"
   ]
  },
  {
   "cell_type": "code",
   "execution_count": 89,
   "metadata": {},
   "outputs": [
    {
     "data": {
      "text/plain": [
       ":random_permutation"
      ]
     },
     "execution_count": 89,
     "metadata": {},
     "output_type": "execute_result"
    }
   ],
   "source": [
    "def random_permutation(cities)\n",
    "  perm = Array.new(cities.size){|i| i}\n",
    "  perm.each_index do |i|\n",
    "    r = rand(perm.size-i) + i\n",
    "    perm[r], perm[i] = perm[i], perm[r]\n",
    "  end\n",
    "  return perm\n",
    "end"
   ]
  },
  {
   "cell_type": "code",
   "execution_count": 90,
   "metadata": {},
   "outputs": [
    {
     "data": {
      "text/plain": [
       ":stochastic_two_opt"
      ]
     },
     "execution_count": 90,
     "metadata": {},
     "output_type": "execute_result"
    }
   ],
   "source": [
    "def stochastic_two_opt(parent)\n",
    "  perm = Array.new(parent)\n",
    "  c1, c2 = rand(perm.size), rand(perm.size)\n",
    "  exclude = [c1]\n",
    "  exclude << ((c1==0) ? perm.size-1 : c1-1)\n",
    "  exclude << ((c1==perm.size-1) ? 0 : c1+1)\n",
    "  c2 = rand(perm.size) while exclude.include?(c2)\n",
    "  c1, c2 = c2, c1 if c2 < c1\n",
    "  perm[c1...c2] = perm[c1...c2].reverse\n",
    "  return perm, [[parent[c1-1], parent[c1]], [parent[c2-1], parent[c2]]]\n",
    "end"
   ]
  },
  {
   "cell_type": "code",
   "execution_count": 91,
   "metadata": {},
   "outputs": [
    {
     "data": {
      "text/plain": [
       ":is_tabu?"
      ]
     },
     "execution_count": 91,
     "metadata": {},
     "output_type": "execute_result"
    }
   ],
   "source": [
    "def is_tabu?(permutation, tabu_list)\n",
    "  permutation.each_with_index do |c1, i|\n",
    "    c2 = (i==permutation.size-1) ? permutation[0] : permutation[i+1]\n",
    "    tabu_list.each do |forbidden_edge|\n",
    "      return true if forbidden_edge == [c1, c2]\n",
    "    end\n",
    "  end\n",
    "  return false\n",
    "end"
   ]
  },
  {
   "cell_type": "code",
   "execution_count": 92,
   "metadata": {},
   "outputs": [
    {
     "data": {
      "text/plain": [
       ":generate_candidate"
      ]
     },
     "execution_count": 92,
     "metadata": {},
     "output_type": "execute_result"
    }
   ],
   "source": [
    "def generate_candidate(best, tabu_list, cities)\n",
    "  perm, edges = nil, nil\n",
    "  begin\n",
    "    perm, edges = stochastic_two_opt(best[:vector])\n",
    "  end while is_tabu?(perm, tabu_list)  \n",
    "  candidate = {:vector=>perm}\n",
    "  candidate[:cost] = cost(candidate[:vector], cities)\n",
    "  return candidate, edges\n",
    "end"
   ]
  },
  {
   "cell_type": "code",
   "execution_count": 93,
   "metadata": {},
   "outputs": [
    {
     "data": {
      "text/plain": [
       ":search"
      ]
     },
     "execution_count": 93,
     "metadata": {},
     "output_type": "execute_result"
    }
   ],
   "source": [
    "def search(cities, tabu_list_size, candidate_list_size, max_iter)\n",
    "  current = {:vector=>random_permutation(cities)}\n",
    "  current[:cost] = cost(current[:vector], cities)\n",
    "  best = current\n",
    "  tabu_list = Array.new(tabu_list_size)\n",
    "  max_iter.times do |iter|\n",
    "    candidates = Array.new(candidate_list_size) do |i|\n",
    "      generate_candidate(current, tabu_list, cities)\n",
    "    end\n",
    "    candidates.sort! {|x,y| x.first[:cost] <=> y.first[:cost]}\n",
    "    best_candidate = candidates.first[0]\n",
    "    best_candidate_edges = candidates.first[1]\n",
    "    if best_candidate[:cost] < current[:cost]\n",
    "      current = best_candidate\n",
    "      best = best_candidate if best_candidate[:cost] < best[:cost]\n",
    "      best_candidate_edges.each {|edge| tabu_list.push(edge)}\n",
    "      tabu_list.pop while tabu_list.size > tabu_list_size\n",
    "    end\n",
    "    #puts \" > iteration #{(iter+1)}, best=#{best[:cost]}\"\n",
    "  end\n",
    "  return best\n",
    "end\n"
   ]
  },
  {
   "cell_type": "code",
   "execution_count": 94,
   "metadata": {},
   "outputs": [
    {
     "name": "stdout",
     "output_type": "stream",
     "text": [
      "Done. Best Solution:\n",
      "c=8473\n",
      "v=[5, 42, 44, 18, 40, 7, 8, 9, 32, 50, 10, 11, 27, 25, 26, 12, 51, 13, 46, 15, 28, 49, 19, 22, 29, 41, 1, 6, 20, 16, 2, 17, 30, 21, 0, 31, 48, 35, 34, 33, 43, 45, 36, 38, 39, 37, 4, 14, 23, 47, 24, 3]\n"
     ]
    }
   ],
   "source": [
    "# problem configuration\n",
    "# algorithm configuration\n",
    "max_iter = 100\n",
    "tabu_list_size = 15\n",
    "max_candidates = 50\n",
    "\n",
    "# execute the algorithm\n",
    "best = search(berlin52, tabu_list_size, max_candidates, max_iter)\n",
    "puts \"Done. Best Solution:\",\"c=#{best[:cost]}\",\"v=#{best[:vector].inspect}\"\n"
   ]
  },
  {
   "cell_type": "markdown",
   "metadata": {},
   "source": [
    "## Variable Neighborhood Search"
   ]
  },
  {
   "cell_type": "code",
   "execution_count": 95,
   "metadata": {},
   "outputs": [
    {
     "data": {
      "text/plain": [
       ":euc_2d"
      ]
     },
     "execution_count": 95,
     "metadata": {},
     "output_type": "execute_result"
    }
   ],
   "source": [
    "def euc_2d(c1, c2)\n",
    "  Math.sqrt((c1[0] - c2[0])**2.0 + (c1[1] - c2[1])**2.0).round\n",
    "end"
   ]
  },
  {
   "cell_type": "code",
   "execution_count": 96,
   "metadata": {},
   "outputs": [
    {
     "data": {
      "text/plain": [
       ":cost"
      ]
     },
     "execution_count": 96,
     "metadata": {},
     "output_type": "execute_result"
    }
   ],
   "source": [
    "def cost(perm, cities)\n",
    "  distance =0\n",
    "  perm.each_with_index do |c1, i|\n",
    "    c2 = (i==perm.size-1) ? perm[0] : perm[i+1]\n",
    "    distance += euc_2d(cities[c1], cities[c2])\n",
    "  end\n",
    "  return distance\n",
    "end"
   ]
  },
  {
   "cell_type": "code",
   "execution_count": 97,
   "metadata": {},
   "outputs": [
    {
     "data": {
      "text/plain": [
       ":random_permutation"
      ]
     },
     "execution_count": 97,
     "metadata": {},
     "output_type": "execute_result"
    }
   ],
   "source": [
    "def random_permutation(cities)\n",
    "  perm = Array.new(cities.size){|i| i}\n",
    "  perm.each_index do |i|\n",
    "    r = rand(perm.size-i) + i\n",
    "    perm[r], perm[i] = perm[i], perm[r]\n",
    "  end\n",
    "  return perm\n",
    "end"
   ]
  },
  {
   "cell_type": "code",
   "execution_count": 98,
   "metadata": {},
   "outputs": [
    {
     "data": {
      "text/plain": [
       ":stochastic_two_opt!"
      ]
     },
     "execution_count": 98,
     "metadata": {},
     "output_type": "execute_result"
    }
   ],
   "source": [
    "def stochastic_two_opt!(perm)\n",
    "  c1, c2 = rand(perm.size), rand(perm.size)\n",
    "  exclude = [c1]\n",
    "  exclude << ((c1==0) ? perm.size-1 : c1-1)\n",
    "  exclude << ((c1==perm.size-1) ? 0 : c1+1)\n",
    "  c2 = rand(perm.size) while exclude.include?(c2)\n",
    "  c1, c2 = c2, c1 if c2 < c1\n",
    "  perm[c1...c2] = perm[c1...c2].reverse\n",
    "  return perm\n",
    "end"
   ]
  },
  {
   "cell_type": "code",
   "execution_count": 99,
   "metadata": {},
   "outputs": [
    {
     "data": {
      "text/plain": [
       ":local_search"
      ]
     },
     "execution_count": 99,
     "metadata": {},
     "output_type": "execute_result"
    }
   ],
   "source": [
    "def local_search(best, cities, max_no_improv, neighborhood)\n",
    "  count = 0\n",
    "  begin\n",
    "    candidate = {}\n",
    "    candidate[:vector] = Array.new(best[:vector])\n",
    "    neighborhood.times{stochastic_two_opt!(candidate[:vector])}\n",
    "    candidate[:cost] = cost(candidate[:vector], cities)\n",
    "    if candidate[:cost] < best[:cost]\n",
    "      count, best = 0, candidate\n",
    "    else\n",
    "      count += 1      \n",
    "    end\n",
    "  end until count >= max_no_improv\n",
    "  return best\n",
    "end"
   ]
  },
  {
   "cell_type": "code",
   "execution_count": 102,
   "metadata": {},
   "outputs": [
    {
     "data": {
      "text/plain": [
       ":search"
      ]
     },
     "execution_count": 102,
     "metadata": {},
     "output_type": "execute_result"
    }
   ],
   "source": [
    "def search(cities, neighborhoods, max_no_improv, max_no_improv_ls)\n",
    "  best = {}\n",
    "  best[:vector] = random_permutation(cities)\n",
    "  best[:cost] = cost(best[:vector], cities)\n",
    "  iter, count = 0, 0\n",
    "  begin\n",
    "    neighborhoods.each do |neigh|\n",
    "      candidate = {}\n",
    "      candidate[:vector] = Array.new(best[:vector])      \n",
    "      neigh.times{stochastic_two_opt!(candidate[:vector])}\n",
    "      candidate[:cost] = cost(candidate[:vector], cities)\n",
    "      candidate = local_search(candidate, cities, max_no_improv_ls, neigh)      \n",
    "      #puts \" > iteration #{(iter+1)}, neigh=#{neigh}, best=#{best[:cost]}\"\n",
    "      iter += 1\n",
    "      if(candidate[:cost] < best[:cost])\n",
    "        best, count = candidate, 0\n",
    "        #puts \"New best, restarting neighborhood search.\"\n",
    "        break\n",
    "      else\n",
    "        count += 1\n",
    "      end\n",
    "    end  \n",
    "  end until count >= max_no_improv\n",
    "  return best\n",
    "end"
   ]
  },
  {
   "cell_type": "code",
   "execution_count": 103,
   "metadata": {},
   "outputs": [
    {
     "name": "stdout",
     "output_type": "stream",
     "text": [
      "Done. Best Solution:\n",
      "c=9185\n",
      "v=[3, 24, 11, 50, 10, 51, 13, 12, 46, 25, 26, 27, 47, 23, 37, 39, 4, 14, 42, 32, 9, 8, 7, 40, 18, 44, 2, 6, 1, 41, 20, 16, 29, 28, 15, 49, 19, 43, 45, 36, 33, 21, 0, 22, 30, 17, 31, 48, 34, 35, 38, 5]\n"
     ]
    }
   ],
   "source": [
    "# problem configuration\n",
    "# algorithm configuration\n",
    "max_no_improv = 50\n",
    "max_no_improv_ls = 70\n",
    "neighborhoods = 1...20\n",
    "\n",
    "# execute the algorithm\n",
    "best = search(berlin52, neighborhoods, max_no_improv, max_no_improv_ls)\n",
    "puts \"Done. Best Solution:\",\"c=#{best[:cost]}\",\"v=#{best[:vector].inspect}\""
   ]
  },
  {
   "cell_type": "code",
   "execution_count": null,
   "metadata": {},
   "outputs": [],
   "source": []
  }
 ],
 "metadata": {
  "kernelspec": {
   "display_name": "Ruby 2.2.5",
   "language": "ruby",
   "name": "ruby"
  },
  "language_info": {
   "file_extension": ".rb",
   "mimetype": "application/x-ruby",
   "name": "ruby",
   "version": "2.2.5"
  }
 },
 "nbformat": 4,
 "nbformat_minor": 2
}
