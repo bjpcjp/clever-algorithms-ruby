{
 "cells": [
  {
   "cell_type": "markdown",
   "metadata": {},
   "source": [
    "# Evolutionary Algorithms"
   ]
  },
  {
   "cell_type": "markdown",
   "metadata": {},
   "source": [
    "## Differential Evolution"
   ]
  },
  {
   "cell_type": "code",
   "execution_count": 1,
   "metadata": {},
   "outputs": [
    {
     "data": {
      "text/plain": [
       ":objective_function"
      ]
     },
     "execution_count": 1,
     "metadata": {},
     "output_type": "execute_result"
    }
   ],
   "source": [
    "def objective_function(vector)\n",
    "  return vector.inject(0.0) {|sum, x| sum +  (x ** 2.0)}\n",
    "end"
   ]
  },
  {
   "cell_type": "code",
   "execution_count": 2,
   "metadata": {},
   "outputs": [
    {
     "data": {
      "text/plain": [
       ":random_vector"
      ]
     },
     "execution_count": 2,
     "metadata": {},
     "output_type": "execute_result"
    }
   ],
   "source": [
    "def random_vector(minmax)\n",
    "  return Array.new(minmax.size) do |i|      \n",
    "    minmax[i][0] + ((minmax[i][1] - minmax[i][0]) * rand())\n",
    "  end\n",
    "end"
   ]
  },
  {
   "cell_type": "code",
   "execution_count": 3,
   "metadata": {},
   "outputs": [
    {
     "data": {
      "text/plain": [
       ":de_rand_1_bin"
      ]
     },
     "execution_count": 3,
     "metadata": {},
     "output_type": "execute_result"
    }
   ],
   "source": [
    "def de_rand_1_bin(p0, p1, p2, p3, f, cr, search_space)\n",
    "  sample = {:vector=>Array.new(p0[:vector].size)}\n",
    "  cut = rand(sample[:vector].size-1) + 1\n",
    "  sample[:vector].each_index do |i|\n",
    "    sample[:vector][i] = p0[:vector][i]\n",
    "    if (i==cut or rand() < cr)\n",
    "      v = p3[:vector][i] + f * (p1[:vector][i] - p2[:vector][i])\n",
    "      v = search_space[i][0] if v < search_space[i][0]\n",
    "      v = search_space[i][1] if v > search_space[i][1]\n",
    "      sample[:vector][i] = v\n",
    "    end\n",
    "  end\n",
    "  return sample\n",
    "end"
   ]
  },
  {
   "cell_type": "code",
   "execution_count": 4,
   "metadata": {},
   "outputs": [
    {
     "data": {
      "text/plain": [
       ":select_parents"
      ]
     },
     "execution_count": 4,
     "metadata": {},
     "output_type": "execute_result"
    }
   ],
   "source": [
    "def select_parents(pop, current)\n",
    "  p1, p2, p3 = rand(pop.size), rand(pop.size), rand(pop.size)\n",
    "  p1 = rand(pop.size) until p1 != current\n",
    "  p2 = rand(pop.size) until p2 != current and p2 != p1\n",
    "  p3 = rand(pop.size) until p3 != current and p3 != p1 and p3 != p2\n",
    "  return [p1,p2,p3]\n",
    "end"
   ]
  },
  {
   "cell_type": "code",
   "execution_count": 5,
   "metadata": {},
   "outputs": [
    {
     "data": {
      "text/plain": [
       ":create_children"
      ]
     },
     "execution_count": 5,
     "metadata": {},
     "output_type": "execute_result"
    }
   ],
   "source": [
    "def create_children(pop, minmax, f, cr)\n",
    "  children = []\n",
    "  pop.each_with_index do |p0, i|\n",
    "    p1, p2, p3 = select_parents(pop, i)\n",
    "    children << de_rand_1_bin(p0, pop[p1], pop[p2], pop[p3], f, cr, minmax)\n",
    "  end\n",
    "  return children\n",
    "end"
   ]
  },
  {
   "cell_type": "code",
   "execution_count": 6,
   "metadata": {},
   "outputs": [
    {
     "data": {
      "text/plain": [
       ":select_population"
      ]
     },
     "execution_count": 6,
     "metadata": {},
     "output_type": "execute_result"
    }
   ],
   "source": [
    "def select_population(parents, children)\n",
    "  return Array.new(parents.size) do |i| \n",
    "    (children[i][:cost]<=parents[i][:cost]) ? children[i] : parents[i]\n",
    "  end\n",
    "end"
   ]
  },
  {
   "cell_type": "code",
   "execution_count": 7,
   "metadata": {},
   "outputs": [
    {
     "data": {
      "text/plain": [
       ":search"
      ]
     },
     "execution_count": 7,
     "metadata": {},
     "output_type": "execute_result"
    }
   ],
   "source": [
    "def search(max_gens, search_space, pop_size, f, cr)\n",
    "  pop = Array.new(pop_size) {|i| {:vector=>random_vector(search_space)}}\n",
    "  pop.each{|c| c[:cost] = objective_function(c[:vector])}\n",
    "  best = pop.sort{|x,y| x[:cost] <=> y[:cost]}.first\n",
    "  max_gens.times do |gen|\n",
    "    children = create_children(pop, search_space, f, cr)\n",
    "    children.each{|c| c[:cost] = objective_function(c[:vector])}\n",
    "    pop = select_population(pop, children)\n",
    "    pop.sort!{|x,y| x[:cost] <=> y[:cost]}\n",
    "    best = pop.first if pop.first[:cost] < best[:cost]\n",
    "    #puts \" > gen #{gen+1}, fitness=#{best[:cost]}\"\n",
    "  end  \n",
    "  return best\n",
    "end"
   ]
  },
  {
   "cell_type": "code",
   "execution_count": 9,
   "metadata": {},
   "outputs": [
    {
     "name": "stdout",
     "output_type": "stream",
     "text": [
      "Solution:\n",
      "f=8.141213444874482e-21\n",
      "s=[-1.0979959036352552e-11, 5.735032970980073e-11, -6.878658027996195e-11]\n"
     ]
    }
   ],
   "source": [
    "# problem configuration\n",
    "problem_size = 3\n",
    "search_space = Array.new(problem_size) {|i| [-5, +5]}\n",
    "\n",
    "# algorithm configuration\n",
    "max_gens = 200\n",
    "pop_size = 10*problem_size\n",
    "weightf = 0.8\n",
    "crossf = 0.9\n",
    "\n",
    "# execute the algorithm\n",
    "best= search(max_gens, search_space, pop_size, weightf, crossf)\n",
    "\n",
    "puts \"Solution:\"\n",
    "puts \"f=#{best[:cost]}\"\n",
    "puts \"s=#{best[:vector].inspect}\"\n",
    "#puts \"done! Solution: f=#{best[:cost]}, s=#{best[:vector].inspect}\""
   ]
  },
  {
   "cell_type": "markdown",
   "metadata": {},
   "source": [
    "## Evolutionary Programming Algorithm"
   ]
  },
  {
   "cell_type": "code",
   "execution_count": 10,
   "metadata": {},
   "outputs": [
    {
     "data": {
      "text/plain": [
       ":objective_function"
      ]
     },
     "execution_count": 10,
     "metadata": {},
     "output_type": "execute_result"
    }
   ],
   "source": [
    "def objective_function(vector)\n",
    "  return vector.inject(0.0) {|sum, x| sum +  (x ** 2.0)}\n",
    "end"
   ]
  },
  {
   "cell_type": "code",
   "execution_count": 11,
   "metadata": {},
   "outputs": [
    {
     "data": {
      "text/plain": [
       ":random_vector"
      ]
     },
     "execution_count": 11,
     "metadata": {},
     "output_type": "execute_result"
    }
   ],
   "source": [
    "def random_vector(minmax)\n",
    "  return Array.new(minmax.size) do |i|      \n",
    "    minmax[i][0] + ((minmax[i][1] - minmax[i][0]) * rand())\n",
    "  end\n",
    "end"
   ]
  },
  {
   "cell_type": "code",
   "execution_count": 12,
   "metadata": {},
   "outputs": [
    {
     "data": {
      "text/plain": [
       ":random_gaussian"
      ]
     },
     "execution_count": 12,
     "metadata": {},
     "output_type": "execute_result"
    }
   ],
   "source": [
    "def random_gaussian(mean=0.0, stdev=1.0)\n",
    "  u1 = u2 = w = 0\n",
    "  begin\n",
    "    u1 = 2 * rand() - 1\n",
    "    u2 = 2 * rand() - 1\n",
    "    w = u1 * u1 + u2 * u2\n",
    "  end while w >= 1\n",
    "  w = Math.sqrt((-2.0 * Math.log(w)) / w)\n",
    "  return mean + (u2 * w) * stdev\n",
    "end"
   ]
  },
  {
   "cell_type": "code",
   "execution_count": 13,
   "metadata": {},
   "outputs": [
    {
     "data": {
      "text/plain": [
       ":mutate"
      ]
     },
     "execution_count": 13,
     "metadata": {},
     "output_type": "execute_result"
    }
   ],
   "source": [
    "def mutate(candidate, search_space)\n",
    "  child = {:vector=>[], :strategy=>[]}\n",
    "  candidate[:vector].each_with_index do |v_old, i|\n",
    "    s_old = candidate[:strategy][i]\n",
    "    v = v_old + s_old * random_gaussian()\n",
    "    v = search_space[i][0] if v < search_space[i][0]\n",
    "    v = search_space[i][1] if v > search_space[i][1]\n",
    "    child[:vector] << v\n",
    "    child[:strategy] << s_old + random_gaussian() * s_old.abs**0.5\n",
    "  end\n",
    "  return child\n",
    "end"
   ]
  },
  {
   "cell_type": "code",
   "execution_count": 14,
   "metadata": {},
   "outputs": [
    {
     "data": {
      "text/plain": [
       ":tournament"
      ]
     },
     "execution_count": 14,
     "metadata": {},
     "output_type": "execute_result"
    }
   ],
   "source": [
    "def tournament(candidate, population, bout_size)\n",
    "  candidate[:wins] = 0\n",
    "  bout_size.times do |i|\n",
    "    other = population[rand(population.size)]\n",
    "    candidate[:wins] += 1 if candidate[:fitness] < other[:fitness]\n",
    "  end  \n",
    "end"
   ]
  },
  {
   "cell_type": "code",
   "execution_count": 15,
   "metadata": {},
   "outputs": [
    {
     "data": {
      "text/plain": [
       ":init_population"
      ]
     },
     "execution_count": 15,
     "metadata": {},
     "output_type": "execute_result"
    }
   ],
   "source": [
    "def init_population(minmax, pop_size)\n",
    "  strategy = Array.new(minmax.size) do |i| \n",
    "    [0,  (minmax[i][1]-minmax[i][0]) * 0.05]\n",
    "  end\n",
    "  pop = Array.new(pop_size, {})\n",
    "  pop.each_index do |i|\n",
    "    pop[i][:vector] = random_vector(minmax)\n",
    "    pop[i][:strategy] = random_vector(strategy)\n",
    "  end\n",
    "  pop.each{|c| c[:fitness] = objective_function(c[:vector])}\n",
    "  return pop\n",
    "end"
   ]
  },
  {
   "cell_type": "code",
   "execution_count": 16,
   "metadata": {},
   "outputs": [
    {
     "data": {
      "text/plain": [
       ":search"
      ]
     },
     "execution_count": 16,
     "metadata": {},
     "output_type": "execute_result"
    }
   ],
   "source": [
    "def search(max_gens, search_space, pop_size, bout_size)\n",
    "  population = init_population(search_space, pop_size)\n",
    "  population.each{|c| c[:fitness] = objective_function(c[:vector])}\n",
    "  best = population.sort{|x,y| x[:fitness] <=> y[:fitness]}.first  \n",
    "  max_gens.times do |gen|\n",
    "    children = Array.new(pop_size) {|i| mutate(population[i], search_space)}\n",
    "    children.each{|c| c[:fitness] = objective_function(c[:vector])}\n",
    "    children.sort!{|x,y| x[:fitness] <=> y[:fitness]}\n",
    "    best = children.first if children.first[:fitness] < best[:fitness]\n",
    "    union = children+population\n",
    "    union.each{|c| tournament(c, union, bout_size)}\n",
    "    union.sort!{|x,y| y[:wins] <=> x[:wins]}\n",
    "    population = union.first(pop_size)\n",
    "    #puts \" > gen #{gen}, fitness=#{best[:fitness]}\"\n",
    "  end  \n",
    "  return best\n",
    "end"
   ]
  },
  {
   "cell_type": "code",
   "execution_count": 17,
   "metadata": {},
   "outputs": [
    {
     "name": "stdout",
     "output_type": "stream",
     "text": [
      "Solution:\n",
      "f=1.1309250206419525e-06\n",
      "s=[0.0007714870562834609, -0.0007319376630759156]\n"
     ]
    }
   ],
   "source": [
    "# problem configuration\n",
    "problem_size = 2\n",
    "search_space = Array.new(problem_size) {|i| [-5, +5]}\n",
    "\n",
    "# algorithm configuration\n",
    "max_gens = 200\n",
    "pop_size = 100\n",
    "bout_size = 5\n",
    "\n",
    "# execute the algorithm\n",
    "best = search(max_gens, search_space, pop_size, bout_size)\n",
    "#puts \"done! Solution: f=#{best[:fitness]}, s=#{best[:vector].inspect}\"\n",
    "puts \"Solution:\"\n",
    "puts \"f=#{best[:fitness]}\"\n",
    "puts \"s=#{best[:vector].inspect}\""
   ]
  },
  {
   "cell_type": "markdown",
   "metadata": {},
   "source": [
    "## Evolution Strategies Algorithm"
   ]
  },
  {
   "cell_type": "code",
   "execution_count": 18,
   "metadata": {},
   "outputs": [
    {
     "data": {
      "text/plain": [
       ":objective_function"
      ]
     },
     "execution_count": 18,
     "metadata": {},
     "output_type": "execute_result"
    }
   ],
   "source": [
    "def objective_function(vector)\n",
    "  return vector.inject(0.0) {|sum, x| sum +  (x ** 2.0)}\n",
    "end"
   ]
  },
  {
   "cell_type": "code",
   "execution_count": 19,
   "metadata": {},
   "outputs": [
    {
     "data": {
      "text/plain": [
       ":random_vector"
      ]
     },
     "execution_count": 19,
     "metadata": {},
     "output_type": "execute_result"
    }
   ],
   "source": [
    "def random_vector(minmax)\n",
    "  return Array.new(minmax.size) do |i|      \n",
    "    minmax[i][0] + ((minmax[i][1] - minmax[i][0]) * rand())\n",
    "  end\n",
    "end"
   ]
  },
  {
   "cell_type": "code",
   "execution_count": 20,
   "metadata": {},
   "outputs": [
    {
     "data": {
      "text/plain": [
       ":random_gaussian"
      ]
     },
     "execution_count": 20,
     "metadata": {},
     "output_type": "execute_result"
    }
   ],
   "source": [
    "def random_gaussian(mean=0.0, stdev=1.0)\n",
    "  u1 = u2 = w = 0\n",
    "  begin\n",
    "    u1 = 2 * rand() - 1\n",
    "    u2 = 2 * rand() - 1\n",
    "    w = u1 * u1 + u2 * u2\n",
    "  end while w >= 1\n",
    "  w = Math.sqrt((-2.0 * Math.log(w)) / w)\n",
    "  return mean + (u2 * w) * stdev\n",
    "end"
   ]
  },
  {
   "cell_type": "code",
   "execution_count": 21,
   "metadata": {},
   "outputs": [
    {
     "data": {
      "text/plain": [
       ":mutate_problem"
      ]
     },
     "execution_count": 21,
     "metadata": {},
     "output_type": "execute_result"
    }
   ],
   "source": [
    "def mutate_problem(vector, stdevs, search_space)\n",
    "  child = Array(vector.size)\n",
    "  vector.each_with_index do |v, i|\n",
    "    child[i] = v + stdevs[i] * random_gaussian()\n",
    "    child[i] = search_space[i][0] if child[i] < search_space[i][0]\n",
    "    child[i] = search_space[i][1] if child[i] > search_space[i][1]\n",
    "  end\n",
    "  return child\n",
    "end"
   ]
  },
  {
   "cell_type": "code",
   "execution_count": 22,
   "metadata": {},
   "outputs": [
    {
     "data": {
      "text/plain": [
       ":mutate_strategy"
      ]
     },
     "execution_count": 22,
     "metadata": {},
     "output_type": "execute_result"
    }
   ],
   "source": [
    "def mutate_strategy(stdevs)\n",
    "  tau = Math.sqrt(2.0*stdevs.size.to_f)**-1.0\n",
    "  tau_p = Math.sqrt(2.0*Math.sqrt(stdevs.size.to_f))**-1.0\n",
    "  child = Array.new(stdevs.size) do |i|\n",
    "    stdevs[i] * Math.exp(tau_p*random_gaussian() + tau*random_gaussian())\n",
    "  end\n",
    "  return child\n",
    "end"
   ]
  },
  {
   "cell_type": "code",
   "execution_count": 23,
   "metadata": {},
   "outputs": [
    {
     "data": {
      "text/plain": [
       ":mutate"
      ]
     },
     "execution_count": 23,
     "metadata": {},
     "output_type": "execute_result"
    }
   ],
   "source": [
    "def mutate(par, minmax)\n",
    "  child = {}\n",
    "  child[:vector] = mutate_problem(par[:vector], par[:strategy], minmax)\n",
    "  child[:strategy] = mutate_strategy(par[:strategy])\n",
    "  return child\n",
    "end"
   ]
  },
  {
   "cell_type": "code",
   "execution_count": 24,
   "metadata": {},
   "outputs": [
    {
     "data": {
      "text/plain": [
       ":init_population"
      ]
     },
     "execution_count": 24,
     "metadata": {},
     "output_type": "execute_result"
    }
   ],
   "source": [
    "def init_population(minmax, pop_size)\n",
    "  strategy = Array.new(minmax.size) do |i| \n",
    "    [0,  (minmax[i][1]-minmax[i][0]) * 0.05]\n",
    "  end\n",
    "  pop = Array.new(pop_size) { Hash.new }\n",
    "  pop.each_index do |i|\n",
    "    pop[i][:vector] = random_vector(minmax)\n",
    "    pop[i][:strategy] = random_vector(strategy)\n",
    "  end\n",
    "  pop.each{|c| c[:fitness] = objective_function(c[:vector])}\n",
    "  return pop\n",
    "end"
   ]
  },
  {
   "cell_type": "code",
   "execution_count": 25,
   "metadata": {},
   "outputs": [
    {
     "data": {
      "text/plain": [
       ":search"
      ]
     },
     "execution_count": 25,
     "metadata": {},
     "output_type": "execute_result"
    }
   ],
   "source": [
    "def search(max_gens, search_space, pop_size, num_children)\n",
    "  population = init_population(search_space, pop_size)\n",
    "  best = population.sort{|x,y| x[:fitness] <=> y[:fitness]}.first  \n",
    "  max_gens.times do |gen|\n",
    "    children = Array.new(num_children) do |i| \n",
    "      mutate(population[i], search_space)\n",
    "    end\n",
    "    children.each{|c| c[:fitness] = objective_function(c[:vector])}\n",
    "    union = children+population\n",
    "    union.sort!{|x,y| x[:fitness] <=> y[:fitness]}\n",
    "    best = union.first if union.first[:fitness] < best[:fitness]\n",
    "    population = union.first(pop_size)\n",
    "    #puts \" > gen #{gen}, fitness=#{best[:fitness]}\"\n",
    "  end  \n",
    "  return best\n",
    "end"
   ]
  },
  {
   "cell_type": "code",
   "execution_count": 26,
   "metadata": {},
   "outputs": [
    {
     "name": "stdout",
     "output_type": "stream",
     "text": [
      "Solution:\n",
      "f=1.6046562477106739e-13\n",
      "s=[-3.695149497297705e-07, 1.5467490648864982e-07]\n"
     ]
    }
   ],
   "source": [
    "# problem configuration\n",
    "problem_size = 2\n",
    "search_space = Array.new(problem_size) {|i| [-5, +5]}\n",
    "\n",
    "# algorithm configuration\n",
    "max_gens = 100\n",
    "pop_size = 30\n",
    "num_children = 20  \n",
    "\n",
    "# execute the algorithm\n",
    "best = search(max_gens, search_space, pop_size, num_children)\n",
    "#puts \"done! Solution: f=#{best[:fitness]}, s=#{best[:vector].inspect}\"\n",
    "puts \"Solution:\"\n",
    "puts \"f=#{best[:fitness]}\"\n",
    "puts \"s=#{best[:vector].inspect}\""
   ]
  },
  {
   "cell_type": "markdown",
   "metadata": {},
   "source": [
    "## Genetic Algorithm"
   ]
  },
  {
   "cell_type": "code",
   "execution_count": 27,
   "metadata": {},
   "outputs": [
    {
     "data": {
      "text/plain": [
       ":binary_tournament"
      ]
     },
     "execution_count": 27,
     "metadata": {},
     "output_type": "execute_result"
    }
   ],
   "source": [
    "def binary_tournament(pop)\n",
    "  i, j = rand(pop.size), rand(pop.size)\n",
    "  return (pop[i][:fitness] < pop[j][:fitness]) ? pop[i] : pop[j]\n",
    "end"
   ]
  },
  {
   "cell_type": "code",
   "execution_count": 28,
   "metadata": {},
   "outputs": [
    {
     "data": {
      "text/plain": [
       ":point_mutation"
      ]
     },
     "execution_count": 28,
     "metadata": {},
     "output_type": "execute_result"
    }
   ],
   "source": [
    "def point_mutation(grammar, genome, head_length, rate=1.0/genome.size.to_f)\n",
    "  child =\"\"\n",
    "  genome.size.times do |i|\n",
    "    bit = genome[i].chr\n",
    "    if rand() < rate\n",
    "      if i < head_length\n",
    "        selection = (rand() < 0.5) ? grammar[\"FUNC\"]: grammar[\"TERM\"]\n",
    "        bit = selection[rand(selection.size)]\n",
    "      else\n",
    "        bit = grammar[\"TERM\"][rand(grammar[\"TERM\"].size)]\n",
    "      end\n",
    "    end\n",
    "    child << bit\n",
    "  end\n",
    "  return child\n",
    "end"
   ]
  },
  {
   "cell_type": "code",
   "execution_count": 29,
   "metadata": {},
   "outputs": [
    {
     "data": {
      "text/plain": [
       ":crossover"
      ]
     },
     "execution_count": 29,
     "metadata": {},
     "output_type": "execute_result"
    }
   ],
   "source": [
    "def crossover(parent1, parent2, rate)\n",
    "  return \"\"+parent1 if rand()>=rate\n",
    "  child = \"\"\n",
    "  parent1.size.times do |i| \n",
    "    child << ((rand()<0.5) ? parent1[i] : parent2[i])\n",
    "  end\n",
    "  return child\n",
    "end"
   ]
  },
  {
   "cell_type": "code",
   "execution_count": 30,
   "metadata": {},
   "outputs": [
    {
     "data": {
      "text/plain": [
       ":reproduce"
      ]
     },
     "execution_count": 30,
     "metadata": {},
     "output_type": "execute_result"
    }
   ],
   "source": [
    "def reproduce(grammar, selected, pop_size, p_crossover, head_length)\n",
    "  children = []  \n",
    "  selected.each_with_index do |p1, i|    \n",
    "    p2 = (i.modulo(2)==0) ? selected[i+1] : selected[i-1]\n",
    "    p2 = selected[0] if i == selected.size-1\n",
    "    child = {}\n",
    "    child[:genome] = crossover(p1[:genome], p2[:genome], p_crossover)\n",
    "    child[:genome] = point_mutation(grammar, child[:genome], head_length)\n",
    "    children << child\n",
    "  end\n",
    "  return children\n",
    "end"
   ]
  },
  {
   "cell_type": "code",
   "execution_count": 31,
   "metadata": {},
   "outputs": [
    {
     "data": {
      "text/plain": [
       ":random_genome"
      ]
     },
     "execution_count": 31,
     "metadata": {},
     "output_type": "execute_result"
    }
   ],
   "source": [
    "def random_genome(grammar, head_length, tail_length)\n",
    "  s = \"\"\n",
    "  head_length.times do \n",
    "    selection = (rand() < 0.5) ? grammar[\"FUNC\"]: grammar[\"TERM\"]\n",
    "    s << selection[rand(selection.size)]\n",
    "  end \n",
    "  tail_length.times { s << grammar[\"TERM\"][rand(grammar[\"TERM\"].size)]}\n",
    "  return s\n",
    "end"
   ]
  },
  {
   "cell_type": "code",
   "execution_count": 32,
   "metadata": {},
   "outputs": [
    {
     "data": {
      "text/plain": [
       ":target_function"
      ]
     },
     "execution_count": 32,
     "metadata": {},
     "output_type": "execute_result"
    }
   ],
   "source": [
    "def target_function(x)\n",
    "  return x**4.0 + x**3.0 + x**2.0 + x\n",
    "end"
   ]
  },
  {
   "cell_type": "code",
   "execution_count": 33,
   "metadata": {},
   "outputs": [
    {
     "data": {
      "text/plain": [
       ":sample_from_bounds"
      ]
     },
     "execution_count": 33,
     "metadata": {},
     "output_type": "execute_result"
    }
   ],
   "source": [
    "def sample_from_bounds(bounds)\n",
    "  return bounds[0] + ((bounds[1] - bounds[0]) * rand())\n",
    "end"
   ]
  },
  {
   "cell_type": "code",
   "execution_count": 34,
   "metadata": {},
   "outputs": [
    {
     "data": {
      "text/plain": [
       ":cost"
      ]
     },
     "execution_count": 34,
     "metadata": {},
     "output_type": "execute_result"
    }
   ],
   "source": [
    "def cost(program, bounds, num_trials=30)\n",
    "  errors = 0.0    \n",
    "  num_trials.times do\n",
    "    x = sample_from_bounds(bounds)\n",
    "    expression, score = program.gsub(\"x\", x.to_s), 0.0\n",
    "    begin score = eval(expression) rescue score = 0.0/0.0 end\n",
    "    return 9999999 if score.nan? or score.infinite?\n",
    "    errors += (score - target_function(x)).abs\n",
    "  end    \n",
    "  return errors / num_trials.to_f\n",
    "end"
   ]
  },
  {
   "cell_type": "code",
   "execution_count": 35,
   "metadata": {},
   "outputs": [
    {
     "data": {
      "text/plain": [
       ":mapping"
      ]
     },
     "execution_count": 35,
     "metadata": {},
     "output_type": "execute_result"
    }
   ],
   "source": [
    "def mapping(genome, grammar)\n",
    "  off, queue = 0, []\n",
    "  root = {}\n",
    "  root[:node] = genome[off].chr; off+=1\n",
    "  queue.push(root)\n",
    "  while !queue.empty? do\n",
    "    current = queue.shift\n",
    "    if grammar[\"FUNC\"].include?(current[:node])\n",
    "      current[:left] = {}\n",
    "      current[:left][:node] = genome[off].chr; off+=1 \n",
    "      queue.push(current[:left])\n",
    "      current[:right] = {}\n",
    "      current[:right][:node] = genome[off].chr; off+=1\n",
    "      queue.push(current[:right])\n",
    "    end\n",
    "  end\n",
    "  return root\n",
    "end"
   ]
  },
  {
   "cell_type": "code",
   "execution_count": 36,
   "metadata": {},
   "outputs": [
    {
     "data": {
      "text/plain": [
       ":tree_to_string"
      ]
     },
     "execution_count": 36,
     "metadata": {},
     "output_type": "execute_result"
    }
   ],
   "source": [
    "def tree_to_string(exp)\n",
    "  return exp[:node] if (exp[:left].nil? or exp[:right].nil?)\n",
    "  left = tree_to_string(exp[:left])\n",
    "  right = tree_to_string(exp[:right])\n",
    "  return \"(#{left} #{exp[:node]} #{right})\"\n",
    "end"
   ]
  },
  {
   "cell_type": "code",
   "execution_count": 37,
   "metadata": {},
   "outputs": [
    {
     "data": {
      "text/plain": [
       ":evaluate"
      ]
     },
     "execution_count": 37,
     "metadata": {},
     "output_type": "execute_result"
    }
   ],
   "source": [
    "def evaluate(candidate, grammar, bounds)\n",
    "  candidate[:expression] = mapping(candidate[:genome], grammar)\n",
    "  candidate[:program] = tree_to_string(candidate[:expression])\n",
    "  candidate[:fitness] = cost(candidate[:program], bounds)\n",
    "end"
   ]
  },
  {
   "cell_type": "code",
   "execution_count": 38,
   "metadata": {},
   "outputs": [
    {
     "data": {
      "text/plain": [
       ":search"
      ]
     },
     "execution_count": 38,
     "metadata": {},
     "output_type": "execute_result"
    }
   ],
   "source": [
    "def search(grammar, bounds, h_length, t_length, max_gens, pop_size, p_cross)\n",
    "  pop = Array.new(pop_size) do\n",
    "    {:genome=>random_genome(grammar, h_length, t_length)}\n",
    "  end\n",
    "  pop.each{|c| evaluate(c, grammar, bounds)}\n",
    "  best = pop.sort{|x,y| x[:fitness] <=> y[:fitness]}.first  \n",
    "  max_gens.times do |gen|\n",
    "    selected = Array.new(pop){|i| binary_tournament(pop)}\n",
    "    children = reproduce(grammar, selected, pop_size, p_cross, h_length)    \n",
    "    children.each{|c| evaluate(c, grammar, bounds)}\n",
    "    children.sort!{|x,y| x[:fitness] <=> y[:fitness]}\n",
    "    best = children.first if children.first[:fitness] <= best[:fitness]\n",
    "    pop = (children+pop).first(pop_size)\n",
    "    #puts \" > gen=#{gen}, f=#{best[:fitness]}, g=#{best[:genome]}\"\n",
    "  end  \n",
    "  return best\n",
    "end"
   ]
  },
  {
   "cell_type": "code",
   "execution_count": 39,
   "metadata": {},
   "outputs": [
    {
     "name": "stdout",
     "output_type": "stream",
     "text": [
      "Solution:\n",
      "f=1.4495071809506043e-13\n",
      "program=(x * (((x * x) + x) * (x + (((((x + x) + x) + (x - x)) / ((x + x) + x)) / x))))\n"
     ]
    }
   ],
   "source": [
    "# problem configuration\n",
    "grammar = {\"FUNC\"=>[\"+\",\"-\",\"*\",\"/\"], \"TERM\"=>[\"x\"]}\n",
    "bounds = [1.0, 10.0]\n",
    "\n",
    "# algorithm configuration\n",
    "h_length = 20\n",
    "t_length = h_length * (2-1) + 1\n",
    "max_gens = 150\n",
    "pop_size = 80\n",
    "p_cross = 0.85\n",
    "\n",
    "# execute the algorithm\n",
    "best = search(grammar, bounds, h_length, t_length, max_gens, pop_size, p_cross)\n",
    "#puts \"done! Solution: f=#{best[:fitness]}, program=#{best[:program]}\"\n",
    "puts \"Solution:\"\n",
    "puts \"f=#{best[:fitness]}\"\n",
    "puts \"program=#{best[:program]}\""
   ]
  },
  {
   "cell_type": "markdown",
   "metadata": {},
   "source": [
    "## Genetic Algorithm"
   ]
  },
  {
   "cell_type": "code",
   "execution_count": 40,
   "metadata": {},
   "outputs": [
    {
     "data": {
      "text/plain": [
       ":onemax"
      ]
     },
     "execution_count": 40,
     "metadata": {},
     "output_type": "execute_result"
    }
   ],
   "source": [
    "def onemax(bitstring)\n",
    "  sum = 0\n",
    "  bitstring.size.times {|i| sum+=1 if bitstring[i].chr=='1'}\n",
    "  return sum\n",
    "end"
   ]
  },
  {
   "cell_type": "code",
   "execution_count": 41,
   "metadata": {},
   "outputs": [
    {
     "data": {
      "text/plain": [
       ":random_bitstring"
      ]
     },
     "execution_count": 41,
     "metadata": {},
     "output_type": "execute_result"
    }
   ],
   "source": [
    "def random_bitstring(num_bits)\n",
    "  return (0...num_bits).inject(\"\"){|s,i| s<<((rand<0.5) ? \"1\" : \"0\")}\n",
    "end"
   ]
  },
  {
   "cell_type": "code",
   "execution_count": 42,
   "metadata": {},
   "outputs": [
    {
     "data": {
      "text/plain": [
       ":binary_tournament"
      ]
     },
     "execution_count": 42,
     "metadata": {},
     "output_type": "execute_result"
    }
   ],
   "source": [
    "def binary_tournament(pop)\n",
    "  i, j = rand(pop.size), rand(pop.size)\n",
    "  j = rand(pop.size) while j==i\n",
    "  return (pop[i][:fitness] > pop[j][:fitness]) ? pop[i] : pop[j]\n",
    "end"
   ]
  },
  {
   "cell_type": "code",
   "execution_count": 43,
   "metadata": {},
   "outputs": [
    {
     "data": {
      "text/plain": [
       ":point_mutation"
      ]
     },
     "execution_count": 43,
     "metadata": {},
     "output_type": "execute_result"
    }
   ],
   "source": [
    "def point_mutation(bitstring, rate=1.0/bitstring.size)\n",
    "  child = \"\"\n",
    "   bitstring.size.times do |i|\n",
    "     bit = bitstring[i].chr\n",
    "     child << ((rand()<rate) ? ((bit=='1') ? \"0\" : \"1\") : bit)\n",
    "  end\n",
    "  return child\n",
    "end"
   ]
  },
  {
   "cell_type": "code",
   "execution_count": 44,
   "metadata": {},
   "outputs": [
    {
     "data": {
      "text/plain": [
       ":crossover"
      ]
     },
     "execution_count": 44,
     "metadata": {},
     "output_type": "execute_result"
    }
   ],
   "source": [
    "def crossover(parent1, parent2, rate)\n",
    "  return \"\"+parent1 if rand()>=rate\n",
    "  point = 1 + rand(parent1.size-2)\n",
    "  return parent1[0...point]+parent2[point...(parent1.size)]\n",
    "end"
   ]
  },
  {
   "cell_type": "code",
   "execution_count": 45,
   "metadata": {},
   "outputs": [
    {
     "data": {
      "text/plain": [
       ":reproduce"
      ]
     },
     "execution_count": 45,
     "metadata": {},
     "output_type": "execute_result"
    }
   ],
   "source": [
    "def reproduce(selected, pop_size, p_cross, p_mutation)\n",
    "  children = []  \n",
    "  selected.each_with_index do |p1, i|\n",
    "    p2 = (i.modulo(2)==0) ? selected[i+1] : selected[i-1]\n",
    "    p2 = selected[0] if i == selected.size-1\n",
    "    child = {}\n",
    "    child[:bitstring] = crossover(p1[:bitstring], p2[:bitstring], p_cross)\n",
    "    child[:bitstring] = point_mutation(child[:bitstring], p_mutation)\n",
    "    children << child\n",
    "    break if children.size >= pop_size\n",
    "  end\n",
    "  return children\n",
    "end"
   ]
  },
  {
   "cell_type": "code",
   "execution_count": 46,
   "metadata": {},
   "outputs": [
    {
     "data": {
      "text/plain": [
       ":search"
      ]
     },
     "execution_count": 46,
     "metadata": {},
     "output_type": "execute_result"
    }
   ],
   "source": [
    "def search(max_gens, num_bits, pop_size, p_crossover, p_mutation)\n",
    "  population = Array.new(pop_size) do |i|\n",
    "    {:bitstring=>random_bitstring(num_bits)}\n",
    "  end\n",
    "  population.each{|c| c[:fitness] = onemax(c[:bitstring])}\n",
    "  best = population.sort{|x,y| y[:fitness] <=> x[:fitness]}.first  \n",
    "  max_gens.times do |gen|\n",
    "    selected = Array.new(pop_size){|i| binary_tournament(population)}\n",
    "    children = reproduce(selected, pop_size, p_crossover, p_mutation)    \n",
    "    children.each{|c| c[:fitness] = onemax(c[:bitstring])}\n",
    "    children.sort!{|x,y| y[:fitness] <=> x[:fitness]}\n",
    "    best = children.first if children.first[:fitness] >= best[:fitness]\n",
    "    population = children\n",
    "    #puts \" > gen #{gen}, best: #{best[:fitness]}, #{best[:bitstring]}\"\n",
    "    break if best[:fitness] == num_bits\n",
    "  end\n",
    "  return best\n",
    "end"
   ]
  },
  {
   "cell_type": "code",
   "execution_count": 47,
   "metadata": {},
   "outputs": [
    {
     "name": "stdout",
     "output_type": "stream",
     "text": [
      "done! Solution:\n",
      "f=64\n",
      "s=1111111111111111111111111111111111111111111111111111111111111111\n"
     ]
    }
   ],
   "source": [
    "# problem configuration\n",
    "num_bits = 64\n",
    "\n",
    "# algorithm configuration\n",
    "max_gens = 100\n",
    "pop_size = 100\n",
    "p_crossover = 0.98\n",
    "p_mutation = 1.0/num_bits\n",
    "\n",
    "# execute the algorithm\n",
    "best = search(max_gens, num_bits, pop_size, p_crossover, p_mutation)\n",
    "puts \"done! Solution:\",\"f=#{best[:fitness]}\",\"s=#{best[:bitstring]}\""
   ]
  },
  {
   "cell_type": "markdown",
   "metadata": {},
   "source": [
    "## Genetic Programming"
   ]
  },
  {
   "cell_type": "code",
   "execution_count": 48,
   "metadata": {},
   "outputs": [
    {
     "data": {
      "text/plain": [
       ":rand_in_bounds"
      ]
     },
     "execution_count": 48,
     "metadata": {},
     "output_type": "execute_result"
    }
   ],
   "source": [
    "def rand_in_bounds(min, max)\n",
    "  return min + (max-min)*rand()\n",
    "end"
   ]
  },
  {
   "cell_type": "code",
   "execution_count": 49,
   "metadata": {},
   "outputs": [
    {
     "data": {
      "text/plain": [
       ":print_program"
      ]
     },
     "execution_count": 49,
     "metadata": {},
     "output_type": "execute_result"
    }
   ],
   "source": [
    "def print_program(node)\n",
    "  return node if !node.kind_of?(Array)\n",
    "  return \"(#{node[0]} #{print_program(node[1])} #{print_program(node[2])})\"\n",
    "end"
   ]
  },
  {
   "cell_type": "code",
   "execution_count": 50,
   "metadata": {},
   "outputs": [
    {
     "data": {
      "text/plain": [
       ":eval_program"
      ]
     },
     "execution_count": 50,
     "metadata": {},
     "output_type": "execute_result"
    }
   ],
   "source": [
    "def eval_program(node, map)\n",
    "  if !node.kind_of?(Array)\n",
    "    return map[node].to_f if !map[node].nil?\n",
    "    return node.to_f\n",
    "  end\n",
    "  arg1, arg2 = eval_program(node[1], map), eval_program(node[2], map)\n",
    "  return 0 if node[0] === :/ and arg2 == 0.0\n",
    "  return arg1.__send__(node[0], arg2)\n",
    "end"
   ]
  },
  {
   "cell_type": "code",
   "execution_count": 51,
   "metadata": {},
   "outputs": [
    {
     "data": {
      "text/plain": [
       ":generate_random_program"
      ]
     },
     "execution_count": 51,
     "metadata": {},
     "output_type": "execute_result"
    }
   ],
   "source": [
    "def generate_random_program(max, funcs, terms, depth=0)\n",
    "  if depth==max-1 or (depth>1 and rand()<0.1)\n",
    "    t = terms[rand(terms.size)] \n",
    "    return ((t=='R') ? rand_in_bounds(-5.0, +5.0) : t)\n",
    "  end  \n",
    "  depth += 1 \n",
    "  arg1 = generate_random_program(max, funcs, terms, depth)\n",
    "  arg2 = generate_random_program(max, funcs, terms, depth)\n",
    "  return [funcs[rand(funcs.size)], arg1, arg2]\n",
    "end"
   ]
  },
  {
   "cell_type": "code",
   "execution_count": 52,
   "metadata": {},
   "outputs": [
    {
     "data": {
      "text/plain": [
       ":count_nodes"
      ]
     },
     "execution_count": 52,
     "metadata": {},
     "output_type": "execute_result"
    }
   ],
   "source": [
    "def count_nodes(node)\n",
    "  return 1 if !node.kind_of?(Array) \n",
    "  a1 = count_nodes(node[1])\n",
    "  a2 = count_nodes(node[2])\n",
    "  return a1+a2+1\n",
    "end"
   ]
  },
  {
   "cell_type": "code",
   "execution_count": 53,
   "metadata": {},
   "outputs": [
    {
     "data": {
      "text/plain": [
       ":target_function"
      ]
     },
     "execution_count": 53,
     "metadata": {},
     "output_type": "execute_result"
    }
   ],
   "source": [
    "def target_function(input)\n",
    "  return input**2 + input + 1\n",
    "end"
   ]
  },
  {
   "cell_type": "code",
   "execution_count": 54,
   "metadata": {},
   "outputs": [
    {
     "data": {
      "text/plain": [
       ":fitness"
      ]
     },
     "execution_count": 54,
     "metadata": {},
     "output_type": "execute_result"
    }
   ],
   "source": [
    "def fitness(program, num_trials=20)\n",
    "  sum_error = 0.0\n",
    "  num_trials.times do |i|\n",
    "    input = rand_in_bounds(-1.0, 1.0)\n",
    "    error = eval_program(program, {'X'=>input}) - target_function(input)\n",
    "    sum_error += error.abs\n",
    "  end\n",
    "  return sum_error / num_trials.to_f\n",
    "end"
   ]
  },
  {
   "cell_type": "code",
   "execution_count": 55,
   "metadata": {},
   "outputs": [
    {
     "data": {
      "text/plain": [
       ":tournament_selection"
      ]
     },
     "execution_count": 55,
     "metadata": {},
     "output_type": "execute_result"
    }
   ],
   "source": [
    "def tournament_selection(pop, bouts)\n",
    "  selected = Array.new(bouts){pop[rand(pop.size)]}\n",
    "  selected.sort!{|x,y| x[:fitness]<=>y[:fitness]}\n",
    "  return selected.first\n",
    "end"
   ]
  },
  {
   "cell_type": "code",
   "execution_count": 56,
   "metadata": {},
   "outputs": [
    {
     "data": {
      "text/plain": [
       ":replace_node"
      ]
     },
     "execution_count": 56,
     "metadata": {},
     "output_type": "execute_result"
    }
   ],
   "source": [
    "def replace_node(node, replacement, node_num, cur_node=0)\n",
    "  return [replacement,(cur_node+1)] if cur_node == node_num\n",
    "  cur_node += 1\n",
    "  return [node,cur_node] if !node.kind_of?(Array)\n",
    "  a1, cur_node = replace_node(node[1], replacement, node_num, cur_node)\n",
    "  a2, cur_node = replace_node(node[2], replacement, node_num, cur_node)\n",
    "  return [[node[0], a1, a2], cur_node]\n",
    "end"
   ]
  },
  {
   "cell_type": "code",
   "execution_count": 57,
   "metadata": {},
   "outputs": [
    {
     "data": {
      "text/plain": [
       ":copy_program"
      ]
     },
     "execution_count": 57,
     "metadata": {},
     "output_type": "execute_result"
    }
   ],
   "source": [
    "def copy_program(node)\n",
    "  return node if !node.kind_of?(Array)\n",
    "  return [node[0], copy_program(node[1]), copy_program(node[2])]\n",
    "end"
   ]
  },
  {
   "cell_type": "code",
   "execution_count": 58,
   "metadata": {},
   "outputs": [
    {
     "data": {
      "text/plain": [
       ":get_node"
      ]
     },
     "execution_count": 58,
     "metadata": {},
     "output_type": "execute_result"
    }
   ],
   "source": [
    "def get_node(node, node_num, current_node=0)\n",
    "  return node,(current_node+1) if current_node == node_num\n",
    "  current_node += 1\n",
    "  return nil,current_node if !node.kind_of?(Array)\n",
    "  a1, current_node = get_node(node[1], node_num, current_node)\n",
    "  return a1,current_node if !a1.nil?\n",
    "  a2, current_node = get_node(node[2], node_num, current_node)\n",
    "  return a2,current_node if !a2.nil?\n",
    "  return nil,current_node\n",
    "end"
   ]
  },
  {
   "cell_type": "code",
   "execution_count": 59,
   "metadata": {},
   "outputs": [
    {
     "data": {
      "text/plain": [
       ":prune"
      ]
     },
     "execution_count": 59,
     "metadata": {},
     "output_type": "execute_result"
    }
   ],
   "source": [
    "def prune(node, max_depth, terms, depth=0)\n",
    "  if depth == max_depth-1\n",
    "    t = terms[rand(terms.size)] \n",
    "    return ((t=='R') ? rand_in_bounds(-5.0, +5.0) : t)\n",
    "  end\n",
    "  depth += 1\n",
    "  return node if !node.kind_of?(Array)\n",
    "  a1 = prune(node[1], max_depth, terms, depth)\n",
    "  a2 = prune(node[2], max_depth, terms, depth)\n",
    "  return [node[0], a1, a2]\n",
    "end"
   ]
  },
  {
   "cell_type": "code",
   "execution_count": 60,
   "metadata": {},
   "outputs": [
    {
     "data": {
      "text/plain": [
       ":crossover"
      ]
     },
     "execution_count": 60,
     "metadata": {},
     "output_type": "execute_result"
    }
   ],
   "source": [
    "def crossover(parent1, parent2, max_depth, terms)\n",
    "  pt1, pt2 = rand(count_nodes(parent1)-2)+1, rand(count_nodes(parent2)-2)+1\n",
    "  tree1, c1 = get_node(parent1, pt1)\n",
    "  tree2, c2 = get_node(parent2, pt2)  \n",
    "  child1, c1 = replace_node(parent1, copy_program(tree2), pt1)\n",
    "  child1 = prune(child1, max_depth, terms)\n",
    "  child2, c2 = replace_node(parent2, copy_program(tree1), pt2)\n",
    "  child2 = prune(child2, max_depth, terms)\n",
    "  return [child1, child2]\n",
    "end"
   ]
  },
  {
   "cell_type": "code",
   "execution_count": 61,
   "metadata": {},
   "outputs": [
    {
     "data": {
      "text/plain": [
       ":mutation"
      ]
     },
     "execution_count": 61,
     "metadata": {},
     "output_type": "execute_result"
    }
   ],
   "source": [
    "def mutation(parent, max_depth, functs, terms)  \n",
    "  random_tree = generate_random_program(max_depth/2, functs, terms)\n",
    "  point = rand(count_nodes(parent))\n",
    "  child, count = replace_node(parent, random_tree, point)\n",
    "  child = prune(child, max_depth, terms)\n",
    "  return child\n",
    "end"
   ]
  },
  {
   "cell_type": "code",
   "execution_count": 62,
   "metadata": {},
   "outputs": [
    {
     "data": {
      "text/plain": [
       ":search"
      ]
     },
     "execution_count": 62,
     "metadata": {},
     "output_type": "execute_result"
    }
   ],
   "source": [
    "def search(max_gens, pop_size, max_depth, bouts, p_repro, p_cross, p_mut, functs, terms)\n",
    "  population = Array.new(pop_size) do |i| \n",
    "    {:prog=>generate_random_program(max_depth, functs, terms)}\n",
    "  end\n",
    "  population.each{|c| c[:fitness] = fitness(c[:prog])}\n",
    "  best = population.sort{|x,y| x[:fitness] <=> y[:fitness]}.first\n",
    "  max_gens.times do |gen|\n",
    "    children = []\n",
    "    while children.size < pop_size\n",
    "      operation = rand()\n",
    "      p1 = tournament_selection(population, bouts)\n",
    "      c1 = {}      \n",
    "      if operation < p_repro\n",
    "        c1[:prog] = copy_program(p1[:prog])\n",
    "      elsif operation < p_repro+p_cross\n",
    "        p2 = tournament_selection(population, bouts)\n",
    "        c2 = {}\n",
    "        c1[:prog],c2[:prog] = crossover(p1[:prog], p2[:prog], max_depth, terms)\n",
    "        children << c2\n",
    "      elsif operation < p_repro+p_cross+p_mut\n",
    "        c1[:prog] = mutation(p1[:prog], max_depth, functs, terms)\n",
    "      end\n",
    "      children << c1 if children.size < pop_size\n",
    "    end    \n",
    "    children.each{|c| c[:fitness] = fitness(c[:prog])}\n",
    "    population = children\n",
    "    population.sort!{|x,y| x[:fitness] <=> y[:fitness]}\n",
    "    best = population.first if population.first[:fitness] <= best[:fitness]\n",
    "    #puts \" > gen #{gen}, fitness=#{best[:fitness]}\"\n",
    "    break if best[:fitness] == 0\n",
    "  end\n",
    "  return best\n",
    "end"
   ]
  },
  {
   "cell_type": "code",
   "execution_count": 63,
   "metadata": {},
   "outputs": [
    {
     "name": "stdout",
     "output_type": "stream",
     "text": [
      "done! Solution:\n",
      "f=0.09352440228952334\n",
      " (/ (* 2.3975474650038375 (+ (+ X 2.481404543653606) X)) (+ (/ (/ X X) (+ 4.858653197096542 X)) 4.973364964597774))\n"
     ]
    }
   ],
   "source": [
    "terms = ['X', 'R']\n",
    "functs = [:+, :-, :*, :/]\n",
    "\n",
    "# algorithm configuration\n",
    "max_gens = 100\n",
    "max_depth = 7\n",
    "pop_size = 100\n",
    "bouts = 5\n",
    "p_repro = 0.08\n",
    "p_cross = 0.90\n",
    "p_mut = 0.02\n",
    "\n",
    "# execute the algorithm\n",
    "best = search(max_gens, pop_size, max_depth, bouts, p_repro, p_cross, p_mut, functs, terms)\n",
    "puts \"done! Solution:\",\"f=#{best[:fitness]}\",\" #{print_program(best[:prog])}\""
   ]
  },
  {
   "cell_type": "markdown",
   "metadata": {},
   "source": [
    "## Grammatical Evolution"
   ]
  },
  {
   "cell_type": "code",
   "execution_count": 64,
   "metadata": {},
   "outputs": [
    {
     "data": {
      "text/plain": [
       ":binary_tournament"
      ]
     },
     "execution_count": 64,
     "metadata": {},
     "output_type": "execute_result"
    }
   ],
   "source": [
    "def binary_tournament(pop)\n",
    "  i, j = rand(pop.size), rand(pop.size)\n",
    "  j = rand(pop.size) while j==i\n",
    "  return (pop[i][:fitness] < pop[j][:fitness]) ? pop[i] : pop[j]\n",
    "end"
   ]
  },
  {
   "cell_type": "code",
   "execution_count": 65,
   "metadata": {},
   "outputs": [
    {
     "data": {
      "text/plain": [
       ":point_mutation"
      ]
     },
     "execution_count": 65,
     "metadata": {},
     "output_type": "execute_result"
    }
   ],
   "source": [
    "def point_mutation(bitstring, rate=1.0/bitstring.size.to_f)\n",
    "  child = \"\"\n",
    "  bitstring.size.times do |i|\n",
    "    bit = bitstring[i].chr\n",
    "    child << ((rand()<rate) ? ((bit=='1') ? \"0\" : \"1\") : bit)\n",
    "  end\n",
    "  return child\n",
    "end"
   ]
  },
  {
   "cell_type": "code",
   "execution_count": 66,
   "metadata": {},
   "outputs": [
    {
     "data": {
      "text/plain": [
       ":one_point_crossover"
      ]
     },
     "execution_count": 66,
     "metadata": {},
     "output_type": "execute_result"
    }
   ],
   "source": [
    "def one_point_crossover(parent1, parent2, codon_bits, p_cross=0.30)\n",
    "  return \"\"+parent1[:bitstring] if rand()>=p_cross\n",
    "  cut = rand([parent1[:bitstring].size, parent2[:bitstring].size].min/codon_bits)\n",
    "  cut *= codon_bits\n",
    "  p2size = parent2[:bitstring].size\n",
    "  return parent1[:bitstring][0...cut]+parent2[:bitstring][cut...p2size]\n",
    "end"
   ]
  },
  {
   "cell_type": "code",
   "execution_count": 67,
   "metadata": {},
   "outputs": [
    {
     "data": {
      "text/plain": [
       ":codon_duplication"
      ]
     },
     "execution_count": 67,
     "metadata": {},
     "output_type": "execute_result"
    }
   ],
   "source": [
    "def codon_duplication(bitstring, codon_bits, rate=1.0/codon_bits.to_f)\n",
    "  return bitstring if rand() >= rate\n",
    "  codons = bitstring.size/codon_bits  \n",
    "  return bitstring + bitstring[rand(codons)*codon_bits, codon_bits]\n",
    "end"
   ]
  },
  {
   "cell_type": "code",
   "execution_count": 68,
   "metadata": {},
   "outputs": [
    {
     "data": {
      "text/plain": [
       ":codon_deletion"
      ]
     },
     "execution_count": 68,
     "metadata": {},
     "output_type": "execute_result"
    }
   ],
   "source": [
    "def codon_deletion(bitstring, codon_bits, rate=0.5/codon_bits.to_f)\n",
    "  return bitstring if rand() >= rate\n",
    "  codons = bitstring.size/codon_bits  \n",
    "  off = rand(codons)*codon_bits\n",
    "  return bitstring[0...off] + bitstring[off+codon_bits...bitstring.size]\n",
    "end"
   ]
  },
  {
   "cell_type": "code",
   "execution_count": 69,
   "metadata": {},
   "outputs": [
    {
     "data": {
      "text/plain": [
       ":reproduce"
      ]
     },
     "execution_count": 69,
     "metadata": {},
     "output_type": "execute_result"
    }
   ],
   "source": [
    "def reproduce(selected, pop_size, p_cross, codon_bits)\n",
    "  children = []\n",
    "  selected.each_with_index do |p1, i|    \n",
    "    p2 = (i.modulo(2)==0) ? selected[i+1] : selected[i-1]\n",
    "    p2 = selected[0] if i == selected.size-1\n",
    "    child = {}\n",
    "    child[:bitstring] = one_point_crossover(p1, p2, codon_bits, p_cross)\n",
    "    child[:bitstring] = codon_deletion(child[:bitstring], codon_bits)\n",
    "    child[:bitstring] = codon_duplication(child[:bitstring], codon_bits)\n",
    "    child[:bitstring] = point_mutation(child[:bitstring])\n",
    "    children << child\n",
    "    break if children.size == pop_size\n",
    "  end\n",
    "  return children\n",
    "end"
   ]
  },
  {
   "cell_type": "code",
   "execution_count": 70,
   "metadata": {},
   "outputs": [
    {
     "data": {
      "text/plain": [
       ":random_bitstring"
      ]
     },
     "execution_count": 70,
     "metadata": {},
     "output_type": "execute_result"
    }
   ],
   "source": [
    "def random_bitstring(num_bits)\n",
    "  return (0...num_bits).inject(\"\"){|s,i| s<<((rand<0.5) ? \"1\" : \"0\")}\n",
    "end"
   ]
  },
  {
   "cell_type": "code",
   "execution_count": 71,
   "metadata": {},
   "outputs": [
    {
     "data": {
      "text/plain": [
       ":decode_integers"
      ]
     },
     "execution_count": 71,
     "metadata": {},
     "output_type": "execute_result"
    }
   ],
   "source": [
    "def decode_integers(bitstring, codon_bits)\n",
    "  ints = []\n",
    "  (bitstring.size/codon_bits).times do |off|\n",
    "    codon = bitstring[off*codon_bits, codon_bits]\n",
    "    sum = 0\n",
    "    codon.size.times do |i| \n",
    "      sum += ((codon[i].chr=='1') ? 1 : 0) * (2 ** i);\n",
    "    end\n",
    "    ints << sum\n",
    "  end\n",
    "  return ints\n",
    "end"
   ]
  },
  {
   "cell_type": "code",
   "execution_count": 72,
   "metadata": {},
   "outputs": [
    {
     "data": {
      "text/plain": [
       ":map"
      ]
     },
     "execution_count": 72,
     "metadata": {},
     "output_type": "execute_result"
    }
   ],
   "source": [
    "def map(grammar, integers, max_depth)\n",
    "  done, offset, depth = false, 0, 0\n",
    "  symbolic_string = grammar[\"S\"]\n",
    "  begin\n",
    "    done = true\n",
    "    grammar.keys.each do |key|\n",
    "      symbolic_string = symbolic_string.gsub(key) do |k|\n",
    "        done = false\n",
    "        set = (k==\"EXP\" && depth>=max_depth-1) ? grammar[\"VAR\"] : grammar[k]\n",
    "        integer = integers[offset].modulo(set.size)\n",
    "        offset = (offset==integers.size-1) ? 0 : offset+1\n",
    "        set[integer]\n",
    "      end\n",
    "    end\n",
    "    depth += 1\n",
    "  end until done\n",
    "  return symbolic_string\n",
    "end"
   ]
  },
  {
   "cell_type": "code",
   "execution_count": 73,
   "metadata": {},
   "outputs": [
    {
     "data": {
      "text/plain": [
       ":target_function"
      ]
     },
     "execution_count": 73,
     "metadata": {},
     "output_type": "execute_result"
    }
   ],
   "source": [
    "def target_function(x)\n",
    "  return x**4.0 + x**3.0 + x**2.0 + x\n",
    "end"
   ]
  },
  {
   "cell_type": "code",
   "execution_count": 74,
   "metadata": {},
   "outputs": [
    {
     "data": {
      "text/plain": [
       ":sample_from_bounds"
      ]
     },
     "execution_count": 74,
     "metadata": {},
     "output_type": "execute_result"
    }
   ],
   "source": [
    "def sample_from_bounds(bounds)\n",
    "  return bounds[0] + ((bounds[1] - bounds[0]) * rand())\n",
    "end"
   ]
  },
  {
   "cell_type": "code",
   "execution_count": 75,
   "metadata": {},
   "outputs": [
    {
     "data": {
      "text/plain": [
       ":cost"
      ]
     },
     "execution_count": 75,
     "metadata": {},
     "output_type": "execute_result"
    }
   ],
   "source": [
    "def cost(program, bounds, num_trials=30)\n",
    "  return 9999999 if program.strip == \"INPUT\"\n",
    "  sum_error = 0.0    \n",
    "  num_trials.times do\n",
    "    x = sample_from_bounds(bounds)\n",
    "    expression = program.gsub(\"INPUT\", x.to_s)\n",
    "    begin score = eval(expression) rescue score = 0.0/0.0 end\n",
    "    return 9999999 if score.nan? or score.infinite?\n",
    "    sum_error += (score - target_function(x)).abs\n",
    "  end\n",
    "  return sum_error / num_trials.to_f\n",
    "end"
   ]
  },
  {
   "cell_type": "code",
   "execution_count": 76,
   "metadata": {},
   "outputs": [
    {
     "data": {
      "text/plain": [
       ":evaluate"
      ]
     },
     "execution_count": 76,
     "metadata": {},
     "output_type": "execute_result"
    }
   ],
   "source": [
    "def evaluate(candidate, codon_bits, grammar, max_depth, bounds)\n",
    "  candidate[:integers] = decode_integers(candidate[:bitstring], codon_bits)\n",
    "  candidate[:program] = map(grammar, candidate[:integers], max_depth)\n",
    "  candidate[:fitness] = cost(candidate[:program], bounds)\n",
    "end"
   ]
  },
  {
   "cell_type": "code",
   "execution_count": 77,
   "metadata": {},
   "outputs": [
    {
     "data": {
      "text/plain": [
       ":search"
      ]
     },
     "execution_count": 77,
     "metadata": {},
     "output_type": "execute_result"
    }
   ],
   "source": [
    "def search(max_gens, pop_size, codon_bits, num_bits, p_cross, grammar, max_depth, bounds)\n",
    "  pop = Array.new(pop_size) {|i| {:bitstring=>random_bitstring(num_bits)}}\n",
    "  pop.each{|c| evaluate(c,codon_bits, grammar, max_depth, bounds)}\n",
    "  best = pop.sort{|x,y| x[:fitness] <=> y[:fitness]}.first\n",
    "  max_gens.times do |gen|\n",
    "    selected = Array.new(pop_size){|i| binary_tournament(pop)}\n",
    "    children = reproduce(selected, pop_size, p_cross,codon_bits)    \n",
    "    children.each{|c| evaluate(c, codon_bits, grammar, max_depth, bounds)}\n",
    "    children.sort!{|x,y| x[:fitness] <=> y[:fitness]}\n",
    "    best = children.first if children.first[:fitness] <= best[:fitness]\n",
    "    pop=(children+pop).sort{|x,y| x[:fitness]<=>y[:fitness]}.first(pop_size)\n",
    "    #puts \" > gen=#{gen}, f=#{best[:fitness]}, s=#{best[:bitstring]}\"\n",
    "    break if best[:fitness] == 0.0\n",
    "  end  \n",
    "  return best\n",
    "end"
   ]
  },
  {
   "cell_type": "code",
   "execution_count": 78,
   "metadata": {},
   "outputs": [
    {
     "name": "stdout",
     "output_type": "stream",
     "text": [
      "done! Solution:\n",
      "f=2.0113629356364506\n",
      "s= (  (  INPUT  *   (INPUT * 1.0)  *  (1.0 + INPUT)    *  1.0 )  +    ( (INPUT * INPUT)  *  (INPUT * INPUT) )  *   1.0 + 1.0  +  1.0 + INPUT    +  ( 1.0  +  ( 1.0  +  1.0 / 1.0 ) )    *   1.0  /  (  ( (INPUT + INPUT)  /  INPUT + INPUT )  *  ( 1.0  +  (INPUT * 1.0) )   *  INPUT )  ) \n"
     ]
    }
   ],
   "source": [
    "# problem configuration\n",
    "grammar = {\n",
    "  \"S\"=>\"EXP\",\n",
    "  \"EXP\"=>[\" EXP BINARY EXP \", \" (EXP BINARY EXP) \", \" VAR \"],\n",
    "  \"BINARY\"=>[\"+\", \"-\", \"/\", \"*\" ],\n",
    "  \"VAR\"=>[\"INPUT\", \"1.0\"]}\n",
    "  \n",
    "bounds = [1, 10]\n",
    "\n",
    "# algorithm configuration\n",
    "max_depth = 7\n",
    "max_gens = 50\n",
    "pop_size = 100\n",
    "codon_bits = 4\n",
    "num_bits = 10*codon_bits\n",
    "p_cross = 0.30\n",
    "\n",
    "# execute the algorithm\n",
    "best = search(max_gens, pop_size, codon_bits, num_bits, p_cross, grammar, max_depth, bounds)\n",
    "puts \"done! Solution:\",\"f=#{best[:fitness]}\",\"s=#{best[:program]}\""
   ]
  },
  {
   "cell_type": "markdown",
   "metadata": {},
   "source": [
    "## Learning Classifier"
   ]
  },
  {
   "cell_type": "code",
   "execution_count": 79,
   "metadata": {},
   "outputs": [
    {
     "data": {
      "text/plain": [
       ":neg"
      ]
     },
     "execution_count": 79,
     "metadata": {},
     "output_type": "execute_result"
    }
   ],
   "source": [
    "def neg(bit) \n",
    "  return (bit==1) ? 0 : 1 \n",
    "end"
   ]
  },
  {
   "cell_type": "code",
   "execution_count": 80,
   "metadata": {},
   "outputs": [
    {
     "data": {
      "text/plain": [
       ":target_function"
      ]
     },
     "execution_count": 80,
     "metadata": {},
     "output_type": "execute_result"
    }
   ],
   "source": [
    "def target_function(s)\n",
    "  ints = Array.new(6){|i| s[i].chr.to_i}\n",
    "  x0,x1,x2,x3,x4,x5 = ints\n",
    "  return neg(x0)*neg(x1)*x2 + neg(x0)*x1*x3 + x0*neg(x1)*x4 + x0*x1*x5\n",
    "end"
   ]
  },
  {
   "cell_type": "code",
   "execution_count": 81,
   "metadata": {},
   "outputs": [
    {
     "data": {
      "text/plain": [
       ":new_classifier"
      ]
     },
     "execution_count": 81,
     "metadata": {},
     "output_type": "execute_result"
    }
   ],
   "source": [
    "def new_classifier(condition, action, gen, p1=10.0, e1=0.0, f1=10.0)\n",
    "  other = {}\n",
    "  other[:condition],other[:action],other[:lasttime] = condition, action, gen\n",
    "  other[:pred], other[:error], other[:fitness] = p1, e1, f1\n",
    "  other[:exp], other[:setsize], other[:num] = 0.0, 1.0, 1.0\n",
    "  return other\n",
    "end"
   ]
  },
  {
   "cell_type": "code",
   "execution_count": 82,
   "metadata": {},
   "outputs": [
    {
     "data": {
      "text/plain": [
       ":copy_classifier"
      ]
     },
     "execution_count": 82,
     "metadata": {},
     "output_type": "execute_result"
    }
   ],
   "source": [
    "def copy_classifier(parent)\n",
    "  copy = {}  \n",
    "  parent.keys.each do |k| \n",
    "    copy[k] = (parent[k].kind_of? String) ? \"\"+parent[k] : parent[k]\n",
    "  end\n",
    "  copy[:num],copy[:exp] = 1.0, 0.0\n",
    "  return copy\n",
    "end"
   ]
  },
  {
   "cell_type": "code",
   "execution_count": 83,
   "metadata": {},
   "outputs": [
    {
     "data": {
      "text/plain": [
       ":random_bitstring"
      ]
     },
     "execution_count": 83,
     "metadata": {},
     "output_type": "execute_result"
    }
   ],
   "source": [
    "def random_bitstring(size=6)\n",
    "  return (0...size).inject(\"\"){|s,i| s+((rand<0.5) ? \"1\" : \"0\")}\n",
    "end"
   ]
  },
  {
   "cell_type": "code",
   "execution_count": 84,
   "metadata": {},
   "outputs": [
    {
     "data": {
      "text/plain": [
       ":calculate_deletion_vote"
      ]
     },
     "execution_count": 84,
     "metadata": {},
     "output_type": "execute_result"
    }
   ],
   "source": [
    "def calculate_deletion_vote(classifier, pop, del_thresh, f_thresh=0.1)\n",
    "  vote = classifier[:setsize] * classifier[:num]\n",
    "  total = pop.inject(0.0){|s,c| s+c[:num]}\n",
    "  avg_fitness = pop.inject(0.0){|s,c| s + (c[:fitness]/total)}\n",
    "  derated = classifier[:fitness] / classifier[:num].to_f\n",
    "  if classifier[:exp]>del_thresh and derated<(f_thresh*avg_fitness)\n",
    "    return vote * (avg_fitness / derated)\n",
    "  end  \n",
    "  return vote\n",
    "end"
   ]
  },
  {
   "cell_type": "code",
   "execution_count": 85,
   "metadata": {},
   "outputs": [
    {
     "data": {
      "text/plain": [
       ":delete_from_pop"
      ]
     },
     "execution_count": 85,
     "metadata": {},
     "output_type": "execute_result"
    }
   ],
   "source": [
    "def delete_from_pop(pop, pop_size, del_thresh=20.0)\n",
    "  total = pop.inject(0) {|s,c| s+c[:num]}\n",
    "  return if total <= pop_size\n",
    "  pop.each {|c| c[:dvote] = calculate_deletion_vote(c, pop, del_thresh)}\n",
    "  vote_sum = pop.inject(0.0) {|s,c| s+c[:dvote]}\n",
    "  point = rand() * vote_sum\n",
    "  vote_sum, index = 0.0, 0\n",
    "  pop.each_with_index do |c,i|\n",
    "    vote_sum += c[:dvote]\n",
    "    if vote_sum >= point\n",
    "      index = i\n",
    "      break\n",
    "    end\n",
    "  end\n",
    "  if pop[index][:num] > 1\n",
    "    pop[index][:num] -= 1\n",
    "  else\n",
    "    pop.delete_at(index)\n",
    "  end\n",
    "end"
   ]
  },
  {
   "cell_type": "code",
   "execution_count": 86,
   "metadata": {},
   "outputs": [
    {
     "data": {
      "text/plain": [
       ":generate_random_classifier"
      ]
     },
     "execution_count": 86,
     "metadata": {},
     "output_type": "execute_result"
    }
   ],
   "source": [
    "def generate_random_classifier(input, actions, gen, rate=1.0/3.0)\n",
    "  condition = \"\"\n",
    "  input.size.times {|i| condition << ((rand<rate) ? '#' : input[i].chr)}\n",
    "  action = actions[rand(actions.size)]\n",
    "  return new_classifier(condition, action, gen)\n",
    "end"
   ]
  },
  {
   "cell_type": "code",
   "execution_count": 87,
   "metadata": {},
   "outputs": [
    {
     "data": {
      "text/plain": [
       ":does_match?"
      ]
     },
     "execution_count": 87,
     "metadata": {},
     "output_type": "execute_result"
    }
   ],
   "source": [
    "def does_match?(input, condition)\n",
    "  input.size.times do |i|\n",
    "    return false if condition[i].chr!='#' and input[i].chr!=condition[i].chr\n",
    "  end  \n",
    "  return true\n",
    "end"
   ]
  },
  {
   "cell_type": "code",
   "execution_count": 88,
   "metadata": {},
   "outputs": [
    {
     "data": {
      "text/plain": [
       ":get_actions"
      ]
     },
     "execution_count": 88,
     "metadata": {},
     "output_type": "execute_result"
    }
   ],
   "source": [
    "def get_actions(pop)\n",
    "  actions = []\n",
    "  pop.each do |c|\n",
    "    actions << c[:action] if !actions.include?(c[:action])\n",
    "  end\n",
    "  return actions\n",
    "end"
   ]
  },
  {
   "cell_type": "code",
   "execution_count": 89,
   "metadata": {},
   "outputs": [
    {
     "data": {
      "text/plain": [
       ":generate_match_set"
      ]
     },
     "execution_count": 89,
     "metadata": {},
     "output_type": "execute_result"
    }
   ],
   "source": [
    "def generate_match_set(input, pop, all_actions, gen, pop_size)\n",
    "  match_set = pop.select{|c| does_match?(input, c[:condition])}\n",
    "  actions = get_actions(match_set)\n",
    "  while actions.size < all_actions.size do\n",
    "    remaining = all_actions - actions\n",
    "    classifier = generate_random_classifier(input, remaining, gen)\n",
    "    pop << classifier\n",
    "    match_set << classifier\n",
    "    delete_from_pop(pop, pop_size)\n",
    "    actions << classifier[:action]\n",
    "  end\n",
    "  return match_set\n",
    "end"
   ]
  },
  {
   "cell_type": "code",
   "execution_count": 90,
   "metadata": {},
   "outputs": [
    {
     "data": {
      "text/plain": [
       ":generate_prediction"
      ]
     },
     "execution_count": 90,
     "metadata": {},
     "output_type": "execute_result"
    }
   ],
   "source": [
    "def generate_prediction(match_set)\n",
    "  pred = {}\n",
    "  match_set.each do |classifier|\n",
    "    key = classifier[:action]\n",
    "    pred[key] = {:sum=>0.0,:count=>0.0,:weight=>0.0} if pred[key].nil?\n",
    "    pred[key][:sum] += classifier[:pred]*classifier[:fitness]\n",
    "    pred[key][:count] += classifier[:fitness]\n",
    "  end\n",
    "  pred.keys.each do |key| \n",
    "    pred[key][:weight] = 0.0\n",
    "    if pred[key][:count] > 0\n",
    "      pred[key][:weight] = pred[key][:sum]/pred[key][:count]\n",
    "    end    \n",
    "  end\n",
    "  return pred\n",
    "end"
   ]
  },
  {
   "cell_type": "code",
   "execution_count": 91,
   "metadata": {},
   "outputs": [
    {
     "data": {
      "text/plain": [
       ":select_action"
      ]
     },
     "execution_count": 91,
     "metadata": {},
     "output_type": "execute_result"
    }
   ],
   "source": [
    "def select_action(predictions, p_explore=false)\n",
    "  keys = Array.new(predictions.keys)\n",
    "  return keys[rand(keys.size)] if p_explore\n",
    "  keys.sort!{|x,y| predictions[y][:weight]<=>predictions[x][:weight]}\n",
    "  return keys.first\n",
    "end"
   ]
  },
  {
   "cell_type": "code",
   "execution_count": 92,
   "metadata": {},
   "outputs": [
    {
     "data": {
      "text/plain": [
       ":update_set"
      ]
     },
     "execution_count": 92,
     "metadata": {},
     "output_type": "execute_result"
    }
   ],
   "source": [
    "def update_set(action_set, reward, beta=0.2)  \n",
    "  sum = action_set.inject(0.0) {|s,other| s+other[:num]}\n",
    "  action_set.each do |c| \n",
    "    c[:exp] += 1.0   \n",
    "    if c[:exp] < 1.0/beta\n",
    "\t      c[:error] = (c[:error]*(c[:exp]-1.0)+(reward-c[:pred]).abs)/c[:exp]\n",
    "\t      c[:pred] = (c[:pred] * (c[:exp]-1.0) + reward) / c[:exp]\n",
    "\t      c[:setsize] = (c[:setsize]*(c[:exp]-1.0)+sum) / c[:exp]\n",
    "\t  else\n",
    "\t      c[:error] += beta * ((reward-c[:pred]).abs - c[:error])\n",
    "\t      c[:pred] += beta * (reward-c[:pred])\n",
    "\t      c[:setsize] += beta * (sum - c[:setsize])\n",
    "\t  end    \n",
    "  end\n",
    "end"
   ]
  },
  {
   "cell_type": "code",
   "execution_count": 93,
   "metadata": {},
   "outputs": [
    {
     "data": {
      "text/plain": [
       ":update_fitness"
      ]
     },
     "execution_count": 93,
     "metadata": {},
     "output_type": "execute_result"
    }
   ],
   "source": [
    "def update_fitness(action_set, min_error=10, l_rate=0.2, alpha=0.1, v=-5.0)\n",
    "  sum = 0.0\n",
    "  acc = Array.new(action_set.size)\n",
    "  action_set.each_with_index do |c,i|\n",
    "    acc[i] = (c[:error]<min_error) ? 1.0 : alpha*(c[:error]/min_error)**v\n",
    "    sum += acc[i] * c[:num].to_f\n",
    "  end\n",
    "  action_set.each_with_index do |c,i|\n",
    "    c[:fitness] += l_rate * ((acc[i] * c[:num].to_f) / sum - c[:fitness])\n",
    "  end\n",
    "end"
   ]
  },
  {
   "cell_type": "code",
   "execution_count": 94,
   "metadata": {},
   "outputs": [
    {
     "data": {
      "text/plain": [
       ":can_run_genetic_algorithm"
      ]
     },
     "execution_count": 94,
     "metadata": {},
     "output_type": "execute_result"
    }
   ],
   "source": [
    "def can_run_genetic_algorithm(action_set, gen, ga_freq)\n",
    "  return false if action_set.size <= 2\n",
    "  total = action_set.inject(0.0) {|s,c| s+c[:lasttime]*c[:num]}\n",
    "  sum = action_set.inject(0.0) {|s,c| s+c[:num]}\n",
    "  return true if gen - (total/sum) > ga_freq\n",
    "  return false\n",
    "end"
   ]
  },
  {
   "cell_type": "code",
   "execution_count": 95,
   "metadata": {},
   "outputs": [
    {
     "data": {
      "text/plain": [
       ":binary_tournament"
      ]
     },
     "execution_count": 95,
     "metadata": {},
     "output_type": "execute_result"
    }
   ],
   "source": [
    "def binary_tournament(pop)\n",
    "  i, j = rand(pop.size), rand(pop.size)\n",
    "  j = rand(pop.size) while j==i\n",
    "  return (pop[i][:fitness] > pop[j][:fitness]) ? pop[i] : pop[j]\n",
    "end"
   ]
  },
  {
   "cell_type": "code",
   "execution_count": 96,
   "metadata": {},
   "outputs": [
    {
     "data": {
      "text/plain": [
       ":mutation"
      ]
     },
     "execution_count": 96,
     "metadata": {},
     "output_type": "execute_result"
    }
   ],
   "source": [
    "def mutation(cl, action_set, input, rate=0.04)\n",
    "  cl[:condition].size.times do |i|\n",
    "    if rand() < rate\n",
    "      cl[:condition][i] = (cl[:condition][i].chr=='#') ? input[i] : '#'\n",
    "    end\n",
    "  end\n",
    "  if rand() < rate\n",
    "    subset = action_set - [cl[:action]]\n",
    "    cl[:action] = subset[rand(subset.size)]    \n",
    "  end\n",
    "end"
   ]
  },
  {
   "cell_type": "code",
   "execution_count": 97,
   "metadata": {},
   "outputs": [
    {
     "data": {
      "text/plain": [
       ":uniform_crossover"
      ]
     },
     "execution_count": 97,
     "metadata": {},
     "output_type": "execute_result"
    }
   ],
   "source": [
    "def uniform_crossover(parent1, parent2)\n",
    "  child = \"\"\n",
    "  parent1.size.times do |i|\n",
    "    child << ((rand()<0.5) ? parent1[i].chr : parent2[i].chr)\n",
    "  end\n",
    "  return child\n",
    "end"
   ]
  },
  {
   "cell_type": "code",
   "execution_count": 98,
   "metadata": {},
   "outputs": [
    {
     "data": {
      "text/plain": [
       ":insert_in_pop"
      ]
     },
     "execution_count": 98,
     "metadata": {},
     "output_type": "execute_result"
    }
   ],
   "source": [
    "def insert_in_pop(cla, pop)\n",
    "  pop.each do |c|    \n",
    "    if cla[:condition]==c[:condition] and cla[:action]==c[:action]\n",
    "      c[:num] += 1\n",
    "      return\n",
    "    end\n",
    "  end\n",
    "  pop << cla\n",
    "end"
   ]
  },
  {
   "cell_type": "code",
   "execution_count": 99,
   "metadata": {},
   "outputs": [
    {
     "data": {
      "text/plain": [
       ":crossover"
      ]
     },
     "execution_count": 99,
     "metadata": {},
     "output_type": "execute_result"
    }
   ],
   "source": [
    "def crossover(c1, c2, p1, p2)\n",
    "  c1[:condition] = uniform_crossover(p1[:condition], p2[:condition])\n",
    "  c2[:condition] = uniform_crossover(p1[:condition], p2[:condition]) \n",
    "  c2[:pred]      = c1[:pred] = (p1[:pred]+p2[:pred])/2.0\n",
    "  c2[:error]     = c1[:error] = 0.25*(p1[:error]+p2[:error])/2.0\n",
    "  c2[:fitness]   = c1[:fitness] = 0.1*(p1[:fitness]+p2[:fitness])/2.0\n",
    "end"
   ]
  },
  {
   "cell_type": "code",
   "execution_count": 100,
   "metadata": {},
   "outputs": [
    {
     "data": {
      "text/plain": [
       ":run_ga"
      ]
     },
     "execution_count": 100,
     "metadata": {},
     "output_type": "execute_result"
    }
   ],
   "source": [
    "def run_ga(actions, pop, action_set, input, gen, pop_size, crate=0.8)\n",
    "  p1, p2 = binary_tournament(action_set), binary_tournament(action_set)\n",
    "  c1, c2 = copy_classifier(p1), copy_classifier(p2)\n",
    "  crossover(c1, c2, p1, p2) if rand() < crate\n",
    "  [c1,c2].each do |c|\n",
    "    mutation(c, actions, input)\n",
    "    insert_in_pop(c, pop)    \n",
    "  end  \n",
    "  while pop.inject(0) {|s,c| s+c[:num]} > pop_size\n",
    "    delete_from_pop(pop, pop_size)\n",
    "  end\n",
    "end"
   ]
  },
  {
   "cell_type": "code",
   "execution_count": 102,
   "metadata": {},
   "outputs": [
    {
     "data": {
      "text/plain": [
       ":train_model"
      ]
     },
     "execution_count": 102,
     "metadata": {},
     "output_type": "execute_result"
    }
   ],
   "source": [
    "def train_model(pop_size, max_gens, actions, ga_freq)\n",
    "  pop, perf = [], []\n",
    "  max_gens.times do |gen|\n",
    "    explore = gen.modulo(2)==0\n",
    "    input = random_bitstring()\n",
    "    match_set = generate_match_set(input, pop, actions, gen, pop_size)\n",
    "    pred_array = generate_prediction(match_set)    \n",
    "    action = select_action(pred_array, explore)\n",
    "    reward = (target_function(input)==action.to_i) ? 1000.0 : 0.0\n",
    "    if explore\n",
    "      action_set = match_set.select{|c| c[:action]==action}\n",
    "      update_set(action_set, reward)\n",
    "      update_fitness(action_set)\n",
    "      if can_run_genetic_algorithm(action_set, gen, ga_freq)\n",
    "        action_set.each {|c| c[:lasttime] = gen}\n",
    "        run_ga(actions, pop, action_set, input, gen, pop_size)\n",
    "      end\n",
    "    else \n",
    "      e,a = (pred_array[action][:weight]-reward).abs, ((reward==1000.0)?1:0)\n",
    "      perf << {:error=>e,:correct=>a}\n",
    "      if perf.size >= 50\n",
    "        err = (perf.inject(0){|s,x|s+x[:error]}/perf.size).round\n",
    "        acc = perf.inject(0.0){|s,x|s+x[:correct]}/perf.size\n",
    "        #puts \" >iter=#{gen+1} size=#{pop.size}, error=#{err}, acc=#{acc}\"\n",
    "        perf = []\n",
    "      end\n",
    "    end\n",
    "  end  \n",
    "  return pop\n",
    "end"
   ]
  },
  {
   "cell_type": "code",
   "execution_count": 103,
   "metadata": {},
   "outputs": [
    {
     "data": {
      "text/plain": [
       ":test_model"
      ]
     },
     "execution_count": 103,
     "metadata": {},
     "output_type": "execute_result"
    }
   ],
   "source": [
    "def test_model(system, num_trials=50)\n",
    "  correct = 0\n",
    "  num_trials.times do\n",
    "    input = random_bitstring()\n",
    "    match_set = system.select{|c| does_match?(input, c[:condition])}\n",
    "    pred_array = generate_prediction(match_set)\n",
    "    action = select_action(pred_array, false)\n",
    "    correct += 1 if target_function(input) == action.to_i\n",
    "  end\n",
    "  #puts \"Done! classified correctly=#{correct}/#{num_trials}\"\n",
    "  return correct\n",
    "end"
   ]
  },
  {
   "cell_type": "code",
   "execution_count": 104,
   "metadata": {},
   "outputs": [
    {
     "data": {
      "text/plain": [
       ":execute"
      ]
     },
     "execution_count": 104,
     "metadata": {},
     "output_type": "execute_result"
    }
   ],
   "source": [
    "def execute(pop_size, max_gens, actions, ga_freq)\n",
    "  system = train_model(pop_size, max_gens, actions, ga_freq)\n",
    "  test_model(system)\n",
    "  return system\n",
    "end"
   ]
  },
  {
   "cell_type": "code",
   "execution_count": 105,
   "metadata": {},
   "outputs": [
    {
     "data": {
      "text/plain": [
       "[{:condition=>\"#01#1#\", :action=>\"1\", :lasttime=>4972, :pred=>1000.0, :error=>0.0, :fitness=>0.4338111206509574, :exp=>121.0, :setsize=>17.33266115043495, :num=>2.0, :dvote=>33.33165287608738}, {:condition=>\"10##1#\", :action=>\"1\", :lasttime=>4930, :pred=>1000.0, :error=>4.074071952668975e-08, :fitness=>0.48692505263024227, :exp=>105.0, :setsize=>15.768162095043682, :num=>2.0, :dvote=>31.536324190087363}, {:condition=>\"000###\", :action=>\"0\", :lasttime=>4988, :pred=>1000.0, :error=>0.0, :fitness=>0.5344803936546119, :exp=>82.0, :setsize=>14.784982992973841, :num=>4.0, :dvote=>57.92491496486921}, {:condition=>\"#1#0#0\", :action=>\"0\", :lasttime=>4948, :pred=>1000.0, :error=>1.6434547229427857e-07, :fitness=>0.7609572520641235, :exp=>80.0, :setsize=>22.211656971905303, :num=>4.0, :dvote=>88.84662788762121}, {:condition=>\"000###\", :action=>\"1\", :lasttime=>4952, :pred=>0.0, :error=>0.0, :fitness=>0.9918688441784939, :exp=>68.0, :setsize=>16.860757390384997, :num=>2.0, :dvote=>33.72151478076999}, {:condition=>\"#01#11\", :action=>\"1\", :lasttime=>4972, :pred=>1000.0, :error=>0.0, :fitness=>0.3738470393162207, :exp=>32.0, :setsize=>18.258518043649573, :num=>3.0, :dvote=>53.469442663685896}, {:condition=>\"#110#0\", :action=>\"0\", :lasttime=>4838, :pred=>1000.0, :error=>0.0, :fitness=>0.2411745298921667, :exp=>34.0, :setsize=>21.39091027985082, :num=>1.0, :dvote=>21.39091027985082}, {:condition=>\"#1#1#1\", :action=>\"0\", :lasttime=>4980, :pred=>0.0, :error=>0.008711228593176027, :fitness=>0.6457039471035897, :exp=>50.0, :setsize=>17.4006192175844, :num=>6.0, :dvote=>105.004644131883}, {:condition=>\"#1000#\", :action=>\"1\", :lasttime=>4966, :pred=>779.6880288178144, :error=>434.65015245456857, :fitness=>0.006302137850542062, :exp=>29.0, :setsize=>17.592809143159222, :num=>1.0, :dvote=>250.20354364217073}, {:condition=>\"0010##\", :action=>\"0\", :lasttime=>4936, :pred=>0.0, :error=>0.42058576488057786, :fitness=>0.38337871071490554, :exp=>23.0, :setsize=>15.496214190052395, :num=>4.0, :dvote=>61.98485676020958}, {:condition=>\"001###\", :action=>\"0\", :lasttime=>4936, :pred=>0.0, :error=>0.0023248526869468172, :fitness=>0.767835175219642, :exp=>50.0, :setsize=>15.626942679928613, :num=>4.0, :dvote=>62.50777071971445}, {:condition=>\"#111#1\", :action=>\"0\", :lasttime=>4980, :pred=>0.0, :error=>0.0, :fitness=>0.19935959054650207, :exp=>22.0, :setsize=>20.17763225590091, :num=>1.0, :dvote=>20.17763225590091}, {:condition=>\"11#0#1\", :action=>\"0\", :lasttime=>4860, :pred=>0.0, :error=>0.8646911284551354, :fitness=>0.6108401085074554, :exp=>23.0, :setsize=>15.361638902682143, :num=>3.0, :dvote=>46.08491670804643}, {:condition=>\"1#0#11\", :action=>\"0\", :lasttime=>4946, :pred=>0.0, :error=>6.18096139078841, :fitness=>0.5914106028735562, :exp=>19.0, :setsize=>13.614248122056704, :num=>2.0, :dvote=>27.22849624411341}, {:condition=>\"#00#0#\", :action=>\"0\", :lasttime=>4988, :pred=>1000.0, :error=>0.007903423002706151, :fitness=>0.3885272317835224, :exp=>47.0, :setsize=>18.21698564269465, :num=>2.0, :dvote=>37.542464106736624}, {:condition=>\"01##11\", :action=>\"0\", :lasttime=>4958, :pred=>561.964504358876, :error=>538.4336818889568, :fitness=>0.06241651672799807, :exp=>30.0, :setsize=>14.557960186724566, :num=>2.0, :dvote=>29.115920373449132}, {:condition=>\"0101#0\", :action=>\"0\", :lasttime=>4672, :pred=>0.0, :error=>32.361676800000005, :fitness=>0.16029114898287164, :exp=>8.0, :setsize=>14.1856, :num=>1.0, :dvote=>14.1856}, {:condition=>\"11#001\", :action=>\"0\", :lasttime=>4580, :pred=>0.0, :error=>0.0, :fitness=>0.30401062151023167, :exp=>10.0, :setsize=>16.294144, :num=>1.0, :dvote=>16.294144}, {:condition=>\"1#1##0\", :action=>\"1\", :lasttime=>4962, :pred=>146.91886617472846, :error=>351.24004587823686, :fitness=>0.10007687650585706, :exp=>35.0, :setsize=>15.637519764940324, :num=>3.0, :dvote=>46.91255929482097}, {:condition=>\"1##000\", :action=>\"0\", :lasttime=>4986, :pred=>1000.0, :error=>0.3417861335128015, :fitness=>0.5402397186054635, :exp=>23.0, :setsize=>17.459313801942635, :num=>3.0, :dvote=>52.377941405827904}, {:condition=>\"#1##01\", :action=>\"1\", :lasttime=>4966, :pred=>909.9630637509802, :error=>204.87612005258097, :fitness=>0.05757023849196976, :exp=>51.0, :setsize=>15.288789321096019, :num=>1.0, :dvote=>15.288789321096019}, {:condition=>\"1##0#0\", :action=>\"1\", :lasttime=>4962, :pred=>135.78315138006528, :error=>345.6782224607097, :fitness=>0.03153736799013658, :exp=>33.0, :setsize=>16.032166121816243, :num=>1.0, :dvote=>16.032166121816243}, {:condition=>\"###101\", :action=>\"1\", :lasttime=>4944, :pred=>768.2792690175471, :error=>422.18826285659406, :fitness=>0.04787674640565317, :exp=>41.0, :setsize=>15.626314853435455, :num=>3.0, :dvote=>46.878944560306365}, {:condition=>\"0#1#00\", :action=>\"1\", :lasttime=>4912, :pred=>541.680997793792, :error=>520.5645171470619, :fitness=>0.07202440995119627, :exp=>19.0, :setsize=>17.155642896187395, :num=>1.0, :dvote=>17.155642896187395}, {:condition=>\"#0#01#\", :action=>\"0\", :lasttime=>4978, :pred=>226.08589667998558, :error=>379.0621430085249, :fitness=>0.004913071671742144, :exp=>30.0, :setsize=>14.15718443319295, :num=>1.0, :dvote=>258.2676160874194}, {:condition=>\"1001##\", :action=>\"0\", :lasttime=>4840, :pred=>522.0352, :error=>513.8310212266667, :fitness=>0.011958267293505954, :exp=>11.0, :setsize=>20.276403199999997, :num=>1.0, :dvote=>19.30688}, {:condition=>\"#110##\", :action=>\"1\", :lasttime=>4962, :pred=>214.46735299847032, :error=>336.6684217799018, :fitness=>0.09725697421240431, :exp=>31.0, :setsize=>16.26841244168582, :num=>1.0, :dvote=>16.26841244168582}, {:condition=>\"#001#0\", :action=>\"0\", :lasttime=>4988, :pred=>540.909568, :error=>471.82506666666666, :fitness=>0.055525476499868276, :exp=>13.0, :setsize=>19.471064064, :num=>3.0, :dvote=>54.145612799999995}, {:condition=>\"#1###0\", :action=>\"1\", :lasttime=>4962, :pred=>235.84801693493765, :error=>422.00883947861126, :fitness=>0.23369506465380863, :exp=>59.0, :setsize=>14.812339445685643, :num=>3.0, :dvote=>44.43701833705693}, {:condition=>\"01#1##\", :action=>\"0\", :lasttime=>4980, :pred=>0.0, :error=>0.0, :fitness=>0.29316027485758217, :exp=>25.0, :setsize=>16.851988489077552, :num=>1.0, :dvote=>16.851988489077552}, {:condition=>\"1####0\", :action=>\"0\", :lasttime=>4986, :pred=>500.29076347815925, :error=>499.61669865424335, :fitness=>0.0870667604662145, :exp=>48.0, :setsize=>17.830804512989577, :num=>2.0, :dvote=>30.971264103092427}, {:condition=>\"#01##1\", :action=>\"1\", :lasttime=>4972, :pred=>867.6751286213782, :error=>319.12481947533945, :fitness=>0.033891430196113424, :exp=>25.0, :setsize=>17.442344353573112, :num=>2.0, :dvote=>33.60586088393278}, {:condition=>\"##1111\", :action=>\"1\", :lasttime=>4930, :pred=>1000.0, :error=>8.25170591744, :fitness=>0.11107361290807052, :exp=>12.0, :setsize=>18.45313536, :num=>1.0, :dvote=>18.066419200000002}, {:condition=>\"1##111\", :action=>\"1\", :lasttime=>4930, :pred=>1000.0, :error=>0.0, :fitness=>0.157089649350714, :exp=>10.0, :setsize=>17.880256, :num=>1.0, :dvote=>17.880256}, {:condition=>\"1###1#\", :action=>\"0\", :lasttime=>4978, :pred=>102.46936098547454, :error=>285.5812439140517, :fitness=>0.19688976938681707, :exp=>41.0, :setsize=>18.347605925595907, :num=>2.0, :dvote=>32.58626851748721}, {:condition=>\"#1##10\", :action=>\"1\", :lasttime=>4962, :pred=>276.2766035110861, :error=>458.16559145863465, :fitness=>0.03570488817868645, :exp=>31.0, :setsize=>18.821565296308705, :num=>2.0, :dvote=>37.64313059261741}, {:condition=>\"000#01\", :action=>\"1\", :lasttime=>4902, :pred=>0.0, :error=>56.384, :fitness=>0.030749645979035137, :exp=>2.0, :setsize=>22.0, :num=>1.0, :dvote=>22.0}, {:condition=>\"###0#0\", :action=>\"0\", :lasttime=>4986, :pred=>768.1316196568268, :error=>422.4971390844928, :fitness=>0.008165513915781549, :exp=>29.0, :setsize=>17.569631782789024, :num=>1.0, :dvote=>17.962039728486282}, {:condition=>\"#0010#\", :action=>\"0\", :lasttime=>4988, :pred=>1000.0, :error=>2.1474836480000024, :fitness=>0.327046743578047, :exp=>12.0, :setsize=>22.03244032, :num=>4.0, :dvote=>88.12976128}, {:condition=>\"0100##\", :action=>\"1\", :lasttime=>4916, :pred=>0.0, :error=>0.0, :fitness=>0.6015048673256175, :exp=>8.0, :setsize=>18.8656, :num=>2.0, :dvote=>37.7312}, {:condition=>\"1#0##0\", :action=>\"0\", :lasttime=>4948, :pred=>522.8612681728, :error=>484.117790180565, :fitness=>0.08222545941656487, :exp=>17.0, :setsize=>19.1555938926592, :num=>1.0, :dvote=>17.555615457280002}, {:condition=>\"#001##\", :action=>\"0\", :lasttime=>4988, :pred=>600.8160684657869, :error=>412.91073686514346, :fitness=>0.07222240742443936, :exp=>21.0, :setsize=>19.881704275215647, :num=>2.0, :dvote=>37.3803258600489}, {:condition=>\"1011##\", :action=>\"0\", :lasttime=>4922, :pred=>512.0, :error=>628.6301866666666, :fitness=>0.007634991787944016, :exp=>7.0, :setsize=>16.296, :num=>2.0, :dvote=>32.592}, {:condition=>\"###101\", :action=>\"0\", :lasttime=>4980, :pred=>252.4644997332992, :error=>466.4701528791702, :fitness=>0.00043055571308705013, :exp=>20.0, :setsize=>18.40941315211264, :num=>1.0, :dvote=>18.7617664401408}, {:condition=>\"1###10\", :action=>\"0\", :lasttime=>4928, :pred=>330.22201036800004, :error=>529.0936276378255, :fitness=>0.012259363175599463, :exp=>16.0, :setsize=>18.459488575488, :num=>1.0, :dvote=>16.467950899199998}, {:condition=>\"11##01\", :action=>\"1\", :lasttime=>4966, :pred=>1000.0, :error=>6.148880349422635, :fitness=>0.950525047400779, :exp=>14.0, :setsize=>15.3297980416, :num=>1.0, :dvote=>15.3297980416}, {:condition=>\"#01###\", :action=>\"0\", :lasttime=>4986, :pred=>331.9858810182852, :error=>459.3323139438688, :fitness=>0.011929045438428891, :exp=>29.0, :setsize=>15.275644044791719, :num=>1.0, :dvote=>15.275644044791719}, {:condition=>\"#1#00#\", :action=>\"0\", :lasttime=>4948, :pred=>931.7959193395201, :error=>221.30534820522664, :fitness=>0.0019825891826621895, :exp=>18.0, :setsize=>18.10591247302656, :num=>1.0, :dvote=>18.10591247302656}, {:condition=>\"#1000#\", :action=>\"0\", :lasttime=>4948, :pred=>804.964864, :error=>398.8084053333333, :fitness=>0.004465849362027933, :exp=>13.0, :setsize=>18.450081792, :num=>3.0, :dvote=>55.350245376}, {:condition=>\"01000#\", :action=>\"1\", :lasttime=>4916, :pred=>0.0, :error=>0.0, :fitness=>0.14919562701686043, :exp=>2.0, :setsize=>25.0, :num=>1.0, :dvote=>25.0}, {:condition=>\"#10001\", :action=>\"0\", :lasttime=>4926, :pred=>400.0, :error=>350.0, :fitness=>0.11779094525477762, :exp=>5.0, :setsize=>13.4, :num=>2.0, :dvote=>26.8}, {:condition=>\"01#00#\", :action=>\"0\", :lasttime=>4926, :pred=>1000.0, :error=>54.613333333333344, :fitness=>0.5276879191048962, :exp=>9.0, :setsize=>16.288960000000003, :num=>1.0, :dvote=>16.288960000000003}, {:condition=>\"##1#1#\", :action=>\"0\", :lasttime=>4978, :pred=>266.14794506148513, :error=>448.3565262107848, :fitness=>0.08211928885352553, :exp=>24.0, :setsize=>16.827982092054057, :num=>3.0, :dvote=>50.48394627616217}, {:condition=>\"#01##1\", :action=>\"0\", :lasttime=>4978, :pred=>167.93599999999998, :error=>386.07729717266017, :fitness=>0.006700932677377378, :exp=>10.0, :setsize=>15.93056, :num=>1.0, :dvote=>15.93056}, {:condition=>\"#1#0##\", :action=>\"1\", :lasttime=>4966, :pred=>429.01657992130157, :error=>532.8478981381646, :fitness=>0.01817048580655222, :exp=>29.0, :setsize=>14.381526625636907, :num=>2.0, :dvote=>28.763053251273814}, {:condition=>\"000#0#\", :action=>\"0\", :lasttime=>4988, :pred=>1000.0, :error=>0.0, :fitness=>0.1998844742461283, :exp=>6.0, :setsize=>18.880000000000003, :num=>3.0, :dvote=>58.800000000000004}, {:condition=>\"11###1\", :action=>\"0\", :lasttime=>4914, :pred=>0.0, :error=>0.0, :fitness=>0.2358461442942642, :exp=>13.0, :setsize=>17.917929983999997, :num=>1.0, :dvote=>18.147412479999996}, {:condition=>\"##1#0#\", :action=>\"1\", :lasttime=>4944, :pred=>373.8882227086295, :error=>523.615686844628, :fitness=>0.020317395211695722, :exp=>22.0, :setsize=>14.867317738453337, :num=>1.0, :dvote=>14.867317738453337}, {:condition=>\"#100##\", :action=>\"1\", :lasttime=>4966, :pred=>595.0120959999999, :error=>565.640084793806, :fitness=>0.0003203218591184671, :exp=>13.0, :setsize=>15.323573759999999, :num=>1.0, :dvote=>15.323573759999999}, {:condition=>\"10###1\", :action=>\"0\", :lasttime=>4978, :pred=>327.68, :error=>453.91282176000004, :fitness=>0.05071445922467659, :exp=>10.0, :setsize=>16.265664, :num=>2.0, :dvote=>32.531328}, {:condition=>\"1##0#0\", :action=>\"0\", :lasttime=>4986, :pred=>714.7136, :error=>488.2227200000001, :fitness=>0.005914800655465888, :exp=>11.0, :setsize=>18.065472, :num=>1.0, :dvote=>18.065472}, {:condition=>\"1#0000\", :action=>\"1\", :lasttime=>4850, :pred=>0.0, :error=>450.0, :fitness=>0.010568321960523784, :exp=>2.0, :setsize=>15.0, :num=>1.0, :dvote=>15.0}, {:condition=>\"#1#1#0\", :action=>\"0\", :lasttime=>4928, :pred=>750.0, :error=>545.9470293333334, :fitness=>0.04695634898363653, :exp=>4.0, :setsize=>12.0, :num=>3.0, :dvote=>36.0}, {:condition=>\"#1#011\", :action=>\"0\", :lasttime=>4958, :pred=>616.0, :error=>535.2382627103545, :fitness=>0.018927564969660554, :exp=>7.0, :setsize=>13.376, :num=>1.0, :dvote=>13.376}, {:condition=>\"0####0\", :action=>\"1\", :lasttime=>4912, :pred=>421.17915623990234, :error=>524.3069999355096, :fitness=>0.051653996617716, :exp=>23.0, :setsize=>16.637680904798312, :num=>2.0, :dvote=>33.275361809596625}, {:condition=>\"0#01##\", :action=>\"1\", :lasttime=>4952, :pred=>430.08000000000004, :error=>547.5760128770903, :fitness=>0.0012579589105616747, :exp=>9.0, :setsize=>19.72672, :num=>1.0, :dvote=>19.72672}, {:condition=>\"###111\", :action=>\"1\", :lasttime=>4952, :pred=>840.0, :error=>200.0, :fitness=>0.10708817683890737, :exp=>6.0, :setsize=>18.240000000000002, :num=>2.0, :dvote=>35.6}, {:condition=>\"##1##1\", :action=>\"0\", :lasttime=>4980, :pred=>196.0050688, :error=>424.4389088831805, :fitness=>0.01574273718236682, :exp=>14.0, :setsize=>16.4376981504, :num=>3.0, :dvote=>49.3130944512}, {:condition=>\"#0###0\", :action=>\"0\", :lasttime=>4988, :pred=>524.150344286208, :error=>548.3848323794982, :fitness=>0.006861975205751441, :exp=>19.0, :setsize=>18.128994290630654, :num=>1.0, :dvote=>16.783191973887998}, {:condition=>\"#####0\", :action=>\"0\", :lasttime=>4988, :pred=>612.4756350789064, :error=>514.4966071278251, :fitness=>0.032689286922617286, :exp=>29.0, :setsize=>18.087479984290624, :num=>3.0, :dvote=>50.106328032952874}, {:condition=>\"0#0#0#\", :action=>\"1\", :lasttime=>4916, :pred=>0.0, :error=>54.33828607827823, :fitness=>0.020232362807166674, :exp=>4.0, :setsize=>18.5, :num=>1.0, :dvote=>18.5}, {:condition=>\"000##1\", :action=>\"1\", :lasttime=>4952, :pred=>0.0, :error=>54.33828607827823, :fitness=>0.020232362807017002, :exp=>4.0, :setsize=>17.5, :num=>1.0, :dvote=>17.5}, {:condition=>\"#01#0#\", :action=>\"1\", :lasttime=>4944, :pred=>467.2, :error=>487.3115869184, :fitness=>0.06033584300337255, :exp=>8.0, :setsize=>15.267199999999999, :num=>1.0, :dvote=>15.267199999999999}, {:condition=>\"##1##1\", :action=>\"1\", :lasttime=>4972, :pred=>944.9707315200001, :error=>167.77745027600776, :fitness=>0.17112942572181084, :exp=>19.0, :setsize=>16.226632721629183, :num=>4.0, :dvote=>61.133163608145914}, {:condition=>\"000#1#\", :action=>\"0\", :lasttime=>4964, :pred=>1000.0, :error=>0.0, :fitness=>0.16284198351846518, :exp=>3.0, :setsize=>10.666666666666666, :num=>1.0, :dvote=>10.666666666666666}, {:condition=>\"#10###\", :action=>\"1\", :lasttime=>4966, :pred=>520.0498688, :error=>534.2144249619713, :fitness=>0.023092304931082337, :exp=>14.0, :setsize=>12.565330841599998, :num=>1.0, :dvote=>12.565330841599998}, {:condition=>\"###1#1\", :action=>\"0\", :lasttime=>4980, :pred=>125.82912000000002, :error=>332.04906666666665, :fitness=>0.04018237522757179, :exp=>12.0, :setsize=>17.152360960000003, :num=>3.0, :dvote=>51.57135360000001}, {:condition=>\"1###10\", :action=>\"1\", :lasttime=>4962, :pred=>250.0, :error=>668.9635661575903, :fitness=>0.02507970701426393, :exp=>4.0, :setsize=>15.5, :num=>1.0, :dvote=>15.5}, {:condition=>\"#0##1#\", :action=>\"0\", :lasttime=>4978, :pred=>217.874432, :error=>419.9915539669987, :fitness=>0.030726107489052162, :exp=>13.0, :setsize=>17.551031295999998, :num=>1.0, :dvote=>15.048486399999998}, {:condition=>\"10#01#\", :action=>\"0\", :lasttime=>4978, :pred=>0.0, :error=>68.91276979604734, :fitness=>0.2953841729115575, :exp=>6.0, :setsize=>15.64, :num=>1.0, :dvote=>15.64}, {:condition=>\"#1#001\", :action=>\"0\", :lasttime=>4926, :pred=>1000.0, :error=>134.8781932443137, :fitness=>0.004255949224716677, :exp=>3.0, :setsize=>10.666666666666666, :num=>1.0, :dvote=>10.666666666666666}, {:condition=>\"0#1#1#\", :action=>\"1\", :lasttime=>4972, :pred=>840.0, :error=>497.61075635053356, :fitness=>0.003955970049176063, :exp=>6.0, :setsize=>16.48, :num=>1.0, :dvote=>15.6}, {:condition=>\"##1#10\", :action=>\"1\", :lasttime=>4962, :pred=>500.0, :error=>557.4145735369639, :fitness=>0.10134305384964133, :exp=>4.0, :setsize=>15.5, :num=>1.0, :dvote=>15.5}, {:condition=>\"#0##0#\", :action=>\"1\", :lasttime=>4944, :pred=>264.8576, :error=>448.1557165397333, :fitness=>0.04152858112037247, :exp=>11.0, :setsize=>15.7652736, :num=>3.0, :dvote=>47.2958208}, {:condition=>\"1#####\", :action=>\"0\", :lasttime=>4986, :pred=>265.4151634117565, :error=>476.4992596190654, :fitness=>0.01117603814378873, :exp=>24.0, :setsize=>17.77633723930434, :num=>1.0, :dvote=>15.703783670516287}, {:condition=>\"111#01\", :action=>\"1\", :lasttime=>4826, :pred=>1000.0, :error=>7.2380471615597815, :fitness=>0.06079931009785185, :exp=>0.0, :setsize=>15.344, :num=>1.0, :dvote=>15.344}, {:condition=>\"#11##0\", :action=>\"1\", :lasttime=>4962, :pred=>288.0, :error=>455.64001626568654, :fitness=>0.037325363354450226, :exp=>7.0, :setsize=>15.648, :num=>1.0, :dvote=>15.648}, {:condition=>\"##011#\", :action=>\"1\", :lasttime=>4952, :pred=>500.0, :error=>465.66154533929125, :fitness=>0.015558460608734379, :exp=>4.0, :setsize=>17.25, :num=>1.0, :dvote=>17.25}, {:condition=>\"#0011#\", :action=>\"0\", :lasttime=>4964, :pred=>333.3333333333333, :error=>565.3265048968328, :fitness=>0.022409686005791733, :exp=>3.0, :setsize=>20.333333333333332, :num=>1.0, :dvote=>17.0}, {:condition=>\"#00###\", :action=>\"0\", :lasttime=>4988, :pred=>544.22784, :error=>546.2838834517332, :fitness=>0.004491115914484412, :exp=>12.0, :setsize=>17.32069376, :num=>1.0, :dvote=>15.20448}, {:condition=>\"1##110\", :action=>\"1\", :lasttime=>4852, :pred=>500.0, :error=>921.2604656485139, :fitness=>0.03734943515470433, :exp=>0.0, :setsize=>13.5, :num=>1.0, :dvote=>13.5}, {:condition=>\"#0##11\", :action=>\"1\", :lasttime=>4972, :pred=>872.0, :error=>192.0, :fitness=>0.05179392129118689, :exp=>7.0, :setsize=>16.608, :num=>1.0, :dvote=>15.76}, {:condition=>\"1###1#\", :action=>\"1\", :lasttime=>4962, :pred=>672.0, :error=>402.6666666666667, :fitness=>0.0517315603058698, :exp=>7.0, :setsize=>15.784, :num=>1.0, :dvote=>15.784}, {:condition=>\"101#11\", :action=>\"1\", :lasttime=>4930, :pred=>1000.0, :error=>0.0, :fitness=>0.044801078853942126, :exp=>1.0, :setsize=>23.0, :num=>1.0, :dvote=>23.0}, {:condition=>\"#01111\", :action=>\"1\", :lasttime=>4930, :pred=>1000.0, :error=>0.0, :fitness=>0.06441228983128676, :exp=>2.0, :setsize=>21.5, :num=>1.0, :dvote=>23.0}, {:condition=>\"###011\", :action=>\"0\", :lasttime=>4978, :pred=>416.0, :error=>581.8666666666667, :fitness=>0.0030338174259792287, :exp=>7.0, :setsize=>12.120000000000001, :num=>1.0, :dvote=>12.120000000000001}, {:condition=>\"01011#\", :action=>\"1\", :lasttime=>4870, :pred=>1000.0, :error=>0.0, :fitness=>0.12225102417428538, :exp=>1.0, :setsize=>22.0, :num=>1.0, :dvote=>22.0}, {:condition=>\"1#0#1#\", :action=>\"0\", :lasttime=>4946, :pred=>128.0, :error=>437.3835433929106, :fitness=>0.023867032246719246, :exp=>7.0, :setsize=>17.52, :num=>2.0, :dvote=>30.0}, {:condition=>\"#1##0#\", :action=>\"1\", :lasttime=>4966, :pred=>508.92800000000005, :error=>539.0310436977942, :fitness=>0.03613730089600899, :exp=>10.0, :setsize=>13.063424000000001, :num=>1.0, :dvote=>13.063424000000001}, {:condition=>\"##1#1#\", :action=>\"1\", :lasttime=>4972, :pred=>840.0, :error=>267.09137129472003, :fitness=>0.043238126023508607, :exp=>6.0, :setsize=>16.8, :num=>1.0, :dvote=>16.0}, {:condition=>\"#00##1\", :action=>\"1\", :lasttime=>4952, :pred=>0.0, :error=>162.69665849719777, :fitness=>0.0013137989085558787, :exp=>1.0, :setsize=>10.0, :num=>1.0, :dvote=>10.0}, {:condition=>\"##1#11\", :action=>\"0\", :lasttime=>4978, :pred=>0.0, :error=>168.63762824888323, :fitness=>0.0702829312476389, :exp=>2.0, :setsize=>19.0, :num=>2.0, :dvote=>38.0}, {:condition=>\"01#011\", :action=>\"0\", :lasttime=>4958, :pred=>1000.0, :error=>480.0, :fitness=>0.018927565002622604, :exp=>1.0, :setsize=>8.0, :num=>1.0, :dvote=>8.0}, {:condition=>\"1##1#1\", :action=>\"0\", :lasttime=>4922, :pred=>0.0, :error=>0.0, :fitness=>0.20976686105785325, :exp=>2.0, :setsize=>18.0, :num=>1.0, :dvote=>19.0}, {:condition=>\"###00#\", :action=>\"1\", :lasttime=>4966, :pred=>500.0, :error=>727.3975362013866, :fitness=>0.0008368505243493672, :exp=>4.0, :setsize=>13.0, :num=>1.0, :dvote=>13.0}, {:condition=>\"#1#0##\", :action=>\"0\", :lasttime=>4958, :pred=>1000.0, :error=>150.0, :fitness=>0.020655350079245707, :exp=>2.0, :setsize=>16.0, :num=>1.0, :dvote=>16.0}, {:condition=>\"#0##1#\", :action=>\"1\", :lasttime=>4972, :pred=>666.6666666666666, :error=>833.3333333333334, :fitness=>0.02172613869673438, :exp=>3.0, :setsize=>14.666666666666666, :num=>1.0, :dvote=>12.0}, {:condition=>\"10#111\", :action=>\"1\", :lasttime=>4930, :pred=>1000.0, :error=>0.002475880078570761, :fitness=>0.04243386463879578, :exp=>0.0, :setsize=>15.690259671394637, :num=>1.0, :dvote=>15.690259671394637}, {:condition=>\"#1#101\", :action=>\"0\", :lasttime=>4980, :pred=>0.0, :error=>0.0, :fitness=>0.4840877856066178, :exp=>2.0, :setsize=>16.5, :num=>2.0, :dvote=>32.0}, {:condition=>\"1#0##1\", :action=>\"0\", :lasttime=>4946, :pred=>0.0, :error=>0.0, :fitness=>0.046847768775298726, :exp=>1.0, :setsize=>17.0, :num=>1.0, :dvote=>13.614248122056704}, {:condition=>\"#100##\", :action=>\"0\", :lasttime=>4958, :pred=>1000.0, :error=>114.39329279999993, :fitness=>0.002911389160211552, :exp=>1.0, :setsize=>8.0, :num=>1.0, :dvote=>8.0}, {:condition=>\"1100##\", :action=>\"0\", :lasttime=>4948, :pred=>885.6067072000001, :error=>84.71740066830199, :fitness=>0.0036391088249213, :exp=>0.0, :setsize=>24.0, :num=>1.0, :dvote=>24.0}, {:condition=>\"#00#1#\", :action=>\"1\", :lasttime=>4952, :pred=>0.0, :error=>1000.0, :fitness=>0.033947091712036616, :exp=>0.0, :setsize=>10.0, :num=>1.0, :dvote=>10.0}, {:condition=>\"0#0#1#\", :action=>\"0\", :lasttime=>4964, :pred=>1000.0, :error=>0.0, :fitness=>0.22802370283519968, :exp=>2.0, :setsize=>12.5, :num=>1.0, :dvote=>12.5}, {:condition=>\"#1#0#1\", :action=>\"0\", :lasttime=>4958, :pred=>808.0, :error=>85.65478283879432, :fitness=>0.0019791457524453134, :exp=>0.0, :setsize=>13.376, :num=>1.0, :dvote=>13.376}, {:condition=>\"#1#01#\", :action=>\"0\", :lasttime=>4958, :pred=>808.0, :error=>85.65478283879432, :fitness=>0.0019791457524453134, :exp=>0.0, :setsize=>16.0, :num=>1.0, :dvote=>16.0}, {:condition=>\"##10#0\", :action=>\"1\", :lasttime=>4962, :pred=>0.0, :error=>177.6601645190125, :fitness=>0.19359315898246257, :exp=>2.0, :setsize=>15.0, :num=>1.0, :dvote=>15.0}, {:condition=>\"00011#\", :action=>\"0\", :lasttime=>4964, :pred=>1000.0, :error=>24.497439336312297, :fitness=>0.009657471207080768, :exp=>0.0, :setsize=>10.666666666666666, :num=>2.0, :dvote=>21.333333333333332}, {:condition=>\"#00#01\", :action=>\"0\", :lasttime=>4970, :pred=>1000.0, :error=>0.0, :fitness=>0.1608771836569755, :exp=>0.0, :setsize=>19.0, :num=>1.0, :dvote=>19.0}, {:condition=>\"##1#11\", :action=>\"1\", :lasttime=>4972, :pred=>1000.0, :error=>200.0, :fitness=>0.043238126706165725, :exp=>1.0, :setsize=>20.0, :num=>1.0, :dvote=>16.0}, {:condition=>\"101##1\", :action=>\"0\", :lasttime=>4978, :pred=>247.808, :error=>104.99876486658252, :fitness=>0.0028707695951026985, :exp=>0.0, :setsize=>16.265664, :num=>1.0, :dvote=>16.265664}, {:condition=>\"01#101\", :action=>\"0\", :lasttime=>4980, :pred=>0.0, :error=>0.0013611294676837543, :fitness=>0.061521074210364485, :exp=>0.0, :setsize=>16.0, :num=>1.0, :dvote=>16.0}, {:condition=>\"1###0#\", :action=>\"0\", :lasttime=>4986, :pred=>0.0, :error=>759.1944955192935, :fitness=>0.02216996995951869, :exp=>1.0, :setsize=>17.0, :num=>1.0, :dvote=>17.459313801942635}, {:condition=>\"1##0##\", :action=>\"0\", :lasttime=>4986, :pred=>759.1944955192935, :error=>67.77658241225747, :fitness=>0.027712462448497246, :exp=>0.0, :setsize=>15.703783670516287, :num=>1.0, :dvote=>15.703783670516287}, {:condition=>\"000##0\", :action=>\"0\", :lasttime=>4988, :pred=>1000.0, :error=>0.0, :fitness=>0.47448039366650485, :exp=>1.0, :setsize=>16.0, :num=>1.0, :dvote=>14.481228741217302}]"
      ]
     },
     "execution_count": 105,
     "metadata": {},
     "output_type": "execute_result"
    }
   ],
   "source": [
    "# problem configuration\n",
    "all_actions = ['0', '1']\n",
    "\n",
    "# algorithm configuration\n",
    "max_gens, pop_size = 5000, 200\n",
    "ga_freq = 25\n",
    "\n",
    "# execute the algorithm\n",
    "execute(pop_size, max_gens, all_actions, ga_freq)"
   ]
  },
  {
   "cell_type": "markdown",
   "metadata": {},
   "source": [
    "## Non-denominated Sorting Genetic Algorithm"
   ]
  },
  {
   "cell_type": "code",
   "execution_count": 106,
   "metadata": {},
   "outputs": [
    {
     "data": {
      "text/plain": [
       ":objective1"
      ]
     },
     "execution_count": 106,
     "metadata": {},
     "output_type": "execute_result"
    }
   ],
   "source": [
    "def objective1(vector)\n",
    "  return vector.inject(0.0) {|sum, x| sum + (x**2.0)}\n",
    "end"
   ]
  },
  {
   "cell_type": "code",
   "execution_count": 107,
   "metadata": {},
   "outputs": [
    {
     "data": {
      "text/plain": [
       ":objective2"
      ]
     },
     "execution_count": 107,
     "metadata": {},
     "output_type": "execute_result"
    }
   ],
   "source": [
    "def objective2(vector)\n",
    "  return vector.inject(0.0) {|sum, x| sum + ((x-2.0)**2.0)}\n",
    "end"
   ]
  },
  {
   "cell_type": "code",
   "execution_count": 108,
   "metadata": {},
   "outputs": [
    {
     "data": {
      "text/plain": [
       ":decode"
      ]
     },
     "execution_count": 108,
     "metadata": {},
     "output_type": "execute_result"
    }
   ],
   "source": [
    "def decode(bitstring, search_space, bits_per_param)\n",
    "  vector = []\n",
    "  search_space.each_with_index do |bounds, i|\n",
    "    off, sum = i*bits_per_param, 0.0\n",
    "    param = bitstring[off...(off+bits_per_param)].reverse\n",
    "    param.size.times do |j|\n",
    "      sum += ((param[j].chr=='1') ? 1.0 : 0.0) * (2.0 ** j.to_f)\n",
    "    end\n",
    "    min, max = bounds\n",
    "    vector << min + ((max-min)/((2.0**bits_per_param.to_f)-1.0)) * sum\n",
    "  end\n",
    "  return vector\n",
    "end"
   ]
  },
  {
   "cell_type": "code",
   "execution_count": 109,
   "metadata": {},
   "outputs": [
    {
     "data": {
      "text/plain": [
       ":random_bitstring"
      ]
     },
     "execution_count": 109,
     "metadata": {},
     "output_type": "execute_result"
    }
   ],
   "source": [
    "def random_bitstring(num_bits)\n",
    "  return (0...num_bits).inject(\"\"){|s,i| s<<((rand<0.5) ? \"1\" : \"0\")}\n",
    "end"
   ]
  },
  {
   "cell_type": "code",
   "execution_count": 110,
   "metadata": {},
   "outputs": [
    {
     "data": {
      "text/plain": [
       ":point_mutation"
      ]
     },
     "execution_count": 110,
     "metadata": {},
     "output_type": "execute_result"
    }
   ],
   "source": [
    "def point_mutation(bitstring, rate=1.0/bitstring.size)\n",
    "  child = \"\"\n",
    "   bitstring.size.times do |i|\n",
    "     bit = bitstring[i].chr\n",
    "     child << ((rand()<rate) ? ((bit=='1') ? \"0\" : \"1\") : bit)\n",
    "  end\n",
    "  return child\n",
    "end"
   ]
  },
  {
   "cell_type": "code",
   "execution_count": 111,
   "metadata": {},
   "outputs": [
    {
     "data": {
      "text/plain": [
       ":crossover"
      ]
     },
     "execution_count": 111,
     "metadata": {},
     "output_type": "execute_result"
    }
   ],
   "source": [
    "def crossover(parent1, parent2, rate)\n",
    "  return \"\"+parent1 if rand()>=rate\n",
    "  child = \"\"\n",
    "  parent1.size.times do |i| \n",
    "    child << ((rand()<0.5) ? parent1[i].chr : parent2[i].chr)\n",
    "  end\n",
    "  return child\n",
    "end"
   ]
  },
  {
   "cell_type": "code",
   "execution_count": 112,
   "metadata": {},
   "outputs": [
    {
     "data": {
      "text/plain": [
       ":reproduce"
      ]
     },
     "execution_count": 112,
     "metadata": {},
     "output_type": "execute_result"
    }
   ],
   "source": [
    "def reproduce(selected, pop_size, p_cross)\n",
    "  children = []  \n",
    "  selected.each_with_index do |p1, i|\n",
    "    p2 = (i.modulo(2)==0) ? selected[i+1] : selected[i-1]\n",
    "    p2 = selected[0] if i == selected.size-1\n",
    "    child = {}\n",
    "    child[:bitstring] = crossover(p1[:bitstring], p2[:bitstring], p_cross)\n",
    "    child[:bitstring] = point_mutation(child[:bitstring])\n",
    "    children << child\n",
    "    break if children.size >= pop_size\n",
    "  end\n",
    "  return children\n",
    "end"
   ]
  },
  {
   "cell_type": "code",
   "execution_count": 113,
   "metadata": {},
   "outputs": [
    {
     "data": {
      "text/plain": [
       ":calculate_objectives"
      ]
     },
     "execution_count": 113,
     "metadata": {},
     "output_type": "execute_result"
    }
   ],
   "source": [
    "def calculate_objectives(pop, search_space, bits_per_param)\n",
    "  pop.each do |p|\n",
    "    p[:vector] = decode(p[:bitstring], search_space, bits_per_param)\n",
    "    p[:objectives] = [objective1(p[:vector]), objective2(p[:vector])]\n",
    "  end\n",
    "end"
   ]
  },
  {
   "cell_type": "code",
   "execution_count": 114,
   "metadata": {},
   "outputs": [
    {
     "data": {
      "text/plain": [
       ":dominates"
      ]
     },
     "execution_count": 114,
     "metadata": {},
     "output_type": "execute_result"
    }
   ],
   "source": [
    "def dominates(p1, p2)\n",
    "  p1[:objectives].each_index do |i|\n",
    "    return false if p1[:objectives][i] > p2[:objectives][i]\n",
    "  end\n",
    "  return true\n",
    "end"
   ]
  },
  {
   "cell_type": "code",
   "execution_count": 115,
   "metadata": {},
   "outputs": [
    {
     "data": {
      "text/plain": [
       ":fast_nondominated_sort"
      ]
     },
     "execution_count": 115,
     "metadata": {},
     "output_type": "execute_result"
    }
   ],
   "source": [
    "def fast_nondominated_sort(pop)\n",
    "  fronts = Array.new(1){[]}\n",
    "  pop.each do |p1|\n",
    "    p1[:dom_count], p1[:dom_set] = 0, []\n",
    "    pop.each do |p2|      \n",
    "      if dominates(p1, p2)        \n",
    "        p1[:dom_set] << p2\n",
    "      elsif dominates(p2, p1)\n",
    "        p1[:dom_count] += 1\n",
    "      end\n",
    "    end\n",
    "    if p1[:dom_count] == 0 \n",
    "      p1[:rank] = 0\n",
    "      fronts.first << p1\n",
    "    end\n",
    "  end  \n",
    "  curr = 0\n",
    "  begin\n",
    "    next_front = []\n",
    "    fronts[curr].each do |p1|\n",
    "      p1[:dom_set].each do |p2|\n",
    "        p2[:dom_count] -= 1\n",
    "        if p2[:dom_count] == 0          \n",
    "          p2[:rank] = (curr+1)\n",
    "          next_front << p2\n",
    "        end\n",
    "      end      \n",
    "    end\n",
    "    curr += 1\n",
    "    fronts << next_front if !next_front.empty?\n",
    "  end while curr < fronts.size\n",
    "  return fronts\n",
    "end"
   ]
  },
  {
   "cell_type": "code",
   "execution_count": 116,
   "metadata": {},
   "outputs": [
    {
     "data": {
      "text/plain": [
       ":calculate_crowding_distance"
      ]
     },
     "execution_count": 116,
     "metadata": {},
     "output_type": "execute_result"
    }
   ],
   "source": [
    "def calculate_crowding_distance(pop)\n",
    "  pop.each {|p| p[:dist] = 0.0}\n",
    "  num_obs = pop.first[:objectives].size\n",
    "  num_obs.times do |i|\n",
    "    min = pop.min{|x,y| x[:objectives][i]<=>y[:objectives][i]}\n",
    "    max = pop.max{|x,y| x[:objectives][i]<=>y[:objectives][i]}\n",
    "    rge = max[:objectives][i] - min[:objectives][i]\n",
    "    pop.first[:dist], pop.last[:dist] = 1.0/0.0, 1.0/0.0\n",
    "    next if rge == 0.0\n",
    "    (1...(pop.size-1)).each do |j|\n",
    "      pop[j][:dist]+=(pop[j+1][:objectives][i]-pop[j-1][:objectives][i])/rge\n",
    "    end  \n",
    "  end\n",
    "end"
   ]
  },
  {
   "cell_type": "code",
   "execution_count": 117,
   "metadata": {},
   "outputs": [
    {
     "data": {
      "text/plain": [
       ":crowded_comparison_operator"
      ]
     },
     "execution_count": 117,
     "metadata": {},
     "output_type": "execute_result"
    }
   ],
   "source": [
    "def crowded_comparison_operator(x,y)\n",
    "  return y[:dist]<=>x[:dist] if x[:rank] == y[:rank]\n",
    "  return x[:rank]<=>y[:rank]\n",
    "end"
   ]
  },
  {
   "cell_type": "code",
   "execution_count": 118,
   "metadata": {},
   "outputs": [
    {
     "data": {
      "text/plain": [
       ":better"
      ]
     },
     "execution_count": 118,
     "metadata": {},
     "output_type": "execute_result"
    }
   ],
   "source": [
    "def better(x,y)\n",
    "  if !x[:dist].nil? and x[:rank] == y[:rank]\n",
    "    return (x[:dist]>y[:dist]) ? x : y\n",
    "  end\n",
    "  return (x[:rank]<y[:rank]) ? x : y\n",
    "end"
   ]
  },
  {
   "cell_type": "code",
   "execution_count": 119,
   "metadata": {},
   "outputs": [
    {
     "data": {
      "text/plain": [
       ":select_parents"
      ]
     },
     "execution_count": 119,
     "metadata": {},
     "output_type": "execute_result"
    }
   ],
   "source": [
    "def select_parents(fronts, pop_size)  \n",
    "  fronts.each {|f| calculate_crowding_distance(f)}\n",
    "  offspring, last_front = [], 0\n",
    "  fronts.each do |front|\n",
    "    break if (offspring.size+front.size) > pop_size\n",
    "    front.each {|p| offspring << p}\n",
    "    last_front += 1\n",
    "  end  \n",
    "  if (remaining = pop_size-offspring.size) > 0\n",
    "    fronts[last_front].sort! {|x,y| crowded_comparison_operator(x,y)}\n",
    "    offspring += fronts[last_front][0...remaining]\n",
    "  end\n",
    "  return offspring\n",
    "end"
   ]
  },
  {
   "cell_type": "code",
   "execution_count": 120,
   "metadata": {},
   "outputs": [
    {
     "data": {
      "text/plain": [
       ":weighted_sum"
      ]
     },
     "execution_count": 120,
     "metadata": {},
     "output_type": "execute_result"
    }
   ],
   "source": [
    "def weighted_sum(x)\n",
    "  return x[:objectives].inject(0.0) {|sum, x| sum+x}\n",
    "end"
   ]
  },
  {
   "cell_type": "code",
   "execution_count": 121,
   "metadata": {},
   "outputs": [
    {
     "data": {
      "text/plain": [
       ":search"
      ]
     },
     "execution_count": 121,
     "metadata": {},
     "output_type": "execute_result"
    }
   ],
   "source": [
    "def search(search_space, max_gens, pop_size, p_cross, bits_per_param=16)\n",
    "  pop = Array.new(pop_size) do |i|\n",
    "    {:bitstring=>random_bitstring(search_space.size*bits_per_param)}\n",
    "  end\n",
    "  calculate_objectives(pop, search_space, bits_per_param)\n",
    "  fast_nondominated_sort(pop)\n",
    "  selected = Array.new(pop_size) do \n",
    "    better(pop[rand(pop_size)], pop[rand(pop_size)])\n",
    "  end\n",
    "  children = reproduce(selected, pop_size, p_cross)  \n",
    "  calculate_objectives(children, search_space, bits_per_param)\n",
    "  max_gens.times do |gen|  \n",
    "    union = pop + children  \n",
    "    fronts = fast_nondominated_sort(union)  \n",
    "    parents = select_parents(fronts, pop_size)\n",
    "    selected = Array.new(pop_size) do \n",
    "      better(parents[rand(pop_size)], parents[rand(pop_size)])\n",
    "    end\n",
    "    pop = children\n",
    "    children = reproduce(selected, pop_size, p_cross)    \n",
    "    calculate_objectives(children, search_space, bits_per_param)\n",
    "    best = parents.sort!{|x,y| weighted_sum(x)<=>weighted_sum(y)}.first    \n",
    "    best_s = \"[x=#{best[:vector]}, objs=#{best[:objectives].join(', ')}]\"\n",
    "    #puts \" > gen=#{gen+1}, fronts=#{fronts.size}, best=#{best_s}\"\n",
    "  end  \n",
    "  union = pop + children  \n",
    "  fronts = fast_nondominated_sort(union)  \n",
    "  parents = select_parents(fronts, pop_size)\n",
    "  return parents\n",
    "end"
   ]
  },
  {
   "cell_type": "code",
   "execution_count": 122,
   "metadata": {},
   "outputs": [
    {
     "name": "stdout",
     "output_type": "stream",
     "text": [
      "done!\n"
     ]
    }
   ],
   "source": [
    "# problem configuration\n",
    "problem_size = 1\n",
    "search_space = Array.new(problem_size) {|i| [-10, 10]}\n",
    "\n",
    "# algorithm configuration\n",
    "max_gens = 50\n",
    "pop_size = 100\n",
    "p_cross = 0.98\n",
    "\n",
    "# execute the algorithm\n",
    "pop = search(search_space, max_gens, pop_size, p_cross)\n",
    "puts \"done!\""
   ]
  },
  {
   "cell_type": "markdown",
   "metadata": {},
   "source": [
    "## Strength Pareto Evolutionary Algorithm 2 (SPEA2)"
   ]
  },
  {
   "cell_type": "code",
   "execution_count": 123,
   "metadata": {},
   "outputs": [
    {
     "data": {
      "text/plain": [
       ":objective1"
      ]
     },
     "execution_count": 123,
     "metadata": {},
     "output_type": "execute_result"
    }
   ],
   "source": [
    "def objective1(vector)\n",
    "  return vector.inject(0.0) {|sum, x| sum + (x**2.0)}\n",
    "end"
   ]
  },
  {
   "cell_type": "code",
   "execution_count": 124,
   "metadata": {},
   "outputs": [
    {
     "data": {
      "text/plain": [
       ":objective2"
      ]
     },
     "execution_count": 124,
     "metadata": {},
     "output_type": "execute_result"
    }
   ],
   "source": [
    "def objective2(vector)\n",
    "  return vector.inject(0.0) {|sum, x| sum + ((x-2.0)**2.0)}\n",
    "end"
   ]
  },
  {
   "cell_type": "code",
   "execution_count": 125,
   "metadata": {},
   "outputs": [
    {
     "data": {
      "text/plain": [
       ":decode"
      ]
     },
     "execution_count": 125,
     "metadata": {},
     "output_type": "execute_result"
    }
   ],
   "source": [
    "def decode(bitstring, search_space, bits_per_param)\n",
    "  vector = []\n",
    "  search_space.each_with_index do |bounds, i|\n",
    "    off, sum = i*bits_per_param, 0.0\n",
    "    param = bitstring[off...(off+bits_per_param)].reverse\n",
    "    param.size.times do |j|\n",
    "      sum += ((param[j].chr=='1') ? 1.0 : 0.0) * (2.0 ** j.to_f)\n",
    "    end\n",
    "    min, max = bounds\n",
    "    vector << min + ((max-min)/((2.0**bits_per_param.to_f)-1.0)) * sum\n",
    "  end\n",
    "  return vector\n",
    "end"
   ]
  },
  {
   "cell_type": "code",
   "execution_count": 126,
   "metadata": {},
   "outputs": [
    {
     "data": {
      "text/plain": [
       ":point_mutation"
      ]
     },
     "execution_count": 126,
     "metadata": {},
     "output_type": "execute_result"
    }
   ],
   "source": [
    "def point_mutation(bitstring, rate=1.0/bitstring.size)\n",
    "  child = \"\"\n",
    "   bitstring.size.times do |i|\n",
    "     bit = bitstring[i].chr\n",
    "     child << ((rand()<rate) ? ((bit=='1') ? \"0\" : \"1\") : bit)\n",
    "  end\n",
    "  return child\n",
    "end"
   ]
  },
  {
   "cell_type": "code",
   "execution_count": 127,
   "metadata": {},
   "outputs": [
    {
     "data": {
      "text/plain": [
       ":binary_tournament"
      ]
     },
     "execution_count": 127,
     "metadata": {},
     "output_type": "execute_result"
    }
   ],
   "source": [
    "def binary_tournament(pop)\n",
    "  i, j = rand(pop.size), rand(pop.size)\n",
    "  j = rand(pop.size) while j==i\n",
    "  return (pop[i][:fitness] < pop[j][:fitness]) ? pop[i] : pop[j]\n",
    "end"
   ]
  },
  {
   "cell_type": "code",
   "execution_count": 128,
   "metadata": {},
   "outputs": [
    {
     "data": {
      "text/plain": [
       ":crossover"
      ]
     },
     "execution_count": 128,
     "metadata": {},
     "output_type": "execute_result"
    }
   ],
   "source": [
    "def crossover(parent1, parent2, rate)\n",
    "  return \"\"+parent1 if rand()>=rate\n",
    "  child = \"\"\n",
    "  parent1.size.times do |i| \n",
    "    child << ((rand()<0.5) ? parent1[i].chr : parent2[i].chr)\n",
    "  end\n",
    "  return child\n",
    "end"
   ]
  },
  {
   "cell_type": "code",
   "execution_count": 129,
   "metadata": {},
   "outputs": [
    {
     "data": {
      "text/plain": [
       ":reproduce"
      ]
     },
     "execution_count": 129,
     "metadata": {},
     "output_type": "execute_result"
    }
   ],
   "source": [
    "def reproduce(selected, pop_size, p_cross)\n",
    "  children = []  \n",
    "  selected.each_with_index do |p1, i|\n",
    "    p2 = (i.modulo(2)==0) ? selected[i+1] : selected[i-1]\n",
    "    p2 = selected[0] if i == selected.size-1\n",
    "    child = {}\n",
    "    child[:bitstring] = crossover(p1[:bitstring], p2[:bitstring], p_cross)\n",
    "    child[:bitstring] = point_mutation(child[:bitstring])\n",
    "    children << child\n",
    "    break if children.size >= pop_size\n",
    "  end\n",
    "  return children\n",
    "end"
   ]
  },
  {
   "cell_type": "code",
   "execution_count": 130,
   "metadata": {},
   "outputs": [
    {
     "data": {
      "text/plain": [
       ":random_bitstring"
      ]
     },
     "execution_count": 130,
     "metadata": {},
     "output_type": "execute_result"
    }
   ],
   "source": [
    "def random_bitstring(num_bits)\n",
    "  return (0...num_bits).inject(\"\"){|s,i| s<<((rand<0.5) ? \"1\" : \"0\")}\n",
    "end"
   ]
  },
  {
   "cell_type": "code",
   "execution_count": 131,
   "metadata": {},
   "outputs": [
    {
     "data": {
      "text/plain": [
       ":calculate_objectives"
      ]
     },
     "execution_count": 131,
     "metadata": {},
     "output_type": "execute_result"
    }
   ],
   "source": [
    "def calculate_objectives(pop, search_space, bits_per_param)\n",
    "  pop.each do |p|\n",
    "    p[:vector] = decode(p[:bitstring], search_space, bits_per_param)\n",
    "    p[:objectives] = []\n",
    "    p[:objectives] << objective1(p[:vector])\n",
    "    p[:objectives] << objective2(p[:vector])\n",
    "  end\n",
    "end"
   ]
  },
  {
   "cell_type": "code",
   "execution_count": 132,
   "metadata": {},
   "outputs": [
    {
     "data": {
      "text/plain": [
       ":dominates?"
      ]
     },
     "execution_count": 132,
     "metadata": {},
     "output_type": "execute_result"
    }
   ],
   "source": [
    "def dominates?(p1, p2)\n",
    "  p1[:objectives].each_index do |i|\n",
    "    return false if p1[:objectives][i] > p2[:objectives][i]\n",
    "  end\n",
    "  return true\n",
    "end"
   ]
  },
  {
   "cell_type": "code",
   "execution_count": 133,
   "metadata": {},
   "outputs": [
    {
     "data": {
      "text/plain": [
       ":weighted_sum"
      ]
     },
     "execution_count": 133,
     "metadata": {},
     "output_type": "execute_result"
    }
   ],
   "source": [
    "def weighted_sum(x)\n",
    "  return x[:objectives].inject(0.0) {|sum, x| sum+x}\n",
    "end"
   ]
  },
  {
   "cell_type": "code",
   "execution_count": 134,
   "metadata": {},
   "outputs": [
    {
     "data": {
      "text/plain": [
       ":euclidean_distance"
      ]
     },
     "execution_count": 134,
     "metadata": {},
     "output_type": "execute_result"
    }
   ],
   "source": [
    "def euclidean_distance(c1, c2)\n",
    "  sum = 0.0\n",
    "  c1.each_index {|i| sum += (c1[i]-c2[i])**2.0}  \n",
    "  return Math.sqrt(sum)\n",
    "end"
   ]
  },
  {
   "cell_type": "code",
   "execution_count": 135,
   "metadata": {},
   "outputs": [
    {
     "data": {
      "text/plain": [
       ":calculate_dominated"
      ]
     },
     "execution_count": 135,
     "metadata": {},
     "output_type": "execute_result"
    }
   ],
   "source": [
    "def calculate_dominated(pop)\n",
    "  pop.each do |p1|\n",
    "    p1[:dom_set] = pop.select {|p2| p1!=p2 and dominates?(p1, p2) }\n",
    "  end  \n",
    "end"
   ]
  },
  {
   "cell_type": "code",
   "execution_count": 136,
   "metadata": {},
   "outputs": [
    {
     "data": {
      "text/plain": [
       ":calculate_raw_fitness"
      ]
     },
     "execution_count": 136,
     "metadata": {},
     "output_type": "execute_result"
    }
   ],
   "source": [
    "def calculate_raw_fitness(p1, pop)\n",
    "  return pop.inject(0.0) do |sum, p2| \n",
    "    (dominates?(p2, p1)) ? sum + p2[:dom_set].size.to_f : sum\n",
    "  end\n",
    "end"
   ]
  },
  {
   "cell_type": "code",
   "execution_count": null,
   "metadata": {},
   "outputs": [],
   "source": []
  }
 ],
 "metadata": {
  "kernelspec": {
   "display_name": "Ruby 2.2.5",
   "language": "ruby",
   "name": "ruby"
  },
  "language_info": {
   "file_extension": ".rb",
   "mimetype": "application/x-ruby",
   "name": "ruby",
   "version": "2.2.5"
  }
 },
 "nbformat": 4,
 "nbformat_minor": 2
}
