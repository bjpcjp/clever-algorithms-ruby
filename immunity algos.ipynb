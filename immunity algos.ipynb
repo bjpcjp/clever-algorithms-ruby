{
 "cells": [
  {
   "cell_type": "markdown",
   "metadata": {},
   "source": [
    "# Immunity Algorithms"
   ]
  },
  {
   "cell_type": "markdown",
   "metadata": {},
   "source": [
    "## AIRS (Artificial Immune Recognition System)"
   ]
  },
  {
   "cell_type": "code",
   "execution_count": 1,
   "metadata": {},
   "outputs": [
    {
     "data": {
      "text/plain": [
       ":random_vector"
      ]
     },
     "execution_count": 1,
     "metadata": {},
     "output_type": "execute_result"
    }
   ],
   "source": [
    "def random_vector(minmax)\n",
    "  return Array.new(minmax.size) do |i|      \n",
    "    minmax[i][0] + ((minmax[i][1] - minmax[i][0]) * rand())\n",
    "  end\n",
    "end"
   ]
  },
  {
   "cell_type": "code",
   "execution_count": 2,
   "metadata": {},
   "outputs": [
    {
     "data": {
      "text/plain": [
       ":generate_random_pattern"
      ]
     },
     "execution_count": 2,
     "metadata": {},
     "output_type": "execute_result"
    }
   ],
   "source": [
    "def generate_random_pattern(domain)  \n",
    "  class_label = domain.keys[rand(domain.keys.size)]\n",
    "  pattern = {:label=>class_label}\n",
    "  pattern[:vector] = random_vector(domain[class_label])\n",
    "  return pattern\n",
    "end"
   ]
  },
  {
   "cell_type": "code",
   "execution_count": 3,
   "metadata": {},
   "outputs": [
    {
     "data": {
      "text/plain": [
       ":create_cell"
      ]
     },
     "execution_count": 3,
     "metadata": {},
     "output_type": "execute_result"
    }
   ],
   "source": [
    "def create_cell(vector, class_label)\n",
    "  return {:label=>class_label, :vector=>vector}\n",
    "end"
   ]
  },
  {
   "cell_type": "code",
   "execution_count": 4,
   "metadata": {},
   "outputs": [
    {
     "data": {
      "text/plain": [
       ":initialize_cells"
      ]
     },
     "execution_count": 4,
     "metadata": {},
     "output_type": "execute_result"
    }
   ],
   "source": [
    "def initialize_cells(domain)\n",
    "  mem_cells = []\n",
    "  domain.keys.each do |key|\n",
    "    mem_cells << create_cell(random_vector([[0,1],[0,1]]), key)\n",
    "  end\n",
    "  return mem_cells\n",
    "end"
   ]
  },
  {
   "cell_type": "code",
   "execution_count": 5,
   "metadata": {},
   "outputs": [
    {
     "data": {
      "text/plain": [
       ":distance"
      ]
     },
     "execution_count": 5,
     "metadata": {},
     "output_type": "execute_result"
    }
   ],
   "source": [
    "def distance(c1, c2)\n",
    "  sum = 0.0\n",
    "  c1.each_index {|i| sum += (c1[i]-c2[i])**2.0}  \n",
    "  return Math.sqrt(sum)\n",
    "end"
   ]
  },
  {
   "cell_type": "code",
   "execution_count": 6,
   "metadata": {},
   "outputs": [
    {
     "data": {
      "text/plain": [
       ":stimulate"
      ]
     },
     "execution_count": 6,
     "metadata": {},
     "output_type": "execute_result"
    }
   ],
   "source": [
    "def stimulate(cells, pattern)\n",
    "  max_dist = distance([0.0,0.0], [1.0,1.0])\n",
    "  cells.each do |cell|\n",
    "    cell[:affinity] = distance(cell[:vector], pattern[:vector]) / max_dist\n",
    "    cell[:stimulation] = 1.0 - cell[:affinity]\n",
    "  end\n",
    "end"
   ]
  },
  {
   "cell_type": "code",
   "execution_count": 7,
   "metadata": {},
   "outputs": [
    {
     "data": {
      "text/plain": [
       ":get_most_stimulated_cell"
      ]
     },
     "execution_count": 7,
     "metadata": {},
     "output_type": "execute_result"
    }
   ],
   "source": [
    "def get_most_stimulated_cell(mem_cells, pattern)\n",
    "  stimulate(mem_cells, pattern)\n",
    "  return mem_cells.sort{|x,y| y[:stimulation] <=> x[:stimulation]}.first\n",
    "end"
   ]
  },
  {
   "cell_type": "code",
   "execution_count": 8,
   "metadata": {},
   "outputs": [
    {
     "data": {
      "text/plain": [
       ":mutate_cell"
      ]
     },
     "execution_count": 8,
     "metadata": {},
     "output_type": "execute_result"
    }
   ],
   "source": [
    "def mutate_cell(cell, best_match)\n",
    "  range = 1.0 - best_match[:stimulation]\n",
    "  cell[:vector].each_with_index do |v,i|\n",
    "    min = [(v-(range/2.0)), 0.0].max\n",
    "    max = [(v+(range/2.0)), 1.0].min\n",
    "    cell[:vector][i] = min + (rand() * (max-min))\n",
    "  end\n",
    "  return cell\n",
    "end"
   ]
  },
  {
   "cell_type": "code",
   "execution_count": 9,
   "metadata": {},
   "outputs": [
    {
     "data": {
      "text/plain": [
       ":create_arb_pool"
      ]
     },
     "execution_count": 9,
     "metadata": {},
     "output_type": "execute_result"
    }
   ],
   "source": [
    "def create_arb_pool(pattern, best_match, clone_rate, mutate_rate)\n",
    "  pool = []\n",
    "  pool << create_cell(best_match[:vector], best_match[:label])\n",
    "  num_clones = (best_match[:stimulation] * clone_rate * mutate_rate).round\n",
    "  num_clones.times do \n",
    "    cell = create_cell(best_match[:vector], best_match[:label])\n",
    "    pool << mutate_cell(cell, best_match)\n",
    "  end\n",
    "  return pool\n",
    "end"
   ]
  },
  {
   "cell_type": "code",
   "execution_count": 10,
   "metadata": {},
   "outputs": [
    {
     "data": {
      "text/plain": [
       ":competition_for_resources"
      ]
     },
     "execution_count": 10,
     "metadata": {},
     "output_type": "execute_result"
    }
   ],
   "source": [
    "def competition_for_resources(pool, clone_rate, max_res)\n",
    "  pool.each {|cell| cell[:resources] = cell[:stimulation] * clone_rate}\n",
    "  pool.sort!{|x,y| x[:resources] <=> y[:resources]}\n",
    "  total_resources = pool.inject(0.0){|sum,cell| sum + cell[:resources]}\n",
    "  while total_resources > max_res\n",
    "    cell = pool.delete_at(pool.size-1)\n",
    "    total_resources -= cell[:resources]\n",
    "  end\n",
    "end"
   ]
  },
  {
   "cell_type": "code",
   "execution_count": 19,
   "metadata": {},
   "outputs": [
    {
     "data": {
      "text/plain": [
       ":refine_arb_pool"
      ]
     },
     "execution_count": 19,
     "metadata": {},
     "output_type": "execute_result"
    }
   ],
   "source": [
    "def refine_arb_pool(pool, pattern, stim_thresh, clone_rate, max_res)  \n",
    "  mean_stim, candidate = 0.0, nil\n",
    "  begin\n",
    "    stimulate(pool, pattern)\n",
    "    candidate = pool.sort{|x,y| y[:stimulation] <=> x[:stimulation]}.first\n",
    "    mean_stim = pool.inject(0.0){|s,c| s + c[:stimulation]} / pool.size\n",
    "    if mean_stim < stim_thresh\n",
    "      candidate = competition_for_resources(pool, clone_rate, max_res)\n",
    "      pool.size.times do |i|\n",
    "        cell = create_cell(pool[i][:vector], pool[i][:label])\n",
    "        mutate_cell(cell, pool[i])\n",
    "        pool << cell\n",
    "      end\n",
    "    end\n",
    "  end until mean_stim >= stim_thresh   \n",
    "  return candidate\n",
    "end"
   ]
  },
  {
   "cell_type": "code",
   "execution_count": 20,
   "metadata": {},
   "outputs": [
    {
     "data": {
      "text/plain": [
       ":add_candidate_to_memory_pool"
      ]
     },
     "execution_count": 20,
     "metadata": {},
     "output_type": "execute_result"
    }
   ],
   "source": [
    "def add_candidate_to_memory_pool(candidate, best_match, mem_cells)\n",
    "  if candidate[:stimulation] > best_match[:stimulation]\n",
    "    mem_cells << candidate\n",
    "  end\n",
    "end"
   ]
  },
  {
   "cell_type": "code",
   "execution_count": 21,
   "metadata": {},
   "outputs": [
    {
     "data": {
      "text/plain": [
       ":classify_pattern"
      ]
     },
     "execution_count": 21,
     "metadata": {},
     "output_type": "execute_result"
    }
   ],
   "source": [
    "def classify_pattern(mem_cells, pattern)\n",
    "  stimulate(mem_cells, pattern)\n",
    "  return mem_cells.sort{|x,y| y[:stimulation] <=> x[:stimulation]}.first\n",
    "end"
   ]
  },
  {
   "cell_type": "code",
   "execution_count": 26,
   "metadata": {},
   "outputs": [
    {
     "data": {
      "text/plain": [
       ":train_system"
      ]
     },
     "execution_count": 26,
     "metadata": {},
     "output_type": "execute_result"
    }
   ],
   "source": [
    "def train_system(mem_cells, domain, num_patterns, clone_rate, mutate_rate, stim_thresh, max_res)\n",
    "  num_patterns.times do |i|\n",
    "    pattern = generate_random_pattern(domain)\n",
    "    best_match = get_most_stimulated_cell(mem_cells, pattern)\n",
    "    if best_match[:label] != pattern[:label]\n",
    "      mem_cells << create_cell(pattern[:vector], pattern[:label])\n",
    "    elsif best_match[:stimulation] < 1.0\n",
    "      pool = create_arb_pool(pattern, best_match, clone_rate, mutate_rate)\n",
    "      cand = refine_arb_pool(pool,pattern, stim_thresh, clone_rate, max_res)\n",
    "      add_candidate_to_memory_pool(cand, best_match, mem_cells)\n",
    "    end\n",
    "    #puts \" > iter=#{i+1}, mem_cells=#{mem_cells.size}\"\n",
    "  end\n",
    "end"
   ]
  },
  {
   "cell_type": "code",
   "execution_count": 27,
   "metadata": {},
   "outputs": [
    {
     "data": {
      "text/plain": [
       ":test_system"
      ]
     },
     "execution_count": 27,
     "metadata": {},
     "output_type": "execute_result"
    }
   ],
   "source": [
    "def test_system(mem_cells, domain, num_trials=50)\n",
    "  correct = 0\n",
    "  num_trials.times do \n",
    "    pattern = generate_random_pattern(domain)\n",
    "    best = classify_pattern(mem_cells, pattern)\n",
    "    correct += 1 if best[:label] == pattern[:label]\n",
    "  end\n",
    "  #puts \"Finished test with a score of #{correct}/#{num_trials}\"\n",
    "  return correct\n",
    "end"
   ]
  },
  {
   "cell_type": "code",
   "execution_count": 28,
   "metadata": {},
   "outputs": [
    {
     "data": {
      "text/plain": [
       ":execute"
      ]
     },
     "execution_count": 28,
     "metadata": {},
     "output_type": "execute_result"
    }
   ],
   "source": [
    "def execute(domain, num_patterns, clone_rate, mutate_rate, stim_thresh, max_res)  \n",
    "  mem_cells = initialize_cells(domain)\n",
    "  train_system(mem_cells, domain, num_patterns, clone_rate, mutate_rate, stim_thresh, max_res)\n",
    "  test_system(mem_cells, domain)\n",
    "  return mem_cells\n",
    "end"
   ]
  },
  {
   "cell_type": "code",
   "execution_count": 30,
   "metadata": {},
   "outputs": [
    {
     "data": {
      "text/plain": [
       "[{:label=>\"A\", :vector=>[0.20004063852829315, 0.22211153063858124], :affinity=>0.16067141553984673, :stimulation=>0.8393285844601532}, {:label=>\"B\", :vector=>[0.9577024063285609, 0.7508360728248049], :affinity=>0.6784435838737568, :stimulation=>0.3215564161262432}, {:label=>\"B\", :vector=>[0.9577024063285609, 0.7508360728248049], :affinity=>0.6784435838737568, :stimulation=>0.3215564161262432, :resources=>6.907255660453178}, {:label=>\"B\", :vector=>[0.9577024063285609, 0.7508360728248049], :affinity=>0.6784435838737568, :stimulation=>0.3215564161262432, :resources=>8.54496984390298}, {:label=>\"A\", :vector=>[0.20004063852829315, 0.22211153063858124], :affinity=>0.16067141553984673, :stimulation=>0.8393285844601532, :resources=>7.954637082527562}, {:label=>\"A\", :vector=>[0.20004063852829315, 0.22211153063858124], :affinity=>0.16067141553984673, :stimulation=>0.8393285844601532}, {:label=>\"B\", :vector=>[0.9577024063285609, 0.7508360728248049], :affinity=>0.6784435838737568, :stimulation=>0.3215564161262432, :resources=>4.858087781052197}, {:label=>\"B\", :vector=>[0.9577024063285609, 0.7508360728248049], :affinity=>0.6784435838737568, :stimulation=>0.3215564161262432}, {:label=>\"B\", :vector=>[0.9577024063285609, 0.7508360728248049], :affinity=>0.6784435838737568, :stimulation=>0.3215564161262432}, {:label=>\"B\", :vector=>[0.9577024063285609, 0.7508360728248049], :affinity=>0.6784435838737568, :stimulation=>0.3215564161262432, :resources=>5.269523146871814}, {:label=>\"A\", :vector=>[0.20004063852829315, 0.22211153063858124], :affinity=>0.16067141553984673, :stimulation=>0.8393285844601532, :resources=>4.282988653877543}, {:label=>\"A\", :vector=>[0.20004063852829315, 0.22211153063858124], :affinity=>0.16067141553984673, :stimulation=>0.8393285844601532, :resources=>8.980027620092738}, {:label=>\"B\", :vector=>[0.9577024063285609, 0.7508360728248049], :affinity=>0.6784435838737568, :stimulation=>0.3215564161262432, :resources=>8.693607569616074}, {:label=>\"A\", :vector=>[0.20004063852829315, 0.22211153063858124], :affinity=>0.16067141553984673, :stimulation=>0.8393285844601532, :resources=>7.379869832132267}, {:label=>\"A\", :vector=>[0.20004063852829315, 0.22211153063858124], :affinity=>0.16067141553984673, :stimulation=>0.8393285844601532, :resources=>4.421057249778331}, {:label=>\"B\", :vector=>[0.9577024063285609, 0.7508360728248049], :affinity=>0.6784435838737568, :stimulation=>0.3215564161262432, :resources=>4.673155047487315}, {:label=>\"A\", :vector=>[0.20004063852829315, 0.22211153063858124], :affinity=>0.16067141553984673, :stimulation=>0.8393285844601532, :resources=>8.177931772910537}, {:label=>\"B\", :vector=>[0.9577024063285609, 0.7508360728248049], :affinity=>0.6784435838737568, :stimulation=>0.3215564161262432, :resources=>8.983014732027003}, {:label=>\"A\", :vector=>[0.20004063852829315, 0.22211153063858124], :affinity=>0.16067141553984673, :stimulation=>0.8393285844601532, :resources=>8.423937513208706}, {:label=>\"B\", :vector=>[0.9577024063285609, 0.7508360728248049], :affinity=>0.6784435838737568, :stimulation=>0.3215564161262432, :resources=>7.38374777209237}, {:label=>\"B\", :vector=>[0.9577024063285609, 0.7508360728248049], :affinity=>0.6784435838737568, :stimulation=>0.3215564161262432, :resources=>4.341149683790968}, {:label=>\"B\", :vector=>[0.9577024063285609, 0.7508360728248049], :affinity=>0.6784435838737568, :stimulation=>0.3215564161262432, :resources=>6.7157126134113}, {:label=>\"A\", :vector=>[0.41186976655645885, 0.31636161264666834], :affinity=>0.25408337182096014, :stimulation=>0.7459166281790399}, {:label=>\"A\", :vector=>[0.20004063852829315, 0.22211153063858124], :affinity=>0.16067141553984673, :stimulation=>0.8393285844601532}, {:label=>\"B\", :vector=>[0.9577024063285609, 0.7508360728248049], :affinity=>0.6784435838737568, :stimulation=>0.3215564161262432}, {:label=>\"A\", :vector=>[0.20004063852829315, 0.22211153063858124], :affinity=>0.16067141553984673, :stimulation=>0.8393285844601532}, {:label=>\"A\", :vector=>[0.41186976655645885, 0.31636161264666834], :affinity=>0.25408337182096014, :stimulation=>0.7459166281790399, :resources=>8.51641943471886}, {:label=>\"A\", :vector=>[0.20004063852829315, 0.22211153063858124], :affinity=>0.16067141553984673, :stimulation=>0.8393285844601532}, {:label=>\"B\", :vector=>[0.9577024063285609, 0.7508360728248049], :affinity=>0.6784435838737568, :stimulation=>0.3215564161262432, :resources=>8.951874270092365}, {:label=>\"A\", :vector=>[0.41186976655645885, 0.31636161264666834], :affinity=>0.25408337182096014, :stimulation=>0.7459166281790399}, {:label=>\"A\", :vector=>[0.41186976655645885, 0.31636161264666834], :affinity=>0.25408337182096014, :stimulation=>0.7459166281790399, :resources=>8.32040474469158}, {:label=>\"B\", :vector=>[0.9577024063285609, 0.7508360728248049], :affinity=>0.6784435838737568, :stimulation=>0.3215564161262432, :resources=>8.537296791478886}, {:label=>\"A\", :vector=>[0.41186976655645885, 0.31636161264666834], :affinity=>0.25408337182096014, :stimulation=>0.7459166281790399, :resources=>7.639159505390026}, {:label=>\"A\", :vector=>[0.41186976655645885, 0.31636161264666834], :affinity=>0.25408337182096014, :stimulation=>0.7459166281790399}, {:label=>\"A\", :vector=>[0.20004063852829315, 0.22211153063858124], :affinity=>0.16067141553984673, :stimulation=>0.8393285844601532}, {:label=>\"B\", :vector=>[0.9577024063285609, 0.7508360728248049], :affinity=>0.6784435838737568, :stimulation=>0.3215564161262432}, {:label=>\"B\", :vector=>[0.9577024063285609, 0.7508360728248049], :affinity=>0.6784435838737568, :stimulation=>0.3215564161262432, :resources=>8.491436340730539}, {:label=>\"A\", :vector=>[0.20004063852829315, 0.22211153063858124], :affinity=>0.16067141553984673, :stimulation=>0.8393285844601532, :resources=>5.864071573906258}, {:label=>\"B\", :vector=>[0.9577024063285609, 0.7508360728248049], :affinity=>0.6784435838737568, :stimulation=>0.3215564161262432}, {:label=>\"B\", :vector=>[0.570039150424714, 0.6305006901582243], :affinity=>0.39261578252757734, :stimulation=>0.6073842174724227}, {:label=>\"B\", :vector=>[0.9577024063285609, 0.7508360728248049], :affinity=>0.6784435838737568, :stimulation=>0.3215564161262432, :resources=>7.267356312484599}, {:label=>\"B\", :vector=>[0.9577024063285609, 0.7508360728248049], :affinity=>0.6784435838737568, :stimulation=>0.3215564161262432, :resources=>8.508963658081978}, {:label=>\"B\", :vector=>[0.570039150424714, 0.6305006901582243], :affinity=>0.39261578252757734, :stimulation=>0.6073842174724227, :resources=>8.542455877645038}, {:label=>\"A\", :vector=>[0.20004063852829315, 0.22211153063858124], :affinity=>0.16067141553984673, :stimulation=>0.8393285844601532, :resources=>7.041979352052249}, {:label=>\"B\", :vector=>[0.570039150424714, 0.6305006901582243], :affinity=>0.39261578252757734, :stimulation=>0.6073842174724227, :resources=>7.972519683480721}, {:label=>\"B\", :vector=>[0.570039150424714, 0.6305006901582243], :affinity=>0.39261578252757734, :stimulation=>0.6073842174724227, :resources=>8.560700230954541}, {:label=>\"A\", :vector=>[0.41186976655645885, 0.31636161264666834], :affinity=>0.25408337182096014, :stimulation=>0.7459166281790399}, {:label=>\"A\", :vector=>[0.41186976655645885, 0.31636161264666834], :affinity=>0.25408337182096014, :stimulation=>0.7459166281790399, :resources=>4.801430922049096}, {:label=>\"B\", :vector=>[0.570039150424714, 0.6305006901582243], :affinity=>0.39261578252757734, :stimulation=>0.6073842174724227}]"
      ]
     },
     "execution_count": 30,
     "metadata": {},
     "output_type": "execute_result"
    }
   ],
   "source": [
    "domain = {\"A\"=>[[0,0.4999999],[0,0.4999999]],\"B\"=>[[0.5,1],[0.5,1]]}\n",
    "num_patterns = 50\n",
    "\n",
    "# algorithm configuration\n",
    "clone_rate = 10\n",
    "mutate_rate = 2.0\n",
    "stim_thresh = 0.9\n",
    "max_res = 150\n",
    "\n",
    "# execute the algorithm\n",
    "puts = execute(domain, num_patterns, clone_rate, mutate_rate, stim_thresh, max_res)\n"
   ]
  },
  {
   "cell_type": "markdown",
   "metadata": {},
   "source": [
    "## Clonal Selection Algorithm (CLONALG)"
   ]
  },
  {
   "cell_type": "code",
   "execution_count": 31,
   "metadata": {},
   "outputs": [
    {
     "data": {
      "text/plain": [
       ":objective_function"
      ]
     },
     "execution_count": 31,
     "metadata": {},
     "output_type": "execute_result"
    }
   ],
   "source": [
    "def objective_function(vector)\n",
    "  return vector.inject(0.0) {|sum, x| sum + (x**2.0)}\n",
    "end"
   ]
  },
  {
   "cell_type": "code",
   "execution_count": 32,
   "metadata": {},
   "outputs": [
    {
     "data": {
      "text/plain": [
       ":decode"
      ]
     },
     "execution_count": 32,
     "metadata": {},
     "output_type": "execute_result"
    }
   ],
   "source": [
    "def decode(bitstring, search_space, bits_per_param)\n",
    "  vector = []\n",
    "  search_space.each_with_index do |bounds, i|\n",
    "    off, sum = i*bits_per_param, 0.0\n",
    "    param = bitstring[off...(off+bits_per_param)].reverse\n",
    "    param.size.times do |j|\n",
    "      sum += ((param[j].chr=='1') ? 1.0 : 0.0) * (2.0 ** j.to_f)\n",
    "    end\n",
    "    min, max = bounds\n",
    "    vector << min + ((max-min)/((2.0**bits_per_param.to_f)-1.0)) * sum\n",
    "  end\n",
    "  return vector\n",
    "end"
   ]
  },
  {
   "cell_type": "code",
   "execution_count": 33,
   "metadata": {},
   "outputs": [
    {
     "data": {
      "text/plain": [
       ":evaluate"
      ]
     },
     "execution_count": 33,
     "metadata": {},
     "output_type": "execute_result"
    }
   ],
   "source": [
    "def evaluate(pop, search_space, bits_per_param)\n",
    "  pop.each do |p|\n",
    "    p[:vector] = decode(p[:bitstring], search_space, bits_per_param)\n",
    "    p[:cost] = objective_function(p[:vector])\n",
    "  end\n",
    "end"
   ]
  },
  {
   "cell_type": "code",
   "execution_count": 34,
   "metadata": {},
   "outputs": [
    {
     "data": {
      "text/plain": [
       ":random_bitstring"
      ]
     },
     "execution_count": 34,
     "metadata": {},
     "output_type": "execute_result"
    }
   ],
   "source": [
    "def random_bitstring(num_bits)\n",
    "  return (0...num_bits).inject(\"\"){|s,i| s<<((rand<0.5) ? \"1\" : \"0\")}\n",
    "end"
   ]
  },
  {
   "cell_type": "code",
   "execution_count": 35,
   "metadata": {},
   "outputs": [
    {
     "data": {
      "text/plain": [
       ":point_mutation"
      ]
     },
     "execution_count": 35,
     "metadata": {},
     "output_type": "execute_result"
    }
   ],
   "source": [
    "def point_mutation(bitstring, rate)\n",
    "  child = \"\"\n",
    "   bitstring.size.times do |i|\n",
    "     bit = bitstring[i].chr\n",
    "     child << ((rand()<rate) ? ((bit=='1') ? \"0\" : \"1\") : bit)\n",
    "  end\n",
    "  return child\n",
    "end"
   ]
  },
  {
   "cell_type": "code",
   "execution_count": 36,
   "metadata": {},
   "outputs": [
    {
     "data": {
      "text/plain": [
       ":calculate_mutation_rate"
      ]
     },
     "execution_count": 36,
     "metadata": {},
     "output_type": "execute_result"
    }
   ],
   "source": [
    "def calculate_mutation_rate(antibody, mutate_factor=-2.5)\n",
    "  return Math.exp(mutate_factor * antibody[:affinity])\n",
    "end"
   ]
  },
  {
   "cell_type": "code",
   "execution_count": 37,
   "metadata": {},
   "outputs": [
    {
     "data": {
      "text/plain": [
       ":num_clones"
      ]
     },
     "execution_count": 37,
     "metadata": {},
     "output_type": "execute_result"
    }
   ],
   "source": [
    "def num_clones(pop_size, clone_factor)\n",
    "  return (pop_size * clone_factor).floor\n",
    "end"
   ]
  },
  {
   "cell_type": "code",
   "execution_count": 38,
   "metadata": {},
   "outputs": [
    {
     "data": {
      "text/plain": [
       ":calculate_affinity"
      ]
     },
     "execution_count": 38,
     "metadata": {},
     "output_type": "execute_result"
    }
   ],
   "source": [
    "def calculate_affinity(pop)\n",
    "  pop.sort!{|x,y| x[:cost]<=>y[:cost]}\n",
    "  range = pop.last[:cost] - pop.first[:cost]\n",
    "  if range == 0.0\n",
    "    pop.each {|p| p[:affinity] = 1.0}\n",
    "  else\n",
    "    pop.each {|p| p[:affinity] = 1.0-(p[:cost]/range)}\n",
    "  end\n",
    "end"
   ]
  },
  {
   "cell_type": "code",
   "execution_count": 39,
   "metadata": {},
   "outputs": [
    {
     "data": {
      "text/plain": [
       ":clone_and_hypermutate"
      ]
     },
     "execution_count": 39,
     "metadata": {},
     "output_type": "execute_result"
    }
   ],
   "source": [
    "def clone_and_hypermutate(pop, clone_factor)\n",
    "  clones = []\n",
    "  num_clones = num_clones(pop.size, clone_factor)\n",
    "  calculate_affinity(pop)\n",
    "  pop.each do |antibody|\n",
    "    m_rate = calculate_mutation_rate(antibody)\n",
    "    num_clones.times do \n",
    "      clone = {}\n",
    "      clone[:bitstring] = point_mutation(antibody[:bitstring], m_rate)\n",
    "      clones << clone\n",
    "    end\n",
    "  end\n",
    "  return clones  \n",
    "end"
   ]
  },
  {
   "cell_type": "code",
   "execution_count": 40,
   "metadata": {},
   "outputs": [
    {
     "data": {
      "text/plain": [
       ":random_insertion"
      ]
     },
     "execution_count": 40,
     "metadata": {},
     "output_type": "execute_result"
    }
   ],
   "source": [
    "def random_insertion(search_space, pop, num_rand, bits_per_param)\n",
    "  return pop if num_rand == 0\n",
    "  rands = Array.new(num_rand) do |i|\n",
    "    {:bitstring=>random_bitstring(search_space.size*bits_per_param)}\n",
    "  end\n",
    "  evaluate(rands, search_space, bits_per_param)\n",
    "  return (pop+rands).sort{|x,y| x[:cost]<=>y[:cost]}.first(pop.size)\n",
    "end"
   ]
  },
  {
   "cell_type": "code",
   "execution_count": 41,
   "metadata": {},
   "outputs": [
    {
     "data": {
      "text/plain": [
       ":search"
      ]
     },
     "execution_count": 41,
     "metadata": {},
     "output_type": "execute_result"
    }
   ],
   "source": [
    "def search(search_space, max_gens, pop_size, clone_factor, num_rand, bits_per_param=16)\n",
    "  pop = Array.new(pop_size) do |i|\n",
    "    {:bitstring=>random_bitstring(search_space.size*bits_per_param)}\n",
    "  end\n",
    "  evaluate(pop, search_space, bits_per_param)\n",
    "  best = pop.min{|x,y| x[:cost]<=>y[:cost]}\n",
    "  max_gens.times do |gen|\n",
    "    clones = clone_and_hypermutate(pop, clone_factor)\n",
    "    evaluate(clones, search_space, bits_per_param)\n",
    "    pop = (pop+clones).sort{|x,y| x[:cost]<=>y[:cost]}.first(pop_size)\n",
    "    pop = random_insertion(search_space, pop, num_rand, bits_per_param)\n",
    "    best = (pop + [best]).min{|x,y| x[:cost]<=>y[:cost]}\n",
    "    #puts \" > gen #{gen+1}, f=#{best[:cost]}, s=#{best[:vector].inspect}\"\n",
    "  end  \n",
    "  return best\n",
    "end"
   ]
  },
  {
   "cell_type": "code",
   "execution_count": 42,
   "metadata": {},
   "outputs": [
    {
     "name": "stdout",
     "output_type": "stream",
     "text": [
      "{:bitstring=>\"10000000000000001000000000000000\", :vector=>[7.629510948348184e-05, 7.629510948348184e-05], :cost=>1.164188746219296e-08, :affinity=>1.0}\n"
     ]
    }
   ],
   "source": [
    "# problem configuration\n",
    "problem_size = 2\n",
    "search_space = Array.new(problem_size) {|i| [-5, +5]}\n",
    "\n",
    "# algorithm configuration\n",
    "max_gens = 100\n",
    "pop_size = 100\n",
    "clone_factor = 0.1\n",
    "num_rand = 2\n",
    "\n",
    "# execute the algorithm\n",
    "puts search(search_space, max_gens, pop_size, clone_factor, num_rand)\n",
    "#puts \"done! Solution: f=#{best[:cost]}, s=#{best[:vector].inspect}\""
   ]
  },
  {
   "cell_type": "markdown",
   "metadata": {},
   "source": [
    "## Dendritic Cell Algorithm"
   ]
  },
  {
   "cell_type": "code",
   "execution_count": 43,
   "metadata": {},
   "outputs": [
    {
     "data": {
      "text/plain": [
       ":rand_in_bounds"
      ]
     },
     "execution_count": 43,
     "metadata": {},
     "output_type": "execute_result"
    }
   ],
   "source": [
    "def rand_in_bounds(min, max)\n",
    "  return  min + ((max-min) * rand()) \n",
    "end"
   ]
  },
  {
   "cell_type": "code",
   "execution_count": 44,
   "metadata": {},
   "outputs": [
    {
     "data": {
      "text/plain": [
       ":random_vector"
      ]
     },
     "execution_count": 44,
     "metadata": {},
     "output_type": "execute_result"
    }
   ],
   "source": [
    "def random_vector(search_space)\n",
    "  return Array.new(search_space.size) do |i|   \n",
    "    rand_in_bounds(search_space[i][0], search_space[i][1])\n",
    "  end\n",
    "end"
   ]
  },
  {
   "cell_type": "code",
   "execution_count": 45,
   "metadata": {},
   "outputs": [
    {
     "data": {
      "text/plain": [
       ":construct_pattern"
      ]
     },
     "execution_count": 45,
     "metadata": {},
     "output_type": "execute_result"
    }
   ],
   "source": [
    "def construct_pattern(class_label, domain, p_safe, p_danger)\n",
    "  set = domain[class_label]\n",
    "  selection = rand(set.size)\n",
    "  pattern = {}\n",
    "  pattern[:class_label] = class_label\n",
    "  pattern[:input] = set[selection]\n",
    "  pattern[:safe] = (rand() * p_safe * 100)\n",
    "  pattern[:danger] = (rand() * p_danger * 100)  \n",
    "  return pattern\n",
    "end"
   ]
  },
  {
   "cell_type": "code",
   "execution_count": 62,
   "metadata": {},
   "outputs": [
    {
     "data": {
      "text/plain": [
       ":generate_pattern"
      ]
     },
     "execution_count": 62,
     "metadata": {},
     "output_type": "execute_result"
    }
   ],
   "source": [
    "def generate_pattern(domain, p_anomaly, p_normal, prob_create_anom=0.5)\n",
    "  pattern = nil  \n",
    "  if rand() < prob_create_anom\n",
    "    pattern = construct_pattern(\"Anomaly\", domain, 1.0-p_normal, p_anomaly)\n",
    "    #puts \">Generated Anomaly [#{pattern[:input]}]\"\n",
    "  else\n",
    "    pattern = construct_pattern(\"Normal\", domain, p_normal, 1.0-p_anomaly)\n",
    "  end\n",
    "  return pattern\n",
    "end"
   ]
  },
  {
   "cell_type": "code",
   "execution_count": 63,
   "metadata": {},
   "outputs": [
    {
     "data": {
      "text/plain": [
       ":initialize_cell"
      ]
     },
     "execution_count": 63,
     "metadata": {},
     "output_type": "execute_result"
    }
   ],
   "source": [
    "def initialize_cell(thresh, cell={})\n",
    "  cell[:lifespan] = 1000.0\n",
    "  cell[:k] = 0.0\n",
    "  cell[:cms] = 0.0\n",
    "  cell[:migration_threshold] = rand_in_bounds(thresh[0], thresh[1])\n",
    "  cell[:antigen] = {}\n",
    "  return cell\n",
    "end"
   ]
  },
  {
   "cell_type": "code",
   "execution_count": 64,
   "metadata": {},
   "outputs": [
    {
     "data": {
      "text/plain": [
       ":store_antigen"
      ]
     },
     "execution_count": 64,
     "metadata": {},
     "output_type": "execute_result"
    }
   ],
   "source": [
    "def store_antigen(cell, input)\n",
    "  if cell[:antigen][input].nil?\n",
    "    cell[:antigen][input] = 1\n",
    "  else\n",
    "    cell[:antigen][input] += 1\n",
    "  end\n",
    "end"
   ]
  },
  {
   "cell_type": "code",
   "execution_count": 65,
   "metadata": {},
   "outputs": [
    {
     "data": {
      "text/plain": [
       ":expose_cell"
      ]
     },
     "execution_count": 65,
     "metadata": {},
     "output_type": "execute_result"
    }
   ],
   "source": [
    "def expose_cell(cell, cms, k, pattern, threshold)\n",
    "  cell[:cms] += cms\n",
    "  cell[:k] += k\n",
    "  cell[:lifespan] -= cms \n",
    "  store_antigen(cell, pattern[:input]) \n",
    "  initialize_cell(threshold, cell) if cell[:lifespan] <= 0\n",
    "end"
   ]
  },
  {
   "cell_type": "code",
   "execution_count": 66,
   "metadata": {},
   "outputs": [
    {
     "data": {
      "text/plain": [
       ":can_cell_migrate?"
      ]
     },
     "execution_count": 66,
     "metadata": {},
     "output_type": "execute_result"
    }
   ],
   "source": [
    "def can_cell_migrate?(cell)\n",
    "  return (cell[:cms]>=cell[:migration_threshold] and !cell[:antigen].empty?)\n",
    "end"
   ]
  },
  {
   "cell_type": "code",
   "execution_count": 67,
   "metadata": {},
   "outputs": [
    {
     "data": {
      "text/plain": [
       ":expose_all_cells"
      ]
     },
     "execution_count": 67,
     "metadata": {},
     "output_type": "execute_result"
    }
   ],
   "source": [
    "def expose_all_cells(cells, pattern, threshold)\n",
    "  migrate = []\n",
    "  cms = (pattern[:safe] + pattern[:danger]) \n",
    "  k = pattern[:danger] - (pattern[:safe] * 2.0)  \n",
    "  cells.each do |cell|\n",
    "    expose_cell(cell, cms, k, pattern, threshold)\n",
    "    if can_cell_migrate?(cell)\n",
    "      migrate << cell\n",
    "      cell[:class_label] = (cell[:k]>0) ? \"Anomaly\" : \"Normal\"\n",
    "    end\n",
    "  end\n",
    "  return migrate\n",
    "end"
   ]
  },
  {
   "cell_type": "code",
   "execution_count": 68,
   "metadata": {},
   "outputs": [
    {
     "data": {
      "text/plain": [
       ":train_system"
      ]
     },
     "execution_count": 68,
     "metadata": {},
     "output_type": "execute_result"
    }
   ],
   "source": [
    "def train_system(domain, max_iter, num_cells, p_anomaly, p_normal, thresh)\n",
    "  immature_cells = Array.new(num_cells){ initialize_cell(thresh) }\n",
    "  migrated = []\n",
    "  max_iter.times do |iter|\n",
    "    pattern = generate_pattern(domain, p_anomaly, p_normal)\n",
    "    migrants = expose_all_cells(immature_cells, pattern, thresh)\n",
    "    migrants.each do |cell|\n",
    "      immature_cells.delete(cell)\n",
    "      immature_cells << initialize_cell(thresh)\n",
    "      migrated << cell\n",
    "    end\n",
    "    #puts \"> iter=#{iter} new=#{migrants.size}, migrated=#{migrated.size}\"\n",
    "  end\n",
    "  return migrated\n",
    "end"
   ]
  },
  {
   "cell_type": "code",
   "execution_count": 69,
   "metadata": {},
   "outputs": [
    {
     "data": {
      "text/plain": [
       ":classify_pattern"
      ]
     },
     "execution_count": 69,
     "metadata": {},
     "output_type": "execute_result"
    }
   ],
   "source": [
    "def classify_pattern(migrated, pattern)\n",
    "  input = pattern[:input]\n",
    "  num_cells, num_antigen = 0, 0\n",
    "  migrated.each do |cell|\n",
    "    if cell[:class_label] == \"Anomaly\" and !cell[:antigen][input].nil?\n",
    "      num_cells += 1\n",
    "      num_antigen += cell[:antigen][input]\n",
    "    end\n",
    "  end\n",
    "  mcav = num_cells.to_f / num_antigen.to_f\n",
    "  return (mcav>0.5) ? \"Anomaly\" : \"Normal\"\n",
    "end"
   ]
  },
  {
   "cell_type": "code",
   "execution_count": 70,
   "metadata": {},
   "outputs": [
    {
     "data": {
      "text/plain": [
       ":test_system"
      ]
     },
     "execution_count": 70,
     "metadata": {},
     "output_type": "execute_result"
    }
   ],
   "source": [
    "def test_system(migrated, domain, p_anomaly, p_normal, num_trial=100)\n",
    "  correct_norm = 0\n",
    "  num_trial.times do\n",
    "    pattern = construct_pattern(\"Normal\", domain, p_normal, 1.0-p_anomaly)\n",
    "    class_label = classify_pattern(migrated, pattern)\n",
    "    correct_norm += 1 if class_label == \"Normal\"\n",
    "  end\n",
    "  puts \"Finished testing Normal inputs #{correct_norm}/#{num_trial}\"\n",
    "  correct_anom = 0\n",
    "  \n",
    "  num_trial.times do\n",
    "    pattern = construct_pattern(\"Anomaly\", domain, 1.0-p_normal, p_anomaly)\n",
    "    class_label = classify_pattern(migrated, pattern)\n",
    "    correct_anom += 1 if class_label == \"Anomaly\"\n",
    "  end\n",
    "  \n",
    "  puts \"Finished testing Anomaly inputs #{correct_anom}/#{num_trial}\"\n",
    "  return [correct_norm, correct_anom]\n",
    "end"
   ]
  },
  {
   "cell_type": "code",
   "execution_count": 71,
   "metadata": {},
   "outputs": [
    {
     "data": {
      "text/plain": [
       ":execute"
      ]
     },
     "execution_count": 71,
     "metadata": {},
     "output_type": "execute_result"
    }
   ],
   "source": [
    "def execute(domain, max_iter, num_cells, p_anom, p_norm, thresh)  \n",
    "  migrated=train_system(domain, max_iter, num_cells, p_anom, p_norm, thresh)\n",
    "  test_system(migrated, domain, p_anom, p_norm)\n",
    "  return migrated\n",
    "end"
   ]
  },
  {
   "cell_type": "code",
   "execution_count": 72,
   "metadata": {},
   "outputs": [
    {
     "name": "stdout",
     "output_type": "stream",
     "text": [
      "Finished testing Normal inputs 82/100\n",
      "Finished testing Anomaly inputs 100/100\n"
     ]
    },
    {
     "data": {
      "text/plain": [
       "[{:lifespan=>908.3839650448392, :k=>-117.06794335296381, :cms=>91.61603495516081, :migration_threshold=>8.7544536032068, :antigen=>{12=>1}, :class_label=>\"Normal\"}, {:lifespan=>908.3839650448392, :k=>-117.06794335296381, :cms=>91.61603495516081, :migration_threshold=>6.912436629065645, :antigen=>{12=>1}, :class_label=>\"Normal\"}, {:lifespan=>908.3839650448392, :k=>-117.06794335296381, :cms=>91.61603495516081, :migration_threshold=>14.582974802490437, :antigen=>{12=>1}, :class_label=>\"Normal\"}, {:lifespan=>908.3839650448392, :k=>-117.06794335296381, :cms=>91.61603495516081, :migration_threshold=>7.669333842753582, :antigen=>{12=>1}, :class_label=>\"Normal\"}, {:lifespan=>908.3839650448392, :k=>-117.06794335296381, :cms=>91.61603495516081, :migration_threshold=>14.803957121843066, :antigen=>{12=>1}, :class_label=>\"Normal\"}, {:lifespan=>908.3839650448392, :k=>-117.06794335296381, :cms=>91.61603495516081, :migration_threshold=>6.804102437823769, :antigen=>{12=>1}, :class_label=>\"Normal\"}, {:lifespan=>908.3839650448392, :k=>-117.06794335296381, :cms=>91.61603495516081, :migration_threshold=>10.437217492115678, :antigen=>{12=>1}, :class_label=>\"Normal\"}, {:lifespan=>908.3839650448392, :k=>-117.06794335296381, :cms=>91.61603495516081, :migration_threshold=>6.393948121098414, :antigen=>{12=>1}, :class_label=>\"Normal\"}, {:lifespan=>908.3839650448392, :k=>-117.06794335296381, :cms=>91.61603495516081, :migration_threshold=>9.019730596051632, :antigen=>{12=>1}, :class_label=>\"Normal\"}, {:lifespan=>908.3839650448392, :k=>-117.06794335296381, :cms=>91.61603495516081, :migration_threshold=>14.91070436645055, :antigen=>{12=>1}, :class_label=>\"Normal\"}, {:lifespan=>933.2145600095731, :k=>-109.57141514163105, :cms=>66.78543999042687, :migration_threshold=>10.227568381199202, :antigen=>{33=>1}, :class_label=>\"Normal\"}, {:lifespan=>933.2145600095731, :k=>-109.57141514163105, :cms=>66.78543999042687, :migration_threshold=>5.948279826857389, :antigen=>{33=>1}, :class_label=>\"Normal\"}, {:lifespan=>933.2145600095731, :k=>-109.57141514163105, :cms=>66.78543999042687, :migration_threshold=>9.356120072194372, :antigen=>{33=>1}, :class_label=>\"Normal\"}, {:lifespan=>933.2145600095731, :k=>-109.57141514163105, :cms=>66.78543999042687, :migration_threshold=>9.932898544697313, :antigen=>{33=>1}, :class_label=>\"Normal\"}, {:lifespan=>933.2145600095731, :k=>-109.57141514163105, :cms=>66.78543999042687, :migration_threshold=>10.164298442283009, :antigen=>{33=>1}, :class_label=>\"Normal\"}, {:lifespan=>933.2145600095731, :k=>-109.57141514163105, :cms=>66.78543999042687, :migration_threshold=>14.941822094813407, :antigen=>{33=>1}, :class_label=>\"Normal\"}, {:lifespan=>933.2145600095731, :k=>-109.57141514163105, :cms=>66.78543999042687, :migration_threshold=>10.251104413189417, :antigen=>{33=>1}, :class_label=>\"Normal\"}, {:lifespan=>933.2145600095731, :k=>-109.57141514163105, :cms=>66.78543999042687, :migration_threshold=>10.846265265006704, :antigen=>{33=>1}, :class_label=>\"Normal\"}, {:lifespan=>933.2145600095731, :k=>-109.57141514163105, :cms=>66.78543999042687, :migration_threshold=>6.330639435434876, :antigen=>{33=>1}, :class_label=>\"Normal\"}, {:lifespan=>933.2145600095731, :k=>-109.57141514163105, :cms=>66.78543999042687, :migration_threshold=>8.878257828006848, :antigen=>{33=>1}, :class_label=>\"Normal\"}, {:lifespan=>969.2121395078763, :k=>29.505639240630572, :cms=>30.787860492123794, :migration_threshold=>13.852030082454927, :antigen=>{50=>1}, :class_label=>\"Anomaly\"}, {:lifespan=>969.2121395078763, :k=>29.505639240630572, :cms=>30.787860492123794, :migration_threshold=>6.32196839967893, :antigen=>{50=>1}, :class_label=>\"Anomaly\"}, {:lifespan=>969.2121395078763, :k=>29.505639240630572, :cms=>30.787860492123794, :migration_threshold=>5.433778856253319, :antigen=>{50=>1}, :class_label=>\"Anomaly\"}, {:lifespan=>969.2121395078763, :k=>29.505639240630572, :cms=>30.787860492123794, :migration_threshold=>6.877079068270126, :antigen=>{50=>1}, :class_label=>\"Anomaly\"}, {:lifespan=>969.2121395078763, :k=>29.505639240630572, :cms=>30.787860492123794, :migration_threshold=>5.971644195674583, :antigen=>{50=>1}, :class_label=>\"Anomaly\"}, {:lifespan=>969.2121395078763, :k=>29.505639240630572, :cms=>30.787860492123794, :migration_threshold=>13.797176102341975, :antigen=>{50=>1}, :class_label=>\"Anomaly\"}, {:lifespan=>969.2121395078763, :k=>29.505639240630572, :cms=>30.787860492123794, :migration_threshold=>9.878078770176241, :antigen=>{50=>1}, :class_label=>\"Anomaly\"}, {:lifespan=>969.2121395078763, :k=>29.505639240630572, :cms=>30.787860492123794, :migration_threshold=>14.43915249788779, :antigen=>{50=>1}, :class_label=>\"Anomaly\"}, {:lifespan=>969.2121395078763, :k=>29.505639240630572, :cms=>30.787860492123794, :migration_threshold=>5.600556525983208, :antigen=>{50=>1}, :class_label=>\"Anomaly\"}, {:lifespan=>969.2121395078763, :k=>29.505639240630572, :cms=>30.787860492123794, :migration_threshold=>10.5853476931809, :antigen=>{50=>1}, :class_label=>\"Anomaly\"}, {:lifespan=>955.3972685891019, :k=>-31.75047463473755, :cms=>44.60273141089802, :migration_threshold=>6.029354093186941, :antigen=>{6=>1}, :class_label=>\"Normal\"}, {:lifespan=>955.3972685891019, :k=>-31.75047463473755, :cms=>44.60273141089802, :migration_threshold=>5.114899718873431, :antigen=>{6=>1}, :class_label=>\"Normal\"}, {:lifespan=>955.3972685891019, :k=>-31.75047463473755, :cms=>44.60273141089802, :migration_threshold=>14.592502030933662, :antigen=>{6=>1}, :class_label=>\"Normal\"}, {:lifespan=>955.3972685891019, :k=>-31.75047463473755, :cms=>44.60273141089802, :migration_threshold=>8.744935976576597, :antigen=>{6=>1}, :class_label=>\"Normal\"}, {:lifespan=>955.3972685891019, :k=>-31.75047463473755, :cms=>44.60273141089802, :migration_threshold=>6.606901287949274, :antigen=>{6=>1}, :class_label=>\"Normal\"}, {:lifespan=>955.3972685891019, :k=>-31.75047463473755, :cms=>44.60273141089802, :migration_threshold=>7.546648818403037, :antigen=>{6=>1}, :class_label=>\"Normal\"}, {:lifespan=>955.3972685891019, :k=>-31.75047463473755, :cms=>44.60273141089802, :migration_threshold=>8.263834885844279, :antigen=>{6=>1}, :class_label=>\"Normal\"}, {:lifespan=>955.3972685891019, :k=>-31.75047463473755, :cms=>44.60273141089802, :migration_threshold=>7.903092316342745, :antigen=>{6=>1}, :class_label=>\"Normal\"}, {:lifespan=>955.3972685891019, :k=>-31.75047463473755, :cms=>44.60273141089802, :migration_threshold=>12.65358399508663, :antigen=>{6=>1}, :class_label=>\"Normal\"}, {:lifespan=>955.3972685891019, :k=>-31.75047463473755, :cms=>44.60273141089802, :migration_threshold=>12.015187696303624, :antigen=>{6=>1}, :class_label=>\"Normal\"}, {:lifespan=>966.18339034886, :k=>6.78935444412685, :cms=>33.81660965113993, :migration_threshold=>13.621244465574518, :antigen=>{1=>1}, :class_label=>\"Anomaly\"}, {:lifespan=>966.18339034886, :k=>6.78935444412685, :cms=>33.81660965113993, :migration_threshold=>10.728722930484759, :antigen=>{1=>1}, :class_label=>\"Anomaly\"}, {:lifespan=>966.18339034886, :k=>6.78935444412685, :cms=>33.81660965113993, :migration_threshold=>5.204239386750366, :antigen=>{1=>1}, :class_label=>\"Anomaly\"}, {:lifespan=>966.18339034886, :k=>6.78935444412685, :cms=>33.81660965113993, :migration_threshold=>7.727489799282987, :antigen=>{1=>1}, :class_label=>\"Anomaly\"}, {:lifespan=>966.18339034886, :k=>6.78935444412685, :cms=>33.81660965113993, :migration_threshold=>14.151749477739573, :antigen=>{1=>1}, :class_label=>\"Anomaly\"}, {:lifespan=>966.18339034886, :k=>6.78935444412685, :cms=>33.81660965113993, :migration_threshold=>8.052748057218205, :antigen=>{1=>1}, :class_label=>\"Anomaly\"}, {:lifespan=>966.18339034886, :k=>6.78935444412685, :cms=>33.81660965113993, :migration_threshold=>10.94414761506432, :antigen=>{1=>1}, :class_label=>\"Anomaly\"}, {:lifespan=>966.18339034886, :k=>6.78935444412685, :cms=>33.81660965113993, :migration_threshold=>5.729678626119225, :antigen=>{1=>1}, :class_label=>\"Anomaly\"}, {:lifespan=>966.18339034886, :k=>6.78935444412685, :cms=>33.81660965113993, :migration_threshold=>11.146868607964755, :antigen=>{1=>1}, :class_label=>\"Anomaly\"}, {:lifespan=>966.18339034886, :k=>6.78935444412685, :cms=>33.81660965113993, :migration_threshold=>7.4782143537718575, :antigen=>{1=>1}, :class_label=>\"Anomaly\"}, {:lifespan=>977.416081952343, :k=>7.975381545057418, :cms=>22.583918047657033, :migration_threshold=>6.439353244600029, :antigen=>{49=>1}, :class_label=>\"Anomaly\"}, {:lifespan=>977.416081952343, :k=>7.975381545057418, :cms=>22.583918047657033, :migration_threshold=>10.603743515753813, :antigen=>{49=>1}, :class_label=>\"Anomaly\"}, {:lifespan=>977.416081952343, :k=>7.975381545057418, :cms=>22.583918047657033, :migration_threshold=>13.510747387895215, :antigen=>{49=>1}, :class_label=>\"Anomaly\"}, {:lifespan=>977.416081952343, :k=>7.975381545057418, :cms=>22.583918047657033, :migration_threshold=>6.513784307613697, :antigen=>{49=>1}, :class_label=>\"Anomaly\"}, {:lifespan=>977.416081952343, :k=>7.975381545057418, :cms=>22.583918047657033, :migration_threshold=>8.016729772812344, :antigen=>{49=>1}, :class_label=>\"Anomaly\"}, {:lifespan=>977.416081952343, :k=>7.975381545057418, :cms=>22.583918047657033, :migration_threshold=>13.499917739419825, :antigen=>{49=>1}, :class_label=>\"Anomaly\"}, {:lifespan=>977.416081952343, :k=>7.975381545057418, :cms=>22.583918047657033, :migration_threshold=>9.586894653581163, :antigen=>{49=>1}, :class_label=>\"Anomaly\"}, {:lifespan=>977.416081952343, :k=>7.975381545057418, :cms=>22.583918047657033, :migration_threshold=>13.484866868351924, :antigen=>{49=>1}, :class_label=>\"Anomaly\"}, {:lifespan=>977.416081952343, :k=>7.975381545057418, :cms=>22.583918047657033, :migration_threshold=>5.961573390163215, :antigen=>{49=>1}, :class_label=>\"Anomaly\"}, {:lifespan=>977.416081952343, :k=>7.975381545057418, :cms=>22.583918047657033, :migration_threshold=>13.522032550303308, :antigen=>{49=>1}, :class_label=>\"Anomaly\"}, {:lifespan=>962.2801277645939, :k=>32.67339326279293, :cms=>37.71987223540612, :migration_threshold=>9.095587343885455, :antigen=>{10=>1}, :class_label=>\"Anomaly\"}, {:lifespan=>962.2801277645939, :k=>32.67339326279293, :cms=>37.71987223540612, :migration_threshold=>10.430173771227988, :antigen=>{10=>1}, :class_label=>\"Anomaly\"}, {:lifespan=>962.2801277645939, :k=>32.67339326279293, :cms=>37.71987223540612, :migration_threshold=>14.724642870235208, :antigen=>{10=>1}, :class_label=>\"Anomaly\"}, {:lifespan=>962.2801277645939, :k=>32.67339326279293, :cms=>37.71987223540612, :migration_threshold=>14.890520520750686, :antigen=>{10=>1}, :class_label=>\"Anomaly\"}, {:lifespan=>962.2801277645939, :k=>32.67339326279293, :cms=>37.71987223540612, :migration_threshold=>14.330492935283672, :antigen=>{10=>1}, :class_label=>\"Anomaly\"}, {:lifespan=>962.2801277645939, :k=>32.67339326279293, :cms=>37.71987223540612, :migration_threshold=>5.289974452161839, :antigen=>{10=>1}, :class_label=>\"Anomaly\"}, {:lifespan=>962.2801277645939, :k=>32.67339326279293, :cms=>37.71987223540612, :migration_threshold=>9.858288551061216, :antigen=>{10=>1}, :class_label=>\"Anomaly\"}, {:lifespan=>962.2801277645939, :k=>32.67339326279293, :cms=>37.71987223540612, :migration_threshold=>11.76903954684832, :antigen=>{10=>1}, :class_label=>\"Anomaly\"}, {:lifespan=>962.2801277645939, :k=>32.67339326279293, :cms=>37.71987223540612, :migration_threshold=>13.93549644027702, :antigen=>{10=>1}, :class_label=>\"Anomaly\"}, {:lifespan=>962.2801277645939, :k=>32.67339326279293, :cms=>37.71987223540612, :migration_threshold=>11.144457765651037, :antigen=>{10=>1}, :class_label=>\"Anomaly\"}, {:lifespan=>978.3354180785984, :k=>9.168100104199546, :cms=>21.664581921401577, :migration_threshold=>10.955031382009869, :antigen=>{50=>1}, :class_label=>\"Anomaly\"}, {:lifespan=>978.3354180785984, :k=>9.168100104199546, :cms=>21.664581921401577, :migration_threshold=>14.668972081192424, :antigen=>{50=>1}, :class_label=>\"Anomaly\"}, {:lifespan=>978.3354180785984, :k=>9.168100104199546, :cms=>21.664581921401577, :migration_threshold=>12.836338051848124, :antigen=>{50=>1}, :class_label=>\"Anomaly\"}, {:lifespan=>978.3354180785984, :k=>9.168100104199546, :cms=>21.664581921401577, :migration_threshold=>5.434994145123313, :antigen=>{50=>1}, :class_label=>\"Anomaly\"}, {:lifespan=>978.3354180785984, :k=>9.168100104199546, :cms=>21.664581921401577, :migration_threshold=>11.561599652186944, :antigen=>{50=>1}, :class_label=>\"Anomaly\"}, {:lifespan=>978.3354180785984, :k=>9.168100104199546, :cms=>21.664581921401577, :migration_threshold=>7.231003894871099, :antigen=>{50=>1}, :class_label=>\"Anomaly\"}, {:lifespan=>978.3354180785984, :k=>9.168100104199546, :cms=>21.664581921401577, :migration_threshold=>8.745245646012485, :antigen=>{50=>1}, :class_label=>\"Anomaly\"}, {:lifespan=>978.3354180785984, :k=>9.168100104199546, :cms=>21.664581921401577, :migration_threshold=>14.89605432879707, :antigen=>{50=>1}, :class_label=>\"Anomaly\"}, {:lifespan=>978.3354180785984, :k=>9.168100104199546, :cms=>21.664581921401577, :migration_threshold=>5.567127259972391, :antigen=>{50=>1}, :class_label=>\"Anomaly\"}, {:lifespan=>978.3354180785984, :k=>9.168100104199546, :cms=>21.664581921401577, :migration_threshold=>7.072743467694533, :antigen=>{50=>1}, :class_label=>\"Anomaly\"}, {:lifespan=>965.71684265775, :k=>-15.474186142464006, :cms=>34.28315734224992, :migration_threshold=>10.530174257440287, :antigen=>{49=>1}, :class_label=>\"Normal\"}, {:lifespan=>965.71684265775, :k=>-15.474186142464006, :cms=>34.28315734224992, :migration_threshold=>8.11298290698623, :antigen=>{49=>1}, :class_label=>\"Normal\"}, {:lifespan=>965.71684265775, :k=>-15.474186142464006, :cms=>34.28315734224992, :migration_threshold=>7.492134698445422, :antigen=>{49=>1}, :class_label=>\"Normal\"}, {:lifespan=>965.71684265775, :k=>-15.474186142464006, :cms=>34.28315734224992, :migration_threshold=>14.327954794110253, :antigen=>{49=>1}, :class_label=>\"Normal\"}, {:lifespan=>965.71684265775, :k=>-15.474186142464006, :cms=>34.28315734224992, :migration_threshold=>8.77212009328398, :antigen=>{49=>1}, :class_label=>\"Normal\"}, {:lifespan=>965.71684265775, :k=>-15.474186142464006, :cms=>34.28315734224992, :migration_threshold=>5.219969020676932, :antigen=>{49=>1}, :class_label=>\"Normal\"}, {:lifespan=>965.71684265775, :k=>-15.474186142464006, :cms=>34.28315734224992, :migration_threshold=>5.905743263900193, :antigen=>{49=>1}, :class_label=>\"Normal\"}, {:lifespan=>965.71684265775, :k=>-15.474186142464006, :cms=>34.28315734224992, :migration_threshold=>7.9362369032999505, :antigen=>{49=>1}, :class_label=>\"Normal\"}, {:lifespan=>965.71684265775, :k=>-15.474186142464006, :cms=>34.28315734224992, :migration_threshold=>5.301147310118078, :antigen=>{49=>1}, :class_label=>\"Normal\"}, {:lifespan=>965.71684265775, :k=>-15.474186142464006, :cms=>34.28315734224992, :migration_threshold=>9.339174219172293, :antigen=>{49=>1}, :class_label=>\"Normal\"}, {:lifespan=>981.4798515712607, :k=>2.6562509259244393, :cms=>18.520148428739255, :migration_threshold=>6.356291864971004, :antigen=>{37=>1}, :class_label=>\"Anomaly\"}, {:lifespan=>981.4798515712607, :k=>2.6562509259244393, :cms=>18.520148428739255, :migration_threshold=>9.401666425490902, :antigen=>{37=>1}, :class_label=>\"Anomaly\"}, {:lifespan=>981.4798515712607, :k=>2.6562509259244393, :cms=>18.520148428739255, :migration_threshold=>6.065244791268592, :antigen=>{37=>1}, :class_label=>\"Anomaly\"}, {:lifespan=>981.4798515712607, :k=>2.6562509259244393, :cms=>18.520148428739255, :migration_threshold=>11.535817111510855, :antigen=>{37=>1}, :class_label=>\"Anomaly\"}, {:lifespan=>981.4798515712607, :k=>2.6562509259244393, :cms=>18.520148428739255, :migration_threshold=>5.414634053092873, :antigen=>{37=>1}, :class_label=>\"Anomaly\"}, {:lifespan=>981.4798515712607, :k=>2.6562509259244393, :cms=>18.520148428739255, :migration_threshold=>14.122264024931452, :antigen=>{37=>1}, :class_label=>\"Anomaly\"}, {:lifespan=>981.4798515712607, :k=>2.6562509259244393, :cms=>18.520148428739255, :migration_threshold=>10.463705290481, :antigen=>{37=>1}, :class_label=>\"Anomaly\"}, {:lifespan=>981.4798515712607, :k=>2.6562509259244393, :cms=>18.520148428739255, :migration_threshold=>7.384013799556851, :antigen=>{37=>1}, :class_label=>\"Anomaly\"}, {:lifespan=>981.4798515712607, :k=>2.6562509259244393, :cms=>18.520148428739255, :migration_threshold=>13.329890722912806, :antigen=>{37=>1}, :class_label=>\"Anomaly\"}, {:lifespan=>981.4798515712607, :k=>2.6562509259244393, :cms=>18.520148428739255, :migration_threshold=>14.364262133741523, :antigen=>{37=>1}, :class_label=>\"Anomaly\"}, {:lifespan=>970.1174104513384, :k=>-13.77110107240038, :cms=>29.882589548661585, :migration_threshold=>6.455395431007469, :antigen=>{11=>1}, :class_label=>\"Normal\"}, {:lifespan=>970.1174104513384, :k=>-13.77110107240038, :cms=>29.882589548661585, :migration_threshold=>10.016032217344224, :antigen=>{11=>1}, :class_label=>\"Normal\"}, {:lifespan=>970.1174104513384, :k=>-13.77110107240038, :cms=>29.882589548661585, :migration_threshold=>9.861537235632914, :antigen=>{11=>1}, :class_label=>\"Normal\"}, {:lifespan=>970.1174104513384, :k=>-13.77110107240038, :cms=>29.882589548661585, :migration_threshold=>9.191857749205425, :antigen=>{11=>1}, :class_label=>\"Normal\"}, {:lifespan=>970.1174104513384, :k=>-13.77110107240038, :cms=>29.882589548661585, :migration_threshold=>11.45279065863027, :antigen=>{11=>1}, :class_label=>\"Normal\"}, {:lifespan=>970.1174104513384, :k=>-13.77110107240038, :cms=>29.882589548661585, :migration_threshold=>10.39686738098845, :antigen=>{11=>1}, :class_label=>\"Normal\"}, {:lifespan=>970.1174104513384, :k=>-13.77110107240038, :cms=>29.882589548661585, :migration_threshold=>9.373454250079917, :antigen=>{11=>1}, :class_label=>\"Normal\"}, {:lifespan=>970.1174104513384, :k=>-13.77110107240038, :cms=>29.882589548661585, :migration_threshold=>7.774074201919411, :antigen=>{11=>1}, :class_label=>\"Normal\"}, {:lifespan=>970.1174104513384, :k=>-13.77110107240038, :cms=>29.882589548661585, :migration_threshold=>8.949971800361528, :antigen=>{11=>1}, :class_label=>\"Normal\"}, {:lifespan=>970.1174104513384, :k=>-13.77110107240038, :cms=>29.882589548661585, :migration_threshold=>7.269326713961699, :antigen=>{11=>1}, :class_label=>\"Normal\"}, {:lifespan=>969.6865968830682, :k=>19.23749984284608, :cms=>30.313403116931816, :migration_threshold=>6.131257187152215, :antigen=>{10=>1}, :class_label=>\"Anomaly\"}, {:lifespan=>969.6865968830682, :k=>19.23749984284608, :cms=>30.313403116931816, :migration_threshold=>9.619236279051648, :antigen=>{10=>1}, :class_label=>\"Anomaly\"}, {:lifespan=>969.6865968830682, :k=>19.23749984284608, :cms=>30.313403116931816, :migration_threshold=>7.997335787353545, :antigen=>{10=>1}, :class_label=>\"Anomaly\"}, {:lifespan=>969.6865968830682, :k=>19.23749984284608, :cms=>30.313403116931816, :migration_threshold=>13.64090003648329, :antigen=>{10=>1}, :class_label=>\"Anomaly\"}, {:lifespan=>969.6865968830682, :k=>19.23749984284608, :cms=>30.313403116931816, :migration_threshold=>14.222849032299973, :antigen=>{10=>1}, :class_label=>\"Anomaly\"}, {:lifespan=>969.6865968830682, :k=>19.23749984284608, :cms=>30.313403116931816, :migration_threshold=>7.207750852157209, :antigen=>{10=>1}, :class_label=>\"Anomaly\"}, {:lifespan=>969.6865968830682, :k=>19.23749984284608, :cms=>30.313403116931816, :migration_threshold=>13.561188853179106, :antigen=>{10=>1}, :class_label=>\"Anomaly\"}, {:lifespan=>969.6865968830682, :k=>19.23749984284608, :cms=>30.313403116931816, :migration_threshold=>14.581808747667603, :antigen=>{10=>1}, :class_label=>\"Anomaly\"}, {:lifespan=>969.6865968830682, :k=>19.23749984284608, :cms=>30.313403116931816, :migration_threshold=>7.013356186546996, :antigen=>{10=>1}, :class_label=>\"Anomaly\"}, {:lifespan=>969.6865968830682, :k=>19.23749984284608, :cms=>30.313403116931816, :migration_threshold=>8.382634075627475, :antigen=>{10=>1}, :class_label=>\"Anomaly\"}, {:lifespan=>939.8221737057125, :k=>49.81941504311082, :cms=>60.17782629428743, :migration_threshold=>6.2403668202595295, :antigen=>{30=>1}, :class_label=>\"Anomaly\"}, {:lifespan=>939.8221737057125, :k=>49.81941504311082, :cms=>60.17782629428743, :migration_threshold=>8.988513416224608, :antigen=>{30=>1}, :class_label=>\"Anomaly\"}, {:lifespan=>939.8221737057125, :k=>49.81941504311082, :cms=>60.17782629428743, :migration_threshold=>14.83324093642527, :antigen=>{30=>1}, :class_label=>\"Anomaly\"}, {:lifespan=>939.8221737057125, :k=>49.81941504311082, :cms=>60.17782629428743, :migration_threshold=>9.175413133995837, :antigen=>{30=>1}, :class_label=>\"Anomaly\"}, {:lifespan=>939.8221737057125, :k=>49.81941504311082, :cms=>60.17782629428743, :migration_threshold=>13.042143833769924, :antigen=>{30=>1}, :class_label=>\"Anomaly\"}, {:lifespan=>939.8221737057125, :k=>49.81941504311082, :cms=>60.17782629428743, :migration_threshold=>6.004767171978345, :antigen=>{30=>1}, :class_label=>\"Anomaly\"}, {:lifespan=>939.8221737057125, :k=>49.81941504311082, :cms=>60.17782629428743, :migration_threshold=>8.685889986651704, :antigen=>{30=>1}, :class_label=>\"Anomaly\"}, {:lifespan=>939.8221737057125, :k=>49.81941504311082, :cms=>60.17782629428743, :migration_threshold=>14.33816095699113, :antigen=>{30=>1}, :class_label=>\"Anomaly\"}, {:lifespan=>939.8221737057125, :k=>49.81941504311082, :cms=>60.17782629428743, :migration_threshold=>9.606964788072379, :antigen=>{30=>1}, :class_label=>\"Anomaly\"}, {:lifespan=>939.8221737057125, :k=>49.81941504311082, :cms=>60.17782629428743, :migration_threshold=>8.910702277676451, :antigen=>{30=>1}, :class_label=>\"Anomaly\"}, {:lifespan=>993.4383126599547, :k=>3.412582833924266, :cms=>6.5616873400452835, :migration_threshold=>5.139455240485087, :antigen=>{50=>1}, :class_label=>\"Anomaly\"}, {:lifespan=>993.4383126599547, :k=>3.412582833924266, :cms=>6.5616873400452835, :migration_threshold=>5.698942692872575, :antigen=>{50=>1}, :class_label=>\"Anomaly\"}, {:lifespan=>927.1193023120054, :k=>-120.04468824815453, :cms=>72.88069768799456, :migration_threshold=>6.597623510523821, :antigen=>{50=>1, 45=>1}, :class_label=>\"Normal\"}, {:lifespan=>927.1193023120054, :k=>-120.04468824815453, :cms=>72.88069768799456, :migration_threshold=>12.295092927712803, :antigen=>{50=>1, 45=>1}, :class_label=>\"Normal\"}, {:lifespan=>927.1193023120054, :k=>-120.04468824815453, :cms=>72.88069768799456, :migration_threshold=>13.253162104420785, :antigen=>{50=>1, 45=>1}, :class_label=>\"Normal\"}, {:lifespan=>927.1193023120054, :k=>-120.04468824815453, :cms=>72.88069768799456, :migration_threshold=>10.426413276229543, :antigen=>{50=>1, 45=>1}, :class_label=>\"Normal\"}, {:lifespan=>927.1193023120054, :k=>-120.04468824815453, :cms=>72.88069768799456, :migration_threshold=>10.23365840614542, :antigen=>{50=>1, 45=>1}, :class_label=>\"Normal\"}, {:lifespan=>927.1193023120054, :k=>-120.04468824815453, :cms=>72.88069768799456, :migration_threshold=>7.89500406173538, :antigen=>{50=>1, 45=>1}, :class_label=>\"Normal\"}, {:lifespan=>927.1193023120054, :k=>-120.04468824815453, :cms=>72.88069768799456, :migration_threshold=>11.57646322119561, :antigen=>{50=>1, 45=>1}, :class_label=>\"Normal\"}, {:lifespan=>927.1193023120054, :k=>-120.04468824815453, :cms=>72.88069768799456, :migration_threshold=>9.989845102841352, :antigen=>{50=>1, 45=>1}, :class_label=>\"Normal\"}, {:lifespan=>933.6809896520507, :k=>-123.45727108207879, :cms=>66.31901034794927, :migration_threshold=>14.355740797208373, :antigen=>{45=>1}, :class_label=>\"Normal\"}, {:lifespan=>933.6809896520507, :k=>-123.45727108207879, :cms=>66.31901034794927, :migration_threshold=>11.322143772577995, :antigen=>{45=>1}, :class_label=>\"Normal\"}, {:lifespan=>979.7883848115771, :k=>-14.237875831463919, :cms=>20.211615188422854, :migration_threshold=>6.952220747294421, :antigen=>{16=>1}, :class_label=>\"Normal\"}, {:lifespan=>979.7883848115771, :k=>-14.237875831463919, :cms=>20.211615188422854, :migration_threshold=>5.930565192370066, :antigen=>{16=>1}, :class_label=>\"Normal\"}, {:lifespan=>979.7883848115771, :k=>-14.237875831463919, :cms=>20.211615188422854, :migration_threshold=>13.534931416716582, :antigen=>{16=>1}, :class_label=>\"Normal\"}, {:lifespan=>979.7883848115771, :k=>-14.237875831463919, :cms=>20.211615188422854, :migration_threshold=>10.895180362832864, :antigen=>{16=>1}, :class_label=>\"Normal\"}, {:lifespan=>979.7883848115771, :k=>-14.237875831463919, :cms=>20.211615188422854, :migration_threshold=>8.958276835907437, :antigen=>{16=>1}, :class_label=>\"Normal\"}, {:lifespan=>979.7883848115771, :k=>-14.237875831463919, :cms=>20.211615188422854, :migration_threshold=>12.002241588937157, :antigen=>{16=>1}, :class_label=>\"Normal\"}, {:lifespan=>979.7883848115771, :k=>-14.237875831463919, :cms=>20.211615188422854, :migration_threshold=>12.651035778730098, :antigen=>{16=>1}, :class_label=>\"Normal\"}, {:lifespan=>979.7883848115771, :k=>-14.237875831463919, :cms=>20.211615188422854, :migration_threshold=>11.07701530676437, :antigen=>{16=>1}, :class_label=>\"Normal\"}, {:lifespan=>979.7883848115771, :k=>-14.237875831463919, :cms=>20.211615188422854, :migration_threshold=>14.93536196206622, :antigen=>{16=>1}, :class_label=>\"Normal\"}, {:lifespan=>979.7883848115771, :k=>-14.237875831463919, :cms=>20.211615188422854, :migration_threshold=>9.278320914523654, :antigen=>{16=>1}, :class_label=>\"Normal\"}, {:lifespan=>994.6712563645344, :k=>0.3926777465718678, :cms=>5.3287436354655915, :migration_threshold=>5.18333476866507, :antigen=>{10=>1}, :class_label=>\"Anomaly\"}, {:lifespan=>994.6712563645344, :k=>0.3926777465718678, :cms=>5.3287436354655915, :migration_threshold=>5.206457261787979, :antigen=>{10=>1}, :class_label=>\"Anomaly\"}, {:lifespan=>986.3412655552268, :k=>-4.004021983987153, :cms=>13.658734444773323, :migration_threshold=>9.988308675343841, :antigen=>{10=>1, 20=>1}, :class_label=>\"Normal\"}, {:lifespan=>986.3412655552268, :k=>-4.004021983987153, :cms=>13.658734444773323, :migration_threshold=>12.594290519303785, :antigen=>{10=>1, 20=>1}, :class_label=>\"Normal\"}, {:lifespan=>986.3412655552268, :k=>-4.004021983987153, :cms=>13.658734444773323, :migration_threshold=>7.0618039046403815, :antigen=>{10=>1, 20=>1}, :class_label=>\"Normal\"}, {:lifespan=>986.3412655552268, :k=>-4.004021983987153, :cms=>13.658734444773323, :migration_threshold=>9.969475859391729, :antigen=>{10=>1, 20=>1}, :class_label=>\"Normal\"}, {:lifespan=>986.3412655552268, :k=>-4.004021983987153, :cms=>13.658734444773323, :migration_threshold=>7.875958873798026, :antigen=>{10=>1, 20=>1}, :class_label=>\"Normal\"}, {:lifespan=>986.3412655552268, :k=>-4.004021983987153, :cms=>13.658734444773323, :migration_threshold=>13.144186044197793, :antigen=>{10=>1, 20=>1}, :class_label=>\"Normal\"}, {:lifespan=>986.3412655552268, :k=>-4.004021983987153, :cms=>13.658734444773323, :migration_threshold=>5.674229122847629, :antigen=>{10=>1, 20=>1}, :class_label=>\"Normal\"}, {:lifespan=>986.3412655552268, :k=>-4.004021983987153, :cms=>13.658734444773323, :migration_threshold=>7.109992696755293, :antigen=>{10=>1, 20=>1}, :class_label=>\"Normal\"}, {:lifespan=>955.2925850798198, :k=>-35.02800537345493, :cms=>44.70741492018028, :migration_threshold=>10.935824535647049, :antigen=>{20=>1, 8=>1}, :class_label=>\"Normal\"}, {:lifespan=>955.2925850798198, :k=>-35.02800537345493, :cms=>44.70741492018028, :migration_threshold=>10.419277927158841, :antigen=>{20=>1, 8=>1}, :class_label=>\"Normal\"}, {:lifespan=>963.6225758891275, :k=>-30.631305642895914, :cms=>36.377424110872546, :migration_threshold=>6.785897703210373, :antigen=>{8=>1}, :class_label=>\"Normal\"}, {:lifespan=>963.6225758891275, :k=>-30.631305642895914, :cms=>36.377424110872546, :migration_threshold=>6.798385123329886, :antigen=>{8=>1}, :class_label=>\"Normal\"}, {:lifespan=>963.6225758891275, :k=>-30.631305642895914, :cms=>36.377424110872546, :migration_threshold=>6.950972941446135, :antigen=>{8=>1}, :class_label=>\"Normal\"}, {:lifespan=>963.6225758891275, :k=>-30.631305642895914, :cms=>36.377424110872546, :migration_threshold=>12.745136222593166, :antigen=>{8=>1}, :class_label=>\"Normal\"}, {:lifespan=>963.6225758891275, :k=>-30.631305642895914, :cms=>36.377424110872546, :migration_threshold=>12.056723199025013, :antigen=>{8=>1}, :class_label=>\"Normal\"}, {:lifespan=>963.6225758891275, :k=>-30.631305642895914, :cms=>36.377424110872546, :migration_threshold=>14.152954174321737, :antigen=>{8=>1}, :class_label=>\"Normal\"}, {:lifespan=>963.6225758891275, :k=>-30.631305642895914, :cms=>36.377424110872546, :migration_threshold=>9.81187031889686, :antigen=>{8=>1}, :class_label=>\"Normal\"}, {:lifespan=>963.6225758891275, :k=>-30.631305642895914, :cms=>36.377424110872546, :migration_threshold=>12.743037402502614, :antigen=>{8=>1}, :class_label=>\"Normal\"}, {:lifespan=>946.0507967204034, :k=>-81.67152378616078, :cms=>53.94920327959669, :migration_threshold=>12.15720444848855, :antigen=>{3=>1}, :class_label=>\"Normal\"}, {:lifespan=>946.0507967204034, :k=>-81.67152378616078, :cms=>53.94920327959669, :migration_threshold=>11.642146151611346, :antigen=>{3=>1}, :class_label=>\"Normal\"}, {:lifespan=>946.0507967204034, :k=>-81.67152378616078, :cms=>53.94920327959669, :migration_threshold=>5.21987313510957, :antigen=>{3=>1}, :class_label=>\"Normal\"}, {:lifespan=>946.0507967204034, :k=>-81.67152378616078, :cms=>53.94920327959669, :migration_threshold=>10.761655682344486, :antigen=>{3=>1}, :class_label=>\"Normal\"}, {:lifespan=>946.0507967204034, :k=>-81.67152378616078, :cms=>53.94920327959669, :migration_threshold=>12.278853009305266, :antigen=>{3=>1}, :class_label=>\"Normal\"}, {:lifespan=>946.0507967204034, :k=>-81.67152378616078, :cms=>53.94920327959669, :migration_threshold=>8.627550955816893, :antigen=>{3=>1}, :class_label=>\"Normal\"}, {:lifespan=>946.0507967204034, :k=>-81.67152378616078, :cms=>53.94920327959669, :migration_threshold=>9.292517242461347, :antigen=>{3=>1}, :class_label=>\"Normal\"}, {:lifespan=>946.0507967204034, :k=>-81.67152378616078, :cms=>53.94920327959669, :migration_threshold=>13.401627986391212, :antigen=>{3=>1}, :class_label=>\"Normal\"}, {:lifespan=>946.0507967204034, :k=>-81.67152378616078, :cms=>53.94920327959669, :migration_threshold=>13.38044433101704, :antigen=>{3=>1}, :class_label=>\"Normal\"}, {:lifespan=>946.0507967204034, :k=>-81.67152378616078, :cms=>53.94920327959669, :migration_threshold=>12.896302573449365, :antigen=>{3=>1}, :class_label=>\"Normal\"}, {:lifespan=>948.9105048258727, :k=>49.581320322407485, :cms=>51.089495174127244, :migration_threshold=>8.954271836660894, :antigen=>{10=>1}, :class_label=>\"Anomaly\"}, {:lifespan=>948.9105048258727, :k=>49.581320322407485, :cms=>51.089495174127244, :migration_threshold=>14.733900450363777, :antigen=>{10=>1}, :class_label=>\"Anomaly\"}, {:lifespan=>948.9105048258727, :k=>49.581320322407485, :cms=>51.089495174127244, :migration_threshold=>8.7241065291605, :antigen=>{10=>1}, :class_label=>\"Anomaly\"}, {:lifespan=>948.9105048258727, :k=>49.581320322407485, :cms=>51.089495174127244, :migration_threshold=>6.427659479342936, :antigen=>{10=>1}, :class_label=>\"Anomaly\"}, {:lifespan=>948.9105048258727, :k=>49.581320322407485, :cms=>51.089495174127244, :migration_threshold=>7.634696069008449, :antigen=>{10=>1}, :class_label=>\"Anomaly\"}, {:lifespan=>948.9105048258727, :k=>49.581320322407485, :cms=>51.089495174127244, :migration_threshold=>11.170010463475489, :antigen=>{10=>1}, :class_label=>\"Anomaly\"}, {:lifespan=>948.9105048258727, :k=>49.581320322407485, :cms=>51.089495174127244, :migration_threshold=>6.138606897146342, :antigen=>{10=>1}, :class_label=>\"Anomaly\"}, {:lifespan=>948.9105048258727, :k=>49.581320322407485, :cms=>51.089495174127244, :migration_threshold=>12.978339129047464, :antigen=>{10=>1}, :class_label=>\"Anomaly\"}, {:lifespan=>948.9105048258727, :k=>49.581320322407485, :cms=>51.089495174127244, :migration_threshold=>10.961390546672597, :antigen=>{10=>1}, :class_label=>\"Anomaly\"}, {:lifespan=>948.9105048258727, :k=>49.581320322407485, :cms=>51.089495174127244, :migration_threshold=>13.575440575995868, :antigen=>{10=>1}, :class_label=>\"Anomaly\"}, {:lifespan=>929.0967779849612, :k=>-109.74422792464746, :cms=>70.90322201503878, :migration_threshold=>9.041932795576798, :antigen=>{3=>1}, :class_label=>\"Normal\"}, {:lifespan=>929.0967779849612, :k=>-109.74422792464746, :cms=>70.90322201503878, :migration_threshold=>10.455250733611246, :antigen=>{3=>1}, :class_label=>\"Normal\"}, {:lifespan=>929.0967779849612, :k=>-109.74422792464746, :cms=>70.90322201503878, :migration_threshold=>8.169814345007097, :antigen=>{3=>1}, :class_label=>\"Normal\"}, {:lifespan=>929.0967779849612, :k=>-109.74422792464746, :cms=>70.90322201503878, :migration_threshold=>6.342004489032737, :antigen=>{3=>1}, :class_label=>\"Normal\"}, {:lifespan=>929.0967779849612, :k=>-109.74422792464746, :cms=>70.90322201503878, :migration_threshold=>13.799170215285168, :antigen=>{3=>1}, :class_label=>\"Normal\"}, {:lifespan=>929.0967779849612, :k=>-109.74422792464746, :cms=>70.90322201503878, :migration_threshold=>13.55392407702183, :antigen=>{3=>1}, :class_label=>\"Normal\"}, {:lifespan=>929.0967779849612, :k=>-109.74422792464746, :cms=>70.90322201503878, :migration_threshold=>12.31104878305851, :antigen=>{3=>1}, :class_label=>\"Normal\"}, {:lifespan=>929.0967779849612, :k=>-109.74422792464746, :cms=>70.90322201503878, :migration_threshold=>14.06439025883923, :antigen=>{3=>1}, :class_label=>\"Normal\"}, {:lifespan=>929.0967779849612, :k=>-109.74422792464746, :cms=>70.90322201503878, :migration_threshold=>6.075564404605447, :antigen=>{3=>1}, :class_label=>\"Normal\"}, {:lifespan=>929.0967779849612, :k=>-109.74422792464746, :cms=>70.90322201503878, :migration_threshold=>11.41747457503338, :antigen=>{3=>1}, :class_label=>\"Normal\"}, {:lifespan=>961.236308187849, :k=>-27.28121486258467, :cms=>38.76369181215106, :migration_threshold=>5.981735676597633, :antigen=>{0=>1}, :class_label=>\"Normal\"}, {:lifespan=>961.236308187849, :k=>-27.28121486258467, :cms=>38.76369181215106, :migration_threshold=>5.111158019629004, :antigen=>{0=>1}, :class_label=>\"Normal\"}, {:lifespan=>961.236308187849, :k=>-27.28121486258467, :cms=>38.76369181215106, :migration_threshold=>13.67080367423811, :antigen=>{0=>1}, :class_label=>\"Normal\"}, {:lifespan=>961.236308187849, :k=>-27.28121486258467, :cms=>38.76369181215106, :migration_threshold=>7.234515486752611, :antigen=>{0=>1}, :class_label=>\"Normal\"}, {:lifespan=>961.236308187849, :k=>-27.28121486258467, :cms=>38.76369181215106, :migration_threshold=>10.358358903237423, :antigen=>{0=>1}, :class_label=>\"Normal\"}, {:lifespan=>961.236308187849, :k=>-27.28121486258467, :cms=>38.76369181215106, :migration_threshold=>13.524960593185666, :antigen=>{0=>1}, :class_label=>\"Normal\"}, {:lifespan=>961.236308187849, :k=>-27.28121486258467, :cms=>38.76369181215106, :migration_threshold=>10.845997058846791, :antigen=>{0=>1}, :class_label=>\"Normal\"}, {:lifespan=>961.236308187849, :k=>-27.28121486258467, :cms=>38.76369181215106, :migration_threshold=>11.190027894476556, :antigen=>{0=>1}, :class_label=>\"Normal\"}, {:lifespan=>961.236308187849, :k=>-27.28121486258467, :cms=>38.76369181215106, :migration_threshold=>13.571783986847278, :antigen=>{0=>1}, :class_label=>\"Normal\"}, {:lifespan=>961.236308187849, :k=>-27.28121486258467, :cms=>38.76369181215106, :migration_threshold=>10.456275080582905, :antigen=>{0=>1}, :class_label=>\"Normal\"}, {:lifespan=>964.585299031391, :k=>33.6229608142505, :cms=>35.414700968609075, :migration_threshold=>7.059828774248194, :antigen=>{20=>1}, :class_label=>\"Anomaly\"}, {:lifespan=>964.585299031391, :k=>33.6229608142505, :cms=>35.414700968609075, :migration_threshold=>6.850597594114834, :antigen=>{20=>1}, :class_label=>\"Anomaly\"}, {:lifespan=>964.585299031391, :k=>33.6229608142505, :cms=>35.414700968609075, :migration_threshold=>14.81783474313487, :antigen=>{20=>1}, :class_label=>\"Anomaly\"}, {:lifespan=>964.585299031391, :k=>33.6229608142505, :cms=>35.414700968609075, :migration_threshold=>14.601911700975295, :antigen=>{20=>1}, :class_label=>\"Anomaly\"}, {:lifespan=>964.585299031391, :k=>33.6229608142505, :cms=>35.414700968609075, :migration_threshold=>9.297597426455084, :antigen=>{20=>1}, :class_label=>\"Anomaly\"}, {:lifespan=>964.585299031391, :k=>33.6229608142505, :cms=>35.414700968609075, :migration_threshold=>13.014275616373842, :antigen=>{20=>1}, :class_label=>\"Anomaly\"}, {:lifespan=>964.585299031391, :k=>33.6229608142505, :cms=>35.414700968609075, :migration_threshold=>8.588097419542876, :antigen=>{20=>1}, :class_label=>\"Anomaly\"}, {:lifespan=>964.585299031391, :k=>33.6229608142505, :cms=>35.414700968609075, :migration_threshold=>11.660583625237969, :antigen=>{20=>1}, :class_label=>\"Anomaly\"}, {:lifespan=>964.585299031391, :k=>33.6229608142505, :cms=>35.414700968609075, :migration_threshold=>8.355130676095307, :antigen=>{20=>1}, :class_label=>\"Anomaly\"}, {:lifespan=>964.585299031391, :k=>33.6229608142505, :cms=>35.414700968609075, :migration_threshold=>14.213876855266943, :antigen=>{20=>1}, :class_label=>\"Anomaly\"}, {:lifespan=>967.2879477825128, :k=>30.89229375571306, :cms=>32.712052217487184, :migration_threshold=>7.402773601232944, :antigen=>{50=>1}, :class_label=>\"Anomaly\"}, {:lifespan=>967.2879477825128, :k=>30.89229375571306, :cms=>32.712052217487184, :migration_threshold=>11.035922641455468, :antigen=>{50=>1}, :class_label=>\"Anomaly\"}, {:lifespan=>967.2879477825128, :k=>30.89229375571306, :cms=>32.712052217487184, :migration_threshold=>7.088025714265191, :antigen=>{50=>1}, :class_label=>\"Anomaly\"}, {:lifespan=>967.2879477825128, :k=>30.89229375571306, :cms=>32.712052217487184, :migration_threshold=>11.807725521374314, :antigen=>{50=>1}, :class_label=>\"Anomaly\"}, {:lifespan=>967.2879477825128, :k=>30.89229375571306, :cms=>32.712052217487184, :migration_threshold=>7.968288314606484, :antigen=>{50=>1}, :class_label=>\"Anomaly\"}, {:lifespan=>967.2879477825128, :k=>30.89229375571306, :cms=>32.712052217487184, :migration_threshold=>10.462536599213426, :antigen=>{50=>1}, :class_label=>\"Anomaly\"}, {:lifespan=>967.2879477825128, :k=>30.89229375571306, :cms=>32.712052217487184, :migration_threshold=>11.28766138094839, :antigen=>{50=>1}, :class_label=>\"Anomaly\"}, {:lifespan=>967.2879477825128, :k=>30.89229375571306, :cms=>32.712052217487184, :migration_threshold=>5.854176190818454, :antigen=>{50=>1}, :class_label=>\"Anomaly\"}, {:lifespan=>967.2879477825128, :k=>30.89229375571306, :cms=>32.712052217487184, :migration_threshold=>9.745430857150303, :antigen=>{50=>1}, :class_label=>\"Anomaly\"}, {:lifespan=>967.2879477825128, :k=>30.89229375571306, :cms=>32.712052217487184, :migration_threshold=>8.250611801872799, :antigen=>{50=>1}, :class_label=>\"Anomaly\"}, {:lifespan=>960.0912405548611, :k=>37.65380760468184, :cms=>39.90875944513892, :migration_threshold=>8.181727819081473, :antigen=>{40=>1}, :class_label=>\"Anomaly\"}, {:lifespan=>960.0912405548611, :k=>37.65380760468184, :cms=>39.90875944513892, :migration_threshold=>12.413017332974452, :antigen=>{40=>1}, :class_label=>\"Anomaly\"}, {:lifespan=>960.0912405548611, :k=>37.65380760468184, :cms=>39.90875944513892, :migration_threshold=>6.59821898620979, :antigen=>{40=>1}, :class_label=>\"Anomaly\"}, {:lifespan=>960.0912405548611, :k=>37.65380760468184, :cms=>39.90875944513892, :migration_threshold=>14.030771016196459, :antigen=>{40=>1}, :class_label=>\"Anomaly\"}, {:lifespan=>960.0912405548611, :k=>37.65380760468184, :cms=>39.90875944513892, :migration_threshold=>11.205746612503933, :antigen=>{40=>1}, :class_label=>\"Anomaly\"}, {:lifespan=>960.0912405548611, :k=>37.65380760468184, :cms=>39.90875944513892, :migration_threshold=>9.517238249848813, :antigen=>{40=>1}, :class_label=>\"Anomaly\"}, {:lifespan=>960.0912405548611, :k=>37.65380760468184, :cms=>39.90875944513892, :migration_threshold=>6.2380664652169315, :antigen=>{40=>1}, :class_label=>\"Anomaly\"}, {:lifespan=>960.0912405548611, :k=>37.65380760468184, :cms=>39.90875944513892, :migration_threshold=>12.766258295850342, :antigen=>{40=>1}, :class_label=>\"Anomaly\"}, {:lifespan=>960.0912405548611, :k=>37.65380760468184, :cms=>39.90875944513892, :migration_threshold=>5.147958357902436, :antigen=>{40=>1}, :class_label=>\"Anomaly\"}, {:lifespan=>960.0912405548611, :k=>37.65380760468184, :cms=>39.90875944513892, :migration_threshold=>11.700290775071537, :antigen=>{40=>1}, :class_label=>\"Anomaly\"}, {:lifespan=>974.5762839114667, :k=>-39.29229556974655, :cms=>25.423716088533293, :migration_threshold=>5.334600649020499, :antigen=>{32=>1}, :class_label=>\"Normal\"}, {:lifespan=>974.5762839114667, :k=>-39.29229556974655, :cms=>25.423716088533293, :migration_threshold=>8.248989166553244, :antigen=>{32=>1}, :class_label=>\"Normal\"}, {:lifespan=>974.5762839114667, :k=>-39.29229556974655, :cms=>25.423716088533293, :migration_threshold=>5.276191852809706, :antigen=>{32=>1}, :class_label=>\"Normal\"}, {:lifespan=>974.5762839114667, :k=>-39.29229556974655, :cms=>25.423716088533293, :migration_threshold=>13.867344141743079, :antigen=>{32=>1}, :class_label=>\"Normal\"}, {:lifespan=>974.5762839114667, :k=>-39.29229556974655, :cms=>25.423716088533293, :migration_threshold=>12.689023165141116, :antigen=>{32=>1}, :class_label=>\"Normal\"}, {:lifespan=>974.5762839114667, :k=>-39.29229556974655, :cms=>25.423716088533293, :migration_threshold=>10.089894156854418, :antigen=>{32=>1}, :class_label=>\"Normal\"}, {:lifespan=>974.5762839114667, :k=>-39.29229556974655, :cms=>25.423716088533293, :migration_threshold=>12.768660685212133, :antigen=>{32=>1}, :class_label=>\"Normal\"}, {:lifespan=>974.5762839114667, :k=>-39.29229556974655, :cms=>25.423716088533293, :migration_threshold=>6.732733705645703, :antigen=>{32=>1}, :class_label=>\"Normal\"}, {:lifespan=>974.5762839114667, :k=>-39.29229556974655, :cms=>25.423716088533293, :migration_threshold=>6.376476393651792, :antigen=>{32=>1}, :class_label=>\"Normal\"}, {:lifespan=>974.5762839114667, :k=>-39.29229556974655, :cms=>25.423716088533293, :migration_threshold=>5.323577625033958, :antigen=>{32=>1}, :class_label=>\"Normal\"}, {:lifespan=>972.9130164312463, :k=>-44.37407541526581, :cms=>27.086983568753688, :migration_threshold=>14.285202584633597, :antigen=>{1=>1}, :class_label=>\"Normal\"}, {:lifespan=>972.9130164312463, :k=>-44.37407541526581, :cms=>27.086983568753688, :migration_threshold=>11.035346314813147, :antigen=>{1=>1}, :class_label=>\"Normal\"}, {:lifespan=>972.9130164312463, :k=>-44.37407541526581, :cms=>27.086983568753688, :migration_threshold=>12.90742661222844, :antigen=>{1=>1}, :class_label=>\"Normal\"}, {:lifespan=>972.9130164312463, :k=>-44.37407541526581, :cms=>27.086983568753688, :migration_threshold=>9.835746007681983, :antigen=>{1=>1}, :class_label=>\"Normal\"}, {:lifespan=>972.9130164312463, :k=>-44.37407541526581, :cms=>27.086983568753688, :migration_threshold=>10.334825670671258, :antigen=>{1=>1}, :class_label=>\"Normal\"}, {:lifespan=>972.9130164312463, :k=>-44.37407541526581, :cms=>27.086983568753688, :migration_threshold=>6.5536690054191125, :antigen=>{1=>1}, :class_label=>\"Normal\"}, {:lifespan=>972.9130164312463, :k=>-44.37407541526581, :cms=>27.086983568753688, :migration_threshold=>12.162009913866934, :antigen=>{1=>1}, :class_label=>\"Normal\"}, {:lifespan=>972.9130164312463, :k=>-44.37407541526581, :cms=>27.086983568753688, :migration_threshold=>6.886084035630903, :antigen=>{1=>1}, :class_label=>\"Normal\"}, {:lifespan=>972.9130164312463, :k=>-44.37407541526581, :cms=>27.086983568753688, :migration_threshold=>10.825796424536996, :antigen=>{1=>1}, :class_label=>\"Normal\"}, {:lifespan=>972.9130164312463, :k=>-44.37407541526581, :cms=>27.086983568753688, :migration_threshold=>7.615876024941773, :antigen=>{1=>1}, :class_label=>\"Normal\"}, {:lifespan=>984.3977228733219, :k=>0.9001312518612643, :cms=>15.602277126678096, :migration_threshold=>13.087762192047737, :antigen=>{10=>1}, :class_label=>\"Anomaly\"}, {:lifespan=>984.3977228733219, :k=>0.9001312518612643, :cms=>15.602277126678096, :migration_threshold=>10.912552417241141, :antigen=>{10=>1}, :class_label=>\"Anomaly\"}, {:lifespan=>984.3977228733219, :k=>0.9001312518612643, :cms=>15.602277126678096, :migration_threshold=>6.333133857813459, :antigen=>{10=>1}, :class_label=>\"Anomaly\"}, {:lifespan=>984.3977228733219, :k=>0.9001312518612643, :cms=>15.602277126678096, :migration_threshold=>7.797557967618457, :antigen=>{10=>1}, :class_label=>\"Anomaly\"}, {:lifespan=>984.3977228733219, :k=>0.9001312518612643, :cms=>15.602277126678096, :migration_threshold=>12.413471044414083, :antigen=>{10=>1}, :class_label=>\"Anomaly\"}, {:lifespan=>984.3977228733219, :k=>0.9001312518612643, :cms=>15.602277126678096, :migration_threshold=>7.883955007728418, :antigen=>{10=>1}, :class_label=>\"Anomaly\"}, {:lifespan=>984.3977228733219, :k=>0.9001312518612643, :cms=>15.602277126678096, :migration_threshold=>13.668947277704003, :antigen=>{10=>1}, :class_label=>\"Anomaly\"}, {:lifespan=>984.3977228733219, :k=>0.9001312518612643, :cms=>15.602277126678096, :migration_threshold=>10.132070520107952, :antigen=>{10=>1}, :class_label=>\"Anomaly\"}, {:lifespan=>984.3977228733219, :k=>0.9001312518612643, :cms=>15.602277126678096, :migration_threshold=>12.190038056856086, :antigen=>{10=>1}, :class_label=>\"Anomaly\"}, {:lifespan=>984.3977228733219, :k=>0.9001312518612643, :cms=>15.602277126678096, :migration_threshold=>14.370859081939598, :antigen=>{10=>1}, :class_label=>\"Anomaly\"}, {:lifespan=>932.4452236363354, :k=>-88.16480825414901, :cms=>67.55477636366462, :migration_threshold=>11.483487766926963, :antigen=>{17=>1}, :class_label=>\"Normal\"}, {:lifespan=>932.4452236363354, :k=>-88.16480825414901, :cms=>67.55477636366462, :migration_threshold=>13.16368409527825, :antigen=>{17=>1}, :class_label=>\"Normal\"}, {:lifespan=>932.4452236363354, :k=>-88.16480825414901, :cms=>67.55477636366462, :migration_threshold=>14.986957754744116, :antigen=>{17=>1}, :class_label=>\"Normal\"}, {:lifespan=>932.4452236363354, :k=>-88.16480825414901, :cms=>67.55477636366462, :migration_threshold=>8.55631197553973, :antigen=>{17=>1}, :class_label=>\"Normal\"}, {:lifespan=>932.4452236363354, :k=>-88.16480825414901, :cms=>67.55477636366462, :migration_threshold=>12.05530676256915, :antigen=>{17=>1}, :class_label=>\"Normal\"}, {:lifespan=>932.4452236363354, :k=>-88.16480825414901, :cms=>67.55477636366462, :migration_threshold=>10.016039622138324, :antigen=>{17=>1}, :class_label=>\"Normal\"}, {:lifespan=>932.4452236363354, :k=>-88.16480825414901, :cms=>67.55477636366462, :migration_threshold=>6.28324863540602, :antigen=>{17=>1}, :class_label=>\"Normal\"}, {:lifespan=>932.4452236363354, :k=>-88.16480825414901, :cms=>67.55477636366462, :migration_threshold=>9.57588995964758, :antigen=>{17=>1}, :class_label=>\"Normal\"}, {:lifespan=>932.4452236363354, :k=>-88.16480825414901, :cms=>67.55477636366462, :migration_threshold=>12.575980100066143, :antigen=>{17=>1}, :class_label=>\"Normal\"}, {:lifespan=>932.4452236363354, :k=>-88.16480825414901, :cms=>67.55477636366462, :migration_threshold=>6.297511457966998, :antigen=>{17=>1}, :class_label=>\"Normal\"}, {:lifespan=>928.077175728855, :k=>-96.98332539297208, :cms=>71.92282427114506, :migration_threshold=>12.774782336477415, :antigen=>{3=>1}, :class_label=>\"Normal\"}, {:lifespan=>928.077175728855, :k=>-96.98332539297208, :cms=>71.92282427114506, :migration_threshold=>5.783341379818443, :antigen=>{3=>1}, :class_label=>\"Normal\"}, {:lifespan=>928.077175728855, :k=>-96.98332539297208, :cms=>71.92282427114506, :migration_threshold=>7.958900291316381, :antigen=>{3=>1}, :class_label=>\"Normal\"}, {:lifespan=>928.077175728855, :k=>-96.98332539297208, :cms=>71.92282427114506, :migration_threshold=>5.598357841040572, :antigen=>{3=>1}, :class_label=>\"Normal\"}, {:lifespan=>928.077175728855, :k=>-96.98332539297208, :cms=>71.92282427114506, :migration_threshold=>10.143212064510887, :antigen=>{3=>1}, :class_label=>\"Normal\"}, {:lifespan=>928.077175728855, :k=>-96.98332539297208, :cms=>71.92282427114506, :migration_threshold=>6.031307706552681, :antigen=>{3=>1}, :class_label=>\"Normal\"}, {:lifespan=>928.077175728855, :k=>-96.98332539297208, :cms=>71.92282427114506, :migration_threshold=>9.981637617001557, :antigen=>{3=>1}, :class_label=>\"Normal\"}, {:lifespan=>928.077175728855, :k=>-96.98332539297208, :cms=>71.92282427114506, :migration_threshold=>12.11288678647014, :antigen=>{3=>1}, :class_label=>\"Normal\"}, {:lifespan=>928.077175728855, :k=>-96.98332539297208, :cms=>71.92282427114506, :migration_threshold=>14.258724867729123, :antigen=>{3=>1}, :class_label=>\"Normal\"}, {:lifespan=>928.077175728855, :k=>-96.98332539297208, :cms=>71.92282427114506, :migration_threshold=>8.620141440784131, :antigen=>{3=>1}, :class_label=>\"Normal\"}, {:lifespan=>906.571344732675, :k=>-105.04468881409983, :cms=>93.428655267325, :migration_threshold=>9.585873344118333, :antigen=>{26=>1}, :class_label=>\"Normal\"}, {:lifespan=>906.571344732675, :k=>-105.04468881409983, :cms=>93.428655267325, :migration_threshold=>11.216260625306166, :antigen=>{26=>1}, :class_label=>\"Normal\"}, {:lifespan=>906.571344732675, :k=>-105.04468881409983, :cms=>93.428655267325, :migration_threshold=>5.983989366176637, :antigen=>{26=>1}, :class_label=>\"Normal\"}, {:lifespan=>906.571344732675, :k=>-105.04468881409983, :cms=>93.428655267325, :migration_threshold=>6.064970052968834, :antigen=>{26=>1}, :class_label=>\"Normal\"}, {:lifespan=>906.571344732675, :k=>-105.04468881409983, :cms=>93.428655267325, :migration_threshold=>8.840868372364579, :antigen=>{26=>1}, :class_label=>\"Normal\"}, {:lifespan=>906.571344732675, :k=>-105.04468881409983, :cms=>93.428655267325, :migration_threshold=>13.836169321939437, :antigen=>{26=>1}, :class_label=>\"Normal\"}, {:lifespan=>906.571344732675, :k=>-105.04468881409983, :cms=>93.428655267325, :migration_threshold=>10.377037159520032, :antigen=>{26=>1}, :class_label=>\"Normal\"}, {:lifespan=>906.571344732675, :k=>-105.04468881409983, :cms=>93.428655267325, :migration_threshold=>7.436246115113399, :antigen=>{26=>1}, :class_label=>\"Normal\"}, {:lifespan=>906.571344732675, :k=>-105.04468881409983, :cms=>93.428655267325, :migration_threshold=>9.241576511496884, :antigen=>{26=>1}, :class_label=>\"Normal\"}, {:lifespan=>906.571344732675, :k=>-105.04468881409983, :cms=>93.428655267325, :migration_threshold=>14.581692657562119, :antigen=>{26=>1}, :class_label=>\"Normal\"}, {:lifespan=>948.9348568377497, :k=>37.03255947401252, :cms=>51.06514316225024, :migration_threshold=>9.847309691801101, :antigen=>{50=>1}, :class_label=>\"Anomaly\"}, {:lifespan=>948.9348568377497, :k=>37.03255947401252, :cms=>51.06514316225024, :migration_threshold=>7.164817522564259, :antigen=>{50=>1}, :class_label=>\"Anomaly\"}, {:lifespan=>948.9348568377497, :k=>37.03255947401252, :cms=>51.06514316225024, :migration_threshold=>14.757766448405336, :antigen=>{50=>1}, :class_label=>\"Anomaly\"}, {:lifespan=>948.9348568377497, :k=>37.03255947401252, :cms=>51.06514316225024, :migration_threshold=>7.668302635845057, :antigen=>{50=>1}, :class_label=>\"Anomaly\"}, {:lifespan=>948.9348568377497, :k=>37.03255947401252, :cms=>51.06514316225024, :migration_threshold=>11.686160235454407, :antigen=>{50=>1}, :class_label=>\"Anomaly\"}, {:lifespan=>948.9348568377497, :k=>37.03255947401252, :cms=>51.06514316225024, :migration_threshold=>11.41397063268439, :antigen=>{50=>1}, :class_label=>\"Anomaly\"}, {:lifespan=>948.9348568377497, :k=>37.03255947401252, :cms=>51.06514316225024, :migration_threshold=>8.84254731865698, :antigen=>{50=>1}, :class_label=>\"Anomaly\"}, {:lifespan=>948.9348568377497, :k=>37.03255947401252, :cms=>51.06514316225024, :migration_threshold=>6.992214064842335, :antigen=>{50=>1}, :class_label=>\"Anomaly\"}, {:lifespan=>948.9348568377497, :k=>37.03255947401252, :cms=>51.06514316225024, :migration_threshold=>12.457623553574543, :antigen=>{50=>1}, :class_label=>\"Anomaly\"}, {:lifespan=>948.9348568377497, :k=>37.03255947401252, :cms=>51.06514316225024, :migration_threshold=>14.453932420148623, :antigen=>{50=>1}, :class_label=>\"Anomaly\"}, {:lifespan=>942.878684376747, :k=>-26.109671727878293, :cms=>57.121315623253025, :migration_threshold=>7.721003903064623, :antigen=>{34=>1}, :class_label=>\"Normal\"}, {:lifespan=>942.878684376747, :k=>-26.109671727878293, :cms=>57.121315623253025, :migration_threshold=>11.53660096265375, :antigen=>{34=>1}, :class_label=>\"Normal\"}, {:lifespan=>942.878684376747, :k=>-26.109671727878293, :cms=>57.121315623253025, :migration_threshold=>5.596003730383831, :antigen=>{34=>1}, :class_label=>\"Normal\"}, {:lifespan=>942.878684376747, :k=>-26.109671727878293, :cms=>57.121315623253025, :migration_threshold=>13.68584735041381, :antigen=>{34=>1}, :class_label=>\"Normal\"}, {:lifespan=>942.878684376747, :k=>-26.109671727878293, :cms=>57.121315623253025, :migration_threshold=>13.308494471789759, :antigen=>{34=>1}, :class_label=>\"Normal\"}, {:lifespan=>942.878684376747, :k=>-26.109671727878293, :cms=>57.121315623253025, :migration_threshold=>13.409985747859867, :antigen=>{34=>1}, :class_label=>\"Normal\"}, {:lifespan=>942.878684376747, :k=>-26.109671727878293, :cms=>57.121315623253025, :migration_threshold=>10.403146786178326, :antigen=>{34=>1}, :class_label=>\"Normal\"}, {:lifespan=>942.878684376747, :k=>-26.109671727878293, :cms=>57.121315623253025, :migration_threshold=>7.098458165897778, :antigen=>{34=>1}, :class_label=>\"Normal\"}, {:lifespan=>942.878684376747, :k=>-26.109671727878293, :cms=>57.121315623253025, :migration_threshold=>13.658319027519314, :antigen=>{34=>1}, :class_label=>\"Normal\"}, {:lifespan=>942.878684376747, :k=>-26.109671727878293, :cms=>57.121315623253025, :migration_threshold=>11.149358447441905, :antigen=>{34=>1}, :class_label=>\"Normal\"}, {:lifespan=>891.7078743867381, :k=>-160.19341008153307, :cms=>108.29212561326182, :migration_threshold=>11.642539554203946, :antigen=>{20=>1, 0=>1}, :class_label=>\"Normal\"}, {:lifespan=>891.7078743867381, :k=>-160.19341008153307, :cms=>108.29212561326182, :migration_threshold=>8.156191754096545, :antigen=>{20=>1, 0=>1}, :class_label=>\"Normal\"}, {:lifespan=>891.7078743867381, :k=>-160.19341008153307, :cms=>108.29212561326182, :migration_threshold=>13.274959010626027, :antigen=>{20=>1, 0=>1}, :class_label=>\"Normal\"}, {:lifespan=>891.7078743867381, :k=>-160.19341008153307, :cms=>108.29212561326182, :migration_threshold=>14.73522073385322, :antigen=>{20=>1, 0=>1}, :class_label=>\"Normal\"}, {:lifespan=>891.7078743867381, :k=>-160.19341008153307, :cms=>108.29212561326182, :migration_threshold=>8.02556598691555, :antigen=>{20=>1, 0=>1}, :class_label=>\"Normal\"}, {:lifespan=>891.7078743867381, :k=>-160.19341008153307, :cms=>108.29212561326182, :migration_threshold=>11.153366768003568, :antigen=>{20=>1, 0=>1}, :class_label=>\"Normal\"}, {:lifespan=>891.7078743867381, :k=>-160.19341008153307, :cms=>108.29212561326182, :migration_threshold=>9.997813887845137, :antigen=>{20=>1, 0=>1}, :class_label=>\"Normal\"}, {:lifespan=>891.7078743867381, :k=>-160.19341008153307, :cms=>108.29212561326182, :migration_threshold=>7.4105239460076255, :antigen=>{20=>1, 0=>1}, :class_label=>\"Normal\"}, {:lifespan=>891.7078743867381, :k=>-160.19341008153307, :cms=>108.29212561326182, :migration_threshold=>7.491032547485064, :antigen=>{20=>1, 0=>1}, :class_label=>\"Normal\"}, {:lifespan=>891.7078743867381, :k=>-160.19341008153307, :cms=>108.29212561326182, :migration_threshold=>14.487103546262533, :antigen=>{20=>1, 0=>1}, :class_label=>\"Normal\"}, {:lifespan=>939.6760127131988, :k=>-49.14613508599864, :cms=>60.32398728680118, :migration_threshold=>11.747520982442516, :antigen=>{27=>1}, :class_label=>\"Normal\"}, {:lifespan=>939.6760127131988, :k=>-49.14613508599864, :cms=>60.32398728680118, :migration_threshold=>12.06307817770378, :antigen=>{27=>1}, :class_label=>\"Normal\"}, {:lifespan=>939.6760127131988, :k=>-49.14613508599864, :cms=>60.32398728680118, :migration_threshold=>11.221208509743485, :antigen=>{27=>1}, :class_label=>\"Normal\"}, {:lifespan=>939.6760127131988, :k=>-49.14613508599864, :cms=>60.32398728680118, :migration_threshold=>5.038620193093352, :antigen=>{27=>1}, :class_label=>\"Normal\"}, {:lifespan=>939.6760127131988, :k=>-49.14613508599864, :cms=>60.32398728680118, :migration_threshold=>12.275065637644719, :antigen=>{27=>1}, :class_label=>\"Normal\"}, {:lifespan=>939.6760127131988, :k=>-49.14613508599864, :cms=>60.32398728680118, :migration_threshold=>7.50349742065214, :antigen=>{27=>1}, :class_label=>\"Normal\"}, {:lifespan=>939.6760127131988, :k=>-49.14613508599864, :cms=>60.32398728680118, :migration_threshold=>5.583562953135258, :antigen=>{27=>1}, :class_label=>\"Normal\"}, {:lifespan=>939.6760127131988, :k=>-49.14613508599864, :cms=>60.32398728680118, :migration_threshold=>7.937801954908965, :antigen=>{27=>1}, :class_label=>\"Normal\"}, {:lifespan=>939.6760127131988, :k=>-49.14613508599864, :cms=>60.32398728680118, :migration_threshold=>8.468426846909551, :antigen=>{27=>1}, :class_label=>\"Normal\"}, {:lifespan=>939.6760127131988, :k=>-49.14613508599864, :cms=>60.32398728680118, :migration_threshold=>8.55567982671593, :antigen=>{27=>1}, :class_label=>\"Normal\"}, {:lifespan=>979.9057760890629, :k=>17.859633463216024, :cms=>20.09422391093708, :migration_threshold=>14.259921587412464, :antigen=>{10=>1}, :class_label=>\"Anomaly\"}, {:lifespan=>979.9057760890629, :k=>17.859633463216024, :cms=>20.09422391093708, :migration_threshold=>6.725077305235877, :antigen=>{10=>1}, :class_label=>\"Anomaly\"}, {:lifespan=>979.9057760890629, :k=>17.859633463216024, :cms=>20.09422391093708, :migration_threshold=>12.1976435186782, :antigen=>{10=>1}, :class_label=>\"Anomaly\"}, {:lifespan=>979.9057760890629, :k=>17.859633463216024, :cms=>20.09422391093708, :migration_threshold=>14.850447737448562, :antigen=>{10=>1}, :class_label=>\"Anomaly\"}, {:lifespan=>979.9057760890629, :k=>17.859633463216024, :cms=>20.09422391093708, :migration_threshold=>14.52651916080823, :antigen=>{10=>1}, :class_label=>\"Anomaly\"}, {:lifespan=>979.9057760890629, :k=>17.859633463216024, :cms=>20.09422391093708, :migration_threshold=>5.2464603727950445, :antigen=>{10=>1}, :class_label=>\"Anomaly\"}, {:lifespan=>979.9057760890629, :k=>17.859633463216024, :cms=>20.09422391093708, :migration_threshold=>10.65673176110922, :antigen=>{10=>1}, :class_label=>\"Anomaly\"}, {:lifespan=>979.9057760890629, :k=>17.859633463216024, :cms=>20.09422391093708, :migration_threshold=>9.950502444326174, :antigen=>{10=>1}, :class_label=>\"Anomaly\"}, {:lifespan=>979.9057760890629, :k=>17.859633463216024, :cms=>20.09422391093708, :migration_threshold=>10.785748184855574, :antigen=>{10=>1}, :class_label=>\"Anomaly\"}, {:lifespan=>979.9057760890629, :k=>17.859633463216024, :cms=>20.09422391093708, :migration_threshold=>12.259157589952334, :antigen=>{10=>1}, :class_label=>\"Anomaly\"}, {:lifespan=>959.3025991725636, :k=>25.71392408309039, :cms=>40.697400827436354, :migration_threshold=>5.9541508339816085, :antigen=>{24=>1, 40=>1}, :class_label=>\"Anomaly\"}, {:lifespan=>959.3025991725636, :k=>25.71392408309039, :cms=>40.697400827436354, :migration_threshold=>7.8090667881374625, :antigen=>{24=>1, 40=>1}, :class_label=>\"Anomaly\"}, {:lifespan=>959.3025991725636, :k=>25.71392408309039, :cms=>40.697400827436354, :migration_threshold=>13.099704284258365, :antigen=>{24=>1, 40=>1}, :class_label=>\"Anomaly\"}, {:lifespan=>959.3025991725636, :k=>25.71392408309039, :cms=>40.697400827436354, :migration_threshold=>11.86595551691588, :antigen=>{24=>1, 40=>1}, :class_label=>\"Anomaly\"}, {:lifespan=>959.3025991725636, :k=>25.71392408309039, :cms=>40.697400827436354, :migration_threshold=>12.045518644346938, :antigen=>{24=>1, 40=>1}, :class_label=>\"Anomaly\"}, {:lifespan=>959.3025991725636, :k=>25.71392408309039, :cms=>40.697400827436354, :migration_threshold=>9.94344323834735, :antigen=>{24=>1, 40=>1}, :class_label=>\"Anomaly\"}, {:lifespan=>959.3025991725636, :k=>25.71392408309039, :cms=>40.697400827436354, :migration_threshold=>9.131795951563934, :antigen=>{24=>1, 40=>1}, :class_label=>\"Anomaly\"}, {:lifespan=>959.3025991725636, :k=>25.71392408309039, :cms=>40.697400827436354, :migration_threshold=>11.341799013590123, :antigen=>{24=>1, 40=>1}, :class_label=>\"Anomaly\"}, {:lifespan=>959.3025991725636, :k=>25.71392408309039, :cms=>40.697400827436354, :migration_threshold=>13.720670248047153, :antigen=>{24=>1, 40=>1}, :class_label=>\"Anomaly\"}, {:lifespan=>959.3025991725636, :k=>25.71392408309039, :cms=>40.697400827436354, :migration_threshold=>6.042038526982734, :antigen=>{24=>1, 40=>1}, :class_label=>\"Anomaly\"}, {:lifespan=>942.6712888921669, :k=>-59.10612071963905, :cms=>57.328711107833094, :migration_threshold=>13.92022353594297, :antigen=>{20=>1, 35=>1}, :class_label=>\"Normal\"}, {:lifespan=>942.6712888921669, :k=>-59.10612071963905, :cms=>57.328711107833094, :migration_threshold=>11.29814078816926, :antigen=>{20=>1, 35=>1}, :class_label=>\"Normal\"}, {:lifespan=>942.6712888921669, :k=>-59.10612071963905, :cms=>57.328711107833094, :migration_threshold=>8.164309192901197, :antigen=>{20=>1, 35=>1}, :class_label=>\"Normal\"}, {:lifespan=>942.6712888921669, :k=>-59.10612071963905, :cms=>57.328711107833094, :migration_threshold=>7.617310443466174, :antigen=>{20=>1, 35=>1}, :class_label=>\"Normal\"}, {:lifespan=>942.6712888921669, :k=>-59.10612071963905, :cms=>57.328711107833094, :migration_threshold=>7.059225792958567, :antigen=>{20=>1, 35=>1}, :class_label=>\"Normal\"}, {:lifespan=>942.6712888921669, :k=>-59.10612071963905, :cms=>57.328711107833094, :migration_threshold=>13.407918567293795, :antigen=>{20=>1, 35=>1}, :class_label=>\"Normal\"}, {:lifespan=>942.6712888921669, :k=>-59.10612071963905, :cms=>57.328711107833094, :migration_threshold=>11.462917988281312, :antigen=>{20=>1, 35=>1}, :class_label=>\"Normal\"}, {:lifespan=>942.6712888921669, :k=>-59.10612071963905, :cms=>57.328711107833094, :migration_threshold=>8.386475356422782, :antigen=>{20=>1, 35=>1}, :class_label=>\"Normal\"}, {:lifespan=>942.6712888921669, :k=>-59.10612071963905, :cms=>57.328711107833094, :migration_threshold=>5.193381428575642, :antigen=>{20=>1, 35=>1}, :class_label=>\"Normal\"}, {:lifespan=>942.6712888921669, :k=>-59.10612071963905, :cms=>57.328711107833094, :migration_threshold=>5.600883702717826, :antigen=>{20=>1, 35=>1}, :class_label=>\"Normal\"}, {:lifespan=>952.9065993063766, :k=>35.65227859071401, :cms=>47.09340069362335, :migration_threshold=>13.12859652293554, :antigen=>{30=>1}, :class_label=>\"Anomaly\"}, {:lifespan=>952.9065993063766, :k=>35.65227859071401, :cms=>47.09340069362335, :migration_threshold=>7.6734090131214945, :antigen=>{30=>1}, :class_label=>\"Anomaly\"}, {:lifespan=>952.9065993063766, :k=>35.65227859071401, :cms=>47.09340069362335, :migration_threshold=>6.2450660127733535, :antigen=>{30=>1}, :class_label=>\"Anomaly\"}, {:lifespan=>952.9065993063766, :k=>35.65227859071401, :cms=>47.09340069362335, :migration_threshold=>5.553732150205123, :antigen=>{30=>1}, :class_label=>\"Anomaly\"}, {:lifespan=>952.9065993063766, :k=>35.65227859071401, :cms=>47.09340069362335, :migration_threshold=>14.61768946771766, :antigen=>{30=>1}, :class_label=>\"Anomaly\"}, {:lifespan=>952.9065993063766, :k=>35.65227859071401, :cms=>47.09340069362335, :migration_threshold=>13.031234098308644, :antigen=>{30=>1}, :class_label=>\"Anomaly\"}, {:lifespan=>952.9065993063766, :k=>35.65227859071401, :cms=>47.09340069362335, :migration_threshold=>12.531000665380123, :antigen=>{30=>1}, :class_label=>\"Anomaly\"}, {:lifespan=>952.9065993063766, :k=>35.65227859071401, :cms=>47.09340069362335, :migration_threshold=>14.50111740076302, :antigen=>{30=>1}, :class_label=>\"Anomaly\"}, {:lifespan=>952.9065993063766, :k=>35.65227859071401, :cms=>47.09340069362335, :migration_threshold=>7.006537128600064, :antigen=>{30=>1}, :class_label=>\"Anomaly\"}, {:lifespan=>952.9065993063766, :k=>35.65227859071401, :cms=>47.09340069362335, :migration_threshold=>11.62792061762646, :antigen=>{30=>1}, :class_label=>\"Anomaly\"}, {:lifespan=>965.4811761896246, :k=>-3.806138114060886, :cms=>34.518823810375395, :migration_threshold=>14.689700218666111, :antigen=>{5=>1}, :class_label=>\"Normal\"}, {:lifespan=>965.4811761896246, :k=>-3.806138114060886, :cms=>34.518823810375395, :migration_threshold=>14.977907398431107, :antigen=>{5=>1}, :class_label=>\"Normal\"}, {:lifespan=>965.4811761896246, :k=>-3.806138114060886, :cms=>34.518823810375395, :migration_threshold=>13.783433583479345, :antigen=>{5=>1}, :class_label=>\"Normal\"}, {:lifespan=>965.4811761896246, :k=>-3.806138114060886, :cms=>34.518823810375395, :migration_threshold=>9.612805144274608, :antigen=>{5=>1}, :class_label=>\"Normal\"}, {:lifespan=>965.4811761896246, :k=>-3.806138114060886, :cms=>34.518823810375395, :migration_threshold=>12.879487170968924, :antigen=>{5=>1}, :class_label=>\"Normal\"}, {:lifespan=>965.4811761896246, :k=>-3.806138114060886, :cms=>34.518823810375395, :migration_threshold=>9.660096339357223, :antigen=>{5=>1}, :class_label=>\"Normal\"}, {:lifespan=>965.4811761896246, :k=>-3.806138114060886, :cms=>34.518823810375395, :migration_threshold=>9.455208467368385, :antigen=>{5=>1}, :class_label=>\"Normal\"}, {:lifespan=>965.4811761896246, :k=>-3.806138114060886, :cms=>34.518823810375395, :migration_threshold=>8.531400146972889, :antigen=>{5=>1}, :class_label=>\"Normal\"}, {:lifespan=>965.4811761896246, :k=>-3.806138114060886, :cms=>34.518823810375395, :migration_threshold=>13.782521359271676, :antigen=>{5=>1}, :class_label=>\"Normal\"}, {:lifespan=>965.4811761896246, :k=>-3.806138114060886, :cms=>34.518823810375395, :migration_threshold=>11.434525133648071, :antigen=>{5=>1}, :class_label=>\"Normal\"}, {:lifespan=>989.2792895824288, :k=>-2.9678257499414116, :cms=>10.720710417571276, :migration_threshold=>6.956939249328422, :antigen=>{30=>1}, :class_label=>\"Normal\"}, {:lifespan=>989.2792895824288, :k=>-2.9678257499414116, :cms=>10.720710417571276, :migration_threshold=>6.175351964349442, :antigen=>{30=>1}, :class_label=>\"Normal\"}, {:lifespan=>989.2792895824288, :k=>-2.9678257499414116, :cms=>10.720710417571276, :migration_threshold=>10.492755151705152, :antigen=>{30=>1}, :class_label=>\"Normal\"}, {:lifespan=>989.2792895824288, :k=>-2.9678257499414116, :cms=>10.720710417571276, :migration_threshold=>7.878525420316814, :antigen=>{30=>1}, :class_label=>\"Normal\"}, {:lifespan=>989.2792895824288, :k=>-2.9678257499414116, :cms=>10.720710417571276, :migration_threshold=>7.580019443194242, :antigen=>{30=>1}, :class_label=>\"Normal\"}, {:lifespan=>989.2792895824288, :k=>-2.9678257499414116, :cms=>10.720710417571276, :migration_threshold=>10.283686845877229, :antigen=>{30=>1}, :class_label=>\"Normal\"}, {:lifespan=>989.2792895824288, :k=>-2.9678257499414116, :cms=>10.720710417571276, :migration_threshold=>10.22051269403672, :antigen=>{30=>1}, :class_label=>\"Normal\"}, {:lifespan=>989.2792895824288, :k=>-2.9678257499414116, :cms=>10.720710417571276, :migration_threshold=>7.960257496515153, :antigen=>{30=>1}, :class_label=>\"Normal\"}, {:lifespan=>989.2792895824288, :k=>-2.9678257499414116, :cms=>10.720710417571276, :migration_threshold=>8.503438168133542, :antigen=>{30=>1}, :class_label=>\"Normal\"}, {:lifespan=>989.2792895824288, :k=>-2.9678257499414116, :cms=>10.720710417571276, :migration_threshold=>9.90612744551097, :antigen=>{30=>1}, :class_label=>\"Normal\"}, {:lifespan=>948.6322347059302, :k=>41.15650140329821, :cms=>51.367765294069805, :migration_threshold=>14.671827347703225, :antigen=>{20=>1}, :class_label=>\"Anomaly\"}, {:lifespan=>948.6322347059302, :k=>41.15650140329821, :cms=>51.367765294069805, :migration_threshold=>13.67474745991236, :antigen=>{20=>1}, :class_label=>\"Anomaly\"}, {:lifespan=>948.6322347059302, :k=>41.15650140329821, :cms=>51.367765294069805, :migration_threshold=>9.735733603275909, :antigen=>{20=>1}, :class_label=>\"Anomaly\"}, {:lifespan=>948.6322347059302, :k=>41.15650140329821, :cms=>51.367765294069805, :migration_threshold=>14.36102991214512, :antigen=>{20=>1}, :class_label=>\"Anomaly\"}, {:lifespan=>948.6322347059302, :k=>41.15650140329821, :cms=>51.367765294069805, :migration_threshold=>8.942844200152017, :antigen=>{20=>1}, :class_label=>\"Anomaly\"}, {:lifespan=>948.6322347059302, :k=>41.15650140329821, :cms=>51.367765294069805, :migration_threshold=>12.696993879600567, :antigen=>{20=>1}, :class_label=>\"Anomaly\"}, {:lifespan=>948.6322347059302, :k=>41.15650140329821, :cms=>51.367765294069805, :migration_threshold=>7.5872982383350625, :antigen=>{20=>1}, :class_label=>\"Anomaly\"}, {:lifespan=>948.6322347059302, :k=>41.15650140329821, :cms=>51.367765294069805, :migration_threshold=>13.116946109202704, :antigen=>{20=>1}, :class_label=>\"Anomaly\"}, {:lifespan=>948.6322347059302, :k=>41.15650140329821, :cms=>51.367765294069805, :migration_threshold=>8.678793565288485, :antigen=>{20=>1}, :class_label=>\"Anomaly\"}, {:lifespan=>948.6322347059302, :k=>41.15650140329821, :cms=>51.367765294069805, :migration_threshold=>8.559546897416066, :antigen=>{20=>1}, :class_label=>\"Anomaly\"}, {:lifespan=>907.1498283574825, :k=>-157.4742055507766, :cms=>92.85017164251745, :migration_threshold=>13.483104628267156, :antigen=>{17=>1}, :class_label=>\"Normal\"}, {:lifespan=>907.1498283574825, :k=>-157.4742055507766, :cms=>92.85017164251745, :migration_threshold=>14.76229149947025, :antigen=>{17=>1}, :class_label=>\"Normal\"}, {:lifespan=>907.1498283574825, :k=>-157.4742055507766, :cms=>92.85017164251745, :migration_threshold=>10.461875026792594, :antigen=>{17=>1}, :class_label=>\"Normal\"}, {:lifespan=>907.1498283574825, :k=>-157.4742055507766, :cms=>92.85017164251745, :migration_threshold=>10.299772557672338, :antigen=>{17=>1}, :class_label=>\"Normal\"}, {:lifespan=>907.1498283574825, :k=>-157.4742055507766, :cms=>92.85017164251745, :migration_threshold=>10.389708537460994, :antigen=>{17=>1}, :class_label=>\"Normal\"}, {:lifespan=>907.1498283574825, :k=>-157.4742055507766, :cms=>92.85017164251745, :migration_threshold=>14.869546570431, :antigen=>{17=>1}, :class_label=>\"Normal\"}, {:lifespan=>907.1498283574825, :k=>-157.4742055507766, :cms=>92.85017164251745, :migration_threshold=>10.830761264484211, :antigen=>{17=>1}, :class_label=>\"Normal\"}, {:lifespan=>907.1498283574825, :k=>-157.4742055507766, :cms=>92.85017164251745, :migration_threshold=>7.288240566586552, :antigen=>{17=>1}, :class_label=>\"Normal\"}, {:lifespan=>907.1498283574825, :k=>-157.4742055507766, :cms=>92.85017164251745, :migration_threshold=>8.863744811563661, :antigen=>{17=>1}, :class_label=>\"Normal\"}, {:lifespan=>907.1498283574825, :k=>-157.4742055507766, :cms=>92.85017164251745, :migration_threshold=>9.675472665294004, :antigen=>{17=>1}, :class_label=>\"Normal\"}, {:lifespan=>960.5758874360769, :k=>32.78968314656596, :cms=>39.42411256392311, :migration_threshold=>10.44717420344832, :antigen=>{30=>1}, :class_label=>\"Anomaly\"}, {:lifespan=>960.5758874360769, :k=>32.78968314656596, :cms=>39.42411256392311, :migration_threshold=>6.2688893185200625, :antigen=>{30=>1}, :class_label=>\"Anomaly\"}, {:lifespan=>960.5758874360769, :k=>32.78968314656596, :cms=>39.42411256392311, :migration_threshold=>13.391090084436163, :antigen=>{30=>1}, :class_label=>\"Anomaly\"}, {:lifespan=>960.5758874360769, :k=>32.78968314656596, :cms=>39.42411256392311, :migration_threshold=>13.967391095407123, :antigen=>{30=>1}, :class_label=>\"Anomaly\"}, {:lifespan=>960.5758874360769, :k=>32.78968314656596, :cms=>39.42411256392311, :migration_threshold=>11.99738469671088, :antigen=>{30=>1}, :class_label=>\"Anomaly\"}, {:lifespan=>960.5758874360769, :k=>32.78968314656596, :cms=>39.42411256392311, :migration_threshold=>13.520845820931285, :antigen=>{30=>1}, :class_label=>\"Anomaly\"}, {:lifespan=>960.5758874360769, :k=>32.78968314656596, :cms=>39.42411256392311, :migration_threshold=>12.5880317351474, :antigen=>{30=>1}, :class_label=>\"Anomaly\"}, {:lifespan=>960.5758874360769, :k=>32.78968314656596, :cms=>39.42411256392311, :migration_threshold=>9.793120858171164, :antigen=>{30=>1}, :class_label=>\"Anomaly\"}, {:lifespan=>960.5758874360769, :k=>32.78968314656596, :cms=>39.42411256392311, :migration_threshold=>11.180777090502087, :antigen=>{30=>1}, :class_label=>\"Anomaly\"}, {:lifespan=>960.5758874360769, :k=>32.78968314656596, :cms=>39.42411256392311, :migration_threshold=>6.766488844030286, :antigen=>{30=>1}, :class_label=>\"Anomaly\"}, {:lifespan=>984.6434742066757, :k=>3.715845463304137, :cms=>15.356525793324321, :migration_threshold=>10.072578174970836, :antigen=>{40=>1}, :class_label=>\"Anomaly\"}, {:lifespan=>984.6434742066757, :k=>3.715845463304137, :cms=>15.356525793324321, :migration_threshold=>13.41703282580726, :antigen=>{40=>1}, :class_label=>\"Anomaly\"}, {:lifespan=>984.6434742066757, :k=>3.715845463304137, :cms=>15.356525793324321, :migration_threshold=>14.060393011702121, :antigen=>{40=>1}, :class_label=>\"Anomaly\"}, {:lifespan=>984.6434742066757, :k=>3.715845463304137, :cms=>15.356525793324321, :migration_threshold=>12.434858690902844, :antigen=>{40=>1}, :class_label=>\"Anomaly\"}, {:lifespan=>984.6434742066757, :k=>3.715845463304137, :cms=>15.356525793324321, :migration_threshold=>7.591970989951071, :antigen=>{40=>1}, :class_label=>\"Anomaly\"}, {:lifespan=>984.6434742066757, :k=>3.715845463304137, :cms=>15.356525793324321, :migration_threshold=>10.309623513294225, :antigen=>{40=>1}, :class_label=>\"Anomaly\"}, {:lifespan=>984.6434742066757, :k=>3.715845463304137, :cms=>15.356525793324321, :migration_threshold=>5.873514048193721, :antigen=>{40=>1}, :class_label=>\"Anomaly\"}, {:lifespan=>984.6434742066757, :k=>3.715845463304137, :cms=>15.356525793324321, :migration_threshold=>12.565456698215556, :antigen=>{40=>1}, :class_label=>\"Anomaly\"}, {:lifespan=>984.6434742066757, :k=>3.715845463304137, :cms=>15.356525793324321, :migration_threshold=>9.788407633167564, :antigen=>{40=>1}, :class_label=>\"Anomaly\"}, {:lifespan=>984.6434742066757, :k=>3.715845463304137, :cms=>15.356525793324321, :migration_threshold=>10.429232790708388, :antigen=>{40=>1}, :class_label=>\"Anomaly\"}, {:lifespan=>942.8774983806844, :k=>-96.18129276647798, :cms=>57.12250161931557, :migration_threshold=>5.08968898155136, :antigen=>{1=>1}, :class_label=>\"Normal\"}, {:lifespan=>942.8774983806844, :k=>-96.18129276647798, :cms=>57.12250161931557, :migration_threshold=>6.012112694096082, :antigen=>{1=>1}, :class_label=>\"Normal\"}, {:lifespan=>942.8774983806844, :k=>-96.18129276647798, :cms=>57.12250161931557, :migration_threshold=>10.234573041186108, :antigen=>{1=>1}, :class_label=>\"Normal\"}, {:lifespan=>942.8774983806844, :k=>-96.18129276647798, :cms=>57.12250161931557, :migration_threshold=>12.958231606851399, :antigen=>{1=>1}, :class_label=>\"Normal\"}, {:lifespan=>942.8774983806844, :k=>-96.18129276647798, :cms=>57.12250161931557, :migration_threshold=>12.846010963878015, :antigen=>{1=>1}, :class_label=>\"Normal\"}, {:lifespan=>942.8774983806844, :k=>-96.18129276647798, :cms=>57.12250161931557, :migration_threshold=>9.376899207616484, :antigen=>{1=>1}, :class_label=>\"Normal\"}, {:lifespan=>942.8774983806844, :k=>-96.18129276647798, :cms=>57.12250161931557, :migration_threshold=>12.670208184041929, :antigen=>{1=>1}, :class_label=>\"Normal\"}, {:lifespan=>942.8774983806844, :k=>-96.18129276647798, :cms=>57.12250161931557, :migration_threshold=>11.667388229554955, :antigen=>{1=>1}, :class_label=>\"Normal\"}, {:lifespan=>942.8774983806844, :k=>-96.18129276647798, :cms=>57.12250161931557, :migration_threshold=>14.986282924092823, :antigen=>{1=>1}, :class_label=>\"Normal\"}, {:lifespan=>942.8774983806844, :k=>-96.18129276647798, :cms=>57.12250161931557, :migration_threshold=>8.615709498783875, :antigen=>{1=>1}, :class_label=>\"Normal\"}, {:lifespan=>940.63527986625, :k=>-85.71466429617749, :cms=>59.36472013374994, :migration_threshold=>6.585561924377968, :antigen=>{49=>1}, :class_label=>\"Normal\"}, {:lifespan=>940.63527986625, :k=>-85.71466429617749, :cms=>59.36472013374994, :migration_threshold=>12.611433186030084, :antigen=>{49=>1}, :class_label=>\"Normal\"}, {:lifespan=>940.63527986625, :k=>-85.71466429617749, :cms=>59.36472013374994, :migration_threshold=>9.241725809947674, :antigen=>{49=>1}, :class_label=>\"Normal\"}, {:lifespan=>940.63527986625, :k=>-85.71466429617749, :cms=>59.36472013374994, :migration_threshold=>8.846157371906267, :antigen=>{49=>1}, :class_label=>\"Normal\"}, {:lifespan=>940.63527986625, :k=>-85.71466429617749, :cms=>59.36472013374994, :migration_threshold=>8.582166767648825, :antigen=>{49=>1}, :class_label=>\"Normal\"}, {:lifespan=>940.63527986625, :k=>-85.71466429617749, :cms=>59.36472013374994, :migration_threshold=>14.299792272381438, :antigen=>{49=>1}, :class_label=>\"Normal\"}, {:lifespan=>940.63527986625, :k=>-85.71466429617749, :cms=>59.36472013374994, :migration_threshold=>7.399347846874228, :antigen=>{49=>1}, :class_label=>\"Normal\"}, {:lifespan=>940.63527986625, :k=>-85.71466429617749, :cms=>59.36472013374994, :migration_threshold=>12.218818747815693, :antigen=>{49=>1}, :class_label=>\"Normal\"}, {:lifespan=>940.63527986625, :k=>-85.71466429617749, :cms=>59.36472013374994, :migration_threshold=>8.723270060419182, :antigen=>{49=>1}, :class_label=>\"Normal\"}, {:lifespan=>940.63527986625, :k=>-85.71466429617749, :cms=>59.36472013374994, :migration_threshold=>6.032097803709013, :antigen=>{49=>1}, :class_label=>\"Normal\"}, {:lifespan=>903.1547536436043, :k=>-185.87553854563325, :cms=>96.84524635639568, :migration_threshold=>13.012828198489826, :antigen=>{22=>1}, :class_label=>\"Normal\"}, {:lifespan=>903.1547536436043, :k=>-185.87553854563325, :cms=>96.84524635639568, :migration_threshold=>10.642815949636653, :antigen=>{22=>1}, :class_label=>\"Normal\"}, {:lifespan=>903.1547536436043, :k=>-185.87553854563325, :cms=>96.84524635639568, :migration_threshold=>11.27444486556891, :antigen=>{22=>1}, :class_label=>\"Normal\"}, {:lifespan=>903.1547536436043, :k=>-185.87553854563325, :cms=>96.84524635639568, :migration_threshold=>10.135377489685883, :antigen=>{22=>1}, :class_label=>\"Normal\"}, {:lifespan=>903.1547536436043, :k=>-185.87553854563325, :cms=>96.84524635639568, :migration_threshold=>14.063904761791754, :antigen=>{22=>1}, :class_label=>\"Normal\"}, {:lifespan=>903.1547536436043, :k=>-185.87553854563325, :cms=>96.84524635639568, :migration_threshold=>6.320806382787861, :antigen=>{22=>1}, :class_label=>\"Normal\"}, {:lifespan=>903.1547536436043, :k=>-185.87553854563325, :cms=>96.84524635639568, :migration_threshold=>7.113891491006891, :antigen=>{22=>1}, :class_label=>\"Normal\"}, {:lifespan=>903.1547536436043, :k=>-185.87553854563325, :cms=>96.84524635639568, :migration_threshold=>12.603094552514367, :antigen=>{22=>1}, :class_label=>\"Normal\"}, {:lifespan=>903.1547536436043, :k=>-185.87553854563325, :cms=>96.84524635639568, :migration_threshold=>6.334729209771197, :antigen=>{22=>1}, :class_label=>\"Normal\"}, {:lifespan=>903.1547536436043, :k=>-185.87553854563325, :cms=>96.84524635639568, :migration_threshold=>8.491482485538947, :antigen=>{22=>1}, :class_label=>\"Normal\"}, {:lifespan=>939.029371216035, :k=>49.82902725521309, :cms=>60.97062878396506, :migration_threshold=>14.253757053332276, :antigen=>{30=>1}, :class_label=>\"Anomaly\"}, {:lifespan=>939.029371216035, :k=>49.82902725521309, :cms=>60.97062878396506, :migration_threshold=>12.968607455900926, :antigen=>{30=>1}, :class_label=>\"Anomaly\"}, {:lifespan=>939.029371216035, :k=>49.82902725521309, :cms=>60.97062878396506, :migration_threshold=>6.148139817639223, :antigen=>{30=>1}, :class_label=>\"Anomaly\"}, {:lifespan=>939.029371216035, :k=>49.82902725521309, :cms=>60.97062878396506, :migration_threshold=>9.502862472165365, :antigen=>{30=>1}, :class_label=>\"Anomaly\"}, {:lifespan=>939.029371216035, :k=>49.82902725521309, :cms=>60.97062878396506, :migration_threshold=>10.837829595902223, :antigen=>{30=>1}, :class_label=>\"Anomaly\"}, {:lifespan=>939.029371216035, :k=>49.82902725521309, :cms=>60.97062878396506, :migration_threshold=>9.470850022460196, :antigen=>{30=>1}, :class_label=>\"Anomaly\"}, {:lifespan=>939.029371216035, :k=>49.82902725521309, :cms=>60.97062878396506, :migration_threshold=>11.973805966176284, :antigen=>{30=>1}, :class_label=>\"Anomaly\"}, {:lifespan=>939.029371216035, :k=>49.82902725521309, :cms=>60.97062878396506, :migration_threshold=>14.239392762330292, :antigen=>{30=>1}, :class_label=>\"Anomaly\"}, {:lifespan=>939.029371216035, :k=>49.82902725521309, :cms=>60.97062878396506, :migration_threshold=>7.099992973861948, :antigen=>{30=>1}, :class_label=>\"Anomaly\"}, {:lifespan=>939.029371216035, :k=>49.82902725521309, :cms=>60.97062878396506, :migration_threshold=>12.301329780681918, :antigen=>{30=>1}, :class_label=>\"Anomaly\"}, {:lifespan=>942.4710073308947, :k=>54.345330005579065, :cms=>57.528992669105314, :migration_threshold=>8.867574795957017, :antigen=>{20=>1}, :class_label=>\"Anomaly\"}, {:lifespan=>942.4710073308947, :k=>54.345330005579065, :cms=>57.528992669105314, :migration_threshold=>9.446244588650258, :antigen=>{20=>1}, :class_label=>\"Anomaly\"}, {:lifespan=>942.4710073308947, :k=>54.345330005579065, :cms=>57.528992669105314, :migration_threshold=>14.5149302291805, :antigen=>{20=>1}, :class_label=>\"Anomaly\"}, {:lifespan=>942.4710073308947, :k=>54.345330005579065, :cms=>57.528992669105314, :migration_threshold=>8.941579293079652, :antigen=>{20=>1}, :class_label=>\"Anomaly\"}, {:lifespan=>942.4710073308947, :k=>54.345330005579065, :cms=>57.528992669105314, :migration_threshold=>13.70922223950432, :antigen=>{20=>1}, :class_label=>\"Anomaly\"}, {:lifespan=>942.4710073308947, :k=>54.345330005579065, :cms=>57.528992669105314, :migration_threshold=>8.39057984207438, :antigen=>{20=>1}, :class_label=>\"Anomaly\"}, {:lifespan=>942.4710073308947, :k=>54.345330005579065, :cms=>57.528992669105314, :migration_threshold=>7.283994703137679, :antigen=>{20=>1}, :class_label=>\"Anomaly\"}, {:lifespan=>942.4710073308947, :k=>54.345330005579065, :cms=>57.528992669105314, :migration_threshold=>11.69870345873089, :antigen=>{20=>1}, :class_label=>\"Anomaly\"}, {:lifespan=>942.4710073308947, :k=>54.345330005579065, :cms=>57.528992669105314, :migration_threshold=>11.118066847018161, :antigen=>{20=>1}, :class_label=>\"Anomaly\"}, {:lifespan=>942.4710073308947, :k=>54.345330005579065, :cms=>57.528992669105314, :migration_threshold=>14.073853060809846, :antigen=>{20=>1}, :class_label=>\"Anomaly\"}, {:lifespan=>951.9543514527859, :k=>-80.03829706738182, :cms=>48.045648547214114, :migration_threshold=>13.51618415140834, :antigen=>{37=>1}, :class_label=>\"Normal\"}, {:lifespan=>951.9543514527859, :k=>-80.03829706738182, :cms=>48.045648547214114, :migration_threshold=>12.532506207248677, :antigen=>{37=>1}, :class_label=>\"Normal\"}, {:lifespan=>951.9543514527859, :k=>-80.03829706738182, :cms=>48.045648547214114, :migration_threshold=>11.577742587038832, :antigen=>{37=>1}, :class_label=>\"Normal\"}, {:lifespan=>951.9543514527859, :k=>-80.03829706738182, :cms=>48.045648547214114, :migration_threshold=>5.422262577702512, :antigen=>{37=>1}, :class_label=>\"Normal\"}, {:lifespan=>951.9543514527859, :k=>-80.03829706738182, :cms=>48.045648547214114, :migration_threshold=>14.16204162742973, :antigen=>{37=>1}, :class_label=>\"Normal\"}, {:lifespan=>951.9543514527859, :k=>-80.03829706738182, :cms=>48.045648547214114, :migration_threshold=>14.730040336654692, :antigen=>{37=>1}, :class_label=>\"Normal\"}, {:lifespan=>951.9543514527859, :k=>-80.03829706738182, :cms=>48.045648547214114, :migration_threshold=>11.52234891231259, :antigen=>{37=>1}, :class_label=>\"Normal\"}, {:lifespan=>951.9543514527859, :k=>-80.03829706738182, :cms=>48.045648547214114, :migration_threshold=>8.796818290604406, :antigen=>{37=>1}, :class_label=>\"Normal\"}, {:lifespan=>951.9543514527859, :k=>-80.03829706738182, :cms=>48.045648547214114, :migration_threshold=>6.579123669535427, :antigen=>{37=>1}, :class_label=>\"Normal\"}, {:lifespan=>951.9543514527859, :k=>-80.03829706738182, :cms=>48.045648547214114, :migration_threshold=>9.07263204538902, :antigen=>{37=>1}, :class_label=>\"Normal\"}, {:lifespan=>956.5867581349619, :k=>40.97368414637947, :cms=>43.4132418650381, :migration_threshold=>6.5460162008366005, :antigen=>{50=>1}, :class_label=>\"Anomaly\"}, {:lifespan=>956.5867581349619, :k=>40.97368414637947, :cms=>43.4132418650381, :migration_threshold=>5.220304273878812, :antigen=>{50=>1}, :class_label=>\"Anomaly\"}, {:lifespan=>956.5867581349619, :k=>40.97368414637947, :cms=>43.4132418650381, :migration_threshold=>11.362228330357734, :antigen=>{50=>1}, :class_label=>\"Anomaly\"}, {:lifespan=>956.5867581349619, :k=>40.97368414637947, :cms=>43.4132418650381, :migration_threshold=>14.329729575884823, :antigen=>{50=>1}, :class_label=>\"Anomaly\"}, {:lifespan=>956.5867581349619, :k=>40.97368414637947, :cms=>43.4132418650381, :migration_threshold=>10.261907568244766, :antigen=>{50=>1}, :class_label=>\"Anomaly\"}, {:lifespan=>956.5867581349619, :k=>40.97368414637947, :cms=>43.4132418650381, :migration_threshold=>10.63852736407483, :antigen=>{50=>1}, :class_label=>\"Anomaly\"}, {:lifespan=>956.5867581349619, :k=>40.97368414637947, :cms=>43.4132418650381, :migration_threshold=>8.43394082593996, :antigen=>{50=>1}, :class_label=>\"Anomaly\"}, {:lifespan=>956.5867581349619, :k=>40.97368414637947, :cms=>43.4132418650381, :migration_threshold=>12.347900046212906, :antigen=>{50=>1}, :class_label=>\"Anomaly\"}, {:lifespan=>956.5867581349619, :k=>40.97368414637947, :cms=>43.4132418650381, :migration_threshold=>12.677456658020509, :antigen=>{50=>1}, :class_label=>\"Anomaly\"}, {:lifespan=>956.5867581349619, :k=>40.97368414637947, :cms=>43.4132418650381, :migration_threshold=>12.226506540631405, :antigen=>{50=>1}, :class_label=>\"Anomaly\"}, {:lifespan=>928.0336788155893, :k=>-56.49562660561371, :cms=>71.96632118441073, :migration_threshold=>7.4930629154698405, :antigen=>{11=>1}, :class_label=>\"Normal\"}, {:lifespan=>928.0336788155893, :k=>-56.49562660561371, :cms=>71.96632118441073, :migration_threshold=>13.287060108900615, :antigen=>{11=>1}, :class_label=>\"Normal\"}, {:lifespan=>928.0336788155893, :k=>-56.49562660561371, :cms=>71.96632118441073, :migration_threshold=>12.639957011903531, :antigen=>{11=>1}, :class_label=>\"Normal\"}, {:lifespan=>928.0336788155893, :k=>-56.49562660561371, :cms=>71.96632118441073, :migration_threshold=>11.947818890557052, :antigen=>{11=>1}, :class_label=>\"Normal\"}, {:lifespan=>928.0336788155893, :k=>-56.49562660561371, :cms=>71.96632118441073, :migration_threshold=>6.4008231440665755, :antigen=>{11=>1}, :class_label=>\"Normal\"}, {:lifespan=>928.0336788155893, :k=>-56.49562660561371, :cms=>71.96632118441073, :migration_threshold=>11.191567397556527, :antigen=>{11=>1}, :class_label=>\"Normal\"}, {:lifespan=>928.0336788155893, :k=>-56.49562660561371, :cms=>71.96632118441073, :migration_threshold=>6.7200850173531546, :antigen=>{11=>1}, :class_label=>\"Normal\"}, {:lifespan=>928.0336788155893, :k=>-56.49562660561371, :cms=>71.96632118441073, :migration_threshold=>14.539312924732837, :antigen=>{11=>1}, :class_label=>\"Normal\"}, {:lifespan=>928.0336788155893, :k=>-56.49562660561371, :cms=>71.96632118441073, :migration_threshold=>7.507767627465919, :antigen=>{11=>1}, :class_label=>\"Normal\"}, {:lifespan=>928.0336788155893, :k=>-56.49562660561371, :cms=>71.96632118441073, :migration_threshold=>8.599962622989104, :antigen=>{11=>1}, :class_label=>\"Normal\"}, {:lifespan=>930.6874886459982, :k=>59.99323100897811, :cms=>69.31251135400174, :migration_threshold=>7.114757151830293, :antigen=>{10=>1}, :class_label=>\"Anomaly\"}, {:lifespan=>930.6874886459982, :k=>59.99323100897811, :cms=>69.31251135400174, :migration_threshold=>9.513138428803954, :antigen=>{10=>1}, :class_label=>\"Anomaly\"}, {:lifespan=>930.6874886459982, :k=>59.99323100897811, :cms=>69.31251135400174, :migration_threshold=>7.519954291367741, :antigen=>{10=>1}, :class_label=>\"Anomaly\"}, {:lifespan=>930.6874886459982, :k=>59.99323100897811, :cms=>69.31251135400174, :migration_threshold=>7.503952289932112, :antigen=>{10=>1}, :class_label=>\"Anomaly\"}, {:lifespan=>930.6874886459982, :k=>59.99323100897811, :cms=>69.31251135400174, :migration_threshold=>13.058119821394877, :antigen=>{10=>1}, :class_label=>\"Anomaly\"}, {:lifespan=>930.6874886459982, :k=>59.99323100897811, :cms=>69.31251135400174, :migration_threshold=>5.486487091525072, :antigen=>{10=>1}, :class_label=>\"Anomaly\"}, {:lifespan=>930.6874886459982, :k=>59.99323100897811, :cms=>69.31251135400174, :migration_threshold=>8.8886536749703, :antigen=>{10=>1}, :class_label=>\"Anomaly\"}, {:lifespan=>930.6874886459982, :k=>59.99323100897811, :cms=>69.31251135400174, :migration_threshold=>13.482273503753593, :antigen=>{10=>1}, :class_label=>\"Anomaly\"}, {:lifespan=>930.6874886459982, :k=>59.99323100897811, :cms=>69.31251135400174, :migration_threshold=>12.78279006795313, :antigen=>{10=>1}, :class_label=>\"Anomaly\"}, {:lifespan=>930.6874886459982, :k=>59.99323100897811, :cms=>69.31251135400174, :migration_threshold=>11.537632001713424, :antigen=>{10=>1}, :class_label=>\"Anomaly\"}, {:lifespan=>946.2334481196832, :k=>-24.336825575320198, :cms=>53.766551880316754, :migration_threshold=>7.70478945187123, :antigen=>{20=>1, 44=>1}, :class_label=>\"Normal\"}, {:lifespan=>946.2334481196832, :k=>-24.336825575320198, :cms=>53.766551880316754, :migration_threshold=>7.804271016235816, :antigen=>{20=>1, 44=>1}, :class_label=>\"Normal\"}, {:lifespan=>946.2334481196832, :k=>-24.336825575320198, :cms=>53.766551880316754, :migration_threshold=>10.436308716228769, :antigen=>{20=>1, 44=>1}, :class_label=>\"Normal\"}, {:lifespan=>946.2334481196832, :k=>-24.336825575320198, :cms=>53.766551880316754, :migration_threshold=>12.973827108283317, :antigen=>{20=>1, 44=>1}, :class_label=>\"Normal\"}, {:lifespan=>946.2334481196832, :k=>-24.336825575320198, :cms=>53.766551880316754, :migration_threshold=>7.422272196662697, :antigen=>{20=>1, 44=>1}, :class_label=>\"Normal\"}, {:lifespan=>946.2334481196832, :k=>-24.336825575320198, :cms=>53.766551880316754, :migration_threshold=>5.480804026594923, :antigen=>{20=>1, 44=>1}, :class_label=>\"Normal\"}, {:lifespan=>946.2334481196832, :k=>-24.336825575320198, :cms=>53.766551880316754, :migration_threshold=>5.1649296601423265, :antigen=>{20=>1, 44=>1}, :class_label=>\"Normal\"}, {:lifespan=>946.2334481196832, :k=>-24.336825575320198, :cms=>53.766551880316754, :migration_threshold=>12.081723986678323, :antigen=>{20=>1, 44=>1}, :class_label=>\"Normal\"}, {:lifespan=>946.2334481196832, :k=>-24.336825575320198, :cms=>53.766551880316754, :migration_threshold=>12.366572920072002, :antigen=>{20=>1, 44=>1}, :class_label=>\"Normal\"}, {:lifespan=>946.2334481196832, :k=>-24.336825575320198, :cms=>53.766551880316754, :migration_threshold=>11.729042291424319, :antigen=>{20=>1, 44=>1}, :class_label=>\"Normal\"}, {:lifespan=>912.7862335564789, :k=>-91.22823220213664, :cms=>87.21376644352114, :migration_threshold=>9.908839753084564, :antigen=>{12=>1}, :class_label=>\"Normal\"}, {:lifespan=>912.7862335564789, :k=>-91.22823220213664, :cms=>87.21376644352114, :migration_threshold=>13.696383603501731, :antigen=>{12=>1}, :class_label=>\"Normal\"}, {:lifespan=>912.7862335564789, :k=>-91.22823220213664, :cms=>87.21376644352114, :migration_threshold=>13.906443681236142, :antigen=>{12=>1}, :class_label=>\"Normal\"}, {:lifespan=>912.7862335564789, :k=>-91.22823220213664, :cms=>87.21376644352114, :migration_threshold=>7.9761085729940735, :antigen=>{12=>1}, :class_label=>\"Normal\"}, {:lifespan=>912.7862335564789, :k=>-91.22823220213664, :cms=>87.21376644352114, :migration_threshold=>13.033228844005242, :antigen=>{12=>1}, :class_label=>\"Normal\"}, {:lifespan=>912.7862335564789, :k=>-91.22823220213664, :cms=>87.21376644352114, :migration_threshold=>8.534518824454448, :antigen=>{12=>1}, :class_label=>\"Normal\"}, {:lifespan=>912.7862335564789, :k=>-91.22823220213664, :cms=>87.21376644352114, :migration_threshold=>13.07884049513216, :antigen=>{12=>1}, :class_label=>\"Normal\"}, {:lifespan=>912.7862335564789, :k=>-91.22823220213664, :cms=>87.21376644352114, :migration_threshold=>12.256162546040517, :antigen=>{12=>1}, :class_label=>\"Normal\"}, {:lifespan=>912.7862335564789, :k=>-91.22823220213664, :cms=>87.21376644352114, :migration_threshold=>14.097640357086986, :antigen=>{12=>1}, :class_label=>\"Normal\"}, {:lifespan=>912.7862335564789, :k=>-91.22823220213664, :cms=>87.21376644352114, :migration_threshold=>8.266629002526876, :antigen=>{12=>1}, :class_label=>\"Normal\"}, {:lifespan=>954.0454818571892, :k=>43.452484914374715, :cms=>45.95451814281084, :migration_threshold=>5.316094658594831, :antigen=>{20=>1}, :class_label=>\"Anomaly\"}, {:lifespan=>954.0454818571892, :k=>43.452484914374715, :cms=>45.95451814281084, :migration_threshold=>9.423590893319727, :antigen=>{20=>1}, :class_label=>\"Anomaly\"}, {:lifespan=>954.0454818571892, :k=>43.452484914374715, :cms=>45.95451814281084, :migration_threshold=>10.245940020508542, :antigen=>{20=>1}, :class_label=>\"Anomaly\"}, {:lifespan=>954.0454818571892, :k=>43.452484914374715, :cms=>45.95451814281084, :migration_threshold=>13.014714735361007, :antigen=>{20=>1}, :class_label=>\"Anomaly\"}, {:lifespan=>954.0454818571892, :k=>43.452484914374715, :cms=>45.95451814281084, :migration_threshold=>14.974304520930506, :antigen=>{20=>1}, :class_label=>\"Anomaly\"}, {:lifespan=>954.0454818571892, :k=>43.452484914374715, :cms=>45.95451814281084, :migration_threshold=>9.071935609166456, :antigen=>{20=>1}, :class_label=>\"Anomaly\"}, {:lifespan=>954.0454818571892, :k=>43.452484914374715, :cms=>45.95451814281084, :migration_threshold=>6.084441581720271, :antigen=>{20=>1}, :class_label=>\"Anomaly\"}, {:lifespan=>954.0454818571892, :k=>43.452484914374715, :cms=>45.95451814281084, :migration_threshold=>13.103405841055501, :antigen=>{20=>1}, :class_label=>\"Anomaly\"}, {:lifespan=>954.0454818571892, :k=>43.452484914374715, :cms=>45.95451814281084, :migration_threshold=>6.172933670575035, :antigen=>{20=>1}, :class_label=>\"Anomaly\"}, {:lifespan=>954.0454818571892, :k=>43.452484914374715, :cms=>45.95451814281084, :migration_threshold=>10.608805376351198, :antigen=>{20=>1}, :class_label=>\"Anomaly\"}, {:lifespan=>923.9578647056763, :k=>-128.02501897455528, :cms=>76.0421352943237, :migration_threshold=>6.161538426255503, :antigen=>{15=>1}, :class_label=>\"Normal\"}, {:lifespan=>923.9578647056763, :k=>-128.02501897455528, :cms=>76.0421352943237, :migration_threshold=>8.75525493310167, :antigen=>{15=>1}, :class_label=>\"Normal\"}, {:lifespan=>923.9578647056763, :k=>-128.02501897455528, :cms=>76.0421352943237, :migration_threshold=>12.859265288095553, :antigen=>{15=>1}, :class_label=>\"Normal\"}, {:lifespan=>923.9578647056763, :k=>-128.02501897455528, :cms=>76.0421352943237, :migration_threshold=>14.507633866504692, :antigen=>{15=>1}, :class_label=>\"Normal\"}, {:lifespan=>923.9578647056763, :k=>-128.02501897455528, :cms=>76.0421352943237, :migration_threshold=>12.351561616280708, :antigen=>{15=>1}, :class_label=>\"Normal\"}, {:lifespan=>923.9578647056763, :k=>-128.02501897455528, :cms=>76.0421352943237, :migration_threshold=>6.912387198732959, :antigen=>{15=>1}, :class_label=>\"Normal\"}, {:lifespan=>923.9578647056763, :k=>-128.02501897455528, :cms=>76.0421352943237, :migration_threshold=>12.709353349055817, :antigen=>{15=>1}, :class_label=>\"Normal\"}, {:lifespan=>923.9578647056763, :k=>-128.02501897455528, :cms=>76.0421352943237, :migration_threshold=>11.01571127551125, :antigen=>{15=>1}, :class_label=>\"Normal\"}, {:lifespan=>923.9578647056763, :k=>-128.02501897455528, :cms=>76.0421352943237, :migration_threshold=>13.40353646276281, :antigen=>{15=>1}, :class_label=>\"Normal\"}, {:lifespan=>923.9578647056763, :k=>-128.02501897455528, :cms=>76.0421352943237, :migration_threshold=>6.432936495093, :antigen=>{15=>1}, :class_label=>\"Normal\"}, {:lifespan=>907.3201279406669, :k=>-155.88876662401813, :cms=>92.67987205933309, :migration_threshold=>14.97963729646727, :antigen=>{8=>1}, :class_label=>\"Normal\"}, {:lifespan=>907.3201279406669, :k=>-155.88876662401813, :cms=>92.67987205933309, :migration_threshold=>10.72623709814285, :antigen=>{8=>1}, :class_label=>\"Normal\"}, {:lifespan=>907.3201279406669, :k=>-155.88876662401813, :cms=>92.67987205933309, :migration_threshold=>11.064125743024013, :antigen=>{8=>1}, :class_label=>\"Normal\"}, {:lifespan=>907.3201279406669, :k=>-155.88876662401813, :cms=>92.67987205933309, :migration_threshold=>13.191777941969768, :antigen=>{8=>1}, :class_label=>\"Normal\"}, {:lifespan=>907.3201279406669, :k=>-155.88876662401813, :cms=>92.67987205933309, :migration_threshold=>12.824952719836974, :antigen=>{8=>1}, :class_label=>\"Normal\"}, {:lifespan=>907.3201279406669, :k=>-155.88876662401813, :cms=>92.67987205933309, :migration_threshold=>9.504852327422505, :antigen=>{8=>1}, :class_label=>\"Normal\"}, {:lifespan=>907.3201279406669, :k=>-155.88876662401813, :cms=>92.67987205933309, :migration_threshold=>12.437315523899578, :antigen=>{8=>1}, :class_label=>\"Normal\"}, {:lifespan=>907.3201279406669, :k=>-155.88876662401813, :cms=>92.67987205933309, :migration_threshold=>12.13731583401703, :antigen=>{8=>1}, :class_label=>\"Normal\"}, {:lifespan=>907.3201279406669, :k=>-155.88876662401813, :cms=>92.67987205933309, :migration_threshold=>6.407584072940864, :antigen=>{8=>1}, :class_label=>\"Normal\"}, {:lifespan=>907.3201279406669, :k=>-155.88876662401813, :cms=>92.67987205933309, :migration_threshold=>8.828543235335435, :antigen=>{8=>1}, :class_label=>\"Normal\"}, {:lifespan=>930.9762409581385, :k=>-85.99829767958477, :cms=>69.02375904186152, :migration_threshold=>10.72695405515597, :antigen=>{29=>1}, :class_label=>\"Normal\"}, {:lifespan=>930.9762409581385, :k=>-85.99829767958477, :cms=>69.02375904186152, :migration_threshold=>10.640978095255424, :antigen=>{29=>1}, :class_label=>\"Normal\"}, {:lifespan=>930.9762409581385, :k=>-85.99829767958477, :cms=>69.02375904186152, :migration_threshold=>8.318985187880775, :antigen=>{29=>1}, :class_label=>\"Normal\"}, {:lifespan=>930.9762409581385, :k=>-85.99829767958477, :cms=>69.02375904186152, :migration_threshold=>14.998298569017233, :antigen=>{29=>1}, :class_label=>\"Normal\"}, {:lifespan=>930.9762409581385, :k=>-85.99829767958477, :cms=>69.02375904186152, :migration_threshold=>13.828488164087933, :antigen=>{29=>1}, :class_label=>\"Normal\"}, {:lifespan=>930.9762409581385, :k=>-85.99829767958477, :cms=>69.02375904186152, :migration_threshold=>12.314786351344342, :antigen=>{29=>1}, :class_label=>\"Normal\"}, {:lifespan=>930.9762409581385, :k=>-85.99829767958477, :cms=>69.02375904186152, :migration_threshold=>9.603790244445698, :antigen=>{29=>1}, :class_label=>\"Normal\"}, {:lifespan=>930.9762409581385, :k=>-85.99829767958477, :cms=>69.02375904186152, :migration_threshold=>5.675713415366261, :antigen=>{29=>1}, :class_label=>\"Normal\"}, {:lifespan=>930.9762409581385, :k=>-85.99829767958477, :cms=>69.02375904186152, :migration_threshold=>12.62102443440806, :antigen=>{29=>1}, :class_label=>\"Normal\"}, {:lifespan=>930.9762409581385, :k=>-85.99829767958477, :cms=>69.02375904186152, :migration_threshold=>8.26046930951039, :antigen=>{29=>1}, :class_label=>\"Normal\"}, {:lifespan=>966.5163674211199, :k=>27.074708151414605, :cms=>33.48363257888011, :migration_threshold=>9.351971218034603, :antigen=>{20=>1}, :class_label=>\"Anomaly\"}, {:lifespan=>966.5163674211199, :k=>27.074708151414605, :cms=>33.48363257888011, :migration_threshold=>5.99341010655868, :antigen=>{20=>1}, :class_label=>\"Anomaly\"}, {:lifespan=>966.5163674211199, :k=>27.074708151414605, :cms=>33.48363257888011, :migration_threshold=>5.6644233478832575, :antigen=>{20=>1}, :class_label=>\"Anomaly\"}, {:lifespan=>966.5163674211199, :k=>27.074708151414605, :cms=>33.48363257888011, :migration_threshold=>9.617212701323357, :antigen=>{20=>1}, :class_label=>\"Anomaly\"}, {:lifespan=>966.5163674211199, :k=>27.074708151414605, :cms=>33.48363257888011, :migration_threshold=>13.808267185413586, :antigen=>{20=>1}, :class_label=>\"Anomaly\"}, {:lifespan=>966.5163674211199, :k=>27.074708151414605, :cms=>33.48363257888011, :migration_threshold=>6.420333660742584, :antigen=>{20=>1}, :class_label=>\"Anomaly\"}, {:lifespan=>966.5163674211199, :k=>27.074708151414605, :cms=>33.48363257888011, :migration_threshold=>8.91138147702411, :antigen=>{20=>1}, :class_label=>\"Anomaly\"}, {:lifespan=>966.5163674211199, :k=>27.074708151414605, :cms=>33.48363257888011, :migration_threshold=>12.672735881889306, :antigen=>{20=>1}, :class_label=>\"Anomaly\"}, {:lifespan=>966.5163674211199, :k=>27.074708151414605, :cms=>33.48363257888011, :migration_threshold=>7.732634717450165, :antigen=>{20=>1}, :class_label=>\"Anomaly\"}, {:lifespan=>966.5163674211199, :k=>27.074708151414605, :cms=>33.48363257888011, :migration_threshold=>5.833845163464913, :antigen=>{20=>1}, :class_label=>\"Anomaly\"}, {:lifespan=>989.3006189042422, :k=>-1.603001288641801, :cms=>10.699381095757763, :migration_threshold=>9.926870499484814, :antigen=>{50=>1}, :class_label=>\"Normal\"}, {:lifespan=>989.3006189042422, :k=>-1.603001288641801, :cms=>10.699381095757763, :migration_threshold=>5.286225816198736, :antigen=>{50=>1}, :class_label=>\"Normal\"}, {:lifespan=>989.3006189042422, :k=>-1.603001288641801, :cms=>10.699381095757763, :migration_threshold=>8.580970072491834, :antigen=>{50=>1}, :class_label=>\"Normal\"}, {:lifespan=>989.3006189042422, :k=>-1.603001288641801, :cms=>10.699381095757763, :migration_threshold=>6.713642160281389, :antigen=>{50=>1}, :class_label=>\"Normal\"}, {:lifespan=>989.3006189042422, :k=>-1.603001288641801, :cms=>10.699381095757763, :migration_threshold=>8.250146441297451, :antigen=>{50=>1}, :class_label=>\"Normal\"}, {:lifespan=>986.910840473394, :k=>-6.350212316132916, :cms=>13.089159526605979, :migration_threshold=>11.961108046922643, :antigen=>{50=>1, 40=>1}, :class_label=>\"Normal\"}, {:lifespan=>986.910840473394, :k=>-6.350212316132916, :cms=>13.089159526605979, :migration_threshold=>12.08207636946625, :antigen=>{50=>1, 40=>1}, :class_label=>\"Normal\"}, {:lifespan=>986.910840473394, :k=>-6.350212316132916, :cms=>13.089159526605979, :migration_threshold=>12.860667706600204, :antigen=>{50=>1, 40=>1}, :class_label=>\"Normal\"}, {:lifespan=>986.910840473394, :k=>-6.350212316132916, :cms=>13.089159526605979, :migration_threshold=>11.500257995615105, :antigen=>{50=>1, 40=>1}, :class_label=>\"Normal\"}, {:lifespan=>968.019339205684, :k=>0.9875322027423188, :cms=>31.980660794316062, :migration_threshold=>14.04956685029645, :antigen=>{50=>1, 40=>1, 30=>1}, :class_label=>\"Anomaly\"}, {:lifespan=>978.7187203014417, :k=>2.59053349138412, :cms=>21.2812796985583, :migration_threshold=>5.298436057238566, :antigen=>{40=>1, 30=>1}, :class_label=>\"Anomaly\"}, {:lifespan=>978.7187203014417, :k=>2.59053349138412, :cms=>21.2812796985583, :migration_threshold=>6.399435977264291, :antigen=>{40=>1, 30=>1}, :class_label=>\"Anomaly\"}, {:lifespan=>978.7187203014417, :k=>2.59053349138412, :cms=>21.2812796985583, :migration_threshold=>10.000549849129087, :antigen=>{40=>1, 30=>1}, :class_label=>\"Anomaly\"}, {:lifespan=>978.7187203014417, :k=>2.59053349138412, :cms=>21.2812796985583, :migration_threshold=>7.895416845683472, :antigen=>{40=>1, 30=>1}, :class_label=>\"Anomaly\"}, {:lifespan=>978.7187203014417, :k=>2.59053349138412, :cms=>21.2812796985583, :migration_threshold=>9.575450291953647, :antigen=>{40=>1, 30=>1}, :class_label=>\"Anomaly\"}, {:lifespan=>981.10849873229, :k=>7.337744518875235, :cms=>18.891501267710083, :migration_threshold=>12.08730162201399, :antigen=>{30=>1}, :class_label=>\"Anomaly\"}, {:lifespan=>981.10849873229, :k=>7.337744518875235, :cms=>18.891501267710083, :migration_threshold=>9.645938000060726, :antigen=>{30=>1}, :class_label=>\"Anomaly\"}, {:lifespan=>981.10849873229, :k=>7.337744518875235, :cms=>18.891501267710083, :migration_threshold=>12.407887401867018, :antigen=>{30=>1}, :class_label=>\"Anomaly\"}, {:lifespan=>981.10849873229, :k=>7.337744518875235, :cms=>18.891501267710083, :migration_threshold=>5.456511706316951, :antigen=>{30=>1}, :class_label=>\"Anomaly\"}, {:lifespan=>875.6707492631466, :k=>-159.0219743340818, :cms=>124.32925073685337, :migration_threshold=>13.30064318994636, :antigen=>{27=>1}, :class_label=>\"Normal\"}, {:lifespan=>875.6707492631466, :k=>-159.0219743340818, :cms=>124.32925073685337, :migration_threshold=>5.282168260743836, :antigen=>{27=>1}, :class_label=>\"Normal\"}, {:lifespan=>875.6707492631466, :k=>-159.0219743340818, :cms=>124.32925073685337, :migration_threshold=>7.836102320657838, :antigen=>{27=>1}, :class_label=>\"Normal\"}, {:lifespan=>875.6707492631466, :k=>-159.0219743340818, :cms=>124.32925073685337, :migration_threshold=>8.29415633211989, :antigen=>{27=>1}, :class_label=>\"Normal\"}, {:lifespan=>875.6707492631466, :k=>-159.0219743340818, :cms=>124.32925073685337, :migration_threshold=>11.765098806911848, :antigen=>{27=>1}, :class_label=>\"Normal\"}, {:lifespan=>875.6707492631466, :k=>-159.0219743340818, :cms=>124.32925073685337, :migration_threshold=>14.733200156355212, :antigen=>{27=>1}, :class_label=>\"Normal\"}, {:lifespan=>875.6707492631466, :k=>-159.0219743340818, :cms=>124.32925073685337, :migration_threshold=>13.40551623614447, :antigen=>{27=>1}, :class_label=>\"Normal\"}, {:lifespan=>875.6707492631466, :k=>-159.0219743340818, :cms=>124.32925073685337, :migration_threshold=>14.093764459904037, :antigen=>{27=>1}, :class_label=>\"Normal\"}, {:lifespan=>875.6707492631466, :k=>-159.0219743340818, :cms=>124.32925073685337, :migration_threshold=>7.944677596087061, :antigen=>{27=>1}, :class_label=>\"Normal\"}, {:lifespan=>875.6707492631466, :k=>-159.0219743340818, :cms=>124.32925073685337, :migration_threshold=>14.27661636291285, :antigen=>{27=>1}, :class_label=>\"Normal\"}, {:lifespan=>970.8183730730083, :k=>18.406458609135626, :cms=>29.18162692699177, :migration_threshold=>13.740774731734447, :antigen=>{20=>1}, :class_label=>\"Anomaly\"}, {:lifespan=>970.8183730730083, :k=>18.406458609135626, :cms=>29.18162692699177, :migration_threshold=>7.860648907223688, :antigen=>{20=>1}, :class_label=>\"Anomaly\"}, {:lifespan=>970.8183730730083, :k=>18.406458609135626, :cms=>29.18162692699177, :migration_threshold=>11.235340304973102, :antigen=>{20=>1}, :class_label=>\"Anomaly\"}, {:lifespan=>970.8183730730083, :k=>18.406458609135626, :cms=>29.18162692699177, :migration_threshold=>7.487587298057463, :antigen=>{20=>1}, :class_label=>\"Anomaly\"}, {:lifespan=>970.8183730730083, :k=>18.406458609135626, :cms=>29.18162692699177, :migration_threshold=>11.65533428252241, :antigen=>{20=>1}, :class_label=>\"Anomaly\"}, {:lifespan=>970.8183730730083, :k=>18.406458609135626, :cms=>29.18162692699177, :migration_threshold=>11.083943802523589, :antigen=>{20=>1}, :class_label=>\"Anomaly\"}, {:lifespan=>970.8183730730083, :k=>18.406458609135626, :cms=>29.18162692699177, :migration_threshold=>6.001848191617773, :antigen=>{20=>1}, :class_label=>\"Anomaly\"}, {:lifespan=>970.8183730730083, :k=>18.406458609135626, :cms=>29.18162692699177, :migration_threshold=>11.02168641988687, :antigen=>{20=>1}, :class_label=>\"Anomaly\"}, {:lifespan=>970.8183730730083, :k=>18.406458609135626, :cms=>29.18162692699177, :migration_threshold=>10.342233592801843, :antigen=>{20=>1}, :class_label=>\"Anomaly\"}, {:lifespan=>970.8183730730083, :k=>18.406458609135626, :cms=>29.18162692699177, :migration_threshold=>6.860432760234638, :antigen=>{20=>1}, :class_label=>\"Anomaly\"}, {:lifespan=>955.1604029228347, :k=>-68.76065665402726, :cms=>44.8395970771653, :migration_threshold=>8.186539986762957, :antigen=>{5=>1}, :class_label=>\"Normal\"}, {:lifespan=>955.1604029228347, :k=>-68.76065665402726, :cms=>44.8395970771653, :migration_threshold=>10.732626996538635, :antigen=>{5=>1}, :class_label=>\"Normal\"}, {:lifespan=>955.1604029228347, :k=>-68.76065665402726, :cms=>44.8395970771653, :migration_threshold=>5.80914393166179, :antigen=>{5=>1}, :class_label=>\"Normal\"}, {:lifespan=>955.1604029228347, :k=>-68.76065665402726, :cms=>44.8395970771653, :migration_threshold=>10.501203685515971, :antigen=>{5=>1}, :class_label=>\"Normal\"}, {:lifespan=>955.1604029228347, :k=>-68.76065665402726, :cms=>44.8395970771653, :migration_threshold=>12.929151593164722, :antigen=>{5=>1}, :class_label=>\"Normal\"}, {:lifespan=>955.1604029228347, :k=>-68.76065665402726, :cms=>44.8395970771653, :migration_threshold=>9.555977699493999, :antigen=>{5=>1}, :class_label=>\"Normal\"}, {:lifespan=>955.1604029228347, :k=>-68.76065665402726, :cms=>44.8395970771653, :migration_threshold=>10.666073720256637, :antigen=>{5=>1}, :class_label=>\"Normal\"}, {:lifespan=>955.1604029228347, :k=>-68.76065665402726, :cms=>44.8395970771653, :migration_threshold=>6.215592176255481, :antigen=>{5=>1}, :class_label=>\"Normal\"}, {:lifespan=>955.1604029228347, :k=>-68.76065665402726, :cms=>44.8395970771653, :migration_threshold=>14.650701563524919, :antigen=>{5=>1}, :class_label=>\"Normal\"}, {:lifespan=>955.1604029228347, :k=>-68.76065665402726, :cms=>44.8395970771653, :migration_threshold=>6.341673072033508, :antigen=>{5=>1}, :class_label=>\"Normal\"}, {:lifespan=>935.4855246386276, :k=>62.9871103669577, :cms=>64.51447536137248, :migration_threshold=>5.825987959840923, :antigen=>{40=>1}, :class_label=>\"Anomaly\"}, {:lifespan=>935.4855246386276, :k=>62.9871103669577, :cms=>64.51447536137248, :migration_threshold=>13.3424341823911, :antigen=>{40=>1}, :class_label=>\"Anomaly\"}, {:lifespan=>935.4855246386276, :k=>62.9871103669577, :cms=>64.51447536137248, :migration_threshold=>9.245103727141823, :antigen=>{40=>1}, :class_label=>\"Anomaly\"}, {:lifespan=>935.4855246386276, :k=>62.9871103669577, :cms=>64.51447536137248, :migration_threshold=>5.432909255813034, :antigen=>{40=>1}, :class_label=>\"Anomaly\"}, {:lifespan=>935.4855246386276, :k=>62.9871103669577, :cms=>64.51447536137248, :migration_threshold=>9.174514404320458, :antigen=>{40=>1}, :class_label=>\"Anomaly\"}, {:lifespan=>935.4855246386276, :k=>62.9871103669577, :cms=>64.51447536137248, :migration_threshold=>12.173275642808488, :antigen=>{40=>1}, :class_label=>\"Anomaly\"}, {:lifespan=>935.4855246386276, :k=>62.9871103669577, :cms=>64.51447536137248, :migration_threshold=>11.533648441369646, :antigen=>{40=>1}, :class_label=>\"Anomaly\"}, {:lifespan=>935.4855246386276, :k=>62.9871103669577, :cms=>64.51447536137248, :migration_threshold=>9.470091238216888, :antigen=>{40=>1}, :class_label=>\"Anomaly\"}, {:lifespan=>935.4855246386276, :k=>62.9871103669577, :cms=>64.51447536137248, :migration_threshold=>10.98761192427203, :antigen=>{40=>1}, :class_label=>\"Anomaly\"}, {:lifespan=>935.4855246386276, :k=>62.9871103669577, :cms=>64.51447536137248, :migration_threshold=>8.595345410176265, :antigen=>{40=>1}, :class_label=>\"Anomaly\"}, {:lifespan=>926.8226751035115, :k=>61.78554319575473, :cms=>73.17732489648847, :migration_threshold=>7.201080299488377, :antigen=>{40=>1}, :class_label=>\"Anomaly\"}, {:lifespan=>926.8226751035115, :k=>61.78554319575473, :cms=>73.17732489648847, :migration_threshold=>12.754721762341802, :antigen=>{40=>1}, :class_label=>\"Anomaly\"}, {:lifespan=>926.8226751035115, :k=>61.78554319575473, :cms=>73.17732489648847, :migration_threshold=>6.072902732841231, :antigen=>{40=>1}, :class_label=>\"Anomaly\"}, {:lifespan=>926.8226751035115, :k=>61.78554319575473, :cms=>73.17732489648847, :migration_threshold=>14.43786430103411, :antigen=>{40=>1}, :class_label=>\"Anomaly\"}, {:lifespan=>926.8226751035115, :k=>61.78554319575473, :cms=>73.17732489648847, :migration_threshold=>11.335516717362763, :antigen=>{40=>1}, :class_label=>\"Anomaly\"}, {:lifespan=>926.8226751035115, :k=>61.78554319575473, :cms=>73.17732489648847, :migration_threshold=>8.807552459125956, :antigen=>{40=>1}, :class_label=>\"Anomaly\"}, {:lifespan=>926.8226751035115, :k=>61.78554319575473, :cms=>73.17732489648847, :migration_threshold=>6.624548499129661, :antigen=>{40=>1}, :class_label=>\"Anomaly\"}, {:lifespan=>926.8226751035115, :k=>61.78554319575473, :cms=>73.17732489648847, :migration_threshold=>10.85053245968421, :antigen=>{40=>1}, :class_label=>\"Anomaly\"}, {:lifespan=>926.8226751035115, :k=>61.78554319575473, :cms=>73.17732489648847, :migration_threshold=>7.743520870329896, :antigen=>{40=>1}, :class_label=>\"Anomaly\"}, {:lifespan=>926.8226751035115, :k=>61.78554319575473, :cms=>73.17732489648847, :migration_threshold=>9.483364171002817, :antigen=>{40=>1}, :class_label=>\"Anomaly\"}, {:lifespan=>984.9968530418377, :k=>-6.805222936325179, :cms=>15.003146958162393, :migration_threshold=>9.424410946133264, :antigen=>{17=>1}, :class_label=>\"Normal\"}, {:lifespan=>984.9968530418377, :k=>-6.805222936325179, :cms=>15.003146958162393, :migration_threshold=>8.785050897970017, :antigen=>{17=>1}, :class_label=>\"Normal\"}, {:lifespan=>984.9968530418377, :k=>-6.805222936325179, :cms=>15.003146958162393, :migration_threshold=>6.771578825022669, :antigen=>{17=>1}, :class_label=>\"Normal\"}, {:lifespan=>984.9968530418377, :k=>-6.805222936325179, :cms=>15.003146958162393, :migration_threshold=>8.08112828007394, :antigen=>{17=>1}, :class_label=>\"Normal\"}, {:lifespan=>984.9968530418377, :k=>-6.805222936325179, :cms=>15.003146958162393, :migration_threshold=>11.158979082105574, :antigen=>{17=>1}, :class_label=>\"Normal\"}, {:lifespan=>984.9968530418377, :k=>-6.805222936325179, :cms=>15.003146958162393, :migration_threshold=>7.651483504203074, :antigen=>{17=>1}, :class_label=>\"Normal\"}, {:lifespan=>984.9968530418377, :k=>-6.805222936325179, :cms=>15.003146958162393, :migration_threshold=>6.798392267915505, :antigen=>{17=>1}, :class_label=>\"Normal\"}, {:lifespan=>984.9968530418377, :k=>-6.805222936325179, :cms=>15.003146958162393, :migration_threshold=>10.498438794724525, :antigen=>{17=>1}, :class_label=>\"Normal\"}, {:lifespan=>984.9968530418377, :k=>-6.805222936325179, :cms=>15.003146958162393, :migration_threshold=>11.611292021955855, :antigen=>{17=>1}, :class_label=>\"Normal\"}, {:lifespan=>984.9968530418377, :k=>-6.805222936325179, :cms=>15.003146958162393, :migration_threshold=>14.86752053474161, :antigen=>{17=>1}, :class_label=>\"Normal\"}, {:lifespan=>947.973503641487, :k=>42.74222652271789, :cms=>52.026496358513015, :migration_threshold=>8.52859150964178, :antigen=>{30=>1}, :class_label=>\"Anomaly\"}, {:lifespan=>947.973503641487, :k=>42.74222652271789, :cms=>52.026496358513015, :migration_threshold=>13.657158903844909, :antigen=>{30=>1}, :class_label=>\"Anomaly\"}, {:lifespan=>947.973503641487, :k=>42.74222652271789, :cms=>52.026496358513015, :migration_threshold=>6.19350290531245, :antigen=>{30=>1}, :class_label=>\"Anomaly\"}, {:lifespan=>947.973503641487, :k=>42.74222652271789, :cms=>52.026496358513015, :migration_threshold=>13.276872884200385, :antigen=>{30=>1}, :class_label=>\"Anomaly\"}, {:lifespan=>947.973503641487, :k=>42.74222652271789, :cms=>52.026496358513015, :migration_threshold=>10.33605987929054, :antigen=>{30=>1}, :class_label=>\"Anomaly\"}, {:lifespan=>947.973503641487, :k=>42.74222652271789, :cms=>52.026496358513015, :migration_threshold=>9.397999299443498, :antigen=>{30=>1}, :class_label=>\"Anomaly\"}, {:lifespan=>947.973503641487, :k=>42.74222652271789, :cms=>52.026496358513015, :migration_threshold=>10.938856298438587, :antigen=>{30=>1}, :class_label=>\"Anomaly\"}, {:lifespan=>947.973503641487, :k=>42.74222652271789, :cms=>52.026496358513015, :migration_threshold=>5.229946112727531, :antigen=>{30=>1}, :class_label=>\"Anomaly\"}, {:lifespan=>947.973503641487, :k=>42.74222652271789, :cms=>52.026496358513015, :migration_threshold=>10.246198914063486, :antigen=>{30=>1}, :class_label=>\"Anomaly\"}, {:lifespan=>947.973503641487, :k=>42.74222652271789, :cms=>52.026496358513015, :migration_threshold=>6.874048785985475, :antigen=>{30=>1}, :class_label=>\"Anomaly\"}, {:lifespan=>950.4638727500787, :k=>-22.055418767254, :cms=>49.536127249921265, :migration_threshold=>6.679102877331299, :antigen=>{31=>1}, :class_label=>\"Normal\"}, {:lifespan=>950.4638727500787, :k=>-22.055418767254, :cms=>49.536127249921265, :migration_threshold=>13.784012503669054, :antigen=>{31=>1}, :class_label=>\"Normal\"}, {:lifespan=>950.4638727500787, :k=>-22.055418767254, :cms=>49.536127249921265, :migration_threshold=>12.578660747635874, :antigen=>{31=>1}, :class_label=>\"Normal\"}, {:lifespan=>950.4638727500787, :k=>-22.055418767254, :cms=>49.536127249921265, :migration_threshold=>5.063884962014221, :antigen=>{31=>1}, :class_label=>\"Normal\"}, {:lifespan=>950.4638727500787, :k=>-22.055418767254, :cms=>49.536127249921265, :migration_threshold=>7.9278982682706625, :antigen=>{31=>1}, :class_label=>\"Normal\"}, {:lifespan=>950.4638727500787, :k=>-22.055418767254, :cms=>49.536127249921265, :migration_threshold=>10.405081883251814, :antigen=>{31=>1}, :class_label=>\"Normal\"}, {:lifespan=>950.4638727500787, :k=>-22.055418767254, :cms=>49.536127249921265, :migration_threshold=>6.901373702466915, :antigen=>{31=>1}, :class_label=>\"Normal\"}, {:lifespan=>950.4638727500787, :k=>-22.055418767254, :cms=>49.536127249921265, :migration_threshold=>13.872391638391578, :antigen=>{31=>1}, :class_label=>\"Normal\"}, {:lifespan=>950.4638727500787, :k=>-22.055418767254, :cms=>49.536127249921265, :migration_threshold=>6.8045065529679345, :antigen=>{31=>1}, :class_label=>\"Normal\"}, {:lifespan=>950.4638727500787, :k=>-22.055418767254, :cms=>49.536127249921265, :migration_threshold=>6.202978696562402, :antigen=>{31=>1}, :class_label=>\"Normal\"}, {:lifespan=>952.8532390206718, :k=>-6.356138724792306, :cms=>47.146760979328135, :migration_threshold=>14.793284265441496, :antigen=>{42=>1}, :class_label=>\"Normal\"}, {:lifespan=>952.8532390206718, :k=>-6.356138724792306, :cms=>47.146760979328135, :migration_threshold=>8.856822509346056, :antigen=>{42=>1}, :class_label=>\"Normal\"}, {:lifespan=>952.8532390206718, :k=>-6.356138724792306, :cms=>47.146760979328135, :migration_threshold=>9.977403798278084, :antigen=>{42=>1}, :class_label=>\"Normal\"}, {:lifespan=>952.8532390206718, :k=>-6.356138724792306, :cms=>47.146760979328135, :migration_threshold=>11.365078308970539, :antigen=>{42=>1}, :class_label=>\"Normal\"}, {:lifespan=>952.8532390206718, :k=>-6.356138724792306, :cms=>47.146760979328135, :migration_threshold=>9.773064505315094, :antigen=>{42=>1}, :class_label=>\"Normal\"}, {:lifespan=>952.8532390206718, :k=>-6.356138724792306, :cms=>47.146760979328135, :migration_threshold=>12.717023968643307, :antigen=>{42=>1}, :class_label=>\"Normal\"}, {:lifespan=>952.8532390206718, :k=>-6.356138724792306, :cms=>47.146760979328135, :migration_threshold=>6.808067071621587, :antigen=>{42=>1}, :class_label=>\"Normal\"}, {:lifespan=>952.8532390206718, :k=>-6.356138724792306, :cms=>47.146760979328135, :migration_threshold=>10.130646286317228, :antigen=>{42=>1}, :class_label=>\"Normal\"}, {:lifespan=>952.8532390206718, :k=>-6.356138724792306, :cms=>47.146760979328135, :migration_threshold=>13.669195966933666, :antigen=>{42=>1}, :class_label=>\"Normal\"}, {:lifespan=>952.8532390206718, :k=>-6.356138724792306, :cms=>47.146760979328135, :migration_threshold=>11.790074005504357, :antigen=>{42=>1}, :class_label=>\"Normal\"}, {:lifespan=>945.8477474415048, :k=>39.40689307085763, :cms=>54.152252558495235, :migration_threshold=>12.086354359984213, :antigen=>{50=>1}, :class_label=>\"Anomaly\"}, {:lifespan=>945.8477474415048, :k=>39.40689307085763, :cms=>54.152252558495235, :migration_threshold=>12.35576103056514, :antigen=>{50=>1}, :class_label=>\"Anomaly\"}, {:lifespan=>945.8477474415048, :k=>39.40689307085763, :cms=>54.152252558495235, :migration_threshold=>12.928459349160118, :antigen=>{50=>1}, :class_label=>\"Anomaly\"}, {:lifespan=>945.8477474415048, :k=>39.40689307085763, :cms=>54.152252558495235, :migration_threshold=>7.111342103595399, :antigen=>{50=>1}, :class_label=>\"Anomaly\"}, {:lifespan=>945.8477474415048, :k=>39.40689307085763, :cms=>54.152252558495235, :migration_threshold=>7.62955974809239, :antigen=>{50=>1}, :class_label=>\"Anomaly\"}, {:lifespan=>945.8477474415048, :k=>39.40689307085763, :cms=>54.152252558495235, :migration_threshold=>11.775846240583508, :antigen=>{50=>1}, :class_label=>\"Anomaly\"}, {:lifespan=>945.8477474415048, :k=>39.40689307085763, :cms=>54.152252558495235, :migration_threshold=>5.824018958073742, :antigen=>{50=>1}, :class_label=>\"Anomaly\"}, {:lifespan=>945.8477474415048, :k=>39.40689307085763, :cms=>54.152252558495235, :migration_threshold=>5.171071364811711, :antigen=>{50=>1}, :class_label=>\"Anomaly\"}, {:lifespan=>945.8477474415048, :k=>39.40689307085763, :cms=>54.152252558495235, :migration_threshold=>7.98199773845443, :antigen=>{50=>1}, :class_label=>\"Anomaly\"}, {:lifespan=>945.8477474415048, :k=>39.40689307085763, :cms=>54.152252558495235, :migration_threshold=>5.48203167962149, :antigen=>{50=>1}, :class_label=>\"Anomaly\"}, {:lifespan=>966.7664538736757, :k=>23.051021034984426, :cms=>33.233546126324285, :migration_threshold=>8.760747220579136, :antigen=>{10=>1}, :class_label=>\"Anomaly\"}, {:lifespan=>966.7664538736757, :k=>23.051021034984426, :cms=>33.233546126324285, :migration_threshold=>11.662926369340095, :antigen=>{10=>1}, :class_label=>\"Anomaly\"}, {:lifespan=>966.7664538736757, :k=>23.051021034984426, :cms=>33.233546126324285, :migration_threshold=>14.776319733434313, :antigen=>{10=>1}, :class_label=>\"Anomaly\"}, {:lifespan=>966.7664538736757, :k=>23.051021034984426, :cms=>33.233546126324285, :migration_threshold=>7.505501828032464, :antigen=>{10=>1}, :class_label=>\"Anomaly\"}, {:lifespan=>966.7664538736757, :k=>23.051021034984426, :cms=>33.233546126324285, :migration_threshold=>8.08574667733804, :antigen=>{10=>1}, :class_label=>\"Anomaly\"}, {:lifespan=>966.7664538736757, :k=>23.051021034984426, :cms=>33.233546126324285, :migration_threshold=>11.56512862119207, :antigen=>{10=>1}, :class_label=>\"Anomaly\"}, {:lifespan=>966.7664538736757, :k=>23.051021034984426, :cms=>33.233546126324285, :migration_threshold=>13.892165582681718, :antigen=>{10=>1}, :class_label=>\"Anomaly\"}, {:lifespan=>966.7664538736757, :k=>23.051021034984426, :cms=>33.233546126324285, :migration_threshold=>6.841378167773993, :antigen=>{10=>1}, :class_label=>\"Anomaly\"}, {:lifespan=>966.7664538736757, :k=>23.051021034984426, :cms=>33.233546126324285, :migration_threshold=>6.960565065534373, :antigen=>{10=>1}, :class_label=>\"Anomaly\"}, {:lifespan=>966.7664538736757, :k=>23.051021034984426, :cms=>33.233546126324285, :migration_threshold=>5.54184065084672, :antigen=>{10=>1}, :class_label=>\"Anomaly\"}, {:lifespan=>910.877197586424, :k=>-122.98147389881765, :cms=>89.12280241357601, :migration_threshold=>7.316932808767763, :antigen=>{6=>1}, :class_label=>\"Normal\"}, {:lifespan=>910.877197586424, :k=>-122.98147389881765, :cms=>89.12280241357601, :migration_threshold=>13.7310774954261, :antigen=>{6=>1}, :class_label=>\"Normal\"}, {:lifespan=>910.877197586424, :k=>-122.98147389881765, :cms=>89.12280241357601, :migration_threshold=>7.022391488435822, :antigen=>{6=>1}, :class_label=>\"Normal\"}, {:lifespan=>910.877197586424, :k=>-122.98147389881765, :cms=>89.12280241357601, :migration_threshold=>10.831902378035458, :antigen=>{6=>1}, :class_label=>\"Normal\"}, {:lifespan=>910.877197586424, :k=>-122.98147389881765, :cms=>89.12280241357601, :migration_threshold=>12.837193694641298, :antigen=>{6=>1}, :class_label=>\"Normal\"}, {:lifespan=>910.877197586424, :k=>-122.98147389881765, :cms=>89.12280241357601, :migration_threshold=>5.661300196351416, :antigen=>{6=>1}, :class_label=>\"Normal\"}, {:lifespan=>910.877197586424, :k=>-122.98147389881765, :cms=>89.12280241357601, :migration_threshold=>8.690983470925081, :antigen=>{6=>1}, :class_label=>\"Normal\"}, {:lifespan=>910.877197586424, :k=>-122.98147389881765, :cms=>89.12280241357601, :migration_threshold=>12.344964079284367, :antigen=>{6=>1}, :class_label=>\"Normal\"}, {:lifespan=>910.877197586424, :k=>-122.98147389881765, :cms=>89.12280241357601, :migration_threshold=>11.962859364157712, :antigen=>{6=>1}, :class_label=>\"Normal\"}, {:lifespan=>910.877197586424, :k=>-122.98147389881765, :cms=>89.12280241357601, :migration_threshold=>7.589772494775751, :antigen=>{6=>1}, :class_label=>\"Normal\"}, {:lifespan=>954.0366236300702, :k=>-18.325087418513803, :cms=>45.96337636992981, :migration_threshold=>7.746293678503377, :antigen=>{4=>1}, :class_label=>\"Normal\"}, {:lifespan=>954.0366236300702, :k=>-18.325087418513803, :cms=>45.96337636992981, :migration_threshold=>11.409216858153762, :antigen=>{4=>1}, :class_label=>\"Normal\"}, {:lifespan=>954.0366236300702, :k=>-18.325087418513803, :cms=>45.96337636992981, :migration_threshold=>14.312493720945206, :antigen=>{4=>1}, :class_label=>\"Normal\"}, {:lifespan=>954.0366236300702, :k=>-18.325087418513803, :cms=>45.96337636992981, :migration_threshold=>9.13703976433094, :antigen=>{4=>1}, :class_label=>\"Normal\"}, {:lifespan=>954.0366236300702, :k=>-18.325087418513803, :cms=>45.96337636992981, :migration_threshold=>6.337331980500107, :antigen=>{4=>1}, :class_label=>\"Normal\"}, {:lifespan=>954.0366236300702, :k=>-18.325087418513803, :cms=>45.96337636992981, :migration_threshold=>9.713482467019826, :antigen=>{4=>1}, :class_label=>\"Normal\"}, {:lifespan=>954.0366236300702, :k=>-18.325087418513803, :cms=>45.96337636992981, :migration_threshold=>10.198303778760444, :antigen=>{4=>1}, :class_label=>\"Normal\"}, {:lifespan=>954.0366236300702, :k=>-18.325087418513803, :cms=>45.96337636992981, :migration_threshold=>12.982584415626954, :antigen=>{4=>1}, :class_label=>\"Normal\"}, {:lifespan=>954.0366236300702, :k=>-18.325087418513803, :cms=>45.96337636992981, :migration_threshold=>14.36209282160498, :antigen=>{4=>1}, :class_label=>\"Normal\"}, {:lifespan=>954.0366236300702, :k=>-18.325087418513803, :cms=>45.96337636992981, :migration_threshold=>13.512518308783978, :antigen=>{4=>1}, :class_label=>\"Normal\"}, {:lifespan=>897.2386592600875, :k=>-174.4200188812215, :cms=>102.7613407399125, :migration_threshold=>5.237998591399402, :antigen=>{47=>1}, :class_label=>\"Normal\"}, {:lifespan=>897.2386592600875, :k=>-174.4200188812215, :cms=>102.7613407399125, :migration_threshold=>6.019355292787409, :antigen=>{47=>1}, :class_label=>\"Normal\"}, {:lifespan=>897.2386592600875, :k=>-174.4200188812215, :cms=>102.7613407399125, :migration_threshold=>6.584405904503185, :antigen=>{47=>1}, :class_label=>\"Normal\"}, {:lifespan=>897.2386592600875, :k=>-174.4200188812215, :cms=>102.7613407399125, :migration_threshold=>10.311472642126477, :antigen=>{47=>1}, :class_label=>\"Normal\"}, {:lifespan=>897.2386592600875, :k=>-174.4200188812215, :cms=>102.7613407399125, :migration_threshold=>7.9763566609212955, :antigen=>{47=>1}, :class_label=>\"Normal\"}, {:lifespan=>897.2386592600875, :k=>-174.4200188812215, :cms=>102.7613407399125, :migration_threshold=>7.8363012646182035, :antigen=>{47=>1}, :class_label=>\"Normal\"}, {:lifespan=>897.2386592600875, :k=>-174.4200188812215, :cms=>102.7613407399125, :migration_threshold=>8.962916554117424, :antigen=>{47=>1}, :class_label=>\"Normal\"}, {:lifespan=>897.2386592600875, :k=>-174.4200188812215, :cms=>102.7613407399125, :migration_threshold=>11.569250227246554, :antigen=>{47=>1}, :class_label=>\"Normal\"}, {:lifespan=>897.2386592600875, :k=>-174.4200188812215, :cms=>102.7613407399125, :migration_threshold=>14.814823916351221, :antigen=>{47=>1}, :class_label=>\"Normal\"}, {:lifespan=>897.2386592600875, :k=>-174.4200188812215, :cms=>102.7613407399125, :migration_threshold=>14.831389897127066, :antigen=>{47=>1}, :class_label=>\"Normal\"}, {:lifespan=>937.1336220694594, :k=>-40.78241748964281, :cms=>62.86637793054061, :migration_threshold=>12.022214097058807, :antigen=>{26=>1}, :class_label=>\"Normal\"}, {:lifespan=>937.1336220694594, :k=>-40.78241748964281, :cms=>62.86637793054061, :migration_threshold=>6.6371866364200605, :antigen=>{26=>1}, :class_label=>\"Normal\"}, {:lifespan=>937.1336220694594, :k=>-40.78241748964281, :cms=>62.86637793054061, :migration_threshold=>11.866031543927132, :antigen=>{26=>1}, :class_label=>\"Normal\"}, {:lifespan=>937.1336220694594, :k=>-40.78241748964281, :cms=>62.86637793054061, :migration_threshold=>11.414706426174494, :antigen=>{26=>1}, :class_label=>\"Normal\"}, {:lifespan=>937.1336220694594, :k=>-40.78241748964281, :cms=>62.86637793054061, :migration_threshold=>9.32840828800651, :antigen=>{26=>1}, :class_label=>\"Normal\"}, {:lifespan=>937.1336220694594, :k=>-40.78241748964281, :cms=>62.86637793054061, :migration_threshold=>10.561724400788554, :antigen=>{26=>1}, :class_label=>\"Normal\"}, {:lifespan=>937.1336220694594, :k=>-40.78241748964281, :cms=>62.86637793054061, :migration_threshold=>8.413259688220997, :antigen=>{26=>1}, :class_label=>\"Normal\"}, {:lifespan=>937.1336220694594, :k=>-40.78241748964281, :cms=>62.86637793054061, :migration_threshold=>7.109131896941183, :antigen=>{26=>1}, :class_label=>\"Normal\"}, {:lifespan=>937.1336220694594, :k=>-40.78241748964281, :cms=>62.86637793054061, :migration_threshold=>5.475449454968222, :antigen=>{26=>1}, :class_label=>\"Normal\"}, {:lifespan=>937.1336220694594, :k=>-40.78241748964281, :cms=>62.86637793054061, :migration_threshold=>5.108499296188721, :antigen=>{26=>1}, :class_label=>\"Normal\"}, {:lifespan=>960.1268413447235, :k=>27.81816291317726, :cms=>39.87315865527649, :migration_threshold=>14.118614886558046, :antigen=>{20=>1}, :class_label=>\"Anomaly\"}, {:lifespan=>960.1268413447235, :k=>27.81816291317726, :cms=>39.87315865527649, :migration_threshold=>8.175817138512862, :antigen=>{20=>1}, :class_label=>\"Anomaly\"}, {:lifespan=>960.1268413447235, :k=>27.81816291317726, :cms=>39.87315865527649, :migration_threshold=>5.67164743718736, :antigen=>{20=>1}, :class_label=>\"Anomaly\"}, {:lifespan=>960.1268413447235, :k=>27.81816291317726, :cms=>39.87315865527649, :migration_threshold=>14.280820706511227, :antigen=>{20=>1}, :class_label=>\"Anomaly\"}, {:lifespan=>960.1268413447235, :k=>27.81816291317726, :cms=>39.87315865527649, :migration_threshold=>9.090318119480541, :antigen=>{20=>1}, :class_label=>\"Anomaly\"}, {:lifespan=>960.1268413447235, :k=>27.81816291317726, :cms=>39.87315865527649, :migration_threshold=>14.338939222208918, :antigen=>{20=>1}, :class_label=>\"Anomaly\"}, {:lifespan=>960.1268413447235, :k=>27.81816291317726, :cms=>39.87315865527649, :migration_threshold=>14.958059850874466, :antigen=>{20=>1}, :class_label=>\"Anomaly\"}, {:lifespan=>960.1268413447235, :k=>27.81816291317726, :cms=>39.87315865527649, :migration_threshold=>5.015664646375041, :antigen=>{20=>1}, :class_label=>\"Anomaly\"}, {:lifespan=>960.1268413447235, :k=>27.81816291317726, :cms=>39.87315865527649, :migration_threshold=>14.143642074289302, :antigen=>{20=>1}, :class_label=>\"Anomaly\"}, {:lifespan=>960.1268413447235, :k=>27.81816291317726, :cms=>39.87315865527649, :migration_threshold=>8.480069033602735, :antigen=>{20=>1}, :class_label=>\"Anomaly\"}, {:lifespan=>986.0333399797734, :k=>5.671776812667474, :cms=>13.966660020226662, :migration_threshold=>8.480179671978, :antigen=>{48=>1}, :class_label=>\"Anomaly\"}, {:lifespan=>986.0333399797734, :k=>5.671776812667474, :cms=>13.966660020226662, :migration_threshold=>10.48622305466171, :antigen=>{48=>1}, :class_label=>\"Anomaly\"}, {:lifespan=>986.0333399797734, :k=>5.671776812667474, :cms=>13.966660020226662, :migration_threshold=>10.691837404571046, :antigen=>{48=>1}, :class_label=>\"Anomaly\"}, {:lifespan=>986.0333399797734, :k=>5.671776812667474, :cms=>13.966660020226662, :migration_threshold=>8.506561120763603, :antigen=>{48=>1}, :class_label=>\"Anomaly\"}, {:lifespan=>986.0333399797734, :k=>5.671776812667474, :cms=>13.966660020226662, :migration_threshold=>12.38401720604197, :antigen=>{48=>1}, :class_label=>\"Anomaly\"}, {:lifespan=>986.0333399797734, :k=>5.671776812667474, :cms=>13.966660020226662, :migration_threshold=>9.73413744880374, :antigen=>{48=>1}, :class_label=>\"Anomaly\"}, {:lifespan=>962.9350586028731, :k=>24.239193732340016, :cms=>37.064941397126915, :migration_threshold=>14.160866564232876, :antigen=>{48=>1, 50=>1}, :class_label=>\"Anomaly\"}, {:lifespan=>962.9350586028731, :k=>24.239193732340016, :cms=>37.064941397126915, :migration_threshold=>14.842608607279082, :antigen=>{48=>1, 50=>1}, :class_label=>\"Anomaly\"}, {:lifespan=>962.9350586028731, :k=>24.239193732340016, :cms=>37.064941397126915, :migration_threshold=>14.582289213053594, :antigen=>{48=>1, 50=>1}, :class_label=>\"Anomaly\"}, {:lifespan=>962.9350586028731, :k=>24.239193732340016, :cms=>37.064941397126915, :migration_threshold=>14.40735342177151, :antigen=>{48=>1, 50=>1}, :class_label=>\"Anomaly\"}, {:lifespan=>976.9017186230998, :k=>18.567416919672542, :cms=>23.09828137690025, :migration_threshold=>7.891028675002975, :antigen=>{50=>1}, :class_label=>\"Anomaly\"}, {:lifespan=>976.9017186230998, :k=>18.567416919672542, :cms=>23.09828137690025, :migration_threshold=>11.217019562195311, :antigen=>{50=>1}, :class_label=>\"Anomaly\"}, {:lifespan=>976.9017186230998, :k=>18.567416919672542, :cms=>23.09828137690025, :migration_threshold=>7.33367207560442, :antigen=>{50=>1}, :class_label=>\"Anomaly\"}, {:lifespan=>976.9017186230998, :k=>18.567416919672542, :cms=>23.09828137690025, :migration_threshold=>11.928484200465787, :antigen=>{50=>1}, :class_label=>\"Anomaly\"}, {:lifespan=>976.9017186230998, :k=>18.567416919672542, :cms=>23.09828137690025, :migration_threshold=>5.704421291419644, :antigen=>{50=>1}, :class_label=>\"Anomaly\"}, {:lifespan=>976.9017186230998, :k=>18.567416919672542, :cms=>23.09828137690025, :migration_threshold=>10.254213878153756, :antigen=>{50=>1}, :class_label=>\"Anomaly\"}, {:lifespan=>941.9054265036384, :k=>-71.64653671465534, :cms=>58.09457349636155, :migration_threshold=>6.515347355255772, :antigen=>{28=>1}, :class_label=>\"Normal\"}, {:lifespan=>941.9054265036384, :k=>-71.64653671465534, :cms=>58.09457349636155, :migration_threshold=>6.889684196324318, :antigen=>{28=>1}, :class_label=>\"Normal\"}, {:lifespan=>941.9054265036384, :k=>-71.64653671465534, :cms=>58.09457349636155, :migration_threshold=>12.430556440341393, :antigen=>{28=>1}, :class_label=>\"Normal\"}, {:lifespan=>941.9054265036384, :k=>-71.64653671465534, :cms=>58.09457349636155, :migration_threshold=>14.634898644016033, :antigen=>{28=>1}, :class_label=>\"Normal\"}, {:lifespan=>941.9054265036384, :k=>-71.64653671465534, :cms=>58.09457349636155, :migration_threshold=>11.522002770000372, :antigen=>{28=>1}, :class_label=>\"Normal\"}, {:lifespan=>941.9054265036384, :k=>-71.64653671465534, :cms=>58.09457349636155, :migration_threshold=>13.218250475836452, :antigen=>{28=>1}, :class_label=>\"Normal\"}, {:lifespan=>941.9054265036384, :k=>-71.64653671465534, :cms=>58.09457349636155, :migration_threshold=>10.484956685550697, :antigen=>{28=>1}, :class_label=>\"Normal\"}, {:lifespan=>941.9054265036384, :k=>-71.64653671465534, :cms=>58.09457349636155, :migration_threshold=>6.643299609414607, :antigen=>{28=>1}, :class_label=>\"Normal\"}, {:lifespan=>941.9054265036384, :k=>-71.64653671465534, :cms=>58.09457349636155, :migration_threshold=>10.58925378890893, :antigen=>{28=>1}, :class_label=>\"Normal\"}, {:lifespan=>941.9054265036384, :k=>-71.64653671465534, :cms=>58.09457349636155, :migration_threshold=>8.894879872628016, :antigen=>{28=>1}, :class_label=>\"Normal\"}, {:lifespan=>956.4144836116692, :k=>34.80201192187603, :cms=>43.58551638833079, :migration_threshold=>11.457940009223293, :antigen=>{20=>1}, :class_label=>\"Anomaly\"}, {:lifespan=>956.4144836116692, :k=>34.80201192187603, :cms=>43.58551638833079, :migration_threshold=>9.74566535062068, :antigen=>{20=>1}, :class_label=>\"Anomaly\"}, {:lifespan=>956.4144836116692, :k=>34.80201192187603, :cms=>43.58551638833079, :migration_threshold=>13.777303629757853, :antigen=>{20=>1}, :class_label=>\"Anomaly\"}, {:lifespan=>956.4144836116692, :k=>34.80201192187603, :cms=>43.58551638833079, :migration_threshold=>8.11446886728668, :antigen=>{20=>1}, :class_label=>\"Anomaly\"}, {:lifespan=>956.4144836116692, :k=>34.80201192187603, :cms=>43.58551638833079, :migration_threshold=>10.032673661321212, :antigen=>{20=>1}, :class_label=>\"Anomaly\"}, {:lifespan=>956.4144836116692, :k=>34.80201192187603, :cms=>43.58551638833079, :migration_threshold=>5.76522540169503, :antigen=>{20=>1}, :class_label=>\"Anomaly\"}, {:lifespan=>956.4144836116692, :k=>34.80201192187603, :cms=>43.58551638833079, :migration_threshold=>11.269058385420742, :antigen=>{20=>1}, :class_label=>\"Anomaly\"}, {:lifespan=>956.4144836116692, :k=>34.80201192187603, :cms=>43.58551638833079, :migration_threshold=>10.071268560839284, :antigen=>{20=>1}, :class_label=>\"Anomaly\"}, {:lifespan=>956.4144836116692, :k=>34.80201192187603, :cms=>43.58551638833079, :migration_threshold=>5.88509979871224, :antigen=>{20=>1}, :class_label=>\"Anomaly\"}, {:lifespan=>956.4144836116692, :k=>34.80201192187603, :cms=>43.58551638833079, :migration_threshold=>5.015467707009588, :antigen=>{20=>1}, :class_label=>\"Anomaly\"}, {:lifespan=>890.2193930140194, :k=>-163.21062512840385, :cms=>109.78060698598061, :migration_threshold=>9.889937426232972, :antigen=>{45=>1}, :class_label=>\"Normal\"}, {:lifespan=>890.2193930140194, :k=>-163.21062512840385, :cms=>109.78060698598061, :migration_threshold=>5.206073272608584, :antigen=>{45=>1}, :class_label=>\"Normal\"}, {:lifespan=>890.2193930140194, :k=>-163.21062512840385, :cms=>109.78060698598061, :migration_threshold=>10.80936226087741, :antigen=>{45=>1}, :class_label=>\"Normal\"}, {:lifespan=>890.2193930140194, :k=>-163.21062512840385, :cms=>109.78060698598061, :migration_threshold=>10.847503831618202, :antigen=>{45=>1}, :class_label=>\"Normal\"}, {:lifespan=>890.2193930140194, :k=>-163.21062512840385, :cms=>109.78060698598061, :migration_threshold=>5.311938394264272, :antigen=>{45=>1}, :class_label=>\"Normal\"}, {:lifespan=>890.2193930140194, :k=>-163.21062512840385, :cms=>109.78060698598061, :migration_threshold=>5.342709357982085, :antigen=>{45=>1}, :class_label=>\"Normal\"}, {:lifespan=>890.2193930140194, :k=>-163.21062512840385, :cms=>109.78060698598061, :migration_threshold=>14.193960139075715, :antigen=>{45=>1}, :class_label=>\"Normal\"}, {:lifespan=>890.2193930140194, :k=>-163.21062512840385, :cms=>109.78060698598061, :migration_threshold=>13.727697931253765, :antigen=>{45=>1}, :class_label=>\"Normal\"}, {:lifespan=>890.2193930140194, :k=>-163.21062512840385, :cms=>109.78060698598061, :migration_threshold=>14.89455776860462, :antigen=>{45=>1}, :class_label=>\"Normal\"}, {:lifespan=>890.2193930140194, :k=>-163.21062512840385, :cms=>109.78060698598061, :migration_threshold=>6.097601812050094, :antigen=>{45=>1}, :class_label=>\"Normal\"}, {:lifespan=>985.8728000097298, :k=>4.5340976920252, :cms=>14.127199990270244, :migration_threshold=>5.554504687668786, :antigen=>{20=>1}, :class_label=>\"Anomaly\"}, {:lifespan=>985.8728000097298, :k=>4.5340976920252, :cms=>14.127199990270244, :migration_threshold=>6.425043549852262, :antigen=>{20=>1}, :class_label=>\"Anomaly\"}, {:lifespan=>985.8728000097298, :k=>4.5340976920252, :cms=>14.127199990270244, :migration_threshold=>12.434153146197485, :antigen=>{20=>1}, :class_label=>\"Anomaly\"}, {:lifespan=>985.8728000097298, :k=>4.5340976920252, :cms=>14.127199990270244, :migration_threshold=>6.438687192762053, :antigen=>{20=>1}, :class_label=>\"Anomaly\"}, {:lifespan=>985.8728000097298, :k=>4.5340976920252, :cms=>14.127199990270244, :migration_threshold=>13.42871075766068, :antigen=>{20=>1}, :class_label=>\"Anomaly\"}, {:lifespan=>985.8728000097298, :k=>4.5340976920252, :cms=>14.127199990270244, :migration_threshold=>8.537598279768318, :antigen=>{20=>1}, :class_label=>\"Anomaly\"}, {:lifespan=>985.8728000097298, :k=>4.5340976920252, :cms=>14.127199990270244, :migration_threshold=>6.550591897421213, :antigen=>{20=>1}, :class_label=>\"Anomaly\"}, {:lifespan=>985.8728000097298, :k=>4.5340976920252, :cms=>14.127199990270244, :migration_threshold=>13.056800433100076, :antigen=>{20=>1}, :class_label=>\"Anomaly\"}, {:lifespan=>985.8728000097298, :k=>4.5340976920252, :cms=>14.127199990270244, :migration_threshold=>6.176428573092153, :antigen=>{20=>1}, :class_label=>\"Anomaly\"}, {:lifespan=>985.8728000097298, :k=>4.5340976920252, :cms=>14.127199990270244, :migration_threshold=>12.609003652775753, :antigen=>{20=>1}, :class_label=>\"Anomaly\"}, {:lifespan=>912.1429321816582, :k=>-95.37037505192062, :cms=>87.85706781834173, :migration_threshold=>14.566099655170637, :antigen=>{12=>1}, :class_label=>\"Normal\"}, {:lifespan=>912.1429321816582, :k=>-95.37037505192062, :cms=>87.85706781834173, :migration_threshold=>10.484085093380578, :antigen=>{12=>1}, :class_label=>\"Normal\"}, {:lifespan=>912.1429321816582, :k=>-95.37037505192062, :cms=>87.85706781834173, :migration_threshold=>14.496781414552702, :antigen=>{12=>1}, :class_label=>\"Normal\"}, {:lifespan=>912.1429321816582, :k=>-95.37037505192062, :cms=>87.85706781834173, :migration_threshold=>6.194925335451029, :antigen=>{12=>1}, :class_label=>\"Normal\"}, {:lifespan=>912.1429321816582, :k=>-95.37037505192062, :cms=>87.85706781834173, :migration_threshold=>7.194462897398517, :antigen=>{12=>1}, :class_label=>\"Normal\"}, {:lifespan=>912.1429321816582, :k=>-95.37037505192062, :cms=>87.85706781834173, :migration_threshold=>12.68937678081692, :antigen=>{12=>1}, :class_label=>\"Normal\"}, {:lifespan=>912.1429321816582, :k=>-95.37037505192062, :cms=>87.85706781834173, :migration_threshold=>6.594465910954627, :antigen=>{12=>1}, :class_label=>\"Normal\"}, {:lifespan=>912.1429321816582, :k=>-95.37037505192062, :cms=>87.85706781834173, :migration_threshold=>13.52336921515499, :antigen=>{12=>1}, :class_label=>\"Normal\"}, {:lifespan=>912.1429321816582, :k=>-95.37037505192062, :cms=>87.85706781834173, :migration_threshold=>14.290387511842011, :antigen=>{12=>1}, :class_label=>\"Normal\"}, {:lifespan=>912.1429321816582, :k=>-95.37037505192062, :cms=>87.85706781834173, :migration_threshold=>9.366939165211107, :antigen=>{12=>1}, :class_label=>\"Normal\"}, {:lifespan=>994.0139646045342, :k=>-0.917751979753783, :cms=>5.986035395465783, :migration_threshold=>5.4145734720408845, :antigen=>{10=>1}, :class_label=>\"Normal\"}, {:lifespan=>994.0139646045342, :k=>-0.917751979753783, :cms=>5.986035395465783, :migration_threshold=>5.065314012045896, :antigen=>{10=>1}, :class_label=>\"Normal\"}, {:lifespan=>908.2468073451311, :k=>-102.71144897804191, :cms=>91.75319265486887, :migration_threshold=>11.557270550907637, :antigen=>{10=>1, 35=>1}, :class_label=>\"Normal\"}, {:lifespan=>908.2468073451311, :k=>-102.71144897804191, :cms=>91.75319265486887, :migration_threshold=>7.376926160449626, :antigen=>{10=>1, 35=>1}, :class_label=>\"Normal\"}, {:lifespan=>908.2468073451311, :k=>-102.71144897804191, :cms=>91.75319265486887, :migration_threshold=>10.61856792191558, :antigen=>{10=>1, 35=>1}, :class_label=>\"Normal\"}, {:lifespan=>908.2468073451311, :k=>-102.71144897804191, :cms=>91.75319265486887, :migration_threshold=>13.365338669321073, :antigen=>{10=>1, 35=>1}, :class_label=>\"Normal\"}, {:lifespan=>908.2468073451311, :k=>-102.71144897804191, :cms=>91.75319265486887, :migration_threshold=>13.456488720020223, :antigen=>{10=>1, 35=>1}, :class_label=>\"Normal\"}, {:lifespan=>908.2468073451311, :k=>-102.71144897804191, :cms=>91.75319265486887, :migration_threshold=>13.564023040963942, :antigen=>{10=>1, 35=>1}, :class_label=>\"Normal\"}, {:lifespan=>908.2468073451311, :k=>-102.71144897804191, :cms=>91.75319265486887, :migration_threshold=>10.663360335968099, :antigen=>{10=>1, 35=>1}, :class_label=>\"Normal\"}, {:lifespan=>908.2468073451311, :k=>-102.71144897804191, :cms=>91.75319265486887, :migration_threshold=>9.140890922764715, :antigen=>{10=>1, 35=>1}, :class_label=>\"Normal\"}, {:lifespan=>914.2328427405969, :k=>-101.79369699828813, :cms=>85.76715725940309, :migration_threshold=>7.774747898734452, :antigen=>{35=>1}, :class_label=>\"Normal\"}, {:lifespan=>914.2328427405969, :k=>-101.79369699828813, :cms=>85.76715725940309, :migration_threshold=>8.215735730366475, :antigen=>{35=>1}, :class_label=>\"Normal\"}, {:lifespan=>938.108247091399, :k=>55.58149990462357, :cms=>61.891752908601, :migration_threshold=>13.538651035534931, :antigen=>{20=>1}, :class_label=>\"Anomaly\"}, {:lifespan=>938.108247091399, :k=>55.58149990462357, :cms=>61.891752908601, :migration_threshold=>7.707866748065499, :antigen=>{20=>1}, :class_label=>\"Anomaly\"}, {:lifespan=>938.108247091399, :k=>55.58149990462357, :cms=>61.891752908601, :migration_threshold=>11.503080129946905, :antigen=>{20=>1}, :class_label=>\"Anomaly\"}, {:lifespan=>938.108247091399, :k=>55.58149990462357, :cms=>61.891752908601, :migration_threshold=>12.385032835193282, :antigen=>{20=>1}, :class_label=>\"Anomaly\"}, {:lifespan=>938.108247091399, :k=>55.58149990462357, :cms=>61.891752908601, :migration_threshold=>13.994799913999348, :antigen=>{20=>1}, :class_label=>\"Anomaly\"}, {:lifespan=>938.108247091399, :k=>55.58149990462357, :cms=>61.891752908601, :migration_threshold=>6.625883156721039, :antigen=>{20=>1}, :class_label=>\"Anomaly\"}, {:lifespan=>938.108247091399, :k=>55.58149990462357, :cms=>61.891752908601, :migration_threshold=>6.386574912790398, :antigen=>{20=>1}, :class_label=>\"Anomaly\"}, {:lifespan=>938.108247091399, :k=>55.58149990462357, :cms=>61.891752908601, :migration_threshold=>12.586652352657017, :antigen=>{20=>1}, :class_label=>\"Anomaly\"}, {:lifespan=>938.108247091399, :k=>55.58149990462357, :cms=>61.891752908601, :migration_threshold=>13.444127302990783, :antigen=>{20=>1}, :class_label=>\"Anomaly\"}, {:lifespan=>938.108247091399, :k=>55.58149990462357, :cms=>61.891752908601, :migration_threshold=>7.891672651351489, :antigen=>{20=>1}, :class_label=>\"Anomaly\"}, {:lifespan=>956.4292337685735, :k=>43.37683227737361, :cms=>43.57076623142658, :migration_threshold=>12.07640484554909, :antigen=>{10=>1}, :class_label=>\"Anomaly\"}, {:lifespan=>956.4292337685735, :k=>43.37683227737361, :cms=>43.57076623142658, :migration_threshold=>12.873279906302539, :antigen=>{10=>1}, :class_label=>\"Anomaly\"}, {:lifespan=>956.4292337685735, :k=>43.37683227737361, :cms=>43.57076623142658, :migration_threshold=>14.87981118705234, :antigen=>{10=>1}, :class_label=>\"Anomaly\"}, {:lifespan=>956.4292337685735, :k=>43.37683227737361, :cms=>43.57076623142658, :migration_threshold=>14.235269132365412, :antigen=>{10=>1}, :class_label=>\"Anomaly\"}, {:lifespan=>956.4292337685735, :k=>43.37683227737361, :cms=>43.57076623142658, :migration_threshold=>9.04109820296628, :antigen=>{10=>1}, :class_label=>\"Anomaly\"}, {:lifespan=>956.4292337685735, :k=>43.37683227737361, :cms=>43.57076623142658, :migration_threshold=>14.433471885731464, :antigen=>{10=>1}, :class_label=>\"Anomaly\"}, {:lifespan=>956.4292337685735, :k=>43.37683227737361, :cms=>43.57076623142658, :migration_threshold=>12.059016276127524, :antigen=>{10=>1}, :class_label=>\"Anomaly\"}, {:lifespan=>956.4292337685735, :k=>43.37683227737361, :cms=>43.57076623142658, :migration_threshold=>12.530967871932864, :antigen=>{10=>1}, :class_label=>\"Anomaly\"}, {:lifespan=>956.4292337685735, :k=>43.37683227737361, :cms=>43.57076623142658, :migration_threshold=>12.33879533057788, :antigen=>{10=>1}, :class_label=>\"Anomaly\"}, {:lifespan=>956.4292337685735, :k=>43.37683227737361, :cms=>43.57076623142658, :migration_threshold=>5.192227666987616, :antigen=>{10=>1}, :class_label=>\"Anomaly\"}, {:lifespan=>994.7196497671309, :k=>1.2440349618900735, :cms=>5.280350232869113, :migration_threshold=>5.1873716809975345, :antigen=>{33=>1}, :class_label=>\"Anomaly\"}, {:lifespan=>987.8062511948368, :k=>0.9401386923147745, :cms=>12.193748805163196, :migration_threshold=>8.186699771502475, :antigen=>{33=>1, 20=>1}, :class_label=>\"Anomaly\"}, {:lifespan=>987.8062511948368, :k=>0.9401386923147745, :cms=>12.193748805163196, :migration_threshold=>8.954259625320224, :antigen=>{33=>1, 20=>1}, :class_label=>\"Anomaly\"}, {:lifespan=>987.8062511948368, :k=>0.9401386923147745, :cms=>12.193748805163196, :migration_threshold=>8.463531613782163, :antigen=>{33=>1, 20=>1}, :class_label=>\"Anomaly\"}, {:lifespan=>987.8062511948368, :k=>0.9401386923147745, :cms=>12.193748805163196, :migration_threshold=>7.574328893696384, :antigen=>{33=>1, 20=>1}, :class_label=>\"Anomaly\"}, {:lifespan=>987.8062511948368, :k=>0.9401386923147745, :cms=>12.193748805163196, :migration_threshold=>5.776639635288756, :antigen=>{33=>1, 20=>1}, :class_label=>\"Anomaly\"}, {:lifespan=>987.8062511948368, :k=>0.9401386923147745, :cms=>12.193748805163196, :migration_threshold=>5.344111321760582, :antigen=>{33=>1, 20=>1}, :class_label=>\"Anomaly\"}, {:lifespan=>983.0208957626672, :k=>-6.710068677785556, :cms=>16.9791042373328, :migration_threshold=>14.610359606331349, :antigen=>{33=>1, 20=>1, 40=>1}, :class_label=>\"Normal\"}, {:lifespan=>983.0208957626672, :k=>-6.710068677785556, :cms=>16.9791042373328, :migration_threshold=>13.210213015454789, :antigen=>{33=>1, 20=>1, 40=>1}, :class_label=>\"Normal\"}, {:lifespan=>983.0208957626672, :k=>-6.710068677785556, :cms=>16.9791042373328, :migration_threshold=>12.249698767055879, :antigen=>{33=>1, 20=>1, 40=>1}, :class_label=>\"Normal\"}, {:lifespan=>988.3012459955363, :k=>-7.95410363967563, :cms=>11.698754004463684, :migration_threshold=>8.09785716936015, :antigen=>{20=>1, 40=>1}, :class_label=>\"Normal\"}, {:lifespan=>900.4348968388438, :k=>-152.09684804145536, :cms=>99.5651031611563, :migration_threshold=>10.811969083284273, :antigen=>{40=>1, 37=>1}, :class_label=>\"Normal\"}, {:lifespan=>900.4348968388438, :k=>-152.09684804145536, :cms=>99.5651031611563, :migration_threshold=>14.75189550386935, :antigen=>{40=>1, 37=>1}, :class_label=>\"Normal\"}, {:lifespan=>900.4348968388438, :k=>-152.09684804145536, :cms=>99.5651031611563, :migration_threshold=>5.158783405840569, :antigen=>{40=>1, 37=>1}, :class_label=>\"Normal\"}, {:lifespan=>900.4348968388438, :k=>-152.09684804145536, :cms=>99.5651031611563, :migration_threshold=>14.740438082243607, :antigen=>{40=>1, 37=>1}, :class_label=>\"Normal\"}, {:lifespan=>900.4348968388438, :k=>-152.09684804145536, :cms=>99.5651031611563, :migration_threshold=>10.7973071942494, :antigen=>{40=>1, 37=>1}, :class_label=>\"Normal\"}, {:lifespan=>900.4348968388438, :k=>-152.09684804145536, :cms=>99.5651031611563, :migration_threshold=>9.454437668381019, :antigen=>{40=>1, 37=>1}, :class_label=>\"Normal\"}, {:lifespan=>905.2202522710134, :k=>-144.44664067135503, :cms=>94.7797477289867, :migration_threshold=>9.295330932334718, :antigen=>{37=>1}, :class_label=>\"Normal\"}, {:lifespan=>905.2202522710134, :k=>-144.44664067135503, :cms=>94.7797477289867, :migration_threshold=>13.40784622769797, :antigen=>{37=>1}, :class_label=>\"Normal\"}, {:lifespan=>905.2202522710134, :k=>-144.44664067135503, :cms=>94.7797477289867, :migration_threshold=>14.301013359619017, :antigen=>{37=>1}, :class_label=>\"Normal\"}, {:lifespan=>905.2202522710134, :k=>-144.44664067135503, :cms=>94.7797477289867, :migration_threshold=>10.881551749299481, :antigen=>{37=>1}, :class_label=>\"Normal\"}]"
      ]
     },
     "execution_count": 72,
     "metadata": {},
     "output_type": "execute_result"
    }
   ],
   "source": [
    "# problem configuration\n",
    "domain = {}\n",
    "domain[\"Normal\"]  = Array.new(50){|i| i}\n",
    "domain[\"Anomaly\"] = Array.new(5){|i| (i+1)*10}\n",
    "domain[\"Normal\"]  = domain[\"Normal\"] - domain[\"Anomaly\"]\n",
    "\n",
    "p_anomaly = 0.70\n",
    "p_normal = 0.95\n",
    "\n",
    "# algorithm configuration\n",
    "iterations = 100\n",
    "num_cells = 10\n",
    "thresh = [5,15]\n",
    "\n",
    "# execute the algorithm\n",
    "execute(domain, iterations, num_cells, p_anomaly, p_normal, thresh)"
   ]
  },
  {
   "cell_type": "markdown",
   "metadata": {},
   "source": [
    "## Negative Selection Algorithm"
   ]
  },
  {
   "cell_type": "code",
   "execution_count": 73,
   "metadata": {},
   "outputs": [
    {
     "data": {
      "text/plain": [
       ":random_vector"
      ]
     },
     "execution_count": 73,
     "metadata": {},
     "output_type": "execute_result"
    }
   ],
   "source": [
    "def random_vector(minmax)\n",
    "  return Array.new(minmax.length) do |i|      \n",
    "    minmax[i][0] + ((minmax[i][1] - minmax[i][0]) * rand())\n",
    "  end\n",
    "end"
   ]
  },
  {
   "cell_type": "code",
   "execution_count": 74,
   "metadata": {},
   "outputs": [
    {
     "data": {
      "text/plain": [
       ":euclidean_distance"
      ]
     },
     "execution_count": 74,
     "metadata": {},
     "output_type": "execute_result"
    }
   ],
   "source": [
    "def euclidean_distance(c1, c2)\n",
    "  sum = 0.0\n",
    "  c1.each_index {|i| sum += (c1[i]-c2[i])**2.0}  \n",
    "  return Math.sqrt(sum)\n",
    "end"
   ]
  },
  {
   "cell_type": "code",
   "execution_count": 75,
   "metadata": {},
   "outputs": [
    {
     "data": {
      "text/plain": [
       ":contains?"
      ]
     },
     "execution_count": 75,
     "metadata": {},
     "output_type": "execute_result"
    }
   ],
   "source": [
    "def contains?(vector, space)\n",
    "  vector.each_with_index do |v,i|\n",
    "    return false if v<space[i][0] or v>space[i][1]\n",
    "  end\n",
    "  return true\n",
    "end"
   ]
  },
  {
   "cell_type": "code",
   "execution_count": 76,
   "metadata": {},
   "outputs": [
    {
     "data": {
      "text/plain": [
       ":matches?"
      ]
     },
     "execution_count": 76,
     "metadata": {},
     "output_type": "execute_result"
    }
   ],
   "source": [
    "def matches?(vector, dataset, min_dist)\n",
    "  dataset.each do |pattern|\n",
    "    dist = euclidean_distance(vector, pattern[:vector])\n",
    "    return true if dist <= min_dist\n",
    "  end\n",
    "  return false\n",
    "end"
   ]
  },
  {
   "cell_type": "code",
   "execution_count": 77,
   "metadata": {},
   "outputs": [
    {
     "data": {
      "text/plain": [
       ":generate_detectors"
      ]
     },
     "execution_count": 77,
     "metadata": {},
     "output_type": "execute_result"
    }
   ],
   "source": [
    "def generate_detectors(max_detectors, search_space, self_dataset, min_dist)\n",
    "  detectors = []\n",
    "  begin\n",
    "    detector = {:vector=>random_vector(search_space)}\n",
    "    if !matches?(detector[:vector], self_dataset, min_dist)\n",
    "      detectors << detector if !matches?(detector[:vector], detectors, 0.0)\n",
    "    end\n",
    "  end while detectors.size < max_detectors\n",
    "  return detectors\n",
    "end"
   ]
  },
  {
   "cell_type": "code",
   "execution_count": 78,
   "metadata": {},
   "outputs": [
    {
     "data": {
      "text/plain": [
       ":generate_self_dataset"
      ]
     },
     "execution_count": 78,
     "metadata": {},
     "output_type": "execute_result"
    }
   ],
   "source": [
    "def generate_self_dataset(num_records, self_space, search_space)\n",
    "  self_dataset = []\n",
    "  begin\n",
    "    pattern = {}\n",
    "    pattern[:vector] = random_vector(search_space)\n",
    "    next if matches?(pattern[:vector], self_dataset, 0.0)\n",
    "    if contains?(pattern[:vector], self_space)\n",
    "      self_dataset << pattern \n",
    "    end\n",
    "  end while self_dataset.length < num_records\n",
    "  return self_dataset\n",
    "end"
   ]
  },
  {
   "cell_type": "code",
   "execution_count": 82,
   "metadata": {},
   "outputs": [
    {
     "data": {
      "text/plain": [
       ":apply_detectors"
      ]
     },
     "execution_count": 82,
     "metadata": {},
     "output_type": "execute_result"
    }
   ],
   "source": [
    "def apply_detectors(detectors, bounds, self_dataset, min_dist, trials=50)\n",
    "  correct = 0\n",
    "  trials.times do |i|\n",
    "    input = {:vector=>random_vector(bounds)}\n",
    "    actual = matches?(input[:vector], detectors, min_dist) ? \"N\" : \"S\"\n",
    "    expected = matches?(input[:vector], self_dataset, min_dist) ? \"S\" : \"N\"\n",
    "    correct += 1 if actual==expected\n",
    "    #puts \"#{i+1}/#{trials}: predicted=#{actual}, expected=#{expected}\"\n",
    "  end\n",
    "  #puts \"Done. Result: #{correct}/#{trials}\"\n",
    "  return correct\n",
    "end"
   ]
  },
  {
   "cell_type": "code",
   "execution_count": 83,
   "metadata": {},
   "outputs": [
    {
     "data": {
      "text/plain": [
       ":execute"
      ]
     },
     "execution_count": 83,
     "metadata": {},
     "output_type": "execute_result"
    }
   ],
   "source": [
    "def execute(bounds, self_space, max_detect, max_self, min_dist)\n",
    "  \n",
    "  self_dataset = generate_self_dataset(max_self, self_space, bounds)\n",
    "  puts \"Done: prepared #{self_dataset.size} self patterns.\"\n",
    "  \n",
    "  detectors = generate_detectors(max_detect, bounds, self_dataset, min_dist)\n",
    "  puts \"Done: prepared #{detectors.size} detectors.\"\n",
    "  \n",
    "  apply_detectors(detectors, bounds, self_dataset, min_dist)\n",
    "  return detectors\n",
    "end"
   ]
  },
  {
   "cell_type": "code",
   "execution_count": 84,
   "metadata": {},
   "outputs": [
    {
     "name": "stdout",
     "output_type": "stream",
     "text": [
      "Done: prepared 150 self patterns.\n",
      "Done: prepared 300 detectors.\n",
      "[{:vector=>[0.38130294149737476, 0.7510466049171602]}, {:vector=>[0.06558152177658316, 0.2422765351104924]}, {:vector=>[0.9448919060068979, 0.10285701281612958]}, {:vector=>[0.4780169177216149, 0.033509599041656735]}, {:vector=>[0.5155111316989786, 0.030428615789059976]}, {:vector=>[0.14568325725726838, 0.4857016672608099]}, {:vector=>[0.37972681568648836, 0.15679638594086076]}, {:vector=>[0.32491094164950485, 0.43908850041015657]}, {:vector=>[0.23139940388571245, 0.9637870079445124]}, {:vector=>[0.3219243579327915, 0.7188150165798685]}, {:vector=>[0.031293852949893286, 0.3414701662041404]}, {:vector=>[0.865843863347512, 0.0806975274587185]}, {:vector=>[0.3255277955769905, 0.36248102122363446]}, {:vector=>[0.38704737111014353, 0.692532588094816]}, {:vector=>[0.4225830535776841, 0.38033790866267503]}, {:vector=>[0.20943864390640343, 0.5732552886178811]}, {:vector=>[0.4683143118916492, 0.8532390388181508]}, {:vector=>[0.56620393329111, 0.4030982220531445]}, {:vector=>[0.7712244760224981, 0.0468404431573457]}, {:vector=>[0.3951137257418569, 0.9928702869952319]}, {:vector=>[0.3281973108776598, 0.17574128383577803]}, {:vector=>[0.17851410365511533, 0.7025358893406225]}, {:vector=>[0.44796442324592356, 0.8679838408832594]}, {:vector=>[0.19015277362809435, 0.6625045524602657]}, {:vector=>[0.035591700477670796, 0.5732072230542017]}, {:vector=>[0.5503368013371649, 0.28547239946548353]}, {:vector=>[0.577966326028721, 0.39596254019386534]}, {:vector=>[0.42855053023009837, 0.9188245891092441]}, {:vector=>[0.2885752001578037, 0.8174675851214974]}, {:vector=>[0.07650006365094308, 0.2638835210079843]}, {:vector=>[0.6154303352964575, 0.16400495994094255]}, {:vector=>[0.40038975475341254, 0.024981455410285514]}, {:vector=>[0.4643151441873694, 0.23206383213697168]}, {:vector=>[0.24871793633579686, 0.9650156581173269]}, {:vector=>[0.4458229238435585, 0.08015147524456911]}, {:vector=>[0.08648145023756149, 0.677186846362993]}, {:vector=>[0.9379698388757985, 0.30156100229838156]}, {:vector=>[0.022174655115832942, 0.1272691240372399]}, {:vector=>[0.681513046258044, 0.0920883641451058]}, {:vector=>[0.3704721455203043, 0.04215519203526785]}, {:vector=>[0.11161459103691662, 0.20703727573634445]}, {:vector=>[0.0843263279824159, 0.7935173125699594]}, {:vector=>[0.1347264735099174, 0.9752868414404464]}, {:vector=>[0.08393623681244278, 0.9776005160907021]}, {:vector=>[0.16413765028716065, 0.33074726814350863]}, {:vector=>[0.9192106411706406, 0.4161057557876159]}, {:vector=>[0.19626936012830487, 0.14866832934680885]}, {:vector=>[0.5901877840146044, 0.20628816289245944]}, {:vector=>[0.3747088667402475, 0.09390649482908608]}, {:vector=>[0.2758616105277284, 0.14167152947452488]}, {:vector=>[0.10336606932530834, 0.446293735866618]}, {:vector=>[0.08005634081308066, 0.002482816731143367]}, {:vector=>[0.9242530175590405, 0.3249222799335051]}, {:vector=>[0.05290164117326812, 0.4176378223178071]}, {:vector=>[0.5800203177079201, 0.09681156648202183]}, {:vector=>[0.42563049622270255, 0.06345944795947789]}, {:vector=>[0.15497459269808467, 0.5556019296914118]}, {:vector=>[0.5160635509181454, 0.022638451287771755]}, {:vector=>[0.273025372182668, 0.6608260491380312]}, {:vector=>[0.13985464217335208, 0.26770830785824484]}, {:vector=>[0.27495677636422045, 0.7626668881914024]}, {:vector=>[0.6268898346668805, 0.1370648568616446]}, {:vector=>[0.3167546932555514, 0.5708561626381821]}, {:vector=>[0.9559350486345943, 0.14488114321794876]}, {:vector=>[0.6416194138715937, 0.25220319009282366]}, {:vector=>[0.2540775607360177, 0.5859418274273547]}, {:vector=>[0.5966876914579832, 0.4282580885388274]}, {:vector=>[0.11400892301074006, 0.7524581700461292]}, {:vector=>[0.6108881301193239, 0.11211567701545766]}, {:vector=>[0.6482715406079863, 0.3710744676975859]}, {:vector=>[0.7563436049324297, 0.031175030931855585]}, {:vector=>[0.3765303644046676, 0.49184800816759655]}, {:vector=>[0.7414266100569292, 0.018816835559292477]}, {:vector=>[0.29531872375021584, 0.49370216543311685]}, {:vector=>[0.07031715958155171, 0.3435018682653581]}, {:vector=>[0.28792837784423175, 0.9971495891484413]}, {:vector=>[0.6329108127012988, 0.15637957118127754]}, {:vector=>[0.6375209588947358, 0.3728577299989506]}, {:vector=>[0.1503289175843583, 0.46033480901331936]}, {:vector=>[0.025854799768888048, 0.35361518568574557]}, {:vector=>[0.652598670980819, 0.26774599406459754]}, {:vector=>[0.28771640781795194, 0.6191792899324837]}, {:vector=>[0.5986366796287316, 0.34668915391140387]}, {:vector=>[0.46680829109919975, 0.14835958464637844]}, {:vector=>[0.3927879092798109, 0.18980418917368125]}, {:vector=>[0.999556444026748, 0.4627758671600858]}, {:vector=>[0.2781314681665048, 0.9472622066310329]}, {:vector=>[0.556243780065968, 0.12681790747581034]}, {:vector=>[0.13510316952380397, 0.9236294203368065]}, {:vector=>[0.16008036718564278, 0.06878093515078343]}, {:vector=>[0.09102434433461759, 0.050853811275265226]}, {:vector=>[0.696401586938463, 0.012447815547293906]}, {:vector=>[0.6254339929542988, 0.08155274113420774]}, {:vector=>[0.35688821152769934, 0.20542409418762364]}, {:vector=>[0.45084383582030807, 0.6076855241737118]}, {:vector=>[0.1787736508479889, 0.4207603571920059]}, {:vector=>[0.4894772449025395, 0.04085884429899034]}, {:vector=>[0.5714528162072152, 0.4168273886915095]}, {:vector=>[0.12174736119291962, 0.1871231277876637]}, {:vector=>[0.27530760179496805, 0.8958762007007868]}, {:vector=>[0.443024824381515, 0.6640291899145218]}, {:vector=>[0.2618789238176168, 0.552628955833161]}, {:vector=>[0.05247882226935752, 0.16854415328157768]}, {:vector=>[0.3154087079441845, 0.6737825336012748]}, {:vector=>[0.9863159737569082, 0.1803633176048285]}, {:vector=>[0.9962224803791696, 0.24943507387408448]}, {:vector=>[0.5149084913301991, 0.18123624311735853]}, {:vector=>[0.821542922073279, 0.18071932048906814]}, {:vector=>[0.9772217434397069, 0.3472007176075721]}, {:vector=>[0.17867420604220907, 0.9845897986211825]}, {:vector=>[0.3400668421915273, 0.19214051535450594]}, {:vector=>[0.7187905571152605, 0.24830600999565722]}, {:vector=>[0.9544591763763899, 0.04753138592128292]}, {:vector=>[0.7504641474445881, 0.041320714739917386]}, {:vector=>[0.2740633933499307, 0.6934121929493181]}, {:vector=>[0.5651013140372281, 0.1835193417807135]}, {:vector=>[0.4799048308614845, 0.20388841013154646]}, {:vector=>[0.2977015043949187, 0.5906887858300167]}, {:vector=>[0.9656092568150708, 0.3077228079559241]}, {:vector=>[0.9227371199636926, 0.15217114316022984]}, {:vector=>[0.5389391249499687, 0.19438654980125836]}, {:vector=>[0.43612672721669166, 0.0447444693972846]}, {:vector=>[0.7553691022712705, 0.05430904126887981]}, {:vector=>[0.7413419272289747, 0.37218708531863376]}, {:vector=>[0.6272820198300304, 0.39105615309134467]}, {:vector=>[0.46037894602420926, 0.47256435594289115]}, {:vector=>[0.02545322928095961, 0.09030136263998734]}, {:vector=>[0.11487645954291414, 0.11329741093841161]}, {:vector=>[0.8259574609060365, 0.2034619030181869]}, {:vector=>[0.12917639145793436, 0.8325688098667757]}, {:vector=>[0.7629448973229077, 0.23881745303495694]}, {:vector=>[0.7091467733436502, 0.2413603200686527]}, {:vector=>[0.04416133647476439, 0.36567466889349487]}, {:vector=>[0.46364775714793083, 0.4247056310010038]}, {:vector=>[0.4583045734216542, 0.4565165021897666]}, {:vector=>[0.8812920216009892, 0.31893710573354983]}, {:vector=>[0.20049104729487177, 0.12048344476662187]}, {:vector=>[0.9015864969236727, 0.30020258721021054]}, {:vector=>[0.1730952212679061, 0.8968145700851071]}, {:vector=>[0.6379200259088064, 0.10915879772574766]}, {:vector=>[0.3884671857515607, 0.8155455970790827]}, {:vector=>[0.5230023172589751, 0.419435259174201]}, {:vector=>[0.6784277398685726, 0.04553679727749593]}, {:vector=>[0.45538258566163736, 0.7672393369535467]}, {:vector=>[0.9108384383346847, 0.28363367905636816]}, {:vector=>[0.3503021698486595, 0.3961191169019337]}, {:vector=>[0.12801722516359704, 0.858018743292449]}, {:vector=>[0.4644878325560491, 0.8017636952950349]}, {:vector=>[0.9717044678616231, 0.46359706155025504]}, {:vector=>[0.3057441477134847, 0.5652749768443748]}, {:vector=>[0.6890985928974729, 0.33037787106465555]}, {:vector=>[0.6584017155729432, 0.33293638586123864]}, {:vector=>[0.33071894073581776, 0.13341486046495832]}, {:vector=>[0.7347487928649251, 0.06156256978463559]}, {:vector=>[0.018249480245405847, 0.867656976279262]}, {:vector=>[0.2594105116355532, 0.952019274075817]}, {:vector=>[0.8563807337879463, 0.28125398090804044]}, {:vector=>[0.17506950674842126, 0.5641999307161517]}, {:vector=>[0.09174234191792874, 0.4917204062858781]}, {:vector=>[0.31688750293341583, 0.05625900721693733]}, {:vector=>[0.3595102146963496, 0.15353028059747054]}, {:vector=>[0.1481769406503778, 0.12699585809464187]}, {:vector=>[0.03682775508636882, 0.77849599958841]}, {:vector=>[0.5239306732678591, 0.4423912239906862]}, {:vector=>[0.6389583246138314, 0.3095214868670645]}, {:vector=>[0.2639759122895107, 0.6902871442955956]}, {:vector=>[0.7016350935254417, 0.046198246420013356]}, {:vector=>[0.7340832723982232, 0.2599230112915826]}, {:vector=>[0.051690268098097625, 0.9996434935036217]}, {:vector=>[0.7942010054843319, 0.2576851303567136]}, {:vector=>[0.3922403577196717, 0.5708078876101417]}, {:vector=>[0.8732114432201017, 0.3513025256921073]}, {:vector=>[0.7460788586781439, 0.0729787837790068]}, {:vector=>[0.6974619109981086, 0.1536258723174102]}, {:vector=>[0.08015270896105953, 0.7873454205793444]}, {:vector=>[0.19025976274637735, 0.09033657258205019]}, {:vector=>[0.48074521929514114, 0.07752569788328756]}, {:vector=>[0.804005731130918, 0.32389955436039963]}, {:vector=>[0.3211893982802624, 0.8486165820102579]}, {:vector=>[0.7715836883188036, 0.12917986470357246]}, {:vector=>[0.17174352050059416, 0.2708605849698902]}, {:vector=>[0.2604785381271869, 0.02308604634767475]}, {:vector=>[0.5750405006546782, 0.13565754172646782]}, {:vector=>[0.1316515600154563, 0.09136188876417517]}, {:vector=>[0.028475444816869366, 0.03706355987104781]}, {:vector=>[0.06427904076339108, 0.46063440902357544]}, {:vector=>[0.40788251866686775, 0.5362880860734437]}, {:vector=>[0.3278422207168936, 0.3270616907628944]}, {:vector=>[0.024934736433283144, 0.547715453467738]}, {:vector=>[0.5384085252808153, 0.2412964853211541]}, {:vector=>[0.267042714198256, 0.0020122713603869524]}, {:vector=>[0.5643858373388686, 0.16759459827954248]}, {:vector=>[0.012165963335159846, 0.220167923745606]}, {:vector=>[0.3869983511366534, 0.390243884288198]}, {:vector=>[0.7173286652856586, 0.36036539070799434]}, {:vector=>[0.8671402899555801, 0.25157527085896914]}, {:vector=>[0.06836469801146883, 0.8272283984653295]}, {:vector=>[0.17024595777512985, 0.009324287914331042]}, {:vector=>[0.6561707353437135, 0.0842875061691769]}, {:vector=>[0.059069639622907455, 0.6289993909091085]}, {:vector=>[0.12273962041192121, 0.19033439033999333]}, {:vector=>[0.7735436156385186, 0.052421287238118786]}, {:vector=>[0.6498470894393434, 0.012161979418264468]}, {:vector=>[0.25944275403939787, 0.34532971614578634]}, {:vector=>[0.04603516984932021, 0.3711303072545873]}, {:vector=>[0.5410118478344631, 0.22769142855094604]}, {:vector=>[0.008887030968748433, 0.9143341885906517]}, {:vector=>[0.31844681436271094, 0.8536368108949721]}, {:vector=>[0.11653353520895626, 0.8462113835942819]}, {:vector=>[0.4742422522570505, 0.19058102582325598]}, {:vector=>[0.19406842129779, 0.18729023685221835]}, {:vector=>[0.6398459241827815, 0.3584079766938608]}, {:vector=>[0.2071540936499433, 0.24673747294122517]}, {:vector=>[0.1481767710255535, 0.16489788626444002]}, {:vector=>[0.7344734058980897, 0.0932389035619664]}, {:vector=>[0.7729658600381009, 0.163150225171646]}, {:vector=>[0.9858824940885279, 0.6917169823016242]}, {:vector=>[0.1652805668780184, 0.6401657018206236]}, {:vector=>[0.44757502918946346, 0.3641049470244526]}, {:vector=>[0.1514742926232372, 0.45502148398924913]}, {:vector=>[0.7458205692516323, 0.22098314269646202]}, {:vector=>[0.18166261063758404, 0.27800720568886983]}, {:vector=>[0.1248413490999456, 0.8289629858428498]}, {:vector=>[0.17820179665655422, 0.6762105507587569]}, {:vector=>[0.07728326060658897, 0.14739244901705373]}, {:vector=>[0.3202338570689266, 0.6328130397111403]}, {:vector=>[0.3889188270309598, 0.7642960402432188]}, {:vector=>[0.10529305443635006, 0.006380637858742877]}, {:vector=>[0.7005253318947406, 0.21229885122107695]}, {:vector=>[0.9968902626190801, 0.12406086911459968]}, {:vector=>[0.07013177853634456, 0.1405221790724659]}, {:vector=>[0.29523346561222774, 0.22241013455301561]}, {:vector=>[0.31479509431507235, 0.675207008816998]}, {:vector=>[0.0079342074700548, 0.9337823276239926]}, {:vector=>[0.017675382531446848, 0.29707652336243673]}, {:vector=>[0.05353745580433045, 0.18840546546555703]}, {:vector=>[0.00867158022400738, 0.13894886389074024]}, {:vector=>[0.40978523738928574, 0.8429286609843144]}, {:vector=>[0.09952177683551389, 0.41812358445691855]}, {:vector=>[0.3381001996829732, 0.907428323114107]}, {:vector=>[0.14892498942594978, 0.2927529810180408]}, {:vector=>[0.026904277061852055, 0.4645187231973089]}, {:vector=>[0.33415688981326175, 0.25658314772921786]}, {:vector=>[0.19674189437519873, 0.7239894475462093]}, {:vector=>[0.2810541081880157, 0.8025650781191825]}, {:vector=>[0.4636261220866229, 0.6990682303641831]}, {:vector=>[0.18738524604431828, 0.1637231830649064]}, {:vector=>[0.44348536301092456, 0.7003239344896858]}, {:vector=>[0.7558256232248428, 0.47569631119237454]}, {:vector=>[0.9224622304913183, 0.4233908163679527]}, {:vector=>[0.3402258891171843, 0.85515037588878]}, {:vector=>[0.6411350548452358, 0.38018834834429804]}, {:vector=>[0.5345955300179149, 0.09233930519919464]}, {:vector=>[0.4143112680892781, 0.29796855875494943]}, {:vector=>[0.18033021985879316, 0.014916073095921134]}, {:vector=>[0.3578207878247317, 0.11576036011056468]}, {:vector=>[0.8794651587987455, 0.26469980436356355]}, {:vector=>[0.3451388735381722, 0.9372255683555201]}, {:vector=>[0.31412151649949416, 0.1646701411514403]}, {:vector=>[0.8676139970876711, 0.25161090960423693]}, {:vector=>[0.25473860100496637, 0.3889609482272406]}, {:vector=>[0.7993109130977453, 0.03949444823471726]}, {:vector=>[0.4859419731187785, 0.8802454013239775]}, {:vector=>[0.40619301911306793, 0.5997041814495674]}, {:vector=>[0.3917458790705465, 0.7491642711765302]}, {:vector=>[0.14978355787300968, 0.9896032008010188]}, {:vector=>[0.8738047788127988, 0.261609400636883]}, {:vector=>[0.15473462509616376, 0.6169206949012069]}, {:vector=>[0.07223799400391917, 0.9193394439293805]}, {:vector=>[0.22640879962276383, 0.4374104712719721]}, {:vector=>[0.5916664478573851, 0.12490159095831477]}, {:vector=>[0.6186623223691708, 0.006178780791935012]}, {:vector=>[0.04524305518446292, 0.4104013649746099]}, {:vector=>[0.6338468154928121, 0.44914671903272785]}, {:vector=>[0.14193716657114808, 0.6525362292057788]}, {:vector=>[0.48553199060953056, 0.7780279259447928]}, {:vector=>[0.437455156184827, 0.6425870629575214]}, {:vector=>[0.7517797315953624, 0.0018097713065370336]}, {:vector=>[0.15566546918374102, 0.3156750046436906]}, {:vector=>[0.44699065646255676, 0.09170079640047835]}, {:vector=>[0.3843575056031566, 0.8892581803508723]}, {:vector=>[0.06678775815578553, 0.481858660397546]}, {:vector=>[0.11442105129517854, 0.9717702212107577]}, {:vector=>[0.3422071433717945, 0.4658575951618035]}, {:vector=>[0.2519263832899753, 0.5839915677296115]}, {:vector=>[0.012985421599128744, 0.5150447495641419]}, {:vector=>[0.37543927745143757, 0.4259545732615274]}, {:vector=>[0.1173690244040787, 0.5264386086005679]}, {:vector=>[0.10865881897639951, 0.6632782180216394]}, {:vector=>[0.648541936268957, 0.06297456976237681]}, {:vector=>[0.2989380976618504, 0.49891831361445227]}, {:vector=>[0.2417340011916933, 0.5674590760906469]}, {:vector=>[0.035411573715266154, 0.8914712712171017]}, {:vector=>[0.6454631269926338, 0.31976029042305676]}, {:vector=>[0.8587129522811343, 0.46589084748937715]}, {:vector=>[0.3602724591437404, 0.333083643593026]}, {:vector=>[0.2975700376010878, 0.9704748522825761]}, {:vector=>[0.7720926555737542, 0.13920072117580606]}, {:vector=>[0.3263102268533924, 0.8842066610490165]}, {:vector=>[0.9311987900186351, 0.2022645014363087]}]\n"
     ]
    }
   ],
   "source": [
    "# problem configuration\n",
    "problem_size = 2\n",
    "search_space = Array.new(problem_size) {[0.0, 1.0]}\n",
    "self_space = Array.new(problem_size) {[0.5, 1.0]}\n",
    "max_self = 150\n",
    "\n",
    "# algorithm configuration\n",
    "max_detectors = 300\n",
    "min_dist = 0.05\n",
    "\n",
    "# execute the algorithm\n",
    "puts execute(search_space, self_space, max_detectors, max_self, min_dist)"
   ]
  },
  {
   "cell_type": "markdown",
   "metadata": {},
   "source": [
    "## Optimization Artificial Immune Network (opt-aiNet)"
   ]
  },
  {
   "cell_type": "code",
   "execution_count": 85,
   "metadata": {},
   "outputs": [
    {
     "data": {
      "text/plain": [
       ":objective_function"
      ]
     },
     "execution_count": 85,
     "metadata": {},
     "output_type": "execute_result"
    }
   ],
   "source": [
    "def objective_function(vector)\n",
    "  return vector.inject(0.0) {|sum, x| sum + (x**2.0)}\n",
    "end"
   ]
  },
  {
   "cell_type": "code",
   "execution_count": 86,
   "metadata": {},
   "outputs": [
    {
     "data": {
      "text/plain": [
       ":random_vector"
      ]
     },
     "execution_count": 86,
     "metadata": {},
     "output_type": "execute_result"
    }
   ],
   "source": [
    "def random_vector(minmax)\n",
    "  return Array.new(minmax.size) do |i|      \n",
    "    minmax[i][0] + ((minmax[i][1] - minmax[i][0]) * rand())\n",
    "  end\n",
    "end"
   ]
  },
  {
   "cell_type": "code",
   "execution_count": 87,
   "metadata": {},
   "outputs": [
    {
     "data": {
      "text/plain": [
       ":random_gaussian"
      ]
     },
     "execution_count": 87,
     "metadata": {},
     "output_type": "execute_result"
    }
   ],
   "source": [
    "def random_gaussian(mean=0.0, stdev=1.0)\n",
    "  u1 = u2 = w = 0\n",
    "  begin\n",
    "    u1 = 2 * rand() - 1\n",
    "    u2 = 2 * rand() - 1\n",
    "    w = u1 * u1 + u2 * u2\n",
    "  end while w >= 1\n",
    "  w = Math.sqrt((-2.0 * Math.log(w)) / w)\n",
    "  return mean + (u2 * w) * stdev\n",
    "end"
   ]
  },
  {
   "cell_type": "code",
   "execution_count": 88,
   "metadata": {},
   "outputs": [
    {
     "data": {
      "text/plain": [
       ":clone"
      ]
     },
     "execution_count": 88,
     "metadata": {},
     "output_type": "execute_result"
    }
   ],
   "source": [
    "def clone(parent)\n",
    "  v = Array.new(parent[:vector].size) {|i| parent[:vector][i]}\n",
    "  return {:vector=>v}\n",
    "end"
   ]
  },
  {
   "cell_type": "code",
   "execution_count": 89,
   "metadata": {},
   "outputs": [
    {
     "data": {
      "text/plain": [
       ":mutation_rate"
      ]
     },
     "execution_count": 89,
     "metadata": {},
     "output_type": "execute_result"
    }
   ],
   "source": [
    "def mutation_rate(beta, normalized_cost)\n",
    "  return (1.0/beta) * Math.exp(-normalized_cost)\n",
    "end"
   ]
  },
  {
   "cell_type": "code",
   "execution_count": 90,
   "metadata": {},
   "outputs": [
    {
     "data": {
      "text/plain": [
       ":mutate"
      ]
     },
     "execution_count": 90,
     "metadata": {},
     "output_type": "execute_result"
    }
   ],
   "source": [
    "def mutate(beta, child, normalized_cost)\n",
    "  child[:vector].each_with_index do |v, i|\n",
    "    alpha = mutation_rate(beta, normalized_cost)\n",
    "    child[:vector][i] = v + alpha * random_gaussian()\n",
    "  end\n",
    "end"
   ]
  },
  {
   "cell_type": "code",
   "execution_count": 91,
   "metadata": {},
   "outputs": [
    {
     "data": {
      "text/plain": [
       ":clone_cell"
      ]
     },
     "execution_count": 91,
     "metadata": {},
     "output_type": "execute_result"
    }
   ],
   "source": [
    "def clone_cell(beta, num_clones, parent)\n",
    "  clones = Array.new(num_clones) {clone(parent)}\n",
    "  clones.each {|clone| mutate(beta, clone, parent[:norm_cost])}\n",
    "  clones.each{|c| c[:cost] = objective_function(c[:vector])}\n",
    "  clones.sort!{|x,y| x[:cost] <=> y[:cost]}\n",
    "  return clones.first\n",
    "end"
   ]
  },
  {
   "cell_type": "code",
   "execution_count": 92,
   "metadata": {},
   "outputs": [
    {
     "data": {
      "text/plain": [
       ":calculate_normalized_cost"
      ]
     },
     "execution_count": 92,
     "metadata": {},
     "output_type": "execute_result"
    }
   ],
   "source": [
    "def calculate_normalized_cost(pop)\n",
    "  pop.sort!{|x,y| x[:cost]<=>y[:cost]}\n",
    "  range = pop.last[:cost] - pop.first[:cost]\n",
    "\n",
    "  if range == 0.0\n",
    "    pop.each {|p| p[:norm_cost] = 1.0}\n",
    "  else\n",
    "    pop.each {|p| p[:norm_cost] = 1.0-(p[:cost]/range)}\n",
    "  end\n",
    "end"
   ]
  },
  {
   "cell_type": "code",
   "execution_count": 93,
   "metadata": {},
   "outputs": [
    {
     "data": {
      "text/plain": [
       ":average_cost"
      ]
     },
     "execution_count": 93,
     "metadata": {},
     "output_type": "execute_result"
    }
   ],
   "source": [
    "def average_cost(pop)\n",
    "  sum = pop.inject(0.0){|sum,x| sum + x[:cost]}\n",
    "  return sum / pop.size.to_f\n",
    "end"
   ]
  },
  {
   "cell_type": "code",
   "execution_count": 94,
   "metadata": {},
   "outputs": [
    {
     "data": {
      "text/plain": [
       ":distance"
      ]
     },
     "execution_count": 94,
     "metadata": {},
     "output_type": "execute_result"
    }
   ],
   "source": [
    "def distance(c1, c2)\n",
    "  sum = 0.0\n",
    "  c1.each_index {|i| sum += (c1[i]-c2[i])**2.0}\n",
    "  return Math.sqrt(sum)\n",
    "end"
   ]
  },
  {
   "cell_type": "code",
   "execution_count": 95,
   "metadata": {},
   "outputs": [
    {
     "data": {
      "text/plain": [
       ":get_neighborhood"
      ]
     },
     "execution_count": 95,
     "metadata": {},
     "output_type": "execute_result"
    }
   ],
   "source": [
    "def get_neighborhood(cell, pop, aff_thresh)\n",
    "  neighbors = []\n",
    "  pop.each do |p|\n",
    "    neighbors << p if distance(p[:vector], cell[:vector]) < aff_thresh\n",
    "  end\n",
    "  return neighbors\n",
    "end"
   ]
  },
  {
   "cell_type": "code",
   "execution_count": 96,
   "metadata": {},
   "outputs": [
    {
     "data": {
      "text/plain": [
       ":affinity_supress"
      ]
     },
     "execution_count": 96,
     "metadata": {},
     "output_type": "execute_result"
    }
   ],
   "source": [
    "def affinity_supress(population, aff_thresh)\n",
    "  pop = []\n",
    "  population.each do |cell|\n",
    "    neighbors = get_neighborhood(cell, population, aff_thresh)\n",
    "    neighbors.sort!{|x,y| x[:cost] <=> y[:cost]}\n",
    "    pop << cell if neighbors.empty? or cell.equal?(neighbors.first)\n",
    "  end  \n",
    "  return pop\n",
    "end"
   ]
  },
  {
   "cell_type": "code",
   "execution_count": 97,
   "metadata": {},
   "outputs": [
    {
     "data": {
      "text/plain": [
       ":search"
      ]
     },
     "execution_count": 97,
     "metadata": {},
     "output_type": "execute_result"
    }
   ],
   "source": [
    "def search(search_space, max_gens, pop_size, num_clones, beta, num_rand, aff_thresh)\n",
    "  pop = Array.new(pop_size) {|i| {:vector=>random_vector(search_space)} }\n",
    "  pop.each{|c| c[:cost] = objective_function(c[:vector])}\n",
    "  best = nil\n",
    "  max_gens.times do |gen|\n",
    "    pop.each{|c| c[:cost] = objective_function(c[:vector])}\n",
    "    calculate_normalized_cost(pop)\n",
    "    pop.sort!{|x,y| x[:cost] <=> y[:cost]}\n",
    "    best = pop.first if best.nil? or pop.first[:cost] < best[:cost]\n",
    "    avgCost, progeny = average_cost(pop), nil\n",
    "    begin\n",
    "      progeny=Array.new(pop.size){|i| clone_cell(beta, num_clones, pop[i])}\n",
    "    end until average_cost(progeny) < avgCost\n",
    "    pop = affinity_supress(progeny, aff_thresh)\n",
    "    num_rand.times {pop << {:vector=>random_vector(search_space)}} \n",
    "    #puts \" > gen #{gen+1}, popSize=#{pop.size}, fitness=#{best[:cost]}\"\n",
    "  end\n",
    "  return best\n",
    "end"
   ]
  },
  {
   "cell_type": "code",
   "execution_count": 98,
   "metadata": {},
   "outputs": [
    {
     "name": "stdout",
     "output_type": "stream",
     "text": [
      "{:vector=>[0.00035146881409522235, 0.00013547195123755993], :cost=>1.4188297685361378e-07, :norm_cost=>0.9999999959104384}\n"
     ]
    }
   ],
   "source": [
    "# problem configuration\n",
    "problem_size = 2\n",
    "search_space = Array.new(problem_size) {|i| [-5, +5]}\n",
    "\n",
    "# algorithm configuration\n",
    "max_gens = 150\n",
    "pop_size = 20\n",
    "num_clones = 10\n",
    "beta = 100\n",
    "num_rand = 2\n",
    "aff_thresh = (search_space[0][1]-search_space[0][0])*0.05\n",
    "\n",
    "# execute the algorithm\n",
    "puts search(search_space, max_gens, pop_size, num_clones, beta, num_rand, aff_thresh)\n",
    "#puts \"done! Solution: f=#{best[:cost]}, s=#{best[:vector].inspect}\""
   ]
  },
  {
   "cell_type": "code",
   "execution_count": null,
   "metadata": {},
   "outputs": [],
   "source": []
  }
 ],
 "metadata": {
  "kernelspec": {
   "display_name": "Ruby 2.2.5",
   "language": "ruby",
   "name": "ruby"
  },
  "language_info": {
   "file_extension": ".rb",
   "mimetype": "application/x-ruby",
   "name": "ruby",
   "version": "2.2.5"
  }
 },
 "nbformat": 4,
 "nbformat_minor": 2
}
