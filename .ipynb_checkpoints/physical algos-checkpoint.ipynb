{
 "cells": [
  {
   "cell_type": "markdown",
   "metadata": {},
   "source": [
    "## Cultural Algorithm"
   ]
  },
  {
   "cell_type": "code",
   "execution_count": 1,
   "metadata": {},
   "outputs": [
    {
     "data": {
      "text/plain": [
       ":objective_function"
      ]
     },
     "execution_count": 1,
     "metadata": {},
     "output_type": "execute_result"
    }
   ],
   "source": [
    "def objective_function(vector)\n",
    "  return vector.inject(0.0) {|sum, x| sum +  (x ** 2.0)}\n",
    "end"
   ]
  },
  {
   "cell_type": "code",
   "execution_count": 2,
   "metadata": {},
   "outputs": [
    {
     "data": {
      "text/plain": [
       ":rand_in_bounds"
      ]
     },
     "execution_count": 2,
     "metadata": {},
     "output_type": "execute_result"
    }
   ],
   "source": [
    "def rand_in_bounds(min, max)\n",
    "  return min + ((max-min) * rand()) \n",
    "end"
   ]
  },
  {
   "cell_type": "code",
   "execution_count": 3,
   "metadata": {},
   "outputs": [
    {
     "data": {
      "text/plain": [
       ":random_vector"
      ]
     },
     "execution_count": 3,
     "metadata": {},
     "output_type": "execute_result"
    }
   ],
   "source": [
    "def random_vector(minmax)\n",
    "  return Array.new(minmax.size) do |i|      \n",
    "    rand_in_bounds(minmax[i][0], minmax[i][1])\n",
    "  end\n",
    "end"
   ]
  },
  {
   "cell_type": "code",
   "execution_count": 4,
   "metadata": {},
   "outputs": [
    {
     "data": {
      "text/plain": [
       ":mutate_with_inf"
      ]
     },
     "execution_count": 4,
     "metadata": {},
     "output_type": "execute_result"
    }
   ],
   "source": [
    "def mutate_with_inf(candidate, beliefs, minmax)\n",
    "  v = Array.new(candidate[:vector].size)\n",
    "  candidate[:vector].each_with_index do |c,i|\n",
    "    v[i]=rand_in_bounds(beliefs[:normative][i][0],beliefs[:normative][i][1])\n",
    "    v[i] = minmax[i][0] if v[i] < minmax[i][0]\n",
    "    v[i] = minmax[i][1] if v[i] > minmax[i][1]\n",
    "  end\n",
    "  return {:vector=>v}\n",
    "end"
   ]
  },
  {
   "cell_type": "code",
   "execution_count": 5,
   "metadata": {},
   "outputs": [
    {
     "data": {
      "text/plain": [
       ":binary_tournament"
      ]
     },
     "execution_count": 5,
     "metadata": {},
     "output_type": "execute_result"
    }
   ],
   "source": [
    "def binary_tournament(pop)\n",
    "  i, j = rand(pop.size), rand(pop.size)\n",
    "  j = rand(pop.size) while j==i\n",
    "  return (pop[i][:fitness] < pop[j][:fitness]) ? pop[i] : pop[j]\n",
    "end"
   ]
  },
  {
   "cell_type": "code",
   "execution_count": 6,
   "metadata": {},
   "outputs": [
    {
     "data": {
      "text/plain": [
       ":initialize_beliefspace"
      ]
     },
     "execution_count": 6,
     "metadata": {},
     "output_type": "execute_result"
    }
   ],
   "source": [
    "def initialize_beliefspace(search_space)\n",
    "  belief_space = {}\n",
    "  belief_space[:situational] = nil\n",
    "  belief_space[:normative] = Array.new(search_space.size) do |i| \n",
    "    Array.new(search_space[i])  \n",
    "  end\n",
    "  return belief_space\n",
    "end"
   ]
  },
  {
   "cell_type": "code",
   "execution_count": 7,
   "metadata": {},
   "outputs": [
    {
     "data": {
      "text/plain": [
       ":update_beliefspace_situational!"
      ]
     },
     "execution_count": 7,
     "metadata": {},
     "output_type": "execute_result"
    }
   ],
   "source": [
    "def update_beliefspace_situational!(belief_space, best)\n",
    "  curr_best = belief_space[:situational]\n",
    "  if curr_best.nil? or best[:fitness] < curr_best[:fitness]\n",
    "    belief_space[:situational] = best\n",
    "  end\n",
    "end"
   ]
  },
  {
   "cell_type": "code",
   "execution_count": 8,
   "metadata": {},
   "outputs": [
    {
     "data": {
      "text/plain": [
       ":update_beliefspace_normative!"
      ]
     },
     "execution_count": 8,
     "metadata": {},
     "output_type": "execute_result"
    }
   ],
   "source": [
    "def update_beliefspace_normative!(belief_space, acc)\n",
    "  belief_space[:normative].each_with_index do |bounds,i|\n",
    "    bounds[0] = acc.min{|x,y| x[:vector][i]<=>y[:vector][i]}[:vector][i]\n",
    "    bounds[1] = acc.max{|x,y| x[:vector][i]<=>y[:vector][i]}[:vector][i]\n",
    "  end\n",
    "end"
   ]
  },
  {
   "cell_type": "code",
   "execution_count": 9,
   "metadata": {},
   "outputs": [
    {
     "data": {
      "text/plain": [
       ":search"
      ]
     },
     "execution_count": 9,
     "metadata": {},
     "output_type": "execute_result"
    }
   ],
   "source": [
    "def search(max_gens, search_space, pop_size, num_accepted)\n",
    "\n",
    "  # initialize\n",
    "  pop = Array.new(pop_size) { {:vector=>random_vector(search_space)} }\n",
    "  belief_space = initialize_beliefspace(search_space)  \n",
    "  \n",
    "  # evaluate\n",
    "  pop.each{|c| c[:fitness] = objective_function(c[:vector])}\n",
    "  best = pop.sort{|x,y| x[:fitness] <=> y[:fitness]}.first\n",
    "  \n",
    "  # update situational knowledge\n",
    "  update_beliefspace_situational!(belief_space, best)\n",
    "  \n",
    "  max_gens.times do |gen|\n",
    "  \n",
    "    # create next generation\n",
    "    children = Array.new(pop_size) do |i| \n",
    "      mutate_with_inf(pop[i], belief_space, search_space) \n",
    "    end\n",
    "    \n",
    "    # evaluate\n",
    "    children.each{|c| c[:fitness] = objective_function(c[:vector])}    \n",
    "    best = children.sort{|x,y| x[:fitness] <=> y[:fitness]}.first\n",
    "    \n",
    "    # update situational knowledge\n",
    "    update_beliefspace_situational!(belief_space, best)\n",
    "    \n",
    "    # select next generation    \n",
    "    pop = Array.new(pop_size) { binary_tournament(children + pop) }\n",
    "    \n",
    "    # update normative knowledge\n",
    "    pop.sort!{|x,y| x[:fitness] <=> y[:fitness]}\n",
    "    acccepted = pop[0...num_accepted]\n",
    "    update_beliefspace_normative!(belief_space, acccepted)\n",
    "    \n",
    "    # user feedback\n",
    "    #puts \" > generation=#{gen}, f=#{belief_space[:situational][:fitness]}\"\n",
    "  end  \n",
    "  return belief_space[:situational]\n",
    "end\n"
   ]
  },
  {
   "cell_type": "code",
   "execution_count": 10,
   "metadata": {},
   "outputs": [
    {
     "name": "stdout",
     "output_type": "stream",
     "text": [
      "{:vector=>[2.8045763254778997e-87, 2.1913519488294294e-86], :fitness=>4.8806798472928494e-172}\n"
     ]
    }
   ],
   "source": [
    "# problem configuration\n",
    "problem_size = 2\n",
    "search_space = Array.new(problem_size) {|i| [-5, +5]}\n",
    "\n",
    "# algorithm configuration\n",
    "max_gens = 200\n",
    "pop_size = 100\n",
    "num_accepted = (pop_size*0.20).round\n",
    "\n",
    "# execute the algorithm\n",
    "best = search(max_gens, search_space, pop_size, num_accepted)\n",
    "#puts \"done! Solution: f=#{best[:fitness]}, s=#{best[:vector].inspect}\"\n",
    "puts best"
   ]
  },
  {
   "cell_type": "markdown",
   "metadata": {},
   "source": [
    "## Extremal Optimization"
   ]
  },
  {
   "cell_type": "code",
   "execution_count": 11,
   "metadata": {},
   "outputs": [
    {
     "data": {
      "text/plain": [
       ":euc_2d"
      ]
     },
     "execution_count": 11,
     "metadata": {},
     "output_type": "execute_result"
    }
   ],
   "source": [
    "def euc_2d(c1, c2)\n",
    "  Math.sqrt((c1[0] - c2[0])**2.0 + (c1[1] - c2[1])**2.0).round\n",
    "end"
   ]
  },
  {
   "cell_type": "code",
   "execution_count": 12,
   "metadata": {},
   "outputs": [
    {
     "data": {
      "text/plain": [
       ":cost"
      ]
     },
     "execution_count": 12,
     "metadata": {},
     "output_type": "execute_result"
    }
   ],
   "source": [
    "def cost(permutation, cities)\n",
    "  distance =0\n",
    "  permutation.each_with_index do |c1, i|\n",
    "    c2 = (i==permutation.size-1) ? permutation[0] : permutation[i+1]\n",
    "    distance += euc_2d(cities[c1], cities[c2])\n",
    "  end\n",
    "  return distance\n",
    "end"
   ]
  },
  {
   "cell_type": "code",
   "execution_count": 13,
   "metadata": {},
   "outputs": [
    {
     "data": {
      "text/plain": [
       ":random_permutation"
      ]
     },
     "execution_count": 13,
     "metadata": {},
     "output_type": "execute_result"
    }
   ],
   "source": [
    "def random_permutation(cities)\n",
    "  perm = Array.new(cities.size){|i| i}\n",
    "  perm.each_index do |i|\n",
    "    r = rand(perm.size-i) + i\n",
    "    perm[r], perm[i] = perm[i], perm[r]\n",
    "  end\n",
    "  return perm\n",
    "end"
   ]
  },
  {
   "cell_type": "code",
   "execution_count": 14,
   "metadata": {},
   "outputs": [
    {
     "data": {
      "text/plain": [
       ":calculate_neighbor_rank"
      ]
     },
     "execution_count": 14,
     "metadata": {},
     "output_type": "execute_result"
    }
   ],
   "source": [
    "def calculate_neighbor_rank(city_number, cities, ignore=[])\n",
    "  neighbors = []\n",
    "  cities.each_with_index do |city, i|\n",
    "    next if i==city_number or ignore.include?(i)\n",
    "    neighbor = {:number=>i}\n",
    "    neighbor[:distance] = euc_2d(cities[city_number], city)\n",
    "    neighbors << neighbor\n",
    "  end\n",
    "  return neighbors.sort!{|x,y| x[:distance] <=> y[:distance]}\n",
    "end"
   ]
  },
  {
   "cell_type": "code",
   "execution_count": 15,
   "metadata": {},
   "outputs": [
    {
     "data": {
      "text/plain": [
       ":get_edges_for_city"
      ]
     },
     "execution_count": 15,
     "metadata": {},
     "output_type": "execute_result"
    }
   ],
   "source": [
    "def get_edges_for_city(city_number, permutation)\n",
    "  c1, c2 = nil, nil\n",
    "  permutation.each_with_index do |c, i|\n",
    "    if c == city_number\n",
    "      c1 = (i==0) ? permutation.last : permutation[i-1]\n",
    "      c2 = (i==permutation.size-1) ? permutation.first : permutation[i+1]\n",
    "      break\n",
    "    end\n",
    "  end\n",
    "  return [c1, c2]\n",
    "end"
   ]
  },
  {
   "cell_type": "code",
   "execution_count": 16,
   "metadata": {},
   "outputs": [
    {
     "data": {
      "text/plain": [
       ":calculate_city_fitness"
      ]
     },
     "execution_count": 16,
     "metadata": {},
     "output_type": "execute_result"
    }
   ],
   "source": [
    "def calculate_city_fitness(permutation, city_number, cities)\n",
    "  c1, c2 = get_edges_for_city(city_number, permutation)\n",
    "  neighbors = calculate_neighbor_rank(city_number, cities)\n",
    "  n1, n2 = -1, -1\n",
    "  neighbors.each_with_index do |neighbor,i|\n",
    "    n1 = i+1 if neighbor[:number] == c1\n",
    "    n2 = i+1 if neighbor[:number] == c2\n",
    "    break if n1!=-1 and n2!=-1\n",
    "  end\n",
    "  return 3.0 / (n1.to_f + n2.to_f)\n",
    "end"
   ]
  },
  {
   "cell_type": "code",
   "execution_count": 17,
   "metadata": {},
   "outputs": [
    {
     "data": {
      "text/plain": [
       ":calculate_city_fitnesses"
      ]
     },
     "execution_count": 17,
     "metadata": {},
     "output_type": "execute_result"
    }
   ],
   "source": [
    "def calculate_city_fitnesses(cities, permutation)\n",
    "  city_fitnesses = []\n",
    "  cities.each_with_index do |city, i|\n",
    "    city_fitness = {:number=>i}\n",
    "    city_fitness[:fitness] = calculate_city_fitness(permutation, i, cities)\n",
    "    city_fitnesses << city_fitness\n",
    "  end\n",
    "  return city_fitnesses.sort!{|x,y| y[:fitness] <=> x[:fitness]}\n",
    "end"
   ]
  },
  {
   "cell_type": "code",
   "execution_count": 18,
   "metadata": {},
   "outputs": [
    {
     "data": {
      "text/plain": [
       ":calculate_component_probabilities"
      ]
     },
     "execution_count": 18,
     "metadata": {},
     "output_type": "execute_result"
    }
   ],
   "source": [
    "def calculate_component_probabilities(ordered_components, tau)\n",
    "  sum = 0.0\n",
    "  ordered_components.each_with_index do |component, i|\n",
    "    component[:prob] = (i+1.0)**(-tau)\n",
    "    sum += component[:prob]    \n",
    "  end\n",
    "  return sum\n",
    "end"
   ]
  },
  {
   "cell_type": "code",
   "execution_count": 19,
   "metadata": {},
   "outputs": [
    {
     "data": {
      "text/plain": [
       ":make_selection"
      ]
     },
     "execution_count": 19,
     "metadata": {},
     "output_type": "execute_result"
    }
   ],
   "source": [
    "def make_selection(components, sum_probability)\n",
    "  selection = rand()\n",
    "  components.each_with_index do |component, i|\n",
    "    selection -= (component[:prob] / sum_probability)\n",
    "    return component[:number] if selection <= 0.0\n",
    "  end\n",
    "  return components.last[:number]\n",
    "end"
   ]
  },
  {
   "cell_type": "code",
   "execution_count": 20,
   "metadata": {},
   "outputs": [
    {
     "data": {
      "text/plain": [
       ":probabilistic_selection"
      ]
     },
     "execution_count": 20,
     "metadata": {},
     "output_type": "execute_result"
    }
   ],
   "source": [
    "def probabilistic_selection(ordered_components, tau, exclude=[])\n",
    "  sum = calculate_component_probabilities(ordered_components, tau)  \n",
    "  selected_city = nil\n",
    "  begin\n",
    "    selected_city = make_selection(ordered_components, sum) \n",
    "  end while exclude.include?(selected_city)\n",
    "  return selected_city\n",
    "end"
   ]
  },
  {
   "cell_type": "code",
   "execution_count": 21,
   "metadata": {},
   "outputs": [
    {
     "data": {
      "text/plain": [
       ":vary_permutation"
      ]
     },
     "execution_count": 21,
     "metadata": {},
     "output_type": "execute_result"
    }
   ],
   "source": [
    "def vary_permutation(permutation, selected, new, long_edge)\n",
    "  perm = Array.new(permutation)\n",
    "  c1, c2 = perm.rindex(selected), perm.rindex(new)\n",
    "  p1,p2 = (c1<c2) ? [c1,c2] : [c2,c1]\n",
    "  right = (c1==perm.size-1) ? 0 : c1+1\n",
    "  if perm[right] == long_edge\n",
    "    perm[p1+1..p2] = perm[p1+1..p2].reverse\n",
    "  else \n",
    "    perm[p1...p2] = perm[p1...p2].reverse\n",
    "  end\n",
    "  return perm\n",
    "end"
   ]
  },
  {
   "cell_type": "code",
   "execution_count": 22,
   "metadata": {},
   "outputs": [
    {
     "data": {
      "text/plain": [
       ":get_long_edge"
      ]
     },
     "execution_count": 22,
     "metadata": {},
     "output_type": "execute_result"
    }
   ],
   "source": [
    "def get_long_edge(edges, neighbor_distances)\n",
    "  n1 = neighbor_distances.find {|x| x[:number]==edges[0]}\n",
    "  n2 = neighbor_distances.find {|x| x[:number]==edges[1]}\n",
    "  return (n1[:distance] > n2[:distance]) ? n1[:number] : n2[:number]\n",
    "end"
   ]
  },
  {
   "cell_type": "code",
   "execution_count": 23,
   "metadata": {},
   "outputs": [
    {
     "data": {
      "text/plain": [
       ":create_new_perm"
      ]
     },
     "execution_count": 23,
     "metadata": {},
     "output_type": "execute_result"
    }
   ],
   "source": [
    "def create_new_perm(cities, tau, perm)\n",
    "  city_fitnesses = calculate_city_fitnesses(cities, perm)\n",
    "  selected_city = probabilistic_selection(city_fitnesses.reverse, tau)\n",
    "  edges = get_edges_for_city(selected_city, perm)\n",
    "  neighbors = calculate_neighbor_rank(selected_city, cities)\n",
    "  new_neighbor = probabilistic_selection(neighbors, tau, edges)\n",
    "  long_edge = get_long_edge(edges, neighbors)\n",
    "  return vary_permutation(perm, selected_city, new_neighbor, long_edge)\n",
    "end"
   ]
  },
  {
   "cell_type": "code",
   "execution_count": 24,
   "metadata": {},
   "outputs": [
    {
     "data": {
      "text/plain": [
       ":search"
      ]
     },
     "execution_count": 24,
     "metadata": {},
     "output_type": "execute_result"
    }
   ],
   "source": [
    "def search(cities, max_iterations, tau)\n",
    "  current = {:vector=>random_permutation(cities)}\n",
    "  current[:cost] = cost(current[:vector], cities)\n",
    "  best = current\n",
    "  max_iterations.times do |iter|\n",
    "    candidate = {}\n",
    "    candidate[:vector] = create_new_perm(cities, tau, current[:vector])\n",
    "    candidate[:cost] = cost(candidate[:vector], cities)\n",
    "    current = candidate\n",
    "    best = candidate if candidate[:cost] < best[:cost]\n",
    "    #puts \" > iter #{(iter+1)}, curr=#{current[:cost]}, best=#{best[:cost]}\"\n",
    "  end\n",
    "  return best\n",
    "end"
   ]
  },
  {
   "cell_type": "code",
   "execution_count": 25,
   "metadata": {},
   "outputs": [
    {
     "name": "stdout",
     "output_type": "stream",
     "text": [
      "{:vector=>[1, 6, 41, 22, 49, 28, 15, 19, 43, 4, 37, 36, 45, 47, 23, 5, 14, 42, 9, 32, 27, 26, 12, 13, 51, 25, 46, 24, 3, 11, 50, 10, 33, 34, 35, 38, 39, 21, 0, 48, 31, 44, 18, 2, 40, 7, 8, 16, 17, 30, 20, 29], :cost=>11041}\n"
     ]
    }
   ],
   "source": [
    "berlin52 = [\n",
    "  [ 565,575],[  25,185],[ 345, 750],[ 945, 685],[ 845, 655],\n",
    "  [ 880,660],[  25,230],[ 525,1000],[ 580,1175],[ 650,1130],[1605,620],\n",
    "  [1220,580],[1465,200],[1530,   5],[ 845, 680],[ 725, 370],[ 145,665],\n",
    "  [ 415,635],[ 510,875],[ 560, 365],[ 300, 465],[ 520, 585],[ 480,415],\n",
    "  [ 835,625],[ 975,580],[1215, 245],[1320, 315],[1250, 400],[ 660,180],\n",
    "  [ 410,250],[ 420,555],[ 575, 665],[1150,1160],[ 700, 580],[ 685,595],\n",
    "  [ 685,610],[ 770,610],[ 795, 645],[ 720, 635],[ 760, 650],[ 475,960],\n",
    "  [  95,260],[ 875,920],[ 700, 500],[ 555, 815],[ 830, 485],[1170, 65],\n",
    "  [ 830,610],[ 605,625],[ 595, 360],[1340, 725],[1740, 245]]\n",
    "\n",
    "# algorithm configuration\n",
    "max_iterations = 250\n",
    "tau = 1.8\n",
    "\n",
    "# execute the algorithm\n",
    "puts search(berlin52, max_iterations, tau)\n",
    "#puts \"Done. Best Solution: c=#{best[:cost]}, v=#{best[:vector].inspect}\""
   ]
  },
  {
   "cell_type": "markdown",
   "metadata": {},
   "source": [
    "## Harmony Search"
   ]
  },
  {
   "cell_type": "code",
   "execution_count": 26,
   "metadata": {},
   "outputs": [
    {
     "data": {
      "text/plain": [
       ":objective_function"
      ]
     },
     "execution_count": 26,
     "metadata": {},
     "output_type": "execute_result"
    }
   ],
   "source": [
    "def objective_function(vector)\n",
    "  return vector.inject(0.0) {|sum, x| sum +  (x ** 2.0)}\n",
    "end"
   ]
  },
  {
   "cell_type": "code",
   "execution_count": 27,
   "metadata": {},
   "outputs": [
    {
     "data": {
      "text/plain": [
       ":rand_in_bounds"
      ]
     },
     "execution_count": 27,
     "metadata": {},
     "output_type": "execute_result"
    }
   ],
   "source": [
    "def rand_in_bounds(min, max)\n",
    "  return min + ((max-min) * rand()) \n",
    "end"
   ]
  },
  {
   "cell_type": "code",
   "execution_count": 28,
   "metadata": {},
   "outputs": [
    {
     "data": {
      "text/plain": [
       ":random_vector"
      ]
     },
     "execution_count": 28,
     "metadata": {},
     "output_type": "execute_result"
    }
   ],
   "source": [
    "def random_vector(search_space)\n",
    "  return Array.new(search_space.size) do |i| \n",
    "    rand_in_bounds(search_space[i][0], search_space[i][1]) \n",
    "  end\n",
    "end"
   ]
  },
  {
   "cell_type": "code",
   "execution_count": 29,
   "metadata": {},
   "outputs": [
    {
     "data": {
      "text/plain": [
       ":create_random_harmony"
      ]
     },
     "execution_count": 29,
     "metadata": {},
     "output_type": "execute_result"
    }
   ],
   "source": [
    "def create_random_harmony(search_space)\n",
    "  harmony = {}\n",
    "  harmony[:vector] = random_vector(search_space)\n",
    "  harmony[:fitness] = objective_function(harmony[:vector])\n",
    "  return harmony\n",
    "end"
   ]
  },
  {
   "cell_type": "code",
   "execution_count": 30,
   "metadata": {},
   "outputs": [
    {
     "data": {
      "text/plain": [
       ":initialize_harmony_memory"
      ]
     },
     "execution_count": 30,
     "metadata": {},
     "output_type": "execute_result"
    }
   ],
   "source": [
    "def initialize_harmony_memory(search_space, mem_size, factor=3)\n",
    "  memory = Array.new(mem_size*factor){create_random_harmony(search_space)}\n",
    "  memory.sort!{|x,y| x[:fitness]<=>y[:fitness]}  \n",
    "  return memory.first(mem_size)\n",
    "end"
   ]
  },
  {
   "cell_type": "code",
   "execution_count": 31,
   "metadata": {},
   "outputs": [
    {
     "data": {
      "text/plain": [
       ":create_harmony"
      ]
     },
     "execution_count": 31,
     "metadata": {},
     "output_type": "execute_result"
    }
   ],
   "source": [
    "def create_harmony(search_space, memory, consid_rate, adjust_rate, range)\n",
    "  vector = Array.new(search_space.size)\n",
    "  search_space.size.times do |i|\n",
    "    if rand() < consid_rate\n",
    "      value = memory[rand(memory.size)][:vector][i]\n",
    "      value = value + range*rand_in_bounds(-1.0, 1.0) if rand()<adjust_rate\n",
    "      value = search_space[i][0] if value < search_space[i][0]\n",
    "      value = search_space[i][1] if value > search_space[i][1]\n",
    "      vector[i] = value\n",
    "    else\n",
    "      vector[i] = rand_in_bounds(search_space[i][0], search_space[i][1])\n",
    "    end\n",
    "  end\n",
    "  return {:vector=>vector}\n",
    "end"
   ]
  },
  {
   "cell_type": "code",
   "execution_count": 32,
   "metadata": {},
   "outputs": [
    {
     "data": {
      "text/plain": [
       ":search"
      ]
     },
     "execution_count": 32,
     "metadata": {},
     "output_type": "execute_result"
    }
   ],
   "source": [
    "def search(bounds, max_iter, mem_size, consid_rate, adjust_rate, range)\n",
    "  memory = initialize_harmony_memory(bounds, mem_size)\n",
    "  best = memory.first\n",
    "  max_iter.times do |iter|\n",
    "    harm = create_harmony(bounds, memory, consid_rate, adjust_rate, range)\n",
    "    harm[:fitness] = objective_function(harm[:vector])\n",
    "    best = harm if harm[:fitness] < best[:fitness]\n",
    "    memory << harm\n",
    "    memory.sort!{|x,y| x[:fitness]<=>y[:fitness]}\n",
    "    memory.delete_at(memory.size-1)\n",
    "    #puts \" > iteration=#{iter}, fitness=#{best[:fitness]}\"\n",
    "  end  \n",
    "  return best\n",
    "end"
   ]
  },
  {
   "cell_type": "code",
   "execution_count": 33,
   "metadata": {},
   "outputs": [
    {
     "name": "stdout",
     "output_type": "stream",
     "text": [
      "{:vector=>[0.003224560478574367, 0.002521998355741283, 0.004603142260384125], :fitness=>3.7947184655679766e-05}\n"
     ]
    }
   ],
   "source": [
    "problem_size = 3\n",
    "bounds = Array.new(problem_size) {|i| [-5, 5]}\n",
    "\n",
    "# algorithm configuration\n",
    "mem_size = 20\n",
    "consid_rate = 0.95\n",
    "adjust_rate = 0.7\n",
    "range = 0.05\n",
    "max_iter = 500\n",
    "\n",
    "# execute the algorithm\n",
    "puts search(bounds, max_iter, mem_size, consid_rate, adjust_rate, range)\n",
    "#puts \"done! Solution: f=#{best[:fitness]}, s=#{best[:vector].inspect}\"\n"
   ]
  },
  {
   "cell_type": "markdown",
   "metadata": {},
   "source": [
    "## Memetic Algorithm"
   ]
  },
  {
   "cell_type": "code",
   "execution_count": 34,
   "metadata": {},
   "outputs": [
    {
     "data": {
      "text/plain": [
       ":objective_function"
      ]
     },
     "execution_count": 34,
     "metadata": {},
     "output_type": "execute_result"
    }
   ],
   "source": [
    "def objective_function(vector)\n",
    "  return vector.inject(0.0) {|sum, x| sum +  (x ** 2.0)}\n",
    "end"
   ]
  },
  {
   "cell_type": "code",
   "execution_count": 35,
   "metadata": {},
   "outputs": [
    {
     "data": {
      "text/plain": [
       ":random_bitstring"
      ]
     },
     "execution_count": 35,
     "metadata": {},
     "output_type": "execute_result"
    }
   ],
   "source": [
    "def random_bitstring(num_bits)\n",
    "  return (0...num_bits).inject(\"\"){|s,i| s<<((rand<0.5) ? \"1\" : \"0\")}\n",
    "end"
   ]
  },
  {
   "cell_type": "code",
   "execution_count": 36,
   "metadata": {},
   "outputs": [
    {
     "data": {
      "text/plain": [
       ":decode"
      ]
     },
     "execution_count": 36,
     "metadata": {},
     "output_type": "execute_result"
    }
   ],
   "source": [
    "def decode(bitstring, search_space, bits_per_param)\n",
    "  vector = []\n",
    "  search_space.each_with_index do |bounds, i|\n",
    "    off, sum = i*bits_per_param, 0.0\n",
    "    param = bitstring[off...(off+bits_per_param)].reverse\n",
    "    param.size.times do |j|\n",
    "      sum += ((param[j].chr=='1') ? 1.0 : 0.0) * (2.0 ** j.to_f)\n",
    "    end\n",
    "    min, max = bounds\n",
    "    vector << min + ((max-min)/((2.0**bits_per_param.to_f)-1.0)) * sum\n",
    "  end\n",
    "  return vector\n",
    "end"
   ]
  },
  {
   "cell_type": "code",
   "execution_count": 37,
   "metadata": {},
   "outputs": [
    {
     "data": {
      "text/plain": [
       ":fitness"
      ]
     },
     "execution_count": 37,
     "metadata": {},
     "output_type": "execute_result"
    }
   ],
   "source": [
    "def fitness(candidate, search_space, param_bits)\n",
    "  candidate[:vector]=decode(candidate[:bitstring], search_space, param_bits)\n",
    "  candidate[:fitness] = objective_function(candidate[:vector])\n",
    "end"
   ]
  },
  {
   "cell_type": "code",
   "execution_count": 38,
   "metadata": {},
   "outputs": [
    {
     "data": {
      "text/plain": [
       ":binary_tournament"
      ]
     },
     "execution_count": 38,
     "metadata": {},
     "output_type": "execute_result"
    }
   ],
   "source": [
    "def binary_tournament(pop)\n",
    "  i, j = rand(pop.size), rand(pop.size)\n",
    "  j = rand(pop.size) while j==i\n",
    "  return (pop[i][:fitness] < pop[j][:fitness]) ? pop[i] : pop[j]\n",
    "end"
   ]
  },
  {
   "cell_type": "code",
   "execution_count": 39,
   "metadata": {},
   "outputs": [
    {
     "data": {
      "text/plain": [
       ":point_mutation"
      ]
     },
     "execution_count": 39,
     "metadata": {},
     "output_type": "execute_result"
    }
   ],
   "source": [
    "def point_mutation(bitstring, rate=1.0/bitstring.size)\n",
    "  child = \"\"\n",
    "   bitstring.size.times do |i|\n",
    "     bit = bitstring[i].chr\n",
    "     child << ((rand()<rate) ? ((bit=='1') ? \"0\" : \"1\") : bit)\n",
    "  end\n",
    "  return child\n",
    "end"
   ]
  },
  {
   "cell_type": "code",
   "execution_count": 40,
   "metadata": {},
   "outputs": [
    {
     "data": {
      "text/plain": [
       ":crossover"
      ]
     },
     "execution_count": 40,
     "metadata": {},
     "output_type": "execute_result"
    }
   ],
   "source": [
    "def crossover(parent1, parent2, rate)\n",
    "  return \"\"+parent1 if rand()>=rate\n",
    "  child = \"\"\n",
    "  parent1.size.times do |i| \n",
    "    child << ((rand()<0.5) ? parent1[i].chr : parent2[i].chr)\n",
    "  end\n",
    "  return child\n",
    "end"
   ]
  },
  {
   "cell_type": "code",
   "execution_count": 41,
   "metadata": {},
   "outputs": [
    {
     "data": {
      "text/plain": [
       ":reproduce"
      ]
     },
     "execution_count": 41,
     "metadata": {},
     "output_type": "execute_result"
    }
   ],
   "source": [
    "def reproduce(selected, pop_size, p_cross, p_mut)\n",
    "  children = []  \n",
    "  selected.each_with_index do |p1, i|\n",
    "    p2 = (i.modulo(2)==0) ? selected[i+1] : selected[i-1]\n",
    "    p2 = selected[0] if i == selected.size-1\n",
    "    child = {}\n",
    "    child[:bitstring] = crossover(p1[:bitstring], p2[:bitstring], p_cross)\n",
    "    child[:bitstring] = point_mutation(child[:bitstring], p_mut)\n",
    "    children << child\n",
    "    break if children.size >= pop_size\n",
    "  end\n",
    "  return children\n",
    "end"
   ]
  },
  {
   "cell_type": "code",
   "execution_count": 42,
   "metadata": {},
   "outputs": [
    {
     "data": {
      "text/plain": [
       ":bitclimber"
      ]
     },
     "execution_count": 42,
     "metadata": {},
     "output_type": "execute_result"
    }
   ],
   "source": [
    "def bitclimber(child, search_space, p_mut, max_local_gens, bits_per_param)\n",
    "  current = child\n",
    "  max_local_gens.times do\n",
    "    candidate = {}\n",
    "    candidate[:bitstring] = point_mutation(current[:bitstring], p_mut)\n",
    "    fitness(candidate, search_space, bits_per_param)\n",
    "    current = candidate if candidate[:fitness] <= current[:fitness]\n",
    "  end\n",
    "  return current\n",
    "end"
   ]
  },
  {
   "cell_type": "code",
   "execution_count": 43,
   "metadata": {},
   "outputs": [
    {
     "data": {
      "text/plain": [
       ":search"
      ]
     },
     "execution_count": 43,
     "metadata": {},
     "output_type": "execute_result"
    }
   ],
   "source": [
    "def search(max_gens, search_space, pop_size, p_cross, p_mut, max_local_gens, \n",
    "    p_local, bits_per_param=16)\n",
    "  pop = Array.new(pop_size) do |i|\n",
    "    {:bitstring=>random_bitstring(search_space.size*bits_per_param)}\n",
    "  end\n",
    "  pop.each{|candidate| fitness(candidate, search_space, bits_per_param) }\n",
    "  gen, best = 0, pop.sort{|x,y| x[:fitness] <=> y[:fitness]}.first  \n",
    "  max_gens.times do |gen|\n",
    "    selected = Array.new(pop_size){|i| binary_tournament(pop)}\n",
    "    children = reproduce(selected, pop_size, p_cross, p_mut) \n",
    "    children.each{|cand| fitness(cand, search_space, bits_per_param)}\n",
    "    pop = []    \n",
    "    children.each do |child|\n",
    "      if rand() < p_local\n",
    "        child = bitclimber(child, search_space, p_mut, max_local_gens, \n",
    "          bits_per_param) \n",
    "      end\n",
    "      pop << child\n",
    "    end    \n",
    "    pop.sort!{|x,y| x[:fitness] <=> y[:fitness]}    \n",
    "    best = pop.first if pop.first[:fitness] <= best[:fitness]    \n",
    "    #puts \">gen=#{gen}, f=#{best[:fitness]}, b=#{best[:bitstring]}\"\n",
    "  end  \n",
    "  return best\n",
    "end"
   ]
  },
  {
   "cell_type": "code",
   "execution_count": 44,
   "metadata": {},
   "outputs": [
    {
     "name": "stdout",
     "output_type": "stream",
     "text": [
      "{:bitstring=>\"100000000000000001111111111111111000000000000000\", :vector=>[7.629510948348184e-05, -7.629510948348184e-05, 7.629510948348184e-05], :fitness=>1.7462831193289442e-08}\n"
     ]
    }
   ],
   "source": [
    "problem_size = 3\n",
    "search_space = Array.new(problem_size) {|i| [-5, +5]}\n",
    "\n",
    "# algorithm configuration\n",
    "max_gens = 100\n",
    "pop_size = 100  \n",
    "p_cross = 0.98\n",
    "p_mut = 1.0/(problem_size*16).to_f\n",
    "max_local_gens = 20\n",
    "p_local = 0.5\n",
    "\n",
    "# execute the algorithm\n",
    "puts search(max_gens, search_space, pop_size, p_cross, p_mut, max_local_gens, p_local)\n",
    "#puts \"done! Solution: f=#{best[:fitness]}, b=#{best[:bitstring]}, v=#{best[:vector].inspect}\"\n"
   ]
  },
  {
   "cell_type": "markdown",
   "metadata": {},
   "source": [
    "## Simulated Annealing"
   ]
  },
  {
   "cell_type": "code",
   "execution_count": 45,
   "metadata": {},
   "outputs": [
    {
     "data": {
      "text/plain": [
       ":euc_2d"
      ]
     },
     "execution_count": 45,
     "metadata": {},
     "output_type": "execute_result"
    }
   ],
   "source": [
    "def euc_2d(c1, c2)\n",
    "  Math.sqrt((c1[0] - c2[0])**2.0 + (c1[1] - c2[1])**2.0).round\n",
    "end"
   ]
  },
  {
   "cell_type": "code",
   "execution_count": 46,
   "metadata": {},
   "outputs": [
    {
     "data": {
      "text/plain": [
       ":cost"
      ]
     },
     "execution_count": 46,
     "metadata": {},
     "output_type": "execute_result"
    }
   ],
   "source": [
    "def cost(permutation, cities)\n",
    "  distance =0\n",
    "  permutation.each_with_index do |c1, i|\n",
    "    c2 = (i==permutation.size-1) ? permutation[0] : permutation[i+1]\n",
    "    distance += euc_2d(cities[c1], cities[c2])\n",
    "  end\n",
    "  return distance\n",
    "end"
   ]
  },
  {
   "cell_type": "code",
   "execution_count": 47,
   "metadata": {},
   "outputs": [
    {
     "data": {
      "text/plain": [
       ":random_permutation"
      ]
     },
     "execution_count": 47,
     "metadata": {},
     "output_type": "execute_result"
    }
   ],
   "source": [
    "def random_permutation(cities)\n",
    "  perm = Array.new(cities.size){|i| i}\n",
    "  perm.each_index do |i|\n",
    "    r = rand(perm.size-i) + i\n",
    "    perm[r], perm[i] = perm[i], perm[r]\n",
    "  end\n",
    "  return perm\n",
    "end"
   ]
  },
  {
   "cell_type": "code",
   "execution_count": 48,
   "metadata": {},
   "outputs": [
    {
     "data": {
      "text/plain": [
       ":stochastic_two_opt!"
      ]
     },
     "execution_count": 48,
     "metadata": {},
     "output_type": "execute_result"
    }
   ],
   "source": [
    "def stochastic_two_opt!(perm)\n",
    "  c1, c2 = rand(perm.size), rand(perm.size)\n",
    "  exclude = [c1]\n",
    "  exclude << ((c1==0) ? perm.size-1 : c1-1)\n",
    "  exclude << ((c1==perm.size-1) ? 0 : c1+1)\n",
    "  c2 = rand(perm.size) while exclude.include?(c2)\n",
    "  c1, c2 = c2, c1 if c2 < c1\n",
    "  perm[c1...c2] = perm[c1...c2].reverse\n",
    "  return perm\n",
    "end"
   ]
  },
  {
   "cell_type": "code",
   "execution_count": 49,
   "metadata": {},
   "outputs": [
    {
     "data": {
      "text/plain": [
       ":create_neighbor"
      ]
     },
     "execution_count": 49,
     "metadata": {},
     "output_type": "execute_result"
    }
   ],
   "source": [
    "def create_neighbor(current, cities)\n",
    "  candidate = {}\n",
    "  candidate[:vector] = Array.new(current[:vector])\n",
    "  stochastic_two_opt!(candidate[:vector])\n",
    "  candidate[:cost] = cost(candidate[:vector], cities)\n",
    "  return candidate\n",
    "end"
   ]
  },
  {
   "cell_type": "code",
   "execution_count": 50,
   "metadata": {},
   "outputs": [
    {
     "data": {
      "text/plain": [
       ":should_accept?"
      ]
     },
     "execution_count": 50,
     "metadata": {},
     "output_type": "execute_result"
    }
   ],
   "source": [
    "def should_accept?(candidate, current, temp)\n",
    "  return true if candidate[:cost] <= current[:cost]\n",
    "  return Math.exp((current[:cost] - candidate[:cost]) / temp) > rand()\n",
    "end"
   ]
  },
  {
   "cell_type": "code",
   "execution_count": 51,
   "metadata": {},
   "outputs": [
    {
     "data": {
      "text/plain": [
       ":search"
      ]
     },
     "execution_count": 51,
     "metadata": {},
     "output_type": "execute_result"
    }
   ],
   "source": [
    "def search(cities, max_iter, max_temp, temp_change)\n",
    "  current = {:vector=>random_permutation(cities)}\n",
    "  current[:cost] = cost(current[:vector], cities)\n",
    "  temp, best = max_temp, current\n",
    "  max_iter.times do |iter|\n",
    "    candidate = create_neighbor(current, cities)\n",
    "    temp = temp * temp_change\n",
    "    current = candidate if should_accept?(candidate, current, temp)\n",
    "    best = candidate if candidate[:cost] < best[:cost]\n",
    "    if (iter+1).modulo(10) == 0\n",
    "      #puts \" > iteration #{(iter+1)}, temp=#{temp}, best=#{best[:cost]}\"\n",
    "    end\n",
    "  end\n",
    "  return best\n",
    "end"
   ]
  },
  {
   "cell_type": "code",
   "execution_count": 52,
   "metadata": {},
   "outputs": [
    {
     "name": "stdout",
     "output_type": "stream",
     "text": [
      "{:vector=>[46, 13, 51, 12, 26, 25, 27, 45, 33, 43, 0, 34, 42, 8, 9, 32, 3, 50, 10, 11, 24, 5, 14, 47, 4, 23, 37, 36, 39, 48, 35, 38, 31, 21, 17, 44, 7, 40, 18, 2, 16, 20, 30, 22, 49, 19, 41, 6, 1, 29, 28, 15], :cost=>10346}\n"
     ]
    }
   ],
   "source": [
    "# algorithm configuration\n",
    "max_iterations = 2000\n",
    "max_temp = 100000.0\n",
    "temp_change = 0.98\n",
    "\n",
    "# execute the algorithm\n",
    "puts search(berlin52, max_iterations, max_temp, temp_change)\n",
    "#puts \"Done. Best Solution: c=#{best[:cost]}, v=#{best[:vector].inspect}\""
   ]
  },
  {
   "cell_type": "code",
   "execution_count": null,
   "metadata": {},
   "outputs": [],
   "source": []
  }
 ],
 "metadata": {
  "kernelspec": {
   "display_name": "Ruby 2.2.5",
   "language": "ruby",
   "name": "ruby"
  },
  "language_info": {
   "file_extension": ".rb",
   "mimetype": "application/x-ruby",
   "name": "ruby",
   "version": "2.2.5"
  }
 },
 "nbformat": 4,
 "nbformat_minor": 2
}
