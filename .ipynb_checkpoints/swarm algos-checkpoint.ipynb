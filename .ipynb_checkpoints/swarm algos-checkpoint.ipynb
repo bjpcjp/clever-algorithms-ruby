{
 "cells": [
  {
   "cell_type": "markdown",
   "metadata": {},
   "source": [
    "# Swarm Algorithms"
   ]
  },
  {
   "cell_type": "markdown",
   "metadata": {},
   "source": [
    "## Ant Colony System"
   ]
  },
  {
   "cell_type": "code",
   "execution_count": 1,
   "metadata": {},
   "outputs": [
    {
     "data": {
      "text/plain": [
       ":euc_2d"
      ]
     },
     "execution_count": 1,
     "metadata": {},
     "output_type": "execute_result"
    }
   ],
   "source": [
    "def euc_2d(c1, c2)\n",
    "  Math.sqrt((c1[0] - c2[0])**2.0 + (c1[1] - c2[1])**2.0).round\n",
    "end"
   ]
  },
  {
   "cell_type": "code",
   "execution_count": 2,
   "metadata": {},
   "outputs": [
    {
     "data": {
      "text/plain": [
       ":cost"
      ]
     },
     "execution_count": 2,
     "metadata": {},
     "output_type": "execute_result"
    }
   ],
   "source": [
    "def cost(permutation, cities)\n",
    "  distance =0\n",
    "  permutation.each_with_index do |c1, i|\n",
    "    c2 = (i==permutation.size-1) ? permutation[0] : permutation[i+1]\n",
    "    distance += euc_2d(cities[c1], cities[c2])\n",
    "  end\n",
    "  return distance\n",
    "end"
   ]
  },
  {
   "cell_type": "code",
   "execution_count": 3,
   "metadata": {},
   "outputs": [
    {
     "data": {
      "text/plain": [
       ":random_permutation"
      ]
     },
     "execution_count": 3,
     "metadata": {},
     "output_type": "execute_result"
    }
   ],
   "source": [
    "def random_permutation(cities)\n",
    "  perm = Array.new(cities.size){|i| i}\n",
    "  perm.each_index do |i|\n",
    "    r = rand(perm.size-i) + i\n",
    "    perm[r], perm[i] = perm[i], perm[r]\n",
    "  end\n",
    "  return perm\n",
    "end"
   ]
  },
  {
   "cell_type": "code",
   "execution_count": 4,
   "metadata": {},
   "outputs": [
    {
     "data": {
      "text/plain": [
       ":initialise_pheromone_matrix"
      ]
     },
     "execution_count": 4,
     "metadata": {},
     "output_type": "execute_result"
    }
   ],
   "source": [
    "def initialise_pheromone_matrix(num_cities, init_pher)  \n",
    "  return Array.new(num_cities){|i| Array.new(num_cities, init_pher)}\n",
    "end"
   ]
  },
  {
   "cell_type": "code",
   "execution_count": 5,
   "metadata": {},
   "outputs": [
    {
     "data": {
      "text/plain": [
       ":calculate_choices"
      ]
     },
     "execution_count": 5,
     "metadata": {},
     "output_type": "execute_result"
    }
   ],
   "source": [
    "def calculate_choices(cities, last_city, exclude, pheromone, c_heur, c_hist)\n",
    "  choices = []\n",
    "  cities.each_with_index do |coord, i|\n",
    "    next if exclude.include?(i)\n",
    "    prob = {:city=>i}\n",
    "    prob[:history] = pheromone[last_city][i] ** c_hist\n",
    "    prob[:distance] = euc_2d(cities[last_city], coord)\n",
    "    prob[:heuristic] = (1.0/prob[:distance]) ** c_heur\n",
    "    prob[:prob] = prob[:history] * prob[:heuristic]\n",
    "    choices << prob\n",
    "  end\n",
    "  return choices\n",
    "end"
   ]
  },
  {
   "cell_type": "code",
   "execution_count": 6,
   "metadata": {},
   "outputs": [
    {
     "data": {
      "text/plain": [
       ":prob_select"
      ]
     },
     "execution_count": 6,
     "metadata": {},
     "output_type": "execute_result"
    }
   ],
   "source": [
    "def prob_select(choices)\n",
    "  sum = choices.inject(0.0){|sum,element| sum + element[:prob]}\n",
    "  return choices[rand(choices.size)][:city] if sum == 0.0\n",
    "  v = rand()\n",
    "  choices.each_with_index do |choice, i|\n",
    "    v -= (choice[:prob]/sum)\n",
    "    return choice[:city] if v <= 0.0\n",
    "  end\n",
    "  return choices.last[:city]\n",
    "end"
   ]
  },
  {
   "cell_type": "code",
   "execution_count": 7,
   "metadata": {},
   "outputs": [
    {
     "data": {
      "text/plain": [
       ":greedy_select"
      ]
     },
     "execution_count": 7,
     "metadata": {},
     "output_type": "execute_result"
    }
   ],
   "source": [
    "def greedy_select(choices)\n",
    "  return choices.max{|a,b| a[:prob]<=>b[:prob]}[:city]\n",
    "end"
   ]
  },
  {
   "cell_type": "code",
   "execution_count": 8,
   "metadata": {},
   "outputs": [
    {
     "data": {
      "text/plain": [
       ":stepwise_const"
      ]
     },
     "execution_count": 8,
     "metadata": {},
     "output_type": "execute_result"
    }
   ],
   "source": [
    "def stepwise_const(cities, phero, c_heur, c_greed)\n",
    "  perm = []\n",
    "  perm << rand(cities.size)\n",
    "  begin\n",
    "    choices = calculate_choices(cities, perm.last, perm, phero, c_heur, 1.0)\n",
    "    greedy = rand() <= c_greed\n",
    "    next_city = (greedy) ? greedy_select(choices) : prob_select(choices)\n",
    "    perm << next_city\n",
    "  end until perm.size == cities.size\n",
    "  return perm\n",
    "end"
   ]
  },
  {
   "cell_type": "code",
   "execution_count": 9,
   "metadata": {},
   "outputs": [
    {
     "data": {
      "text/plain": [
       ":global_update_pheromone"
      ]
     },
     "execution_count": 9,
     "metadata": {},
     "output_type": "execute_result"
    }
   ],
   "source": [
    "def global_update_pheromone(phero, cand, decay)\n",
    "  cand[:vector].each_with_index do |x, i|\n",
    "    y = (i==cand[:vector].size-1) ? cand[:vector][0] : cand[:vector][i+1]\n",
    "    value = ((1.0-decay)*phero[x][y]) + (decay*(1.0/cand[:cost]))\n",
    "    phero[x][y] = value\n",
    "    phero[y][x] = value\n",
    "  end\n",
    "end"
   ]
  },
  {
   "cell_type": "code",
   "execution_count": 10,
   "metadata": {},
   "outputs": [
    {
     "data": {
      "text/plain": [
       ":local_update_pheromone"
      ]
     },
     "execution_count": 10,
     "metadata": {},
     "output_type": "execute_result"
    }
   ],
   "source": [
    "def local_update_pheromone(pheromone, cand, c_local_phero, init_phero)\n",
    "  cand[:vector].each_with_index do |x, i|\n",
    "    y = (i==cand[:vector].size-1) ? cand[:vector][0] : cand[:vector][i+1]\n",
    "    value = ((1.0-c_local_phero)*pheromone[x][y])+(c_local_phero*init_phero)\n",
    "    pheromone[x][y] = value\n",
    "    pheromone[y][x] = value\n",
    "  end\n",
    "end"
   ]
  },
  {
   "cell_type": "code",
   "execution_count": 11,
   "metadata": {},
   "outputs": [
    {
     "data": {
      "text/plain": [
       ":search"
      ]
     },
     "execution_count": 11,
     "metadata": {},
     "output_type": "execute_result"
    }
   ],
   "source": [
    "def search(cities, max_it, num_ants, decay, c_heur, c_local_phero, c_greed)\n",
    "  best = {:vector=>random_permutation(cities)}\n",
    "  best[:cost] = cost(best[:vector], cities)\n",
    "  init_pheromone = 1.0 / (cities.size.to_f * best[:cost])\n",
    "  pheromone = initialise_pheromone_matrix(cities.size, init_pheromone)\n",
    "  max_it.times do |iter|\n",
    "    solutions = []\n",
    "    num_ants.times do\n",
    "      cand = {}\n",
    "      cand[:vector] = stepwise_const(cities, pheromone, c_heur, c_greed)\n",
    "      cand[:cost] = cost(cand[:vector], cities)\n",
    "      best = cand if cand[:cost] < best[:cost]\n",
    "      local_update_pheromone(pheromone, cand, c_local_phero, init_pheromone)\n",
    "    end\n",
    "    global_update_pheromone(pheromone, best, decay)\n",
    "    #puts \" > iteration #{(iter+1)}, best=#{best[:cost]}\"\n",
    "  end\n",
    "  return best\n",
    "end"
   ]
  },
  {
   "cell_type": "code",
   "execution_count": 13,
   "metadata": {},
   "outputs": [
    {
     "name": "stdout",
     "output_type": "stream",
     "text": [
      "Done. Best Solution:\n",
      "c=8013\n",
      "v=[30, 17, 2, 16, 20, 41, 1, 6, 29, 28, 46, 25, 27, 26, 12, 13, 51, 10, 50, 11, 24, 45, 47, 23, 4, 14, 5, 3, 42, 32, 9, 8, 7, 40, 18, 44, 31, 48, 35, 34, 33, 38, 39, 37, 36, 43, 15, 49, 19, 22, 0, 21]\n"
     ]
    }
   ],
   "source": [
    "# problem configuration\n",
    "berlin52 = [[565,575],[25,185],[345,750],[945,685],[845,655],\n",
    "   [880,660],[25,230],[525,1000],[580,1175],[650,1130],[1605,620],\n",
    "   [1220,580],[1465,200],[1530,5],[845,680],[725,370],[145,665],\n",
    "   [415,635],[510,875],[560,365],[300,465],[520,585],[480,415],\n",
    "   [835,625],[975,580],[1215,245],[1320,315],[1250,400],[660,180],\n",
    "   [410,250],[420,555],[575,665],[1150,1160],[700,580],[685,595],\n",
    "   [685,610],[770,610],[795,645],[720,635],[760,650],[475,960],\n",
    "   [95,260],[875,920],[700,500],[555,815],[830,485],[1170,65],\n",
    "   [830,610],[605,625],[595,360],[1340,725],[1740,245]]\n",
    "\n",
    "# algorithm configuration\n",
    "max_it = 100\n",
    "num_ants = 10\n",
    "decay = 0.1\n",
    "c_heur = 2.5\n",
    "c_local_phero = 0.1\n",
    "c_greed = 0.9\n",
    "\n",
    "# execute the algorithm\n",
    "best = search(berlin52, max_it, num_ants, decay, c_heur, c_local_phero, c_greed)\n",
    "puts \"Done. Best Solution:\",\"c=#{best[:cost]}\",\"v=#{best[:vector].inspect}\""
   ]
  },
  {
   "cell_type": "markdown",
   "metadata": {},
   "source": [
    "## Ant System"
   ]
  },
  {
   "cell_type": "code",
   "execution_count": 14,
   "metadata": {},
   "outputs": [
    {
     "data": {
      "text/plain": [
       ":euc_2d"
      ]
     },
     "execution_count": 14,
     "metadata": {},
     "output_type": "execute_result"
    }
   ],
   "source": [
    "def euc_2d(c1, c2)\n",
    "  Math.sqrt((c1[0] - c2[0])**2.0 + (c1[1] - c2[1])**2.0).round\n",
    "end"
   ]
  },
  {
   "cell_type": "code",
   "execution_count": 15,
   "metadata": {},
   "outputs": [
    {
     "data": {
      "text/plain": [
       ":cost"
      ]
     },
     "execution_count": 15,
     "metadata": {},
     "output_type": "execute_result"
    }
   ],
   "source": [
    "def cost(permutation, cities)\n",
    "  distance =0\n",
    "  permutation.each_with_index do |c1, i|\n",
    "    c2 = (i==permutation.size-1) ? permutation[0] : permutation[i+1]\n",
    "    distance += euc_2d(cities[c1], cities[c2])\n",
    "  end\n",
    "  return distance\n",
    "end"
   ]
  },
  {
   "cell_type": "code",
   "execution_count": 16,
   "metadata": {},
   "outputs": [
    {
     "data": {
      "text/plain": [
       ":random_permutation"
      ]
     },
     "execution_count": 16,
     "metadata": {},
     "output_type": "execute_result"
    }
   ],
   "source": [
    "def random_permutation(cities)\n",
    "  perm = Array.new(cities.size){|i| i}\n",
    "  perm.each_index do |i|\n",
    "    r = rand(perm.size-i) + i\n",
    "    perm[r], perm[i] = perm[i], perm[r]\n",
    "  end\n",
    "  return perm\n",
    "end"
   ]
  },
  {
   "cell_type": "code",
   "execution_count": 17,
   "metadata": {},
   "outputs": [
    {
     "data": {
      "text/plain": [
       ":initialise_pheromone_matrix"
      ]
     },
     "execution_count": 17,
     "metadata": {},
     "output_type": "execute_result"
    }
   ],
   "source": [
    "def initialise_pheromone_matrix(num_cities, naive_score)\n",
    "  v = num_cities.to_f / naive_score\n",
    "  return Array.new(num_cities){|i| Array.new(num_cities, v)}\n",
    "end"
   ]
  },
  {
   "cell_type": "code",
   "execution_count": 18,
   "metadata": {},
   "outputs": [
    {
     "data": {
      "text/plain": [
       ":calculate_choices"
      ]
     },
     "execution_count": 18,
     "metadata": {},
     "output_type": "execute_result"
    }
   ],
   "source": [
    "def calculate_choices(cities, last_city, exclude, pheromone, c_heur, c_hist)\n",
    "  choices = []\n",
    "  cities.each_with_index do |coord, i|\n",
    "    next if exclude.include?(i)\n",
    "    prob = {:city=>i}\n",
    "    prob[:history] = pheromone[last_city][i] ** c_hist\n",
    "    prob[:distance] = euc_2d(cities[last_city], coord)\n",
    "    prob[:heuristic] = (1.0/prob[:distance]) ** c_heur\n",
    "    prob[:prob] = prob[:history] * prob[:heuristic]\n",
    "    choices << prob\n",
    "  end\n",
    "  choices\n",
    "end"
   ]
  },
  {
   "cell_type": "code",
   "execution_count": 19,
   "metadata": {},
   "outputs": [
    {
     "data": {
      "text/plain": [
       ":select_next_city"
      ]
     },
     "execution_count": 19,
     "metadata": {},
     "output_type": "execute_result"
    }
   ],
   "source": [
    "def select_next_city(choices)\n",
    "  sum = choices.inject(0.0){|sum,element| sum + element[:prob]}\n",
    "  return choices[rand(choices.size)][:city] if sum == 0.0\n",
    "  v = rand()\n",
    "  choices.each_with_index do |choice, i|\n",
    "    v -= (choice[:prob]/sum)\n",
    "    return choice[:city] if v <= 0.0\n",
    "  end\n",
    "  return choices.last[:city]\n",
    "end"
   ]
  },
  {
   "cell_type": "code",
   "execution_count": 20,
   "metadata": {},
   "outputs": [
    {
     "data": {
      "text/plain": [
       ":stepwise_const"
      ]
     },
     "execution_count": 20,
     "metadata": {},
     "output_type": "execute_result"
    }
   ],
   "source": [
    "def stepwise_const(cities, phero, c_heur, c_hist)\n",
    "  perm = []\n",
    "  perm << rand(cities.size)\n",
    "  begin\n",
    "    choices = calculate_choices(cities,perm.last,perm,phero,c_heur,c_hist)\n",
    "    next_city = select_next_city(choices)\n",
    "    perm << next_city\n",
    "  end until perm.size == cities.size\n",
    "  return perm\n",
    "end"
   ]
  },
  {
   "cell_type": "code",
   "execution_count": 21,
   "metadata": {},
   "outputs": [
    {
     "data": {
      "text/plain": [
       ":decay_pheromone"
      ]
     },
     "execution_count": 21,
     "metadata": {},
     "output_type": "execute_result"
    }
   ],
   "source": [
    "def decay_pheromone(pheromone, decay_factor)\n",
    "  pheromone.each do |array|\n",
    "    array.each_with_index do |p, i|\n",
    "      array[i] = (1.0 - decay_factor) * p\n",
    "    end\n",
    "  end\n",
    "end"
   ]
  },
  {
   "cell_type": "code",
   "execution_count": 22,
   "metadata": {},
   "outputs": [
    {
     "data": {
      "text/plain": [
       ":update_pheromone"
      ]
     },
     "execution_count": 22,
     "metadata": {},
     "output_type": "execute_result"
    }
   ],
   "source": [
    "def update_pheromone(pheromone, solutions)\n",
    "  solutions.each do |other|\n",
    "    other[:vector].each_with_index do |x, i|\n",
    "      y=(i==other[:vector].size-1) ? other[:vector][0] : other[:vector][i+1]\n",
    "      pheromone[x][y] += (1.0 / other[:cost])\n",
    "      pheromone[y][x] += (1.0 / other[:cost])\n",
    "    end\n",
    "  end\n",
    "end"
   ]
  },
  {
   "cell_type": "code",
   "execution_count": 23,
   "metadata": {},
   "outputs": [
    {
     "data": {
      "text/plain": [
       ":search"
      ]
     },
     "execution_count": 23,
     "metadata": {},
     "output_type": "execute_result"
    }
   ],
   "source": [
    "def search(cities, max_it, num_ants, decay_factor, c_heur, c_hist)\n",
    "  best = {:vector=>random_permutation(cities)}\n",
    "  best[:cost] = cost(best[:vector], cities)\n",
    "  pheromone = initialise_pheromone_matrix(cities.size, best[:cost])\n",
    "  max_it.times do |iter|\n",
    "    solutions = []\n",
    "    num_ants.times do\n",
    "      candidate = {}\n",
    "      candidate[:vector] = stepwise_const(cities, pheromone, c_heur, c_hist)\n",
    "      candidate[:cost] = cost(candidate[:vector], cities)\n",
    "      best = candidate if candidate[:cost] < best[:cost]\n",
    "      solutions << candidate\n",
    "    end\n",
    "    decay_pheromone(pheromone, decay_factor)\n",
    "    update_pheromone(pheromone, solutions)\n",
    "    #puts \" > iteration #{(iter+1)}, best=#{best[:cost]}\"\n",
    "  end\n",
    "  return best\n",
    "end\n"
   ]
  },
  {
   "cell_type": "code",
   "execution_count": 24,
   "metadata": {},
   "outputs": [
    {
     "name": "stdout",
     "output_type": "stream",
     "text": [
      "Done. Best Solution:\n",
      "c=7802\n",
      "v=[1, 6, 41, 29, 20, 22, 19, 49, 15, 28, 45, 43, 33, 34, 35, 38, 39, 36, 37, 47, 23, 4, 14, 5, 3, 24, 11, 27, 26, 25, 46, 13, 12, 51, 10, 50, 32, 42, 9, 8, 7, 40, 18, 44, 31, 48, 0, 21, 30, 17, 2, 16]\n"
     ]
    }
   ],
   "source": [
    "# problem configuration\n",
    "# algorithm configuration\n",
    "max_it = 50\n",
    "num_ants = 30\n",
    "decay_factor = 0.6\n",
    "c_heur = 2.5\n",
    "c_hist = 1.0\n",
    "\n",
    "# execute the algorithm\n",
    "best = search(berlin52, max_it, num_ants, decay_factor, c_heur, c_hist)\n",
    "puts \"Done. Best Solution:\",\"c=#{best[:cost]}\",\"v=#{best[:vector].inspect}\"\n"
   ]
  },
  {
   "cell_type": "markdown",
   "metadata": {},
   "source": [
    "## Bees"
   ]
  },
  {
   "cell_type": "code",
   "execution_count": 25,
   "metadata": {},
   "outputs": [
    {
     "data": {
      "text/plain": [
       ":objective_function"
      ]
     },
     "execution_count": 25,
     "metadata": {},
     "output_type": "execute_result"
    }
   ],
   "source": [
    "def objective_function(vector)\n",
    "  return vector.inject(0.0) {|sum, x| sum +  (x ** 2.0)}\n",
    "end"
   ]
  },
  {
   "cell_type": "code",
   "execution_count": 26,
   "metadata": {},
   "outputs": [
    {
     "data": {
      "text/plain": [
       ":random_vector"
      ]
     },
     "execution_count": 26,
     "metadata": {},
     "output_type": "execute_result"
    }
   ],
   "source": [
    "def random_vector(minmax)\n",
    "  return Array.new(minmax.size) do |i|      \n",
    "    minmax[i][0] + ((minmax[i][1] - minmax[i][0]) * rand())\n",
    "  end\n",
    "end"
   ]
  },
  {
   "cell_type": "code",
   "execution_count": 27,
   "metadata": {},
   "outputs": [
    {
     "data": {
      "text/plain": [
       ":create_random_bee"
      ]
     },
     "execution_count": 27,
     "metadata": {},
     "output_type": "execute_result"
    }
   ],
   "source": [
    "def create_random_bee(search_space)\n",
    "  return {:vector=>random_vector(search_space)}\n",
    "end"
   ]
  },
  {
   "cell_type": "code",
   "execution_count": 28,
   "metadata": {},
   "outputs": [
    {
     "data": {
      "text/plain": [
       ":create_neigh_bee"
      ]
     },
     "execution_count": 28,
     "metadata": {},
     "output_type": "execute_result"
    }
   ],
   "source": [
    "def create_neigh_bee(site, patch_size, search_space)\n",
    "  vector = []\n",
    "  site.each_with_index do |v,i|\n",
    "    v = (rand()<0.5) ? v+rand()*patch_size : v-rand()*patch_size\n",
    "    v = search_space[i][0] if v < search_space[i][0]\n",
    "    v = search_space[i][1] if v > search_space[i][1]\n",
    "    vector << v\n",
    "  end\n",
    "  bee = {}\n",
    "  bee[:vector] = vector\n",
    "  return bee\n",
    "end"
   ]
  },
  {
   "cell_type": "code",
   "execution_count": 29,
   "metadata": {},
   "outputs": [
    {
     "data": {
      "text/plain": [
       ":search_neigh"
      ]
     },
     "execution_count": 29,
     "metadata": {},
     "output_type": "execute_result"
    }
   ],
   "source": [
    "def search_neigh(parent, neigh_size, patch_size, search_space)\n",
    "  neigh = []\n",
    "  neigh_size.times do \n",
    "    neigh << create_neigh_bee(parent[:vector], patch_size, search_space)\n",
    "  end\n",
    "  neigh.each{|bee| bee[:fitness] = objective_function(bee[:vector])}\n",
    "  return neigh.sort{|x,y| x[:fitness]<=>y[:fitness]}.first\n",
    "end"
   ]
  },
  {
   "cell_type": "code",
   "execution_count": 30,
   "metadata": {},
   "outputs": [
    {
     "data": {
      "text/plain": [
       ":create_scout_bees"
      ]
     },
     "execution_count": 30,
     "metadata": {},
     "output_type": "execute_result"
    }
   ],
   "source": [
    "def create_scout_bees(search_space, num_scouts)\n",
    "  return Array.new(num_scouts) do\n",
    "    create_random_bee(search_space)\n",
    "  end\n",
    "end"
   ]
  },
  {
   "cell_type": "code",
   "execution_count": 31,
   "metadata": {},
   "outputs": [
    {
     "data": {
      "text/plain": [
       ":search"
      ]
     },
     "execution_count": 31,
     "metadata": {},
     "output_type": "execute_result"
    }
   ],
   "source": [
    "def search(max_gens, search_space, num_bees, num_sites, elite_sites, patch_size, e_bees, o_bees)\n",
    "  best = nil\n",
    "  pop = Array.new(num_bees){ create_random_bee(search_space) }\n",
    "  max_gens.times do |gen|\n",
    "    pop.each{|bee| bee[:fitness] = objective_function(bee[:vector])}\n",
    "    pop.sort!{|x,y| x[:fitness]<=>y[:fitness]}\n",
    "    best = pop.first if best.nil? or pop.first[:fitness] < best[:fitness]\n",
    "    next_gen = []\n",
    "    pop[0...num_sites].each_with_index do |parent, i|\n",
    "      neigh_size = (i<elite_sites) ? e_bees : o_bees\n",
    "      next_gen << search_neigh(parent, neigh_size, patch_size, search_space)\n",
    "    end\n",
    "    scouts = create_scout_bees(search_space, (num_bees-num_sites))\n",
    "    pop = next_gen + scouts\n",
    "    patch_size = patch_size * 0.95\n",
    "    #puts \" > it=#{gen+1}, patch_size=#{patch_size}, f=#{best[:fitness]}\"\n",
    "  end  \n",
    "  return best\n",
    "end"
   ]
  },
  {
   "cell_type": "code",
   "execution_count": 32,
   "metadata": {},
   "outputs": [
    {
     "name": "stdout",
     "output_type": "stream",
     "text": [
      "done! Solution:\n",
      "f=1.281263532183988e-22\n",
      "s=[-1.0292356298084648e-11, -4.459310077504821e-12, -1.519311911471782e-12]\n"
     ]
    }
   ],
   "source": [
    "# problem configuration\n",
    "problem_size = 3\n",
    "search_space = Array.new(problem_size) {|i| [-5, 5]}\n",
    "\n",
    "# algorithm configuration\n",
    "max_gens = 500\n",
    "num_bees = 45\n",
    "num_sites = 3\n",
    "elite_sites = 1\n",
    "patch_size = 3.0\n",
    "e_bees = 7\n",
    "o_bees = 2\n",
    "\n",
    "# execute the algorithm\n",
    "best = search(max_gens, search_space, num_bees, num_sites, elite_sites, patch_size, e_bees, o_bees)\n",
    "puts \"done! Solution:\",\"f=#{best[:fitness]}\",\"s=#{best[:vector].inspect}\"\n"
   ]
  },
  {
   "cell_type": "markdown",
   "metadata": {},
   "source": [
    "## Bacterial Foraging Optimization Algo (BFOA)"
   ]
  },
  {
   "cell_type": "code",
   "execution_count": 33,
   "metadata": {},
   "outputs": [
    {
     "data": {
      "text/plain": [
       ":objective_function"
      ]
     },
     "execution_count": 33,
     "metadata": {},
     "output_type": "execute_result"
    }
   ],
   "source": [
    "def objective_function(vector)\n",
    "  return vector.inject(0.0) {|sum, x| sum +  (x ** 2.0)}\n",
    "end"
   ]
  },
  {
   "cell_type": "code",
   "execution_count": 34,
   "metadata": {},
   "outputs": [
    {
     "data": {
      "text/plain": [
       ":random_vector"
      ]
     },
     "execution_count": 34,
     "metadata": {},
     "output_type": "execute_result"
    }
   ],
   "source": [
    "def random_vector(minmax)\n",
    "  return Array.new(minmax.size) do |i|      \n",
    "    minmax[i][0] + ((minmax[i][1] - minmax[i][0]) * rand())\n",
    "  end\n",
    "end"
   ]
  },
  {
   "cell_type": "code",
   "execution_count": 35,
   "metadata": {},
   "outputs": [
    {
     "data": {
      "text/plain": [
       ":generate_random_direction"
      ]
     },
     "execution_count": 35,
     "metadata": {},
     "output_type": "execute_result"
    }
   ],
   "source": [
    "def generate_random_direction(problem_size)\n",
    "  bounds = Array.new(problem_size){[-1.0,1.0]}\n",
    "  return random_vector(bounds)\n",
    "end"
   ]
  },
  {
   "cell_type": "code",
   "execution_count": 36,
   "metadata": {},
   "outputs": [
    {
     "data": {
      "text/plain": [
       ":compute_cell_interaction"
      ]
     },
     "execution_count": 36,
     "metadata": {},
     "output_type": "execute_result"
    }
   ],
   "source": [
    "def compute_cell_interaction(cell, cells, d, w)\n",
    "  sum = 0.0\n",
    "  cells.each do |other|\n",
    "    diff = 0.0\n",
    "    cell[:vector].each_index do |i|\n",
    "      diff += (cell[:vector][i] - other[:vector][i])**2.0\n",
    "    end\n",
    "    sum += d * Math.exp(w * diff)\n",
    "  end\n",
    "  return sum\n",
    "end"
   ]
  },
  {
   "cell_type": "code",
   "execution_count": 37,
   "metadata": {},
   "outputs": [
    {
     "data": {
      "text/plain": [
       ":attract_repel"
      ]
     },
     "execution_count": 37,
     "metadata": {},
     "output_type": "execute_result"
    }
   ],
   "source": [
    "def attract_repel(cell, cells, d_attr, w_attr, h_rep, w_rep)\n",
    "  attract = compute_cell_interaction(cell, cells, -d_attr, -w_attr)\n",
    "  repel = compute_cell_interaction(cell, cells, h_rep, -w_rep)\n",
    "  return attract + repel\n",
    "end"
   ]
  },
  {
   "cell_type": "code",
   "execution_count": 38,
   "metadata": {},
   "outputs": [
    {
     "data": {
      "text/plain": [
       ":evaluate"
      ]
     },
     "execution_count": 38,
     "metadata": {},
     "output_type": "execute_result"
    }
   ],
   "source": [
    "def evaluate(cell, cells, d_attr, w_attr, h_rep, w_rep)\n",
    "  cell[:cost] = objective_function(cell[:vector])\n",
    "  cell[:inter] = attract_repel(cell, cells, d_attr, w_attr, h_rep, w_rep)\n",
    "  cell[:fitness] = cell[:cost] + cell[:inter]\n",
    "end"
   ]
  },
  {
   "cell_type": "code",
   "execution_count": 39,
   "metadata": {},
   "outputs": [
    {
     "data": {
      "text/plain": [
       ":tumble_cell"
      ]
     },
     "execution_count": 39,
     "metadata": {},
     "output_type": "execute_result"
    }
   ],
   "source": [
    "def tumble_cell(search_space, cell, step_size)\n",
    "  step = generate_random_direction(search_space.size)  \n",
    "  vector = Array.new(search_space.size)\n",
    "  vector.each_index do |i|\n",
    "    vector[i] = cell[:vector][i] + step_size * step[i]\n",
    "    vector[i] = search_space[i][0] if vector[i] < search_space[i][0]\n",
    "    vector[i] = search_space[i][1] if vector[i] > search_space[i][1]\n",
    "  end\n",
    "  return {:vector=>vector}\n",
    "end"
   ]
  },
  {
   "cell_type": "code",
   "execution_count": 40,
   "metadata": {},
   "outputs": [
    {
     "data": {
      "text/plain": [
       ":chemotaxis"
      ]
     },
     "execution_count": 40,
     "metadata": {},
     "output_type": "execute_result"
    }
   ],
   "source": [
    "def chemotaxis(cells, search_space, chem_steps, swim_length, step_size, \n",
    "    d_attr, w_attr, h_rep, w_rep) \n",
    "  best = nil\n",
    "  chem_steps.times do |j|\n",
    "    moved_cells = []   \n",
    "    cells.each_with_index do |cell, i|\n",
    "      sum_nutrients = 0.0\n",
    "      evaluate(cell, cells, d_attr, w_attr, h_rep, w_rep)          \n",
    "      best = cell if best.nil? or cell[:cost] < best[:cost]\n",
    "      sum_nutrients += cell[:fitness]\n",
    "      swim_length.times do |m|\n",
    "        new_cell = tumble_cell(search_space, cell, step_size)\n",
    "        evaluate(new_cell, cells, d_attr, w_attr, h_rep, w_rep)          \n",
    "        best = cell if cell[:cost] < best[:cost]\n",
    "        break if new_cell[:fitness] > cell[:fitness]\n",
    "        cell = new_cell\n",
    "        sum_nutrients += cell[:fitness]\n",
    "      end\n",
    "      cell[:sum_nutrients] = sum_nutrients\n",
    "      moved_cells << cell\n",
    "    end        \n",
    "    #puts \"  >> chemo=#{j}, f=#{best[:fitness]}, cost=#{best[:cost]}\"\n",
    "    cells = moved_cells\n",
    "  end\n",
    "  return [best, cells]\n",
    "end"
   ]
  },
  {
   "cell_type": "code",
   "execution_count": 41,
   "metadata": {},
   "outputs": [
    {
     "data": {
      "text/plain": [
       ":search"
      ]
     },
     "execution_count": 41,
     "metadata": {},
     "output_type": "execute_result"
    }
   ],
   "source": [
    "def search(search_space, pop_size, elim_disp_steps, repro_steps, \n",
    "    chem_steps, swim_length, step_size, d_attr, w_attr, h_rep, w_rep, \n",
    "    p_eliminate)  \n",
    "  cells = Array.new(pop_size) { {:vector=>random_vector(search_space)} }\n",
    "  best = nil\n",
    "  elim_disp_steps.times do |l|\n",
    "    repro_steps.times do |k|      \n",
    "      c_best, cells = chemotaxis(cells, search_space, chem_steps, \n",
    "        swim_length, step_size, d_attr, w_attr, h_rep, w_rep) \n",
    "      best = c_best if best.nil? or c_best[:cost] < best[:cost]\n",
    "      #puts \" > best fitness=#{best[:fitness]}, cost=#{best[:cost]}\"\n",
    "      cells.sort{|x,y| x[:sum_nutrients]<=>y[:sum_nutrients]}\n",
    "      cells = cells.first(pop_size/2) + cells.first(pop_size/2)\n",
    "    end\n",
    "    cells.each do |cell|\n",
    "      if rand() <= p_eliminate\n",
    "        cell[:vector] = random_vector(search_space) \n",
    "      end\n",
    "    end    \n",
    "  end\n",
    "  return best\n",
    "end"
   ]
  },
  {
   "cell_type": "code",
   "execution_count": 42,
   "metadata": {},
   "outputs": [
    {
     "name": "stdout",
     "output_type": "stream",
     "text": [
      "done! Solution:\n",
      "c=2.5481171812076694e-05\n",
      "v=[-0.0033815102654780327, 0.0037478740822689573]\n"
     ]
    }
   ],
   "source": [
    "# problem configuration\n",
    "problem_size = 2\n",
    "search_space = Array.new(problem_size) {|i| [-5, 5]}\n",
    "\n",
    "# algorithm configuration\n",
    "pop_size = 50\n",
    "step_size = 0.1 # Ci\n",
    "elim_disp_steps = 1 # Ned\n",
    "repro_steps = 4 # Nre\n",
    "chem_steps = 70 # Nc\n",
    "swim_length = 4 # Ns\n",
    "p_eliminate = 0.25 # Ped\n",
    "d_attr = 0.1\n",
    "w_attr = 0.2 \n",
    "h_rep = d_attr\n",
    "w_rep = 10\n",
    "\n",
    "# execute the algorithm\n",
    "best = search(search_space, pop_size, elim_disp_steps, repro_steps, \n",
    "    chem_steps, swim_length, step_size, d_attr, w_attr, h_rep, w_rep, \n",
    "    p_eliminate)\n",
    "puts \"done! Solution:\",\"c=#{best[:cost]}\",\"v=#{best[:vector].inspect}\"\n"
   ]
  },
  {
   "cell_type": "markdown",
   "metadata": {},
   "source": [
    "## Particle Swarm Optimization (PSO)"
   ]
  },
  {
   "cell_type": "code",
   "execution_count": 43,
   "metadata": {},
   "outputs": [
    {
     "data": {
      "text/plain": [
       ":objective_function"
      ]
     },
     "execution_count": 43,
     "metadata": {},
     "output_type": "execute_result"
    }
   ],
   "source": [
    "def objective_function(vector)\n",
    "  return vector.inject(0.0) {|sum, x| sum +  (x ** 2.0)}\n",
    "end"
   ]
  },
  {
   "cell_type": "code",
   "execution_count": 44,
   "metadata": {},
   "outputs": [
    {
     "data": {
      "text/plain": [
       ":random_vector"
      ]
     },
     "execution_count": 44,
     "metadata": {},
     "output_type": "execute_result"
    }
   ],
   "source": [
    "def random_vector(minmax)\n",
    "  return Array.new(minmax.size) do |i|      \n",
    "    minmax[i][0] + ((minmax[i][1] - minmax[i][0]) * rand())\n",
    "  end\n",
    "end"
   ]
  },
  {
   "cell_type": "code",
   "execution_count": 45,
   "metadata": {},
   "outputs": [
    {
     "data": {
      "text/plain": [
       ":create_particle"
      ]
     },
     "execution_count": 45,
     "metadata": {},
     "output_type": "execute_result"
    }
   ],
   "source": [
    "def create_particle(search_space, vel_space)\n",
    "  particle = {}\n",
    "  particle[:position] = random_vector(search_space)\n",
    "  particle[:cost] = objective_function(particle[:position])\n",
    "  particle[:b_position] = Array.new(particle[:position])\n",
    "  particle[:b_cost] = particle[:cost]\n",
    "  particle[:velocity] = random_vector(vel_space)\n",
    "  return particle\n",
    "end"
   ]
  },
  {
   "cell_type": "code",
   "execution_count": 46,
   "metadata": {},
   "outputs": [
    {
     "data": {
      "text/plain": [
       ":get_global_best"
      ]
     },
     "execution_count": 46,
     "metadata": {},
     "output_type": "execute_result"
    }
   ],
   "source": [
    "def get_global_best(population, current_best=nil)\n",
    "  population.sort!{|x,y| x[:cost] <=> y[:cost]}\n",
    "  best = population.first\n",
    "  if current_best.nil? or best[:cost] <= current_best[:cost]\n",
    "    current_best = {}\n",
    "    current_best[:position] = Array.new(best[:position])\n",
    "    current_best[:cost] = best[:cost]\n",
    "  end\n",
    "  return current_best\n",
    "end"
   ]
  },
  {
   "cell_type": "code",
   "execution_count": 47,
   "metadata": {},
   "outputs": [
    {
     "data": {
      "text/plain": [
       ":update_velocity"
      ]
     },
     "execution_count": 47,
     "metadata": {},
     "output_type": "execute_result"
    }
   ],
   "source": [
    "def update_velocity(particle, gbest, max_v, c1, c2)\n",
    "  particle[:velocity].each_with_index do |v,i|\n",
    "    v1 = c1 * rand() * (particle[:b_position][i] - particle[:position][i])\n",
    "    v2 = c2 * rand() * (gbest[:position][i] - particle[:position][i])\n",
    "    particle[:velocity][i] = v + v1 + v2\n",
    "    particle[:velocity][i] = max_v if particle[:velocity][i] > max_v\n",
    "    particle[:velocity][i] = -max_v if particle[:velocity][i] < -max_v\n",
    "  end\n",
    "end"
   ]
  },
  {
   "cell_type": "code",
   "execution_count": 48,
   "metadata": {},
   "outputs": [
    {
     "data": {
      "text/plain": [
       ":update_position"
      ]
     },
     "execution_count": 48,
     "metadata": {},
     "output_type": "execute_result"
    }
   ],
   "source": [
    "def update_position(part, bounds)\n",
    "  part[:position].each_with_index do |v,i|\n",
    "    part[:position][i] = v + part[:velocity][i]\n",
    "    if part[:position][i] > bounds[i][1] \n",
    "      part[:position][i]=bounds[i][1]-(part[:position][i]-bounds[i][1]).abs\n",
    "      part[:velocity][i] *= -1.0\n",
    "    elsif part[:position][i] < bounds[i][0] \n",
    "      part[:position][i]=bounds[i][0]+(part[:position][i]-bounds[i][0]).abs\n",
    "      part[:velocity][i] *= -1.0\n",
    "    end\n",
    "  end\n",
    "end"
   ]
  },
  {
   "cell_type": "code",
   "execution_count": 49,
   "metadata": {},
   "outputs": [
    {
     "data": {
      "text/plain": [
       ":update_best_position"
      ]
     },
     "execution_count": 49,
     "metadata": {},
     "output_type": "execute_result"
    }
   ],
   "source": [
    "def update_best_position(particle)\n",
    "  return if particle[:cost] > particle[:b_cost]\n",
    "  particle[:b_cost] = particle[:cost]\n",
    "  particle[:b_position] = Array.new(particle[:position])\n",
    "end"
   ]
  },
  {
   "cell_type": "code",
   "execution_count": 50,
   "metadata": {},
   "outputs": [
    {
     "data": {
      "text/plain": [
       ":search"
      ]
     },
     "execution_count": 50,
     "metadata": {},
     "output_type": "execute_result"
    }
   ],
   "source": [
    "def search(max_gens, search_space, vel_space, pop_size, max_vel, c1, c2)\n",
    "  pop = Array.new(pop_size) {create_particle(search_space, vel_space)}\n",
    "  gbest = get_global_best(pop)\n",
    "  max_gens.times do |gen|\n",
    "    pop.each do |particle|\n",
    "      update_velocity(particle, gbest, max_vel, c1, c2)\n",
    "      update_position(particle, search_space)\n",
    "      particle[:cost] = objective_function(particle[:position])\n",
    "      update_best_position(particle)\n",
    "    end\n",
    "    gbest = get_global_best(pop, gbest)\n",
    "    #puts \" > gen #{gen+1}, fitness=#{gbest[:cost]}\"\n",
    "  end  \n",
    "  return gbest\n",
    "end"
   ]
  },
  {
   "cell_type": "code",
   "execution_count": 51,
   "metadata": {},
   "outputs": [
    {
     "name": "stdout",
     "output_type": "stream",
     "text": [
      "done! Solution:\n",
      "f=8.05933604012142e-05\n",
      "s=[0.0031945527257013495, -0.00838976717697984]\n"
     ]
    }
   ],
   "source": [
    "# problem configuration\n",
    "problem_size = 2\n",
    "search_space = Array.new(problem_size) {|i| [-5, 5]}\n",
    "\n",
    "# algorithm configuration\n",
    "vel_space = Array.new(problem_size) {|i| [-1, 1]}\n",
    "max_gens = 100\n",
    "pop_size = 50\n",
    "max_vel = 100.0\n",
    "c1, c2 = 2.0, 2.0\n",
    "\n",
    "# execute the algorithm\n",
    "best = search(max_gens, search_space, vel_space, pop_size, max_vel, c1,c2)\n",
    "puts \"done! Solution:\",\"f=#{best[:cost]}\",\"s=#{best[:position].inspect}\""
   ]
  },
  {
   "cell_type": "code",
   "execution_count": null,
   "metadata": {},
   "outputs": [],
   "source": []
  }
 ],
 "metadata": {
  "kernelspec": {
   "display_name": "Ruby 2.2.5",
   "language": "ruby",
   "name": "ruby"
  },
  "language_info": {
   "file_extension": ".rb",
   "mimetype": "application/x-ruby",
   "name": "ruby",
   "version": "2.2.5"
  }
 },
 "nbformat": 4,
 "nbformat_minor": 2
}
