{
 "cells": [
  {
   "cell_type": "markdown",
   "metadata": {},
   "source": [
    "# Neural Algorithms"
   ]
  },
  {
   "cell_type": "markdown",
   "metadata": {},
   "source": [
    "## Backpropagation Algorithm"
   ]
  },
  {
   "cell_type": "code",
   "execution_count": 1,
   "metadata": {},
   "outputs": [
    {
     "data": {
      "text/plain": [
       ":random_vector"
      ]
     },
     "execution_count": 1,
     "metadata": {},
     "output_type": "execute_result"
    }
   ],
   "source": [
    "def random_vector(minmax)\n",
    "  return Array.new(minmax.size) do |i|      \n",
    "    minmax[i][0] + ((minmax[i][1] - minmax[i][0]) * rand())\n",
    "  end\n",
    "end"
   ]
  },
  {
   "cell_type": "code",
   "execution_count": 2,
   "metadata": {},
   "outputs": [
    {
     "data": {
      "text/plain": [
       ":initialize_weights"
      ]
     },
     "execution_count": 2,
     "metadata": {},
     "output_type": "execute_result"
    }
   ],
   "source": [
    "def initialize_weights(num_weights)\n",
    "  minmax = Array.new(num_weights) {[-rand(),rand()]}\n",
    "  return random_vector(minmax)\n",
    "end"
   ]
  },
  {
   "cell_type": "code",
   "execution_count": 3,
   "metadata": {},
   "outputs": [
    {
     "data": {
      "text/plain": [
       ":activate"
      ]
     },
     "execution_count": 3,
     "metadata": {},
     "output_type": "execute_result"
    }
   ],
   "source": [
    "def activate(weights, vector)\n",
    "  sum = weights[weights.size-1] * 1.0\n",
    "  vector.each_with_index do |input, i|\n",
    "    sum += weights[i] * input\n",
    "  end\n",
    "  return sum\n",
    "end"
   ]
  },
  {
   "cell_type": "code",
   "execution_count": 4,
   "metadata": {},
   "outputs": [
    {
     "data": {
      "text/plain": [
       ":transfer"
      ]
     },
     "execution_count": 4,
     "metadata": {},
     "output_type": "execute_result"
    }
   ],
   "source": [
    "def transfer(activation)\n",
    "  return 1.0 / (1.0 + Math.exp(-activation)) \n",
    "end"
   ]
  },
  {
   "cell_type": "code",
   "execution_count": 5,
   "metadata": {},
   "outputs": [
    {
     "data": {
      "text/plain": [
       ":transfer_derivative"
      ]
     },
     "execution_count": 5,
     "metadata": {},
     "output_type": "execute_result"
    }
   ],
   "source": [
    "def transfer_derivative(output)\n",
    "  return output * (1.0 - output)\n",
    "end"
   ]
  },
  {
   "cell_type": "code",
   "execution_count": 6,
   "metadata": {},
   "outputs": [
    {
     "data": {
      "text/plain": [
       ":forward_propagate"
      ]
     },
     "execution_count": 6,
     "metadata": {},
     "output_type": "execute_result"
    }
   ],
   "source": [
    "def forward_propagate(net, vector)\n",
    "  net.each_with_index do |layer, i|\n",
    "    input=(i==0)? vector : Array.new(net[i-1].size){|k|net[i-1][k][:output]}\n",
    "    layer.each do |neuron|\n",
    "      neuron[:activation] = activate(neuron[:weights], input)\n",
    "      neuron[:output] = transfer(neuron[:activation])\n",
    "    end\n",
    "  end\n",
    "  return net.last[0][:output]\n",
    "end"
   ]
  },
  {
   "cell_type": "code",
   "execution_count": 7,
   "metadata": {},
   "outputs": [
    {
     "data": {
      "text/plain": [
       ":backward_propagate_error"
      ]
     },
     "execution_count": 7,
     "metadata": {},
     "output_type": "execute_result"
    }
   ],
   "source": [
    "def backward_propagate_error(network, expected_output)\n",
    "  network.size.times do |n|\n",
    "    index = network.size - 1 - n\n",
    "    if index == network.size-1\n",
    "      neuron = network[index][0] # assume one node in output layer\n",
    "      error = (expected_output - neuron[:output])\n",
    "      neuron[:delta] = error * transfer_derivative(neuron[:output])\n",
    "    else\n",
    "      network[index].each_with_index do |neuron, k|\n",
    "        sum = 0.0\n",
    "        # only sum errors weighted by connection to the current k'th neuron\n",
    "        network[index+1].each do |next_neuron|\n",
    "          sum += (next_neuron[:weights][k] * next_neuron[:delta])\n",
    "        end\n",
    "        neuron[:delta] = sum * transfer_derivative(neuron[:output])\n",
    "      end            \n",
    "    end\n",
    "  end\n",
    "end"
   ]
  },
  {
   "cell_type": "code",
   "execution_count": 8,
   "metadata": {},
   "outputs": [
    {
     "data": {
      "text/plain": [
       ":calculate_error_derivatives_for_weights"
      ]
     },
     "execution_count": 8,
     "metadata": {},
     "output_type": "execute_result"
    }
   ],
   "source": [
    "def calculate_error_derivatives_for_weights(net, vector)\n",
    "  net.each_with_index do |layer, i|\n",
    "    input=(i==0)? vector : Array.new(net[i-1].size){|k|net[i-1][k][:output]}\n",
    "    layer.each do |neuron|\n",
    "      input.each_with_index do |signal, j|\n",
    "        neuron[:deriv][j] += neuron[:delta] * signal\n",
    "      end\n",
    "      neuron[:deriv][-1] += neuron[:delta] * 1.0\n",
    "    end\n",
    "  end\n",
    "end"
   ]
  },
  {
   "cell_type": "code",
   "execution_count": 9,
   "metadata": {},
   "outputs": [
    {
     "data": {
      "text/plain": [
       ":update_weights"
      ]
     },
     "execution_count": 9,
     "metadata": {},
     "output_type": "execute_result"
    }
   ],
   "source": [
    "def update_weights(network, lrate, mom=0.8)\n",
    "  network.each do |layer|\n",
    "    layer.each do |neuron|\n",
    "      neuron[:weights].each_with_index do |w, j|\n",
    "        delta = (lrate * neuron[:deriv][j]) + (neuron[:last_delta][j] * mom)\n",
    "        neuron[:weights][j] += delta\n",
    "        neuron[:last_delta][j] = delta\n",
    "        neuron[:deriv][j] = 0.0\n",
    "      end\n",
    "    end\n",
    "  end\n",
    "end"
   ]
  },
  {
   "cell_type": "code",
   "execution_count": 10,
   "metadata": {},
   "outputs": [
    {
     "data": {
      "text/plain": [
       ":train_network"
      ]
     },
     "execution_count": 10,
     "metadata": {},
     "output_type": "execute_result"
    }
   ],
   "source": [
    "def train_network(network, domain, num_inputs, iterations, lrate)\n",
    "  correct = 0\n",
    "  iterations.times do |epoch|\n",
    "    domain.each do |pattern|\n",
    "      vector,expected=Array.new(num_inputs){|k|pattern[k].to_f},pattern.last\n",
    "      output = forward_propagate(network, vector)\n",
    "      correct += 1 if output.round == expected\n",
    "      backward_propagate_error(network, expected)\n",
    "      calculate_error_derivatives_for_weights(network, vector)\n",
    "    end\n",
    "    update_weights(network, lrate)\n",
    "    if (epoch+1).modulo(100) == 0\n",
    "      #puts \"> epoch=#{epoch+1}, Correct=#{correct}/#{100*domain.size}\"\n",
    "      correct = 0\n",
    "    end    \n",
    "  end\n",
    "end"
   ]
  },
  {
   "cell_type": "code",
   "execution_count": 11,
   "metadata": {},
   "outputs": [
    {
     "data": {
      "text/plain": [
       ":test_network"
      ]
     },
     "execution_count": 11,
     "metadata": {},
     "output_type": "execute_result"
    }
   ],
   "source": [
    "def test_network(network, domain, num_inputs)\n",
    "  correct = 0\n",
    "  domain.each do |pattern|\n",
    "    input_vector = Array.new(num_inputs) {|k| pattern[k].to_f}\n",
    "    output = forward_propagate(network, input_vector)\n",
    "    correct += 1 if output.round == pattern.last\n",
    "  end\n",
    "  puts \"Finished test with a score of #{correct}/#{domain.length}\"\n",
    "  return correct\n",
    "end"
   ]
  },
  {
   "cell_type": "code",
   "execution_count": 12,
   "metadata": {},
   "outputs": [
    {
     "data": {
      "text/plain": [
       ":create_neuron"
      ]
     },
     "execution_count": 12,
     "metadata": {},
     "output_type": "execute_result"
    }
   ],
   "source": [
    "def create_neuron(num_inputs)\n",
    "  return {:weights=>initialize_weights(num_inputs+1), \n",
    "          :last_delta=>Array.new(num_inputs+1){0.0},\n",
    "          :deriv=>Array.new(num_inputs+1){0.0}}\n",
    "end"
   ]
  },
  {
   "cell_type": "code",
   "execution_count": 13,
   "metadata": {},
   "outputs": [
    {
     "data": {
      "text/plain": [
       ":execute"
      ]
     },
     "execution_count": 13,
     "metadata": {},
     "output_type": "execute_result"
    }
   ],
   "source": [
    "def execute(domain, num_inputs, iterations, num_nodes, lrate)  \n",
    "  network = []\n",
    "  network << Array.new(num_nodes){create_neuron(num_inputs)}\n",
    "  network << Array.new(1){create_neuron(network.last.size)} \n",
    "  puts \"Topology: #{num_inputs} #{network.inject(\"\"){|m,i|m+\"#{i.size} \"}}\"\n",
    "  train_network(network, domain, num_inputs, iterations, lrate)  \n",
    "  test_network(network, domain, num_inputs)\n",
    "  return network\n",
    "end"
   ]
  },
  {
   "cell_type": "code",
   "execution_count": 14,
   "metadata": {},
   "outputs": [
    {
     "name": "stdout",
     "output_type": "stream",
     "text": [
      "Topology: 2 4 1 \n",
      "Finished test with a score of 4/4\n"
     ]
    },
    {
     "data": {
      "text/plain": [
       "[[{:weights=>[-4.833360096920905, 6.611801410258119, 1.9905094096231717], :last_delta=>[-0.00015203765060495267, 0.00024488599998230505, 3.109990996075045e-05], :deriv=>[0.0, 0.0, 0.0], :activation=>3.7689507229603856, :output=>0.9774442387192912, :delta=>0.00016364463800613656}, {:weights=>[6.048504758476897, -3.0017234350410096, 0.5690202181933369], :last_delta=>[0.0002493842054954977, -0.00023078159015228912, 0.00012553670998520971], :deriv=>[0.0, 0.0, 0.0], :activation=>3.6158015416292244, :output=>0.9738090560110888, :delta=>0.00017189484029882238}, {:weights=>[4.6378218357329155, 4.935133772678636, -0.8864800497809358], :last_delta=>[0.00016279393306542887, 0.00011558222063177268, -6.55571127534067e-05], :deriv=>[0.0, 0.0, 0.0], :activation=>8.686475558630615, :output=>0.9998311744118074, :delta=>-1.2015631342737585e-06}, {:weights=>[-1.621739608229025, -0.3112080777890761, 0.8435062982110937], :last_delta=>[-0.00015668342254814742, -0.00014171209724785606, 0.000302323700768461], :deriv=>[0.0, 0.0, 0.0], :activation=>-1.0894413878070073, :output=>0.25172348330558214, :delta=>-0.000484056499293082}], [{:weights=>[-7.854136824797931, -7.131349281914179, 7.531385930241676, 2.7197883863051966, 2.9718636286078866], :last_delta=>[-0.000606583212487386, -0.00047822685666351795, 0.0003750024429401925, 0.0003759646333730206, 0.0002556939668583247], :deriv=>[0.0, 0.0, 0.0, 0.0, 0.0], :activation=>-3.4349406271731704, :output=>0.031221149513797904, :delta=>-0.0009450090706352082}]]"
      ]
     },
     "execution_count": 14,
     "metadata": {},
     "output_type": "execute_result"
    }
   ],
   "source": [
    "# problem configuration\n",
    "xor = [[0,0,0], [0,1,1], [1,0,1], [1,1,0]]\n",
    "inputs = 2\n",
    "\n",
    "# algorithm configuration\n",
    "learning_rate = 0.3\n",
    "num_hidden_nodes = 4\n",
    "iterations = 2000\n",
    "\n",
    "# execute the algorithm\n",
    "execute(xor, inputs, iterations, num_hidden_nodes, learning_rate)"
   ]
  },
  {
   "cell_type": "markdown",
   "metadata": {},
   "source": [
    "## Hopfield Network"
   ]
  },
  {
   "cell_type": "code",
   "execution_count": 15,
   "metadata": {},
   "outputs": [
    {
     "data": {
      "text/plain": [
       ":random_vector"
      ]
     },
     "execution_count": 15,
     "metadata": {},
     "output_type": "execute_result"
    }
   ],
   "source": [
    "def random_vector(minmax)\n",
    "  return Array.new(minmax.size) do |i|      \n",
    "    minmax[i][0] + ((minmax[i][1] - minmax[i][0]) * rand())\n",
    "  end\n",
    "end"
   ]
  },
  {
   "cell_type": "code",
   "execution_count": 16,
   "metadata": {},
   "outputs": [
    {
     "data": {
      "text/plain": [
       ":initialize_weights"
      ]
     },
     "execution_count": 16,
     "metadata": {},
     "output_type": "execute_result"
    }
   ],
   "source": [
    "def initialize_weights(problem_size)\n",
    "  minmax = Array.new(problem_size) {[-0.5,0.5]}\n",
    "  return random_vector(minmax)\n",
    "end"
   ]
  },
  {
   "cell_type": "code",
   "execution_count": 17,
   "metadata": {},
   "outputs": [
    {
     "data": {
      "text/plain": [
       ":create_neuron"
      ]
     },
     "execution_count": 17,
     "metadata": {},
     "output_type": "execute_result"
    }
   ],
   "source": [
    "def create_neuron(num_inputs)\n",
    "  neuron = {}\n",
    "  neuron[:weights] = initialize_weights(num_inputs)\n",
    "  return neuron\n",
    "end"
   ]
  },
  {
   "cell_type": "code",
   "execution_count": 18,
   "metadata": {},
   "outputs": [
    {
     "data": {
      "text/plain": [
       ":transfer"
      ]
     },
     "execution_count": 18,
     "metadata": {},
     "output_type": "execute_result"
    }
   ],
   "source": [
    "def transfer(activation)\n",
    "  return (activation >= 0) ? 1 : -1\n",
    "end"
   ]
  },
  {
   "cell_type": "code",
   "execution_count": 19,
   "metadata": {},
   "outputs": [
    {
     "data": {
      "text/plain": [
       ":propagate_was_change?"
      ]
     },
     "execution_count": 19,
     "metadata": {},
     "output_type": "execute_result"
    }
   ],
   "source": [
    "def propagate_was_change?(neurons)\n",
    "  i = rand(neurons.size)\n",
    "  activation = 0\n",
    "  neurons.each_with_index do |other, j|\n",
    "    activation += other[:weights][i]*other[:output] if i!=j\n",
    "  end\n",
    "  output = transfer(activation)\n",
    "  change = output != neurons[i][:output]\n",
    "  neurons[i][:output] = output\n",
    "  return change\n",
    "end"
   ]
  },
  {
   "cell_type": "code",
   "execution_count": 20,
   "metadata": {},
   "outputs": [
    {
     "data": {
      "text/plain": [
       ":get_output"
      ]
     },
     "execution_count": 20,
     "metadata": {},
     "output_type": "execute_result"
    }
   ],
   "source": [
    "def get_output(neurons, pattern, evals=100)\n",
    "  vector = pattern.flatten\n",
    "  neurons.each_with_index {|neuron,i| neuron[:output] = vector[i]}\n",
    "  evals.times { propagate_was_change?(neurons) }\n",
    "  return Array.new(neurons.size){|i| neurons[i][:output]}\n",
    "end"
   ]
  },
  {
   "cell_type": "code",
   "execution_count": 21,
   "metadata": {},
   "outputs": [
    {
     "data": {
      "text/plain": [
       ":train_network"
      ]
     },
     "execution_count": 21,
     "metadata": {},
     "output_type": "execute_result"
    }
   ],
   "source": [
    "def train_network(neurons, patters)\n",
    "  neurons.each_with_index do |neuron, i|   \n",
    "    for j in ((i+1)...neurons.size) do\n",
    "      next if i==j\n",
    "      wij = 0.0\n",
    "      patters.each do |pattern|\n",
    "        vector = pattern.flatten\n",
    "        wij += vector[i]*vector[j]\n",
    "      end\n",
    "      neurons[i][:weights][j] = wij\n",
    "      neurons[j][:weights][i] = wij\n",
    "    end\n",
    "  end\n",
    "end"
   ]
  },
  {
   "cell_type": "code",
   "execution_count": 22,
   "metadata": {},
   "outputs": [
    {
     "data": {
      "text/plain": [
       ":to_binary"
      ]
     },
     "execution_count": 22,
     "metadata": {},
     "output_type": "execute_result"
    }
   ],
   "source": [
    "def to_binary(vector)\n",
    "  return Array.new(vector.size){|i| ((vector[i]==-1) ? 0 : 1)}\n",
    "end"
   ]
  },
  {
   "cell_type": "code",
   "execution_count": 23,
   "metadata": {},
   "outputs": [
    {
     "data": {
      "text/plain": [
       ":print_patterns"
      ]
     },
     "execution_count": 23,
     "metadata": {},
     "output_type": "execute_result"
    }
   ],
   "source": [
    "def print_patterns(provided, expected, actual)\n",
    "  p, e, a = to_binary(provided), to_binary(expected), to_binary(actual)\n",
    "  p1, p2, p3 = p[0..2].join(', '), p[3..5].join(', '), p[6..8].join(', ')\n",
    "  e1, e2, e3 = e[0..2].join(', '), e[3..5].join(', '), e[6..8].join(', ')\n",
    "  a1, a2, a3 = a[0..2].join(', '), a[3..5].join(', '), a[6..8].join(', ')\n",
    "  puts \"Provided   Expected     Got\"\n",
    "  puts \"#{p1}     #{e1}      #{a1}\"\n",
    "  puts \"#{p2}     #{e2}      #{a2}\"\n",
    "  puts \"#{p3}     #{e3}      #{a3}\"\n",
    "end"
   ]
  },
  {
   "cell_type": "code",
   "execution_count": 24,
   "metadata": {},
   "outputs": [
    {
     "data": {
      "text/plain": [
       ":calculate_error"
      ]
     },
     "execution_count": 24,
     "metadata": {},
     "output_type": "execute_result"
    }
   ],
   "source": [
    "def calculate_error(expected, actual)\n",
    "  sum = 0\n",
    "  expected.each_with_index do |v, i|\n",
    "    sum += 1 if expected[i]!=actual[i]\n",
    "  end\n",
    "  return sum\n",
    "end"
   ]
  },
  {
   "cell_type": "code",
   "execution_count": 25,
   "metadata": {},
   "outputs": [
    {
     "data": {
      "text/plain": [
       ":perturb_pattern"
      ]
     },
     "execution_count": 25,
     "metadata": {},
     "output_type": "execute_result"
    }
   ],
   "source": [
    "def perturb_pattern(vector, num_errors=1)\n",
    "  perturbed = Array.new(vector)\n",
    "  indicies = [rand(perturbed.size)]\n",
    "  while indicies.size < num_errors do\n",
    "    index = rand(perturbed.size)\n",
    "    indicies << index if !indicies.include?(index)\n",
    "  end\n",
    "  indicies.each {|i| perturbed[i] = ((perturbed[i]==1) ? -1 : 1)}\n",
    "  return perturbed\n",
    "end"
   ]
  },
  {
   "cell_type": "code",
   "execution_count": 26,
   "metadata": {},
   "outputs": [
    {
     "data": {
      "text/plain": [
       ":test_network"
      ]
     },
     "execution_count": 26,
     "metadata": {},
     "output_type": "execute_result"
    }
   ],
   "source": [
    "def test_network(neurons, patterns)\n",
    "  error = 0.0\n",
    "  patterns.each do |pattern|\n",
    "    vector = pattern.flatten\n",
    "    perturbed = perturb_pattern(vector)\n",
    "    output = get_output(neurons, perturbed)\n",
    "    error += calculate_error(vector, output)\n",
    "    print_patterns(perturbed, vector, output)\n",
    "  end\n",
    "  error = error / patterns.size.to_f\n",
    "  puts \"Final Result: avg pattern error=#{error}\"\n",
    "  return error\n",
    "end"
   ]
  },
  {
   "cell_type": "code",
   "execution_count": 27,
   "metadata": {},
   "outputs": [
    {
     "data": {
      "text/plain": [
       ":execute"
      ]
     },
     "execution_count": 27,
     "metadata": {},
     "output_type": "execute_result"
    }
   ],
   "source": [
    "def execute(patters, num_inputs)\n",
    "  neurons = Array.new(num_inputs) { create_neuron(num_inputs) }\n",
    "  train_network(neurons, patters)\n",
    "  test_network(neurons, patters)\n",
    "  return neurons\n",
    "end"
   ]
  },
  {
   "cell_type": "code",
   "execution_count": 28,
   "metadata": {},
   "outputs": [
    {
     "name": "stdout",
     "output_type": "stream",
     "text": [
      "Provided   Expected     Got\n",
      "1, 1, 1     1, 1, 1      1, 1, 1\n",
      "0, 1, 0     0, 1, 0      0, 1, 0\n",
      "0, 1, 1     0, 1, 0      0, 1, 0\n",
      "Provided   Expected     Got\n",
      "1, 0, 1     1, 0, 1      1, 0, 1\n",
      "1, 0, 1     1, 0, 1      1, 0, 1\n",
      "1, 0, 1     1, 1, 1      1, 1, 1\n",
      "Final Result: avg pattern error=0.0\n"
     ]
    },
    {
     "data": {
      "text/plain": [
       "[{:weights=>[0.07253930769855854, 0.0, 2.0, 0.0, 0.0, 0.0, 0.0, 2.0, 0.0], :output=>1}, {:weights=>[0.0, 0.40861710774087934, 0.0, -2.0, 2.0, -2.0, -2.0, 0.0, -2.0], :output=>-1}, {:weights=>[2.0, 0.0, -0.31305322994047047, 0.0, 0.0, 0.0, 0.0, 2.0, 0.0], :output=>1}, {:weights=>[0.0, -2.0, 0.0, -0.10371492265677396, -2.0, 2.0, 2.0, 0.0, 2.0], :output=>1}, {:weights=>[0.0, 2.0, 0.0, -2.0, -0.3133333602041627, -2.0, -2.0, 0.0, -2.0], :output=>-1}, {:weights=>[0.0, -2.0, 0.0, 2.0, -2.0, -0.22188919675458352, 2.0, 0.0, 2.0], :output=>1}, {:weights=>[0.0, -2.0, 0.0, 2.0, -2.0, 2.0, -0.39206071414221133, 0.0, 2.0], :output=>1}, {:weights=>[2.0, 0.0, 2.0, 0.0, 0.0, 0.0, 0.0, 0.04351717807366773, 0.0], :output=>1}, {:weights=>[0.0, -2.0, 0.0, 2.0, -2.0, 2.0, 2.0, 0.0, -0.06218426163935897], :output=>1}]"
      ]
     },
     "execution_count": 28,
     "metadata": {},
     "output_type": "execute_result"
    }
   ],
   "source": [
    "# problem configuration\n",
    "num_inputs = 9\n",
    "p1 = [[1,1,1],[-1,1,-1],[-1,1,-1]] # T\n",
    "p2 = [[1,-1,1],[1,-1,1],[1,1,1]] # U\n",
    "patters = [p1, p2]  \n",
    "\n",
    "# execute the algorithm\n",
    "execute(patters, num_inputs)"
   ]
  },
  {
   "cell_type": "markdown",
   "metadata": {},
   "source": [
    "## Learning Vector Quantization (LVQ)"
   ]
  },
  {
   "cell_type": "code",
   "execution_count": 29,
   "metadata": {},
   "outputs": [
    {
     "data": {
      "text/plain": [
       ":random_vector"
      ]
     },
     "execution_count": 29,
     "metadata": {},
     "output_type": "execute_result"
    }
   ],
   "source": [
    "def random_vector(minmax)\n",
    "  return Array.new(minmax.size) do |i|      \n",
    "    minmax[i][0] + ((minmax[i][1] - minmax[i][0]) * rand())\n",
    "  end\n",
    "end"
   ]
  },
  {
   "cell_type": "code",
   "execution_count": 30,
   "metadata": {},
   "outputs": [
    {
     "data": {
      "text/plain": [
       ":generate_random_pattern"
      ]
     },
     "execution_count": 30,
     "metadata": {},
     "output_type": "execute_result"
    }
   ],
   "source": [
    "def generate_random_pattern(domain)  \n",
    "  classes = domain.keys\n",
    "  selected_class = rand(classes.size)\n",
    "  pattern = {:label=>classes[selected_class]}\n",
    "  pattern[:vector] = random_vector(domain[classes[selected_class]])\n",
    "  return pattern\n",
    "end"
   ]
  },
  {
   "cell_type": "code",
   "execution_count": 31,
   "metadata": {},
   "outputs": [
    {
     "data": {
      "text/plain": [
       ":initialize_vectors"
      ]
     },
     "execution_count": 31,
     "metadata": {},
     "output_type": "execute_result"
    }
   ],
   "source": [
    "def initialize_vectors(domain, num_vectors)\n",
    "  classes = domain.keys\n",
    "  codebook_vectors = []\n",
    "  num_vectors.times do \n",
    "    selected_class = rand(classes.size)\n",
    "    codebook = {}\n",
    "    codebook[:label] = classes[selected_class]\n",
    "    codebook[:vector] = random_vector([[0,1],[0,1]])\n",
    "    codebook_vectors << codebook\n",
    "  end\n",
    "  return codebook_vectors\n",
    "end"
   ]
  },
  {
   "cell_type": "code",
   "execution_count": 32,
   "metadata": {},
   "outputs": [
    {
     "data": {
      "text/plain": [
       ":euclidean_distance"
      ]
     },
     "execution_count": 32,
     "metadata": {},
     "output_type": "execute_result"
    }
   ],
   "source": [
    "def euclidean_distance(c1, c2)\n",
    "  sum = 0.0\n",
    "  c1.each_index {|i| sum += (c1[i]-c2[i])**2.0}  \n",
    "  return Math.sqrt(sum)\n",
    "end"
   ]
  },
  {
   "cell_type": "code",
   "execution_count": 33,
   "metadata": {},
   "outputs": [
    {
     "data": {
      "text/plain": [
       ":get_best_matching_unit"
      ]
     },
     "execution_count": 33,
     "metadata": {},
     "output_type": "execute_result"
    }
   ],
   "source": [
    "def get_best_matching_unit(codebook_vectors, pattern)\n",
    "  best, b_dist = nil, nil\n",
    "  codebook_vectors.each do |codebook|\n",
    "    dist = euclidean_distance(codebook[:vector], pattern[:vector])\n",
    "    best,b_dist = codebook,dist if b_dist.nil? or dist<b_dist\n",
    "  end\n",
    "  return best\n",
    "end"
   ]
  },
  {
   "cell_type": "code",
   "execution_count": 34,
   "metadata": {},
   "outputs": [
    {
     "data": {
      "text/plain": [
       ":update_codebook_vector"
      ]
     },
     "execution_count": 34,
     "metadata": {},
     "output_type": "execute_result"
    }
   ],
   "source": [
    "def update_codebook_vector(bmu, pattern, lrate)\n",
    "  bmu[:vector].each_with_index do |v,i|\n",
    "    error = pattern[:vector][i]-bmu[:vector][i]\n",
    "    if bmu[:label] == pattern[:label] \n",
    "      bmu[:vector][i] += lrate * error \n",
    "    else\n",
    "      bmu[:vector][i] -= lrate * error\n",
    "    end\n",
    "  end\n",
    "end"
   ]
  },
  {
   "cell_type": "code",
   "execution_count": 39,
   "metadata": {},
   "outputs": [
    {
     "data": {
      "text/plain": [
       ":train_network"
      ]
     },
     "execution_count": 39,
     "metadata": {},
     "output_type": "execute_result"
    }
   ],
   "source": [
    "def train_network(codebook_vectors, domain, iterations, learning_rate)\n",
    "  iterations.times do |iter|\n",
    "    pat = generate_random_pattern(domain)\n",
    "    bmu = get_best_matching_unit(codebook_vectors, pat)\n",
    "    lrate = learning_rate * (1.0-(iter.to_f/iterations.to_f))\n",
    "    if iter.modulo(10)==0\n",
    "      #puts \"> iter=#{iter}, got=#{bmu[:label]}, exp=#{pat[:label]}\"\n",
    "    end\n",
    "    update_codebook_vector(bmu, pat, lrate)\n",
    "  end\n",
    "end"
   ]
  },
  {
   "cell_type": "code",
   "execution_count": 40,
   "metadata": {},
   "outputs": [
    {
     "data": {
      "text/plain": [
       ":test_network"
      ]
     },
     "execution_count": 40,
     "metadata": {},
     "output_type": "execute_result"
    }
   ],
   "source": [
    "def test_network(codebook_vectors, domain, num_trials=100)\n",
    "  correct = 0\n",
    "  num_trials.times do \n",
    "    pattern = generate_random_pattern(domain)\n",
    "    bmu = get_best_matching_unit(codebook_vectors, pattern)\n",
    "    correct += 1 if bmu[:label] == pattern[:label]\n",
    "  end\n",
    "  puts \"Done. Score: #{correct}/#{num_trials}\"\n",
    "  return correct\n",
    "end"
   ]
  },
  {
   "cell_type": "code",
   "execution_count": 41,
   "metadata": {},
   "outputs": [
    {
     "data": {
      "text/plain": [
       ":execute"
      ]
     },
     "execution_count": 41,
     "metadata": {},
     "output_type": "execute_result"
    }
   ],
   "source": [
    "def execute(domain, iterations, num_vectors, learning_rate)  \n",
    "  codebook_vectors = initialize_vectors(domain, num_vectors)\n",
    "  train_network(codebook_vectors, domain, iterations, learning_rate)\n",
    "  test_network(codebook_vectors, domain)\n",
    "  return codebook_vectors\n",
    "end"
   ]
  },
  {
   "cell_type": "code",
   "execution_count": 42,
   "metadata": {},
   "outputs": [
    {
     "name": "stdout",
     "output_type": "stream",
     "text": [
      "Done. Score: 100/100\n"
     ]
    },
    {
     "data": {
      "text/plain": [
       "[{:label=>\"B\", :vector=>[0.22970591396643447, 0.6519654350953156]}, {:label=>\"B\", :vector=>[0.15915044648333554, 0.871240601762913]}, {:label=>\"A\", :vector=>[0.3345656670645234, 0.3787474076505765]}, {:label=>\"B\", :vector=>[0.6549931366512997, 0.5747553713110648]}, {:label=>\"A\", :vector=>[0.9727487818028027, 0.32748644856119863]}, {:label=>\"B\", :vector=>[-0.2343618390000756, 0.49301846777015534]}, {:label=>\"B\", :vector=>[0.6640559706032526, 0.03350272458648837]}, {:label=>\"B\", :vector=>[0.7148977216217883, 0.8739369534168864]}, {:label=>\"A\", :vector=>[0.3812588764840545, 0.12358785039497215]}, {:label=>\"B\", :vector=>[0.5911169129129898, 0.7889013264717165]}, {:label=>\"A\", :vector=>[0.8695024213868172, 0.22367093188724207]}, {:label=>\"A\", :vector=>[0.09089064481098842, 0.10976664095065798]}, {:label=>\"A\", :vector=>[1.1470161204909883, 1.0250492481382483]}, {:label=>\"A\", :vector=>[0.6958336462256541, 1.174281490795996]}, {:label=>\"A\", :vector=>[0.1271105184691872, 0.3675505755788311]}, {:label=>\"B\", :vector=>[0.9022657450272104, 0.9123059572359374]}, {:label=>\"A\", :vector=>[0.11360845383983298, 0.8601536154074085]}, {:label=>\"A\", :vector=>[0.9988163806121699, 0.16712209835701697]}, {:label=>\"B\", :vector=>[-0.20291538804217568, 0.24371867553397752]}, {:label=>\"B\", :vector=>[0.8838597261431652, 0.6490256838056252]}]"
      ]
     },
     "execution_count": 42,
     "metadata": {},
     "output_type": "execute_result"
    }
   ],
   "source": [
    "# problem configuration\n",
    "domain = {\n",
    "  \"A\"=>[[0,  0.4999999],[0,  0.4999999]],\n",
    "  \"B\"=>[[0.5,1        ],[0.5,1        ]]}\n",
    "\n",
    "# algorithm configuration\n",
    "learning_rate = 0.3\n",
    "iterations = 1000\n",
    "num_vectors = 20\n",
    "\n",
    "# execute the algorithm\n",
    "execute(domain, iterations, num_vectors, learning_rate)"
   ]
  },
  {
   "cell_type": "markdown",
   "metadata": {},
   "source": [
    "## Perceptron"
   ]
  },
  {
   "cell_type": "code",
   "execution_count": 43,
   "metadata": {},
   "outputs": [
    {
     "data": {
      "text/plain": [
       ":random_vector"
      ]
     },
     "execution_count": 43,
     "metadata": {},
     "output_type": "execute_result"
    }
   ],
   "source": [
    "def random_vector(minmax)\n",
    "  return Array.new(minmax.size) do |i|      \n",
    "    minmax[i][0] + ((minmax[i][1] - minmax[i][0]) * rand())\n",
    "  end\n",
    "end"
   ]
  },
  {
   "cell_type": "code",
   "execution_count": 44,
   "metadata": {},
   "outputs": [
    {
     "data": {
      "text/plain": [
       ":initialize_weights"
      ]
     },
     "execution_count": 44,
     "metadata": {},
     "output_type": "execute_result"
    }
   ],
   "source": [
    "def initialize_weights(problem_size)\n",
    "  minmax = Array.new(problem_size + 1) {[-1.0,1.0]}\n",
    "  return random_vector(minmax)\n",
    "end"
   ]
  },
  {
   "cell_type": "code",
   "execution_count": 45,
   "metadata": {},
   "outputs": [
    {
     "data": {
      "text/plain": [
       ":update_weights"
      ]
     },
     "execution_count": 45,
     "metadata": {},
     "output_type": "execute_result"
    }
   ],
   "source": [
    "def update_weights(num_inputs, weights, input, out_exp, out_act, l_rate)\n",
    "  num_inputs.times do |i|\n",
    "    weights[i] += l_rate * (out_exp - out_act) * input[i]\n",
    "  end\n",
    "  weights[num_inputs] += l_rate * (out_exp - out_act) * 1.0\n",
    "end"
   ]
  },
  {
   "cell_type": "code",
   "execution_count": 46,
   "metadata": {},
   "outputs": [
    {
     "data": {
      "text/plain": [
       ":activate"
      ]
     },
     "execution_count": 46,
     "metadata": {},
     "output_type": "execute_result"
    }
   ],
   "source": [
    "def activate(weights, vector)\n",
    "  sum = weights[weights.size-1] * 1.0\n",
    "  vector.each_with_index do |input, i|\n",
    "    sum += weights[i] * input\n",
    "  end\n",
    "  return sum\n",
    "end"
   ]
  },
  {
   "cell_type": "code",
   "execution_count": 47,
   "metadata": {},
   "outputs": [
    {
     "data": {
      "text/plain": [
       ":transfer"
      ]
     },
     "execution_count": 47,
     "metadata": {},
     "output_type": "execute_result"
    }
   ],
   "source": [
    "def transfer(activation)\n",
    "  return (activation >= 0) ? 1.0 : 0.0\n",
    "end"
   ]
  },
  {
   "cell_type": "code",
   "execution_count": 48,
   "metadata": {},
   "outputs": [
    {
     "data": {
      "text/plain": [
       ":get_output"
      ]
     },
     "execution_count": 48,
     "metadata": {},
     "output_type": "execute_result"
    }
   ],
   "source": [
    "def get_output(weights, vector)\n",
    "  activation = activate(weights, vector)\n",
    "  return transfer(activation)\n",
    "end"
   ]
  },
  {
   "cell_type": "code",
   "execution_count": 52,
   "metadata": {},
   "outputs": [
    {
     "data": {
      "text/plain": [
       ":train_weights"
      ]
     },
     "execution_count": 52,
     "metadata": {},
     "output_type": "execute_result"
    }
   ],
   "source": [
    "def train_weights(weights, domain, num_inputs, iterations, lrate)\n",
    "  iterations.times do |epoch|\n",
    "    error = 0.0\n",
    "    domain.each do |pattern|\n",
    "      input = Array.new(num_inputs) {|k| pattern[k].to_f}\n",
    "      output = get_output(weights, input)\n",
    "      expected = pattern.last.to_f\n",
    "      error += (output - expected).abs\n",
    "      update_weights(num_inputs, weights, input, expected, output, lrate)\n",
    "    end\n",
    "    #puts \"> epoch=#{epoch}, error=#{error}\"\n",
    "  end\n",
    "end"
   ]
  },
  {
   "cell_type": "code",
   "execution_count": 53,
   "metadata": {},
   "outputs": [
    {
     "data": {
      "text/plain": [
       ":test_weights"
      ]
     },
     "execution_count": 53,
     "metadata": {},
     "output_type": "execute_result"
    }
   ],
   "source": [
    "def test_weights(weights, domain, num_inputs)\n",
    "  correct = 0\n",
    "  domain.each do |pattern|\n",
    "    input_vector = Array.new(num_inputs) {|k| pattern[k].to_f}\n",
    "    output = get_output(weights, input_vector)\n",
    "    correct += 1 if output.round == pattern.last\n",
    "  end\n",
    "  puts \"Finished test with a score of #{correct}/#{domain.size}\"\n",
    "  return correct\n",
    "end"
   ]
  },
  {
   "cell_type": "code",
   "execution_count": 54,
   "metadata": {},
   "outputs": [
    {
     "data": {
      "text/plain": [
       ":execute"
      ]
     },
     "execution_count": 54,
     "metadata": {},
     "output_type": "execute_result"
    }
   ],
   "source": [
    "def execute(domain, num_inputs, iterations, learning_rate)  \n",
    "  weights = initialize_weights(num_inputs)\n",
    "  train_weights(weights, domain, num_inputs, iterations, learning_rate)\n",
    "  test_weights(weights, domain, num_inputs)\n",
    "  return weights\n",
    "end"
   ]
  },
  {
   "cell_type": "code",
   "execution_count": 55,
   "metadata": {},
   "outputs": [
    {
     "name": "stdout",
     "output_type": "stream",
     "text": [
      "Finished test with a score of 4/4\n"
     ]
    },
    {
     "data": {
      "text/plain": [
       "[0.9493420744748422, 0.21654111946902194, -0.12540501118244113]"
      ]
     },
     "execution_count": 55,
     "metadata": {},
     "output_type": "execute_result"
    }
   ],
   "source": [
    "# problem configuration\n",
    "or_problem = [[0,0,0], [0,1,1], [1,0,1], [1,1,1]]\n",
    "inputs = 2\n",
    "\n",
    "# algorithm configuration\n",
    "iterations = 20\n",
    "learning_rate = 0.1  \n",
    "\n",
    "# execute the algorithm\n",
    "execute(or_problem, inputs, iterations, learning_rate)"
   ]
  },
  {
   "cell_type": "markdown",
   "metadata": {},
   "source": [
    "## Self-Organizing Map"
   ]
  },
  {
   "cell_type": "code",
   "execution_count": 56,
   "metadata": {},
   "outputs": [
    {
     "data": {
      "text/plain": [
       ":random_vector"
      ]
     },
     "execution_count": 56,
     "metadata": {},
     "output_type": "execute_result"
    }
   ],
   "source": [
    "def random_vector(minmax)\n",
    "  return Array.new(minmax.size) do |i|      \n",
    "    minmax[i][0] + ((minmax[i][1] - minmax[i][0]) * rand())\n",
    "  end\n",
    "end"
   ]
  },
  {
   "cell_type": "code",
   "execution_count": 57,
   "metadata": {},
   "outputs": [
    {
     "data": {
      "text/plain": [
       ":initialize_vectors"
      ]
     },
     "execution_count": 57,
     "metadata": {},
     "output_type": "execute_result"
    }
   ],
   "source": [
    "def initialize_vectors(domain, width, height)\n",
    "  codebook_vectors = []\n",
    "  width.times do |x|\n",
    "    height.times do |y|\n",
    "      codebook = {}\n",
    "      codebook[:vector] = random_vector(domain)\n",
    "      codebook[:coord] = [x,y] \n",
    "      codebook_vectors << codebook\n",
    "    end\n",
    "  end\n",
    "  return codebook_vectors\n",
    "end"
   ]
  },
  {
   "cell_type": "code",
   "execution_count": 58,
   "metadata": {},
   "outputs": [
    {
     "data": {
      "text/plain": [
       ":euclidean_distance"
      ]
     },
     "execution_count": 58,
     "metadata": {},
     "output_type": "execute_result"
    }
   ],
   "source": [
    "def euclidean_distance(c1, c2)\n",
    "  sum = 0.0\n",
    "  c1.each_index {|i| sum += (c1[i]-c2[i])**2.0}  \n",
    "  return Math.sqrt(sum)\n",
    "end"
   ]
  },
  {
   "cell_type": "code",
   "execution_count": 59,
   "metadata": {},
   "outputs": [
    {
     "data": {
      "text/plain": [
       ":get_best_matching_unit"
      ]
     },
     "execution_count": 59,
     "metadata": {},
     "output_type": "execute_result"
    }
   ],
   "source": [
    "def get_best_matching_unit(codebook_vectors, pattern)\n",
    "  best, b_dist = nil, nil\n",
    "  codebook_vectors.each do |codebook|\n",
    "    dist = euclidean_distance(codebook[:vector], pattern)\n",
    "    best,b_dist = codebook,dist if b_dist.nil? or dist<b_dist\n",
    "  end\n",
    "  return [best, b_dist]\n",
    "end"
   ]
  },
  {
   "cell_type": "code",
   "execution_count": 60,
   "metadata": {},
   "outputs": [
    {
     "data": {
      "text/plain": [
       ":get_vectors_in_neighborhood"
      ]
     },
     "execution_count": 60,
     "metadata": {},
     "output_type": "execute_result"
    }
   ],
   "source": [
    "def get_vectors_in_neighborhood(bmu, codebook_vectors, neigh_size)\n",
    "  neighborhood = []\n",
    "  codebook_vectors.each do |other|\n",
    "    if euclidean_distance(bmu[:coord], other[:coord]) <= neigh_size\n",
    "      neighborhood << other \n",
    "    end\n",
    "  end\n",
    "  return neighborhood\n",
    "end"
   ]
  },
  {
   "cell_type": "code",
   "execution_count": 61,
   "metadata": {},
   "outputs": [
    {
     "data": {
      "text/plain": [
       ":update_codebook_vector"
      ]
     },
     "execution_count": 61,
     "metadata": {},
     "output_type": "execute_result"
    }
   ],
   "source": [
    "def update_codebook_vector(codebook, pattern, lrate)\n",
    "  codebook[:vector].each_with_index do |v,i|\n",
    "    error = pattern[i]-codebook[:vector][i]\n",
    "    codebook[:vector][i] += lrate * error \n",
    "  end\n",
    "end"
   ]
  },
  {
   "cell_type": "code",
   "execution_count": 70,
   "metadata": {},
   "outputs": [
    {
     "data": {
      "text/plain": [
       ":train_network"
      ]
     },
     "execution_count": 70,
     "metadata": {},
     "output_type": "execute_result"
    }
   ],
   "source": [
    "def train_network(vectors, shape, iterations, l_rate, neighborhood_size)\n",
    "  iterations.times do |iter|\n",
    "    pattern = random_vector(shape)\n",
    "    lrate = l_rate * (1.0-(iter.to_f/iterations.to_f))\n",
    "    neigh_size = neighborhood_size * (1.0-(iter.to_f/iterations.to_f))\n",
    "    bmu,dist = get_best_matching_unit(vectors, pattern)\n",
    "    neighbors = get_vectors_in_neighborhood(bmu, vectors, neigh_size)\n",
    "    neighbors.each do |node|\n",
    "      update_codebook_vector(node, pattern, lrate)\n",
    "    end\n",
    "    #puts \">training: neighbors=#{neighbors.size}, bmu_dist=#{dist}\"        \n",
    "  end\n",
    "end"
   ]
  },
  {
   "cell_type": "code",
   "execution_count": 71,
   "metadata": {},
   "outputs": [
    {
     "data": {
      "text/plain": [
       ":summarize_vectors"
      ]
     },
     "execution_count": 71,
     "metadata": {},
     "output_type": "execute_result"
    }
   ],
   "source": [
    "def summarize_vectors(vectors)\n",
    "  minmax = Array.new(vectors.first[:vector].size){[1,0]}\n",
    "  vectors.each do |c|\n",
    "    c[:vector].each_with_index do |v,i|\n",
    "      minmax[i][0] = v if v<minmax[i][0]\n",
    "      minmax[i][1] = v if v>minmax[i][1]\n",
    "    end\n",
    "  end\n",
    "  s = \"\"\n",
    "  minmax.each_with_index {|bounds,i| s << \"#{i}=#{bounds.inspect} \"}\n",
    "  puts \"Vector details: #{s}\"\n",
    "  return minmax\n",
    "end"
   ]
  },
  {
   "cell_type": "code",
   "execution_count": 72,
   "metadata": {},
   "outputs": [
    {
     "data": {
      "text/plain": [
       ":test_network"
      ]
     },
     "execution_count": 72,
     "metadata": {},
     "output_type": "execute_result"
    }
   ],
   "source": [
    "def test_network(codebook_vectors, shape, num_trials=100)\n",
    "  error = 0.0\n",
    "  num_trials.times do \n",
    "    pattern = random_vector(shape)\n",
    "    bmu,dist = get_best_matching_unit(codebook_vectors, pattern)\n",
    "    error += dist\n",
    "  end\n",
    "  error /= num_trials.to_f\n",
    "  puts \"Finished, average error=#{error}\"  \n",
    "  return error\n",
    "end"
   ]
  },
  {
   "cell_type": "code",
   "execution_count": 73,
   "metadata": {},
   "outputs": [
    {
     "data": {
      "text/plain": [
       ":execute"
      ]
     },
     "execution_count": 73,
     "metadata": {},
     "output_type": "execute_result"
    }
   ],
   "source": [
    "def execute(domain, shape, iterations, l_rate, neigh_size, width, height)  \n",
    "  vectors = initialize_vectors(domain, width, height)\n",
    "  summarize_vectors(vectors)\n",
    "  train_network(vectors, shape, iterations, l_rate, neigh_size)\n",
    "  test_network(vectors, shape)\n",
    "  summarize_vectors(vectors)\n",
    "  return vectors\n",
    "end"
   ]
  },
  {
   "cell_type": "code",
   "execution_count": 74,
   "metadata": {},
   "outputs": [
    {
     "name": "stdout",
     "output_type": "stream",
     "text": [
      "Vector details: 0=[0.0298847332480634, 0.9838903491509033] 1=[0.01815389216992147, 0.8461747506013847] \n",
      "Finished, average error=0.042565824750658524\n",
      "Vector details: 0=[0.36646745649546214, 0.5470323521862044] 1=[0.34572003899617537, 0.5246954992832975] \n"
     ]
    },
    {
     "data": {
      "text/plain": [
       "[{:vector=>[0.36646745649546214, 0.3960145877012288], :coord=>[0, 0]}, {:vector=>[0.3787653111134915, 0.37938598296544906], :coord=>[0, 1]}, {:vector=>[0.3845471865245253, 0.3553391087532643], :coord=>[0, 2]}, {:vector=>[0.4236436446410985, 0.3479014031780903], :coord=>[0, 3]}, {:vector=>[0.4542770907549552, 0.34572003899617537], :coord=>[0, 4]}, {:vector=>[0.38224942716735577, 0.440698715709196], :coord=>[1, 0]}, {:vector=>[0.3904821080976028, 0.41736711065650595], :coord=>[1, 1]}, {:vector=>[0.4090738749596949, 0.3894235888807425], :coord=>[1, 2]}, {:vector=>[0.46886837476814824, 0.37623133667048103], :coord=>[1, 3]}, {:vector=>[0.47625226325714737, 0.3574885450349031], :coord=>[1, 4]}, {:vector=>[0.39497811481340617, 0.48027271683870537], :coord=>[2, 0]}, {:vector=>[0.41223275607321674, 0.4750229888293037], :coord=>[2, 1]}, {:vector=>[0.4674617310555481, 0.46008889624085003], :coord=>[2, 2]}, {:vector=>[0.4999245398787837, 0.41329796579851785], :coord=>[2, 3]}, {:vector=>[0.5260988558798811, 0.40632631581515904], :coord=>[2, 4]}, {:vector=>[0.4104576528877487, 0.5246954992832975], :coord=>[3, 0]}, {:vector=>[0.44424900962990294, 0.5130563520541437], :coord=>[3, 1]}, {:vector=>[0.4812926781167402, 0.5175173442614945], :coord=>[3, 2]}, {:vector=>[0.5209201408842252, 0.4742676074962825], :coord=>[3, 3]}, {:vector=>[0.5470323521862044, 0.4565115264674771], :coord=>[3, 4]}]"
      ]
     },
     "execution_count": 74,
     "metadata": {},
     "output_type": "execute_result"
    }
   ],
   "source": [
    "# problem configuration\n",
    "domain = [[0.0,1.0],[0.0,1.0]]\n",
    "shape = [[0.3,0.6],[0.3,0.6]]\n",
    "\n",
    "# algorithm configuration\n",
    "iterations = 100\n",
    "l_rate = 0.3\n",
    "neigh_size = 5\n",
    "width, height = 4, 5\n",
    "\n",
    "# execute the algorithm\n",
    "execute(domain, shape, iterations, l_rate, neigh_size, width, height)\n"
   ]
  },
  {
   "cell_type": "code",
   "execution_count": null,
   "metadata": {},
   "outputs": [],
   "source": []
  }
 ],
 "metadata": {
  "kernelspec": {
   "display_name": "Ruby 2.2.5",
   "language": "ruby",
   "name": "ruby"
  },
  "language_info": {
   "file_extension": ".rb",
   "mimetype": "application/x-ruby",
   "name": "ruby",
   "version": "2.2.5"
  }
 },
 "nbformat": 4,
 "nbformat_minor": 2
}
